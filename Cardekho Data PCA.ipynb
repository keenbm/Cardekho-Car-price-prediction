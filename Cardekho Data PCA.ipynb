{
 "cells": [
  {
   "cell_type": "code",
   "execution_count": 50,
   "metadata": {},
   "outputs": [],
   "source": [
    "# Supress Warnings\n",
    "import warnings\n",
    "warnings.filterwarnings('ignore')"
   ]
  },
  {
   "cell_type": "code",
   "execution_count": 51,
   "metadata": {},
   "outputs": [],
   "source": [
    "# Library for Machine learning\n",
    "from sklearn.model_selection import train_test_split\n",
    "from sklearn.preprocessing import MinMaxScaler\n",
    "from sklearn.preprocessing import StandardScaler\n",
    "from sklearn.linear_model import LinearRegression\n",
    "from sklearn.feature_selection import RFE\n",
    "import statsmodels.api as sm\n",
    "from statsmodels.stats.outliers_influence import variance_inflation_factor"
   ]
  },
  {
   "cell_type": "code",
   "execution_count": 52,
   "metadata": {},
   "outputs": [],
   "source": [
    "# Data and Visulization library \n",
    "import numpy as np\n",
    "import pandas as pd\n",
    "import matplotlib.pyplot as plt\n",
    "from matplotlib import style\n",
    "style.use('ggplot')\n",
    "import seaborn as sns\n",
    "import plotly.express as px\n",
    "from plotly.subplots import make_subplots\n",
    "import plotly.io as pio"
   ]
  },
  {
   "cell_type": "code",
   "execution_count": 53,
   "metadata": {},
   "outputs": [],
   "source": [
    "cardata=pd.read_csv(\"cardata.csv\")"
   ]
  },
  {
   "cell_type": "code",
   "execution_count": 54,
   "metadata": {},
   "outputs": [
    {
     "data": {
      "text/html": [
       "<div>\n",
       "<style scoped>\n",
       "    .dataframe tbody tr th:only-of-type {\n",
       "        vertical-align: middle;\n",
       "    }\n",
       "\n",
       "    .dataframe tbody tr th {\n",
       "        vertical-align: top;\n",
       "    }\n",
       "\n",
       "    .dataframe thead th {\n",
       "        text-align: right;\n",
       "    }\n",
       "</style>\n",
       "<table border=\"1\" class=\"dataframe\">\n",
       "  <thead>\n",
       "    <tr style=\"text-align: right;\">\n",
       "      <th></th>\n",
       "      <th>Car_Name</th>\n",
       "      <th>Year</th>\n",
       "      <th>Selling_Price</th>\n",
       "      <th>Present_Price</th>\n",
       "      <th>Kms_Driven</th>\n",
       "      <th>Fuel_Type</th>\n",
       "      <th>Seller_Type</th>\n",
       "      <th>Transmission</th>\n",
       "      <th>Owner</th>\n",
       "    </tr>\n",
       "  </thead>\n",
       "  <tbody>\n",
       "    <tr>\n",
       "      <td>0</td>\n",
       "      <td>ritz</td>\n",
       "      <td>2014</td>\n",
       "      <td>3.35</td>\n",
       "      <td>5.59</td>\n",
       "      <td>27000</td>\n",
       "      <td>Petrol</td>\n",
       "      <td>Dealer</td>\n",
       "      <td>Manual</td>\n",
       "      <td>0</td>\n",
       "    </tr>\n",
       "    <tr>\n",
       "      <td>1</td>\n",
       "      <td>sx4</td>\n",
       "      <td>2013</td>\n",
       "      <td>4.75</td>\n",
       "      <td>9.54</td>\n",
       "      <td>43000</td>\n",
       "      <td>Diesel</td>\n",
       "      <td>Dealer</td>\n",
       "      <td>Manual</td>\n",
       "      <td>0</td>\n",
       "    </tr>\n",
       "    <tr>\n",
       "      <td>2</td>\n",
       "      <td>ciaz</td>\n",
       "      <td>2017</td>\n",
       "      <td>7.25</td>\n",
       "      <td>9.85</td>\n",
       "      <td>6900</td>\n",
       "      <td>Petrol</td>\n",
       "      <td>Dealer</td>\n",
       "      <td>Manual</td>\n",
       "      <td>0</td>\n",
       "    </tr>\n",
       "    <tr>\n",
       "      <td>3</td>\n",
       "      <td>wagon r</td>\n",
       "      <td>2011</td>\n",
       "      <td>2.85</td>\n",
       "      <td>4.15</td>\n",
       "      <td>5200</td>\n",
       "      <td>Petrol</td>\n",
       "      <td>Dealer</td>\n",
       "      <td>Manual</td>\n",
       "      <td>0</td>\n",
       "    </tr>\n",
       "    <tr>\n",
       "      <td>4</td>\n",
       "      <td>swift</td>\n",
       "      <td>2014</td>\n",
       "      <td>4.60</td>\n",
       "      <td>6.87</td>\n",
       "      <td>42450</td>\n",
       "      <td>Diesel</td>\n",
       "      <td>Dealer</td>\n",
       "      <td>Manual</td>\n",
       "      <td>0</td>\n",
       "    </tr>\n",
       "  </tbody>\n",
       "</table>\n",
       "</div>"
      ],
      "text/plain": [
       "  Car_Name  Year  Selling_Price  Present_Price  Kms_Driven Fuel_Type  \\\n",
       "0     ritz  2014           3.35           5.59       27000    Petrol   \n",
       "1      sx4  2013           4.75           9.54       43000    Diesel   \n",
       "2     ciaz  2017           7.25           9.85        6900    Petrol   \n",
       "3  wagon r  2011           2.85           4.15        5200    Petrol   \n",
       "4    swift  2014           4.60           6.87       42450    Diesel   \n",
       "\n",
       "  Seller_Type Transmission  Owner  \n",
       "0      Dealer       Manual      0  \n",
       "1      Dealer       Manual      0  \n",
       "2      Dealer       Manual      0  \n",
       "3      Dealer       Manual      0  \n",
       "4      Dealer       Manual      0  "
      ]
     },
     "execution_count": 54,
     "metadata": {},
     "output_type": "execute_result"
    }
   ],
   "source": [
    "cardata.head()"
   ]
  },
  {
   "cell_type": "code",
   "execution_count": 55,
   "metadata": {},
   "outputs": [
    {
     "name": "stdout",
     "output_type": "stream",
     "text": [
      "<class 'pandas.core.frame.DataFrame'>\n",
      "RangeIndex: 301 entries, 0 to 300\n",
      "Data columns (total 9 columns):\n",
      "Car_Name         301 non-null object\n",
      "Year             301 non-null int64\n",
      "Selling_Price    301 non-null float64\n",
      "Present_Price    301 non-null float64\n",
      "Kms_Driven       301 non-null int64\n",
      "Fuel_Type        301 non-null object\n",
      "Seller_Type      301 non-null object\n",
      "Transmission     301 non-null object\n",
      "Owner            301 non-null int64\n",
      "dtypes: float64(2), int64(3), object(4)\n",
      "memory usage: 21.3+ KB\n"
     ]
    }
   ],
   "source": [
    "cardata.info()"
   ]
  },
  {
   "cell_type": "code",
   "execution_count": 56,
   "metadata": {},
   "outputs": [
    {
     "data": {
      "text/html": [
       "<div>\n",
       "<style scoped>\n",
       "    .dataframe tbody tr th:only-of-type {\n",
       "        vertical-align: middle;\n",
       "    }\n",
       "\n",
       "    .dataframe tbody tr th {\n",
       "        vertical-align: top;\n",
       "    }\n",
       "\n",
       "    .dataframe thead th {\n",
       "        text-align: right;\n",
       "    }\n",
       "</style>\n",
       "<table border=\"1\" class=\"dataframe\">\n",
       "  <thead>\n",
       "    <tr style=\"text-align: right;\">\n",
       "      <th></th>\n",
       "      <th>Year</th>\n",
       "      <th>Selling_Price</th>\n",
       "      <th>Present_Price</th>\n",
       "      <th>Kms_Driven</th>\n",
       "      <th>Owner</th>\n",
       "    </tr>\n",
       "  </thead>\n",
       "  <tbody>\n",
       "    <tr>\n",
       "      <td>count</td>\n",
       "      <td>301.000000</td>\n",
       "      <td>301.000000</td>\n",
       "      <td>301.000000</td>\n",
       "      <td>301.000000</td>\n",
       "      <td>301.000000</td>\n",
       "    </tr>\n",
       "    <tr>\n",
       "      <td>mean</td>\n",
       "      <td>2013.627907</td>\n",
       "      <td>4.661296</td>\n",
       "      <td>7.628472</td>\n",
       "      <td>36947.205980</td>\n",
       "      <td>0.043189</td>\n",
       "    </tr>\n",
       "    <tr>\n",
       "      <td>std</td>\n",
       "      <td>2.891554</td>\n",
       "      <td>5.082812</td>\n",
       "      <td>8.644115</td>\n",
       "      <td>38886.883882</td>\n",
       "      <td>0.247915</td>\n",
       "    </tr>\n",
       "    <tr>\n",
       "      <td>min</td>\n",
       "      <td>2003.000000</td>\n",
       "      <td>0.100000</td>\n",
       "      <td>0.320000</td>\n",
       "      <td>500.000000</td>\n",
       "      <td>0.000000</td>\n",
       "    </tr>\n",
       "    <tr>\n",
       "      <td>25%</td>\n",
       "      <td>2012.000000</td>\n",
       "      <td>0.900000</td>\n",
       "      <td>1.200000</td>\n",
       "      <td>15000.000000</td>\n",
       "      <td>0.000000</td>\n",
       "    </tr>\n",
       "    <tr>\n",
       "      <td>50%</td>\n",
       "      <td>2014.000000</td>\n",
       "      <td>3.600000</td>\n",
       "      <td>6.400000</td>\n",
       "      <td>32000.000000</td>\n",
       "      <td>0.000000</td>\n",
       "    </tr>\n",
       "    <tr>\n",
       "      <td>75%</td>\n",
       "      <td>2016.000000</td>\n",
       "      <td>6.000000</td>\n",
       "      <td>9.900000</td>\n",
       "      <td>48767.000000</td>\n",
       "      <td>0.000000</td>\n",
       "    </tr>\n",
       "    <tr>\n",
       "      <td>max</td>\n",
       "      <td>2018.000000</td>\n",
       "      <td>35.000000</td>\n",
       "      <td>92.600000</td>\n",
       "      <td>500000.000000</td>\n",
       "      <td>3.000000</td>\n",
       "    </tr>\n",
       "  </tbody>\n",
       "</table>\n",
       "</div>"
      ],
      "text/plain": [
       "              Year  Selling_Price  Present_Price     Kms_Driven       Owner\n",
       "count   301.000000     301.000000     301.000000     301.000000  301.000000\n",
       "mean   2013.627907       4.661296       7.628472   36947.205980    0.043189\n",
       "std       2.891554       5.082812       8.644115   38886.883882    0.247915\n",
       "min    2003.000000       0.100000       0.320000     500.000000    0.000000\n",
       "25%    2012.000000       0.900000       1.200000   15000.000000    0.000000\n",
       "50%    2014.000000       3.600000       6.400000   32000.000000    0.000000\n",
       "75%    2016.000000       6.000000       9.900000   48767.000000    0.000000\n",
       "max    2018.000000      35.000000      92.600000  500000.000000    3.000000"
      ]
     },
     "execution_count": 56,
     "metadata": {},
     "output_type": "execute_result"
    }
   ],
   "source": [
    "cardata.describe()"
   ]
  },
  {
   "cell_type": "code",
   "execution_count": 57,
   "metadata": {},
   "outputs": [
    {
     "data": {
      "text/plain": [
       "(301, 9)"
      ]
     },
     "execution_count": 57,
     "metadata": {},
     "output_type": "execute_result"
    }
   ],
   "source": [
    "cardata.shape"
   ]
  },
  {
   "cell_type": "code",
   "execution_count": 58,
   "metadata": {},
   "outputs": [
    {
     "data": {
      "text/plain": [
       "Car_Name         0\n",
       "Year             0\n",
       "Selling_Price    0\n",
       "Present_Price    0\n",
       "Kms_Driven       0\n",
       "Fuel_Type        0\n",
       "Seller_Type      0\n",
       "Transmission     0\n",
       "Owner            0\n",
       "dtype: int64"
      ]
     },
     "execution_count": 58,
     "metadata": {},
     "output_type": "execute_result"
    }
   ],
   "source": [
    "cardata.isnull().sum()"
   ]
  },
  {
   "cell_type": "code",
   "execution_count": 59,
   "metadata": {},
   "outputs": [
    {
     "data": {
      "application/vnd.plotly.v1+json": {
       "config": {
        "plotlyServerURL": "https://plot.ly"
       },
       "data": [
        {
         "alignmentgroup": "True",
         "hovertemplate": "color=city<br>x=%{x}<br>y=%{y}<extra></extra>",
         "legendgroup": "city",
         "marker": {
          "color": "#636efa"
         },
         "name": "city",
         "offsetgroup": "city",
         "orientation": "v",
         "showlegend": true,
         "textposition": "auto",
         "type": "bar",
         "x": [
          "city"
         ],
         "xaxis": "x",
         "y": [
          26
         ],
         "yaxis": "y"
        },
        {
         "alignmentgroup": "True",
         "hovertemplate": "color=corolla altis<br>x=%{x}<br>y=%{y}<extra></extra>",
         "legendgroup": "corolla altis",
         "marker": {
          "color": "#EF553B"
         },
         "name": "corolla altis",
         "offsetgroup": "corolla altis",
         "orientation": "v",
         "showlegend": true,
         "textposition": "auto",
         "type": "bar",
         "x": [
          "corolla altis"
         ],
         "xaxis": "x",
         "y": [
          16
         ],
         "yaxis": "y"
        },
        {
         "alignmentgroup": "True",
         "hovertemplate": "color=verna<br>x=%{x}<br>y=%{y}<extra></extra>",
         "legendgroup": "verna",
         "marker": {
          "color": "#00cc96"
         },
         "name": "verna",
         "offsetgroup": "verna",
         "orientation": "v",
         "showlegend": true,
         "textposition": "auto",
         "type": "bar",
         "x": [
          "verna"
         ],
         "xaxis": "x",
         "y": [
          14
         ],
         "yaxis": "y"
        },
        {
         "alignmentgroup": "True",
         "hovertemplate": "color=fortuner<br>x=%{x}<br>y=%{y}<extra></extra>",
         "legendgroup": "fortuner",
         "marker": {
          "color": "#ab63fa"
         },
         "name": "fortuner",
         "offsetgroup": "fortuner",
         "orientation": "v",
         "showlegend": true,
         "textposition": "auto",
         "type": "bar",
         "x": [
          "fortuner"
         ],
         "xaxis": "x",
         "y": [
          11
         ],
         "yaxis": "y"
        },
        {
         "alignmentgroup": "True",
         "hovertemplate": "color=brio<br>x=%{x}<br>y=%{y}<extra></extra>",
         "legendgroup": "brio",
         "marker": {
          "color": "#FFA15A"
         },
         "name": "brio",
         "offsetgroup": "brio",
         "orientation": "v",
         "showlegend": true,
         "textposition": "auto",
         "type": "bar",
         "x": [
          "brio"
         ],
         "xaxis": "x",
         "y": [
          10
         ],
         "yaxis": "y"
        },
        {
         "alignmentgroup": "True",
         "hovertemplate": "color=innova<br>x=%{x}<br>y=%{y}<extra></extra>",
         "legendgroup": "innova",
         "marker": {
          "color": "#19d3f3"
         },
         "name": "innova",
         "offsetgroup": "innova",
         "orientation": "v",
         "showlegend": true,
         "textposition": "auto",
         "type": "bar",
         "x": [
          "innova"
         ],
         "xaxis": "x",
         "y": [
          9
         ],
         "yaxis": "y"
        },
        {
         "alignmentgroup": "True",
         "hovertemplate": "color=ciaz<br>x=%{x}<br>y=%{y}<extra></extra>",
         "legendgroup": "ciaz",
         "marker": {
          "color": "#FF6692"
         },
         "name": "ciaz",
         "offsetgroup": "ciaz",
         "orientation": "v",
         "showlegend": true,
         "textposition": "auto",
         "type": "bar",
         "x": [
          "ciaz"
         ],
         "xaxis": "x",
         "y": [
          9
         ],
         "yaxis": "y"
        },
        {
         "alignmentgroup": "True",
         "hovertemplate": "color=i20<br>x=%{x}<br>y=%{y}<extra></extra>",
         "legendgroup": "i20",
         "marker": {
          "color": "#B6E880"
         },
         "name": "i20",
         "offsetgroup": "i20",
         "orientation": "v",
         "showlegend": true,
         "textposition": "auto",
         "type": "bar",
         "x": [
          "i20"
         ],
         "xaxis": "x",
         "y": [
          9
         ],
         "yaxis": "y"
        },
        {
         "alignmentgroup": "True",
         "hovertemplate": "color=grand i10<br>x=%{x}<br>y=%{y}<extra></extra>",
         "legendgroup": "grand i10",
         "marker": {
          "color": "#FF97FF"
         },
         "name": "grand i10",
         "offsetgroup": "grand i10",
         "orientation": "v",
         "showlegend": true,
         "textposition": "auto",
         "type": "bar",
         "x": [
          "grand i10"
         ],
         "xaxis": "x",
         "y": [
          8
         ],
         "yaxis": "y"
        },
        {
         "alignmentgroup": "True",
         "hovertemplate": "color=amaze<br>x=%{x}<br>y=%{y}<extra></extra>",
         "legendgroup": "amaze",
         "marker": {
          "color": "#FECB52"
         },
         "name": "amaze",
         "offsetgroup": "amaze",
         "orientation": "v",
         "showlegend": true,
         "textposition": "auto",
         "type": "bar",
         "x": [
          "amaze"
         ],
         "xaxis": "x",
         "y": [
          7
         ],
         "yaxis": "y"
        },
        {
         "alignmentgroup": "True",
         "hovertemplate": "color=jazz<br>x=%{x}<br>y=%{y}<extra></extra>",
         "legendgroup": "jazz",
         "marker": {
          "color": "#636efa"
         },
         "name": "jazz",
         "offsetgroup": "jazz",
         "orientation": "v",
         "showlegend": true,
         "textposition": "auto",
         "type": "bar",
         "x": [
          "jazz"
         ],
         "xaxis": "x",
         "y": [
          7
         ],
         "yaxis": "y"
        },
        {
         "alignmentgroup": "True",
         "hovertemplate": "color=Royal Enfield Classic 350<br>x=%{x}<br>y=%{y}<extra></extra>",
         "legendgroup": "Royal Enfield Classic 350",
         "marker": {
          "color": "#EF553B"
         },
         "name": "Royal Enfield Classic 350",
         "offsetgroup": "Royal Enfield Classic 350",
         "orientation": "v",
         "showlegend": true,
         "textposition": "auto",
         "type": "bar",
         "x": [
          "Royal Enfield Classic 350"
         ],
         "xaxis": "x",
         "y": [
          7
         ],
         "yaxis": "y"
        },
        {
         "alignmentgroup": "True",
         "hovertemplate": "color=sx4<br>x=%{x}<br>y=%{y}<extra></extra>",
         "legendgroup": "sx4",
         "marker": {
          "color": "#00cc96"
         },
         "name": "sx4",
         "offsetgroup": "sx4",
         "orientation": "v",
         "showlegend": true,
         "textposition": "auto",
         "type": "bar",
         "x": [
          "sx4"
         ],
         "xaxis": "x",
         "y": [
          6
         ],
         "yaxis": "y"
        },
        {
         "alignmentgroup": "True",
         "hovertemplate": "color=ertiga<br>x=%{x}<br>y=%{y}<extra></extra>",
         "legendgroup": "ertiga",
         "marker": {
          "color": "#ab63fa"
         },
         "name": "ertiga",
         "offsetgroup": "ertiga",
         "orientation": "v",
         "showlegend": true,
         "textposition": "auto",
         "type": "bar",
         "x": [
          "ertiga"
         ],
         "xaxis": "x",
         "y": [
          6
         ],
         "yaxis": "y"
        },
        {
         "alignmentgroup": "True",
         "hovertemplate": "color=eon<br>x=%{x}<br>y=%{y}<extra></extra>",
         "legendgroup": "eon",
         "marker": {
          "color": "#FFA15A"
         },
         "name": "eon",
         "offsetgroup": "eon",
         "orientation": "v",
         "showlegend": true,
         "textposition": "auto",
         "type": "bar",
         "x": [
          "eon"
         ],
         "xaxis": "x",
         "y": [
          6
         ],
         "yaxis": "y"
        },
        {
         "alignmentgroup": "True",
         "hovertemplate": "color=i10<br>x=%{x}<br>y=%{y}<extra></extra>",
         "legendgroup": "i10",
         "marker": {
          "color": "#19d3f3"
         },
         "name": "i10",
         "offsetgroup": "i10",
         "orientation": "v",
         "showlegend": true,
         "textposition": "auto",
         "type": "bar",
         "x": [
          "i10"
         ],
         "xaxis": "x",
         "y": [
          5
         ],
         "yaxis": "y"
        },
        {
         "alignmentgroup": "True",
         "hovertemplate": "color=alto k10<br>x=%{x}<br>y=%{y}<extra></extra>",
         "legendgroup": "alto k10",
         "marker": {
          "color": "#FF6692"
         },
         "name": "alto k10",
         "offsetgroup": "alto k10",
         "orientation": "v",
         "showlegend": true,
         "textposition": "auto",
         "type": "bar",
         "x": [
          "alto k10"
         ],
         "xaxis": "x",
         "y": [
          5
         ],
         "yaxis": "y"
        },
        {
         "alignmentgroup": "True",
         "hovertemplate": "color=swift<br>x=%{x}<br>y=%{y}<extra></extra>",
         "legendgroup": "swift",
         "marker": {
          "color": "#B6E880"
         },
         "name": "swift",
         "offsetgroup": "swift",
         "orientation": "v",
         "showlegend": true,
         "textposition": "auto",
         "type": "bar",
         "x": [
          "swift"
         ],
         "xaxis": "x",
         "y": [
          5
         ],
         "yaxis": "y"
        },
        {
         "alignmentgroup": "True",
         "hovertemplate": "color=ritz<br>x=%{x}<br>y=%{y}<extra></extra>",
         "legendgroup": "ritz",
         "marker": {
          "color": "#FF97FF"
         },
         "name": "ritz",
         "offsetgroup": "ritz",
         "orientation": "v",
         "showlegend": true,
         "textposition": "auto",
         "type": "bar",
         "x": [
          "ritz"
         ],
         "xaxis": "x",
         "y": [
          4
         ],
         "yaxis": "y"
        },
        {
         "alignmentgroup": "True",
         "hovertemplate": "color=wagon r<br>x=%{x}<br>y=%{y}<extra></extra>",
         "legendgroup": "wagon r",
         "marker": {
          "color": "#FECB52"
         },
         "name": "wagon r",
         "offsetgroup": "wagon r",
         "orientation": "v",
         "showlegend": true,
         "textposition": "auto",
         "type": "bar",
         "x": [
          "wagon r"
         ],
         "xaxis": "x",
         "y": [
          4
         ],
         "yaxis": "y"
        },
        {
         "alignmentgroup": "True",
         "hovertemplate": "color=dzire<br>x=%{x}<br>y=%{y}<extra></extra>",
         "legendgroup": "dzire",
         "marker": {
          "color": "#636efa"
         },
         "name": "dzire",
         "offsetgroup": "dzire",
         "orientation": "v",
         "showlegend": true,
         "textposition": "auto",
         "type": "bar",
         "x": [
          "dzire"
         ],
         "xaxis": "x",
         "y": [
          4
         ],
         "yaxis": "y"
        },
        {
         "alignmentgroup": "True",
         "hovertemplate": "color=Bajaj Pulsar 150<br>x=%{x}<br>y=%{y}<extra></extra>",
         "legendgroup": "Bajaj Pulsar 150",
         "marker": {
          "color": "#EF553B"
         },
         "name": "Bajaj Pulsar 150",
         "offsetgroup": "Bajaj Pulsar 150",
         "orientation": "v",
         "showlegend": true,
         "textposition": "auto",
         "type": "bar",
         "x": [
          "Bajaj Pulsar 150"
         ],
         "xaxis": "x",
         "y": [
          4
         ],
         "yaxis": "y"
        },
        {
         "alignmentgroup": "True",
         "hovertemplate": "color=etios liva<br>x=%{x}<br>y=%{y}<extra></extra>",
         "legendgroup": "etios liva",
         "marker": {
          "color": "#00cc96"
         },
         "name": "etios liva",
         "offsetgroup": "etios liva",
         "orientation": "v",
         "showlegend": true,
         "textposition": "auto",
         "type": "bar",
         "x": [
          "etios liva"
         ],
         "xaxis": "x",
         "y": [
          4
         ],
         "yaxis": "y"
        },
        {
         "alignmentgroup": "True",
         "hovertemplate": "color=Royal Enfield Thunder 350<br>x=%{x}<br>y=%{y}<extra></extra>",
         "legendgroup": "Royal Enfield Thunder 350",
         "marker": {
          "color": "#ab63fa"
         },
         "name": "Royal Enfield Thunder 350",
         "offsetgroup": "Royal Enfield Thunder 350",
         "orientation": "v",
         "showlegend": true,
         "textposition": "auto",
         "type": "bar",
         "x": [
          "Royal Enfield Thunder 350"
         ],
         "xaxis": "x",
         "y": [
          4
         ],
         "yaxis": "y"
        },
        {
         "alignmentgroup": "True",
         "hovertemplate": "color=Bajaj Avenger 220<br>x=%{x}<br>y=%{y}<extra></extra>",
         "legendgroup": "Bajaj Avenger 220",
         "marker": {
          "color": "#FFA15A"
         },
         "name": "Bajaj Avenger 220",
         "offsetgroup": "Bajaj Avenger 220",
         "orientation": "v",
         "showlegend": true,
         "textposition": "auto",
         "type": "bar",
         "x": [
          "Bajaj Avenger 220"
         ],
         "xaxis": "x",
         "y": [
          3
         ],
         "yaxis": "y"
        },
        {
         "alignmentgroup": "True",
         "hovertemplate": "color=Honda CB Hornet 160R<br>x=%{x}<br>y=%{y}<extra></extra>",
         "legendgroup": "Honda CB Hornet 160R",
         "marker": {
          "color": "#19d3f3"
         },
         "name": "Honda CB Hornet 160R",
         "offsetgroup": "Honda CB Hornet 160R",
         "orientation": "v",
         "showlegend": true,
         "textposition": "auto",
         "type": "bar",
         "x": [
          "Honda CB Hornet 160R"
         ],
         "xaxis": "x",
         "y": [
          3
         ],
         "yaxis": "y"
        },
        {
         "alignmentgroup": "True",
         "hovertemplate": "color=Bajaj Pulsar NS 200<br>x=%{x}<br>y=%{y}<extra></extra>",
         "legendgroup": "Bajaj Pulsar NS 200",
         "marker": {
          "color": "#FF6692"
         },
         "name": "Bajaj Pulsar NS 200",
         "offsetgroup": "Bajaj Pulsar NS 200",
         "orientation": "v",
         "showlegend": true,
         "textposition": "auto",
         "type": "bar",
         "x": [
          "Bajaj Pulsar NS 200"
         ],
         "xaxis": "x",
         "y": [
          3
         ],
         "yaxis": "y"
        },
        {
         "alignmentgroup": "True",
         "hovertemplate": "color=etios g<br>x=%{x}<br>y=%{y}<extra></extra>",
         "legendgroup": "etios g",
         "marker": {
          "color": "#B6E880"
         },
         "name": "etios g",
         "offsetgroup": "etios g",
         "orientation": "v",
         "showlegend": true,
         "textposition": "auto",
         "type": "bar",
         "x": [
          "etios g"
         ],
         "xaxis": "x",
         "y": [
          3
         ],
         "yaxis": "y"
        },
        {
         "alignmentgroup": "True",
         "hovertemplate": "color=creta<br>x=%{x}<br>y=%{y}<extra></extra>",
         "legendgroup": "creta",
         "marker": {
          "color": "#FF97FF"
         },
         "name": "creta",
         "offsetgroup": "creta",
         "orientation": "v",
         "showlegend": true,
         "textposition": "auto",
         "type": "bar",
         "x": [
          "creta"
         ],
         "xaxis": "x",
         "y": [
          3
         ],
         "yaxis": "y"
        },
        {
         "alignmentgroup": "True",
         "hovertemplate": "color=etios cross<br>x=%{x}<br>y=%{y}<extra></extra>",
         "legendgroup": "etios cross",
         "marker": {
          "color": "#FECB52"
         },
         "name": "etios cross",
         "offsetgroup": "etios cross",
         "orientation": "v",
         "showlegend": true,
         "textposition": "auto",
         "type": "bar",
         "x": [
          "etios cross"
         ],
         "xaxis": "x",
         "y": [
          3
         ],
         "yaxis": "y"
        },
        {
         "alignmentgroup": "True",
         "hovertemplate": "color=xcent<br>x=%{x}<br>y=%{y}<extra></extra>",
         "legendgroup": "xcent",
         "marker": {
          "color": "#636efa"
         },
         "name": "xcent",
         "offsetgroup": "xcent",
         "orientation": "v",
         "showlegend": true,
         "textposition": "auto",
         "type": "bar",
         "x": [
          "xcent"
         ],
         "xaxis": "x",
         "y": [
          3
         ],
         "yaxis": "y"
        },
        {
         "alignmentgroup": "True",
         "hovertemplate": "color=TVS Apache RTR 160<br>x=%{x}<br>y=%{y}<extra></extra>",
         "legendgroup": "TVS Apache RTR 160",
         "marker": {
          "color": "#EF553B"
         },
         "name": "TVS Apache RTR 160",
         "offsetgroup": "TVS Apache RTR 160",
         "orientation": "v",
         "showlegend": true,
         "textposition": "auto",
         "type": "bar",
         "x": [
          "TVS Apache RTR 160"
         ],
         "xaxis": "x",
         "y": [
          3
         ],
         "yaxis": "y"
        },
        {
         "alignmentgroup": "True",
         "hovertemplate": "color=Royal Enfield Thunder 500<br>x=%{x}<br>y=%{y}<extra></extra>",
         "legendgroup": "Royal Enfield Thunder 500",
         "marker": {
          "color": "#00cc96"
         },
         "name": "Royal Enfield Thunder 500",
         "offsetgroup": "Royal Enfield Thunder 500",
         "orientation": "v",
         "showlegend": true,
         "textposition": "auto",
         "type": "bar",
         "x": [
          "Royal Enfield Thunder 500"
         ],
         "xaxis": "x",
         "y": [
          3
         ],
         "yaxis": "y"
        },
        {
         "alignmentgroup": "True",
         "hovertemplate": "color=Yamaha FZ S V 2.0<br>x=%{x}<br>y=%{y}<extra></extra>",
         "legendgroup": "Yamaha FZ S V 2.0",
         "marker": {
          "color": "#ab63fa"
         },
         "name": "Yamaha FZ S V 2.0",
         "offsetgroup": "Yamaha FZ S V 2.0",
         "orientation": "v",
         "showlegend": true,
         "textposition": "auto",
         "type": "bar",
         "x": [
          "Yamaha FZ S V 2.0"
         ],
         "xaxis": "x",
         "y": [
          3
         ],
         "yaxis": "y"
        },
        {
         "alignmentgroup": "True",
         "hovertemplate": "color=Yamaha FZ  v 2.0<br>x=%{x}<br>y=%{y}<extra></extra>",
         "legendgroup": "Yamaha FZ  v 2.0",
         "marker": {
          "color": "#FFA15A"
         },
         "name": "Yamaha FZ  v 2.0",
         "offsetgroup": "Yamaha FZ  v 2.0",
         "orientation": "v",
         "showlegend": true,
         "textposition": "auto",
         "type": "bar",
         "x": [
          "Yamaha FZ  v 2.0"
         ],
         "xaxis": "x",
         "y": [
          2
         ],
         "yaxis": "y"
        },
        {
         "alignmentgroup": "True",
         "hovertemplate": "color=Bajaj Avenger 220 dtsi<br>x=%{x}<br>y=%{y}<extra></extra>",
         "legendgroup": "Bajaj Avenger 220 dtsi",
         "marker": {
          "color": "#19d3f3"
         },
         "name": "Bajaj Avenger 220 dtsi",
         "offsetgroup": "Bajaj Avenger 220 dtsi",
         "orientation": "v",
         "showlegend": true,
         "textposition": "auto",
         "type": "bar",
         "x": [
          "Bajaj Avenger 220 dtsi"
         ],
         "xaxis": "x",
         "y": [
          2
         ],
         "yaxis": "y"
        },
        {
         "alignmentgroup": "True",
         "hovertemplate": "color=TVS Apache RTR 180<br>x=%{x}<br>y=%{y}<extra></extra>",
         "legendgroup": "TVS Apache RTR 180",
         "marker": {
          "color": "#FF6692"
         },
         "name": "TVS Apache RTR 180",
         "offsetgroup": "TVS Apache RTR 180",
         "orientation": "v",
         "showlegend": true,
         "textposition": "auto",
         "type": "bar",
         "x": [
          "TVS Apache RTR 180"
         ],
         "xaxis": "x",
         "y": [
          2
         ],
         "yaxis": "y"
        },
        {
         "alignmentgroup": "True",
         "hovertemplate": "color=Honda CB twister<br>x=%{x}<br>y=%{y}<extra></extra>",
         "legendgroup": "Honda CB twister",
         "marker": {
          "color": "#B6E880"
         },
         "name": "Honda CB twister",
         "offsetgroup": "Honda CB twister",
         "orientation": "v",
         "showlegend": true,
         "textposition": "auto",
         "type": "bar",
         "x": [
          "Honda CB twister"
         ],
         "xaxis": "x",
         "y": [
          2
         ],
         "yaxis": "y"
        },
        {
         "alignmentgroup": "True",
         "hovertemplate": "color=Bajaj Discover 125<br>x=%{x}<br>y=%{y}<extra></extra>",
         "legendgroup": "Bajaj Discover 125",
         "marker": {
          "color": "#FF97FF"
         },
         "name": "Bajaj Discover 125",
         "offsetgroup": "Bajaj Discover 125",
         "orientation": "v",
         "showlegend": true,
         "textposition": "auto",
         "type": "bar",
         "x": [
          "Bajaj Discover 125"
         ],
         "xaxis": "x",
         "y": [
          2
         ],
         "yaxis": "y"
        },
        {
         "alignmentgroup": "True",
         "hovertemplate": "color=Hero Splender iSmart<br>x=%{x}<br>y=%{y}<extra></extra>",
         "legendgroup": "Hero Splender iSmart",
         "marker": {
          "color": "#FECB52"
         },
         "name": "Hero Splender iSmart",
         "offsetgroup": "Hero Splender iSmart",
         "orientation": "v",
         "showlegend": true,
         "textposition": "auto",
         "type": "bar",
         "x": [
          "Hero Splender iSmart"
         ],
         "xaxis": "x",
         "y": [
          2
         ],
         "yaxis": "y"
        },
        {
         "alignmentgroup": "True",
         "hovertemplate": "color=Honda Karizma<br>x=%{x}<br>y=%{y}<extra></extra>",
         "legendgroup": "Honda Karizma",
         "marker": {
          "color": "#636efa"
         },
         "name": "Honda Karizma",
         "offsetgroup": "Honda Karizma",
         "orientation": "v",
         "showlegend": true,
         "textposition": "auto",
         "type": "bar",
         "x": [
          "Honda Karizma"
         ],
         "xaxis": "x",
         "y": [
          2
         ],
         "yaxis": "y"
        },
        {
         "alignmentgroup": "True",
         "hovertemplate": "color=Honda CBR 150<br>x=%{x}<br>y=%{y}<extra></extra>",
         "legendgroup": "Honda CBR 150",
         "marker": {
          "color": "#EF553B"
         },
         "name": "Honda CBR 150",
         "offsetgroup": "Honda CBR 150",
         "orientation": "v",
         "showlegend": true,
         "textposition": "auto",
         "type": "bar",
         "x": [
          "Honda CBR 150"
         ],
         "xaxis": "x",
         "y": [
          2
         ],
         "yaxis": "y"
        },
        {
         "alignmentgroup": "True",
         "hovertemplate": "color=Honda CB Shine<br>x=%{x}<br>y=%{y}<extra></extra>",
         "legendgroup": "Honda CB Shine",
         "marker": {
          "color": "#00cc96"
         },
         "name": "Honda CB Shine",
         "offsetgroup": "Honda CB Shine",
         "orientation": "v",
         "showlegend": true,
         "textposition": "auto",
         "type": "bar",
         "x": [
          "Honda CB Shine"
         ],
         "xaxis": "x",
         "y": [
          2
         ],
         "yaxis": "y"
        },
        {
         "alignmentgroup": "True",
         "hovertemplate": "color=Hero Passion Pro<br>x=%{x}<br>y=%{y}<extra></extra>",
         "legendgroup": "Hero Passion Pro",
         "marker": {
          "color": "#ab63fa"
         },
         "name": "Hero Passion Pro",
         "offsetgroup": "Hero Passion Pro",
         "orientation": "v",
         "showlegend": true,
         "textposition": "auto",
         "type": "bar",
         "x": [
          "Hero Passion Pro"
         ],
         "xaxis": "x",
         "y": [
          2
         ],
         "yaxis": "y"
        },
        {
         "alignmentgroup": "True",
         "hovertemplate": "color=Hero Extreme<br>x=%{x}<br>y=%{y}<extra></extra>",
         "legendgroup": "Hero Extreme",
         "marker": {
          "color": "#FFA15A"
         },
         "name": "Hero Extreme",
         "offsetgroup": "Hero Extreme",
         "orientation": "v",
         "showlegend": true,
         "textposition": "auto",
         "type": "bar",
         "x": [
          "Hero Extreme"
         ],
         "xaxis": "x",
         "y": [
          2
         ],
         "yaxis": "y"
        },
        {
         "alignmentgroup": "True",
         "hovertemplate": "color=elantra<br>x=%{x}<br>y=%{y}<extra></extra>",
         "legendgroup": "elantra",
         "marker": {
          "color": "#19d3f3"
         },
         "name": "elantra",
         "offsetgroup": "elantra",
         "orientation": "v",
         "showlegend": true,
         "textposition": "auto",
         "type": "bar",
         "x": [
          "elantra"
         ],
         "xaxis": "x",
         "y": [
          2
         ],
         "yaxis": "y"
        },
        {
         "alignmentgroup": "True",
         "hovertemplate": "color=Honda Activa 4G<br>x=%{x}<br>y=%{y}<extra></extra>",
         "legendgroup": "Honda Activa 4G",
         "marker": {
          "color": "#FF6692"
         },
         "name": "Honda Activa 4G",
         "offsetgroup": "Honda Activa 4G",
         "orientation": "v",
         "showlegend": true,
         "textposition": "auto",
         "type": "bar",
         "x": [
          "Honda Activa 4G"
         ],
         "xaxis": "x",
         "y": [
          2
         ],
         "yaxis": "y"
        },
        {
         "alignmentgroup": "True",
         "hovertemplate": "color=Royal Enfield Classic 500<br>x=%{x}<br>y=%{y}<extra></extra>",
         "legendgroup": "Royal Enfield Classic 500",
         "marker": {
          "color": "#B6E880"
         },
         "name": "Royal Enfield Classic 500",
         "offsetgroup": "Royal Enfield Classic 500",
         "orientation": "v",
         "showlegend": true,
         "textposition": "auto",
         "type": "bar",
         "x": [
          "Royal Enfield Classic 500"
         ],
         "xaxis": "x",
         "y": [
          2
         ],
         "yaxis": "y"
        },
        {
         "alignmentgroup": "True",
         "hovertemplate": "color=Activa 3g<br>x=%{x}<br>y=%{y}<extra></extra>",
         "legendgroup": "Activa 3g",
         "marker": {
          "color": "#FF97FF"
         },
         "name": "Activa 3g",
         "offsetgroup": "Activa 3g",
         "orientation": "v",
         "showlegend": true,
         "textposition": "auto",
         "type": "bar",
         "x": [
          "Activa 3g"
         ],
         "xaxis": "x",
         "y": [
          2
         ],
         "yaxis": "y"
        },
        {
         "alignmentgroup": "True",
         "hovertemplate": "color=Bajaj Pulsar 220 F<br>x=%{x}<br>y=%{y}<extra></extra>",
         "legendgroup": "Bajaj Pulsar 220 F",
         "marker": {
          "color": "#FECB52"
         },
         "name": "Bajaj Pulsar 220 F",
         "offsetgroup": "Bajaj Pulsar 220 F",
         "orientation": "v",
         "showlegend": true,
         "textposition": "auto",
         "type": "bar",
         "x": [
          "Bajaj Pulsar 220 F"
         ],
         "xaxis": "x",
         "y": [
          2
         ],
         "yaxis": "y"
        },
        {
         "alignmentgroup": "True",
         "hovertemplate": "color=KTM RC200<br>x=%{x}<br>y=%{y}<extra></extra>",
         "legendgroup": "KTM RC200",
         "marker": {
          "color": "#636efa"
         },
         "name": "KTM RC200",
         "offsetgroup": "KTM RC200",
         "orientation": "v",
         "showlegend": true,
         "textposition": "auto",
         "type": "bar",
         "x": [
          "KTM RC200"
         ],
         "xaxis": "x",
         "y": [
          2
         ],
         "yaxis": "y"
        },
        {
         "alignmentgroup": "True",
         "hovertemplate": "color=Hero Super Splendor<br>x=%{x}<br>y=%{y}<extra></extra>",
         "legendgroup": "Hero Super Splendor",
         "marker": {
          "color": "#EF553B"
         },
         "name": "Hero Super Splendor",
         "offsetgroup": "Hero Super Splendor",
         "orientation": "v",
         "showlegend": true,
         "textposition": "auto",
         "type": "bar",
         "x": [
          "Hero Super Splendor"
         ],
         "xaxis": "x",
         "y": [
          1
         ],
         "yaxis": "y"
        },
        {
         "alignmentgroup": "True",
         "hovertemplate": "color=land cruiser<br>x=%{x}<br>y=%{y}<extra></extra>",
         "legendgroup": "land cruiser",
         "marker": {
          "color": "#00cc96"
         },
         "name": "land cruiser",
         "offsetgroup": "land cruiser",
         "orientation": "v",
         "showlegend": true,
         "textposition": "auto",
         "type": "bar",
         "x": [
          "land cruiser"
         ],
         "xaxis": "x",
         "y": [
          1
         ],
         "yaxis": "y"
        },
        {
         "alignmentgroup": "True",
         "hovertemplate": "color=Honda Dream Yuga <br>x=%{x}<br>y=%{y}<extra></extra>",
         "legendgroup": "Honda Dream Yuga ",
         "marker": {
          "color": "#ab63fa"
         },
         "name": "Honda Dream Yuga ",
         "offsetgroup": "Honda Dream Yuga ",
         "orientation": "v",
         "showlegend": true,
         "textposition": "auto",
         "type": "bar",
         "x": [
          "Honda Dream Yuga "
         ],
         "xaxis": "x",
         "y": [
          1
         ],
         "yaxis": "y"
        },
        {
         "alignmentgroup": "True",
         "hovertemplate": "color=Bajaj Pulsar  NS 200<br>x=%{x}<br>y=%{y}<extra></extra>",
         "legendgroup": "Bajaj Pulsar  NS 200",
         "marker": {
          "color": "#FFA15A"
         },
         "name": "Bajaj Pulsar  NS 200",
         "offsetgroup": "Bajaj Pulsar  NS 200",
         "orientation": "v",
         "showlegend": true,
         "textposition": "auto",
         "type": "bar",
         "x": [
          "Bajaj Pulsar  NS 200"
         ],
         "xaxis": "x",
         "y": [
          1
         ],
         "yaxis": "y"
        },
        {
         "alignmentgroup": "True",
         "hovertemplate": "color=s cross<br>x=%{x}<br>y=%{y}<extra></extra>",
         "legendgroup": "s cross",
         "marker": {
          "color": "#19d3f3"
         },
         "name": "s cross",
         "offsetgroup": "s cross",
         "orientation": "v",
         "showlegend": true,
         "textposition": "auto",
         "type": "bar",
         "x": [
          "s cross"
         ],
         "xaxis": "x",
         "y": [
          1
         ],
         "yaxis": "y"
        },
        {
         "alignmentgroup": "True",
         "hovertemplate": "color=corolla<br>x=%{x}<br>y=%{y}<extra></extra>",
         "legendgroup": "corolla",
         "marker": {
          "color": "#FF6692"
         },
         "name": "corolla",
         "offsetgroup": "corolla",
         "orientation": "v",
         "showlegend": true,
         "textposition": "auto",
         "type": "bar",
         "x": [
          "corolla"
         ],
         "xaxis": "x",
         "y": [
          1
         ],
         "yaxis": "y"
        },
        {
         "alignmentgroup": "True",
         "hovertemplate": "color=Hero Glamour<br>x=%{x}<br>y=%{y}<extra></extra>",
         "legendgroup": "Hero Glamour",
         "marker": {
          "color": "#B6E880"
         },
         "name": "Hero Glamour",
         "offsetgroup": "Hero Glamour",
         "orientation": "v",
         "showlegend": true,
         "textposition": "auto",
         "type": "bar",
         "x": [
          "Hero Glamour"
         ],
         "xaxis": "x",
         "y": [
          1
         ],
         "yaxis": "y"
        },
        {
         "alignmentgroup": "True",
         "hovertemplate": "color=camry<br>x=%{x}<br>y=%{y}<extra></extra>",
         "legendgroup": "camry",
         "marker": {
          "color": "#FF97FF"
         },
         "name": "camry",
         "offsetgroup": "camry",
         "orientation": "v",
         "showlegend": true,
         "textposition": "auto",
         "type": "bar",
         "x": [
          "camry"
         ],
         "xaxis": "x",
         "y": [
          1
         ],
         "yaxis": "y"
        },
        {
         "alignmentgroup": "True",
         "hovertemplate": "color=Bajaj Pulsar RS200<br>x=%{x}<br>y=%{y}<extra></extra>",
         "legendgroup": "Bajaj Pulsar RS200",
         "marker": {
          "color": "#FECB52"
         },
         "name": "Bajaj Pulsar RS200",
         "offsetgroup": "Bajaj Pulsar RS200",
         "orientation": "v",
         "showlegend": true,
         "textposition": "auto",
         "type": "bar",
         "x": [
          "Bajaj Pulsar RS200"
         ],
         "xaxis": "x",
         "y": [
          1
         ],
         "yaxis": "y"
        },
        {
         "alignmentgroup": "True",
         "hovertemplate": "color=Yamaha FZ S <br>x=%{x}<br>y=%{y}<extra></extra>",
         "legendgroup": "Yamaha FZ S ",
         "marker": {
          "color": "#636efa"
         },
         "name": "Yamaha FZ S ",
         "offsetgroup": "Yamaha FZ S ",
         "orientation": "v",
         "showlegend": true,
         "textposition": "auto",
         "type": "bar",
         "x": [
          "Yamaha FZ S "
         ],
         "xaxis": "x",
         "y": [
          1
         ],
         "yaxis": "y"
        },
        {
         "alignmentgroup": "True",
         "hovertemplate": "color=omni<br>x=%{x}<br>y=%{y}<extra></extra>",
         "legendgroup": "omni",
         "marker": {
          "color": "#EF553B"
         },
         "name": "omni",
         "offsetgroup": "omni",
         "orientation": "v",
         "showlegend": true,
         "textposition": "auto",
         "type": "bar",
         "x": [
          "omni"
         ],
         "xaxis": "x",
         "y": [
          1
         ],
         "yaxis": "y"
        },
        {
         "alignmentgroup": "True",
         "hovertemplate": "color=ignis<br>x=%{x}<br>y=%{y}<extra></extra>",
         "legendgroup": "ignis",
         "marker": {
          "color": "#00cc96"
         },
         "name": "ignis",
         "offsetgroup": "ignis",
         "orientation": "v",
         "showlegend": true,
         "textposition": "auto",
         "type": "bar",
         "x": [
          "ignis"
         ],
         "xaxis": "x",
         "y": [
          1
         ],
         "yaxis": "y"
        },
        {
         "alignmentgroup": "True",
         "hovertemplate": "color=KTM 390 Duke <br>x=%{x}<br>y=%{y}<extra></extra>",
         "legendgroup": "KTM 390 Duke ",
         "marker": {
          "color": "#ab63fa"
         },
         "name": "KTM 390 Duke ",
         "offsetgroup": "KTM 390 Duke ",
         "orientation": "v",
         "showlegend": true,
         "textposition": "auto",
         "type": "bar",
         "x": [
          "KTM 390 Duke "
         ],
         "xaxis": "x",
         "y": [
          1
         ],
         "yaxis": "y"
        },
        {
         "alignmentgroup": "True",
         "hovertemplate": "color=Yamaha FZ 16<br>x=%{x}<br>y=%{y}<extra></extra>",
         "legendgroup": "Yamaha FZ 16",
         "marker": {
          "color": "#FFA15A"
         },
         "name": "Yamaha FZ 16",
         "offsetgroup": "Yamaha FZ 16",
         "orientation": "v",
         "showlegend": true,
         "textposition": "auto",
         "type": "bar",
         "x": [
          "Yamaha FZ 16"
         ],
         "xaxis": "x",
         "y": [
          1
         ],
         "yaxis": "y"
        },
        {
         "alignmentgroup": "True",
         "hovertemplate": "color=TVS Jupyter<br>x=%{x}<br>y=%{y}<extra></extra>",
         "legendgroup": "TVS Jupyter",
         "marker": {
          "color": "#19d3f3"
         },
         "name": "TVS Jupyter",
         "offsetgroup": "TVS Jupyter",
         "orientation": "v",
         "showlegend": true,
         "textposition": "auto",
         "type": "bar",
         "x": [
          "TVS Jupyter"
         ],
         "xaxis": "x",
         "y": [
          1
         ],
         "yaxis": "y"
        },
        {
         "alignmentgroup": "True",
         "hovertemplate": "color=Honda Activa 125<br>x=%{x}<br>y=%{y}<extra></extra>",
         "legendgroup": "Honda Activa 125",
         "marker": {
          "color": "#FF6692"
         },
         "name": "Honda Activa 125",
         "offsetgroup": "Honda Activa 125",
         "orientation": "v",
         "showlegend": true,
         "textposition": "auto",
         "type": "bar",
         "x": [
          "Honda Activa 125"
         ],
         "xaxis": "x",
         "y": [
          1
         ],
         "yaxis": "y"
        },
        {
         "alignmentgroup": "True",
         "hovertemplate": "color=Hero Honda CBZ extreme<br>x=%{x}<br>y=%{y}<extra></extra>",
         "legendgroup": "Hero Honda CBZ extreme",
         "marker": {
          "color": "#B6E880"
         },
         "name": "Hero Honda CBZ extreme",
         "offsetgroup": "Hero Honda CBZ extreme",
         "orientation": "v",
         "showlegend": true,
         "textposition": "auto",
         "type": "bar",
         "x": [
          "Hero Honda CBZ extreme"
         ],
         "xaxis": "x",
         "y": [
          1
         ],
         "yaxis": "y"
        },
        {
         "alignmentgroup": "True",
         "hovertemplate": "color=Bajaj Avenger Street 220<br>x=%{x}<br>y=%{y}<extra></extra>",
         "legendgroup": "Bajaj Avenger Street 220",
         "marker": {
          "color": "#FF97FF"
         },
         "name": "Bajaj Avenger Street 220",
         "offsetgroup": "Bajaj Avenger Street 220",
         "orientation": "v",
         "showlegend": true,
         "textposition": "auto",
         "type": "bar",
         "x": [
          "Bajaj Avenger Street 220"
         ],
         "xaxis": "x",
         "y": [
          1
         ],
         "yaxis": "y"
        },
        {
         "alignmentgroup": "True",
         "hovertemplate": "color=Bajaj Discover 100<br>x=%{x}<br>y=%{y}<extra></extra>",
         "legendgroup": "Bajaj Discover 100",
         "marker": {
          "color": "#FECB52"
         },
         "name": "Bajaj Discover 100",
         "offsetgroup": "Bajaj Discover 100",
         "orientation": "v",
         "showlegend": true,
         "textposition": "auto",
         "type": "bar",
         "x": [
          "Bajaj Discover 100"
         ],
         "xaxis": "x",
         "y": [
          1
         ],
         "yaxis": "y"
        },
        {
         "alignmentgroup": "True",
         "hovertemplate": "color=Hero  Ignitor Disc<br>x=%{x}<br>y=%{y}<extra></extra>",
         "legendgroup": "Hero  Ignitor Disc",
         "marker": {
          "color": "#636efa"
         },
         "name": "Hero  Ignitor Disc",
         "offsetgroup": "Hero  Ignitor Disc",
         "orientation": "v",
         "showlegend": true,
         "textposition": "auto",
         "type": "bar",
         "x": [
          "Hero  Ignitor Disc"
         ],
         "xaxis": "x",
         "y": [
          1
         ],
         "yaxis": "y"
        },
        {
         "alignmentgroup": "True",
         "hovertemplate": "color=Yamaha Fazer <br>x=%{x}<br>y=%{y}<extra></extra>",
         "legendgroup": "Yamaha Fazer ",
         "marker": {
          "color": "#EF553B"
         },
         "name": "Yamaha Fazer ",
         "offsetgroup": "Yamaha Fazer ",
         "orientation": "v",
         "showlegend": true,
         "textposition": "auto",
         "type": "bar",
         "x": [
          "Yamaha Fazer "
         ],
         "xaxis": "x",
         "y": [
          1
         ],
         "yaxis": "y"
        },
        {
         "alignmentgroup": "True",
         "hovertemplate": "color=Bajaj Pulsar 135 LS<br>x=%{x}<br>y=%{y}<extra></extra>",
         "legendgroup": "Bajaj Pulsar 135 LS",
         "marker": {
          "color": "#00cc96"
         },
         "name": "Bajaj Pulsar 135 LS",
         "offsetgroup": "Bajaj Pulsar 135 LS",
         "orientation": "v",
         "showlegend": true,
         "textposition": "auto",
         "type": "bar",
         "x": [
          "Bajaj Pulsar 135 LS"
         ],
         "xaxis": "x",
         "y": [
          1
         ],
         "yaxis": "y"
        },
        {
         "alignmentgroup": "True",
         "hovertemplate": "color=Bajaj Avenger 150<br>x=%{x}<br>y=%{y}<extra></extra>",
         "legendgroup": "Bajaj Avenger 150",
         "marker": {
          "color": "#ab63fa"
         },
         "name": "Bajaj Avenger 150",
         "offsetgroup": "Bajaj Avenger 150",
         "orientation": "v",
         "showlegend": true,
         "textposition": "auto",
         "type": "bar",
         "x": [
          "Bajaj Avenger 150"
         ],
         "xaxis": "x",
         "y": [
          1
         ],
         "yaxis": "y"
        },
        {
         "alignmentgroup": "True",
         "hovertemplate": "color=800<br>x=%{x}<br>y=%{y}<extra></extra>",
         "legendgroup": "800",
         "marker": {
          "color": "#FFA15A"
         },
         "name": "800",
         "offsetgroup": "800",
         "orientation": "v",
         "showlegend": true,
         "textposition": "auto",
         "type": "bar",
         "x": [
          "800"
         ],
         "xaxis": "x",
         "y": [
          1
         ],
         "yaxis": "y"
        },
        {
         "alignmentgroup": "True",
         "hovertemplate": "color=baleno<br>x=%{x}<br>y=%{y}<extra></extra>",
         "legendgroup": "baleno",
         "marker": {
          "color": "#19d3f3"
         },
         "name": "baleno",
         "offsetgroup": "baleno",
         "orientation": "v",
         "showlegend": true,
         "textposition": "auto",
         "type": "bar",
         "x": [
          "baleno"
         ],
         "xaxis": "x",
         "y": [
          1
         ],
         "yaxis": "y"
        },
        {
         "alignmentgroup": "True",
         "hovertemplate": "color=Activa 4g<br>x=%{x}<br>y=%{y}<extra></extra>",
         "legendgroup": "Activa 4g",
         "marker": {
          "color": "#FF6692"
         },
         "name": "Activa 4g",
         "offsetgroup": "Activa 4g",
         "orientation": "v",
         "showlegend": true,
         "textposition": "auto",
         "type": "bar",
         "x": [
          "Activa 4g"
         ],
         "xaxis": "x",
         "y": [
          1
         ],
         "yaxis": "y"
        },
        {
         "alignmentgroup": "True",
         "hovertemplate": "color=KTM RC390<br>x=%{x}<br>y=%{y}<extra></extra>",
         "legendgroup": "KTM RC390",
         "marker": {
          "color": "#B6E880"
         },
         "name": "KTM RC390",
         "offsetgroup": "KTM RC390",
         "orientation": "v",
         "showlegend": true,
         "textposition": "auto",
         "type": "bar",
         "x": [
          "KTM RC390"
         ],
         "xaxis": "x",
         "y": [
          1
         ],
         "yaxis": "y"
        },
        {
         "alignmentgroup": "True",
         "hovertemplate": "color=Hero Splender Plus<br>x=%{x}<br>y=%{y}<extra></extra>",
         "legendgroup": "Hero Splender Plus",
         "marker": {
          "color": "#FF97FF"
         },
         "name": "Hero Splender Plus",
         "offsetgroup": "Hero Splender Plus",
         "orientation": "v",
         "showlegend": true,
         "textposition": "auto",
         "type": "bar",
         "x": [
          "Hero Splender Plus"
         ],
         "xaxis": "x",
         "y": [
          1
         ],
         "yaxis": "y"
        },
        {
         "alignmentgroup": "True",
         "hovertemplate": "color=Bajaj Dominar 400<br>x=%{x}<br>y=%{y}<extra></extra>",
         "legendgroup": "Bajaj Dominar 400",
         "marker": {
          "color": "#FECB52"
         },
         "name": "Bajaj Dominar 400",
         "offsetgroup": "Bajaj Dominar 400",
         "orientation": "v",
         "showlegend": true,
         "textposition": "auto",
         "type": "bar",
         "x": [
          "Bajaj Dominar 400"
         ],
         "xaxis": "x",
         "y": [
          1
         ],
         "yaxis": "y"
        },
        {
         "alignmentgroup": "True",
         "hovertemplate": "color=etios gd<br>x=%{x}<br>y=%{y}<extra></extra>",
         "legendgroup": "etios gd",
         "marker": {
          "color": "#636efa"
         },
         "name": "etios gd",
         "offsetgroup": "etios gd",
         "orientation": "v",
         "showlegend": true,
         "textposition": "auto",
         "type": "bar",
         "x": [
          "etios gd"
         ],
         "xaxis": "x",
         "y": [
          1
         ],
         "yaxis": "y"
        },
        {
         "alignmentgroup": "True",
         "hovertemplate": "color=Hero Hunk<br>x=%{x}<br>y=%{y}<extra></extra>",
         "legendgroup": "Hero Hunk",
         "marker": {
          "color": "#EF553B"
         },
         "name": "Hero Hunk",
         "offsetgroup": "Hero Hunk",
         "orientation": "v",
         "showlegend": true,
         "textposition": "auto",
         "type": "bar",
         "x": [
          "Hero Hunk"
         ],
         "xaxis": "x",
         "y": [
          1
         ],
         "yaxis": "y"
        },
        {
         "alignmentgroup": "True",
         "hovertemplate": "color=Hero Honda Passion Pro<br>x=%{x}<br>y=%{y}<extra></extra>",
         "legendgroup": "Hero Honda Passion Pro",
         "marker": {
          "color": "#00cc96"
         },
         "name": "Hero Honda Passion Pro",
         "offsetgroup": "Hero Honda Passion Pro",
         "orientation": "v",
         "showlegend": true,
         "textposition": "auto",
         "type": "bar",
         "x": [
          "Hero Honda Passion Pro"
         ],
         "xaxis": "x",
         "y": [
          1
         ],
         "yaxis": "y"
        },
        {
         "alignmentgroup": "True",
         "hovertemplate": "color=Hero  CBZ Xtreme<br>x=%{x}<br>y=%{y}<extra></extra>",
         "legendgroup": "Hero  CBZ Xtreme",
         "marker": {
          "color": "#ab63fa"
         },
         "name": "Hero  CBZ Xtreme",
         "offsetgroup": "Hero  CBZ Xtreme",
         "orientation": "v",
         "showlegend": true,
         "textposition": "auto",
         "type": "bar",
         "x": [
          "Hero  CBZ Xtreme"
         ],
         "xaxis": "x",
         "y": [
          1
         ],
         "yaxis": "y"
        },
        {
         "alignmentgroup": "True",
         "hovertemplate": "color=vitara brezza<br>x=%{x}<br>y=%{y}<extra></extra>",
         "legendgroup": "vitara brezza",
         "marker": {
          "color": "#FFA15A"
         },
         "name": "vitara brezza",
         "offsetgroup": "vitara brezza",
         "orientation": "v",
         "showlegend": true,
         "textposition": "auto",
         "type": "bar",
         "x": [
          "vitara brezza"
         ],
         "xaxis": "x",
         "y": [
          1
         ],
         "yaxis": "y"
        },
        {
         "alignmentgroup": "True",
         "hovertemplate": "color=TVS Sport <br>x=%{x}<br>y=%{y}<extra></extra>",
         "legendgroup": "TVS Sport ",
         "marker": {
          "color": "#19d3f3"
         },
         "name": "TVS Sport ",
         "offsetgroup": "TVS Sport ",
         "orientation": "v",
         "showlegend": true,
         "textposition": "auto",
         "type": "bar",
         "x": [
          "TVS Sport "
         ],
         "xaxis": "x",
         "y": [
          1
         ],
         "yaxis": "y"
        },
        {
         "alignmentgroup": "True",
         "hovertemplate": "color=Bajaj Avenger 150 street<br>x=%{x}<br>y=%{y}<extra></extra>",
         "legendgroup": "Bajaj Avenger 150 street",
         "marker": {
          "color": "#FF6692"
         },
         "name": "Bajaj Avenger 150 street",
         "offsetgroup": "Bajaj Avenger 150 street",
         "orientation": "v",
         "showlegend": true,
         "textposition": "auto",
         "type": "bar",
         "x": [
          "Bajaj Avenger 150 street"
         ],
         "xaxis": "x",
         "y": [
          1
         ],
         "yaxis": "y"
        },
        {
         "alignmentgroup": "True",
         "hovertemplate": "color=Suzuki Access 125<br>x=%{x}<br>y=%{y}<extra></extra>",
         "legendgroup": "Suzuki Access 125",
         "marker": {
          "color": "#B6E880"
         },
         "name": "Suzuki Access 125",
         "offsetgroup": "Suzuki Access 125",
         "orientation": "v",
         "showlegend": true,
         "textposition": "auto",
         "type": "bar",
         "x": [
          "Suzuki Access 125"
         ],
         "xaxis": "x",
         "y": [
          1
         ],
         "yaxis": "y"
        },
        {
         "alignmentgroup": "True",
         "hovertemplate": "color=Mahindra Mojo XT300<br>x=%{x}<br>y=%{y}<extra></extra>",
         "legendgroup": "Mahindra Mojo XT300",
         "marker": {
          "color": "#FF97FF"
         },
         "name": "Mahindra Mojo XT300",
         "offsetgroup": "Mahindra Mojo XT300",
         "orientation": "v",
         "showlegend": true,
         "textposition": "auto",
         "type": "bar",
         "x": [
          "Mahindra Mojo XT300"
         ],
         "xaxis": "x",
         "y": [
          1
         ],
         "yaxis": "y"
        },
        {
         "alignmentgroup": "True",
         "hovertemplate": "color=Honda CB Trigger<br>x=%{x}<br>y=%{y}<extra></extra>",
         "legendgroup": "Honda CB Trigger",
         "marker": {
          "color": "#FECB52"
         },
         "name": "Honda CB Trigger",
         "offsetgroup": "Honda CB Trigger",
         "orientation": "v",
         "showlegend": true,
         "textposition": "auto",
         "type": "bar",
         "x": [
          "Honda CB Trigger"
         ],
         "xaxis": "x",
         "y": [
          1
         ],
         "yaxis": "y"
        },
        {
         "alignmentgroup": "True",
         "hovertemplate": "color=Royal Enfield Bullet 350<br>x=%{x}<br>y=%{y}<extra></extra>",
         "legendgroup": "Royal Enfield Bullet 350",
         "marker": {
          "color": "#636efa"
         },
         "name": "Royal Enfield Bullet 350",
         "offsetgroup": "Royal Enfield Bullet 350",
         "orientation": "v",
         "showlegend": true,
         "textposition": "auto",
         "type": "bar",
         "x": [
          "Royal Enfield Bullet 350"
         ],
         "xaxis": "x",
         "y": [
          1
         ],
         "yaxis": "y"
        },
        {
         "alignmentgroup": "True",
         "hovertemplate": "color=UM Renegade Mojave<br>x=%{x}<br>y=%{y}<extra></extra>",
         "legendgroup": "UM Renegade Mojave",
         "marker": {
          "color": "#EF553B"
         },
         "name": "UM Renegade Mojave",
         "offsetgroup": "UM Renegade Mojave",
         "orientation": "v",
         "showlegend": true,
         "textposition": "auto",
         "type": "bar",
         "x": [
          "UM Renegade Mojave"
         ],
         "xaxis": "x",
         "y": [
          1
         ],
         "yaxis": "y"
        },
        {
         "alignmentgroup": "True",
         "hovertemplate": "color=Honda CB Unicorn<br>x=%{x}<br>y=%{y}<extra></extra>",
         "legendgroup": "Honda CB Unicorn",
         "marker": {
          "color": "#00cc96"
         },
         "name": "Honda CB Unicorn",
         "offsetgroup": "Honda CB Unicorn",
         "orientation": "v",
         "showlegend": true,
         "textposition": "auto",
         "type": "bar",
         "x": [
          "Honda CB Unicorn"
         ],
         "xaxis": "x",
         "y": [
          1
         ],
         "yaxis": "y"
        },
        {
         "alignmentgroup": "True",
         "hovertemplate": "color=Hyosung GT250R<br>x=%{x}<br>y=%{y}<extra></extra>",
         "legendgroup": "Hyosung GT250R",
         "marker": {
          "color": "#ab63fa"
         },
         "name": "Hyosung GT250R",
         "offsetgroup": "Hyosung GT250R",
         "orientation": "v",
         "showlegend": true,
         "textposition": "auto",
         "type": "bar",
         "x": [
          "Hyosung GT250R"
         ],
         "xaxis": "x",
         "y": [
          1
         ],
         "yaxis": "y"
        },
        {
         "alignmentgroup": "True",
         "hovertemplate": "color=Bajaj  ct 100<br>x=%{x}<br>y=%{y}<extra></extra>",
         "legendgroup": "Bajaj  ct 100",
         "marker": {
          "color": "#FFA15A"
         },
         "name": "Bajaj  ct 100",
         "offsetgroup": "Bajaj  ct 100",
         "orientation": "v",
         "showlegend": true,
         "textposition": "auto",
         "type": "bar",
         "x": [
          "Bajaj  ct 100"
         ],
         "xaxis": "x",
         "y": [
          1
         ],
         "yaxis": "y"
        },
        {
         "alignmentgroup": "True",
         "hovertemplate": "color=Hero Passion X pro<br>x=%{x}<br>y=%{y}<extra></extra>",
         "legendgroup": "Hero Passion X pro",
         "marker": {
          "color": "#19d3f3"
         },
         "name": "Hero Passion X pro",
         "offsetgroup": "Hero Passion X pro",
         "orientation": "v",
         "showlegend": true,
         "textposition": "auto",
         "type": "bar",
         "x": [
          "Hero Passion X pro"
         ],
         "xaxis": "x",
         "y": [
          1
         ],
         "yaxis": "y"
        },
        {
         "alignmentgroup": "True",
         "hovertemplate": "color=alto 800<br>x=%{x}<br>y=%{y}<extra></extra>",
         "legendgroup": "alto 800",
         "marker": {
          "color": "#FF6692"
         },
         "name": "alto 800",
         "offsetgroup": "alto 800",
         "orientation": "v",
         "showlegend": true,
         "textposition": "auto",
         "type": "bar",
         "x": [
          "alto 800"
         ],
         "xaxis": "x",
         "y": [
          1
         ],
         "yaxis": "y"
        },
        {
         "alignmentgroup": "True",
         "hovertemplate": "color=TVS Wego<br>x=%{x}<br>y=%{y}<extra></extra>",
         "legendgroup": "TVS Wego",
         "marker": {
          "color": "#B6E880"
         },
         "name": "TVS Wego",
         "offsetgroup": "TVS Wego",
         "orientation": "v",
         "showlegend": true,
         "textposition": "auto",
         "type": "bar",
         "x": [
          "TVS Wego"
         ],
         "xaxis": "x",
         "y": [
          1
         ],
         "yaxis": "y"
        }
       ],
       "layout": {
        "barmode": "relative",
        "legend": {
         "title": {
          "text": "color"
         },
         "tracegroupgap": 0
        },
        "margin": {
         "t": 60
        },
        "template": {
         "data": {
          "bar": [
           {
            "error_x": {
             "color": "#2a3f5f"
            },
            "error_y": {
             "color": "#2a3f5f"
            },
            "marker": {
             "line": {
              "color": "#E5ECF6",
              "width": 0.5
             }
            },
            "type": "bar"
           }
          ],
          "barpolar": [
           {
            "marker": {
             "line": {
              "color": "#E5ECF6",
              "width": 0.5
             }
            },
            "type": "barpolar"
           }
          ],
          "carpet": [
           {
            "aaxis": {
             "endlinecolor": "#2a3f5f",
             "gridcolor": "white",
             "linecolor": "white",
             "minorgridcolor": "white",
             "startlinecolor": "#2a3f5f"
            },
            "baxis": {
             "endlinecolor": "#2a3f5f",
             "gridcolor": "white",
             "linecolor": "white",
             "minorgridcolor": "white",
             "startlinecolor": "#2a3f5f"
            },
            "type": "carpet"
           }
          ],
          "choropleth": [
           {
            "colorbar": {
             "outlinewidth": 0,
             "ticks": ""
            },
            "type": "choropleth"
           }
          ],
          "contour": [
           {
            "colorbar": {
             "outlinewidth": 0,
             "ticks": ""
            },
            "colorscale": [
             [
              0,
              "#0d0887"
             ],
             [
              0.1111111111111111,
              "#46039f"
             ],
             [
              0.2222222222222222,
              "#7201a8"
             ],
             [
              0.3333333333333333,
              "#9c179e"
             ],
             [
              0.4444444444444444,
              "#bd3786"
             ],
             [
              0.5555555555555556,
              "#d8576b"
             ],
             [
              0.6666666666666666,
              "#ed7953"
             ],
             [
              0.7777777777777778,
              "#fb9f3a"
             ],
             [
              0.8888888888888888,
              "#fdca26"
             ],
             [
              1,
              "#f0f921"
             ]
            ],
            "type": "contour"
           }
          ],
          "contourcarpet": [
           {
            "colorbar": {
             "outlinewidth": 0,
             "ticks": ""
            },
            "type": "contourcarpet"
           }
          ],
          "heatmap": [
           {
            "colorbar": {
             "outlinewidth": 0,
             "ticks": ""
            },
            "colorscale": [
             [
              0,
              "#0d0887"
             ],
             [
              0.1111111111111111,
              "#46039f"
             ],
             [
              0.2222222222222222,
              "#7201a8"
             ],
             [
              0.3333333333333333,
              "#9c179e"
             ],
             [
              0.4444444444444444,
              "#bd3786"
             ],
             [
              0.5555555555555556,
              "#d8576b"
             ],
             [
              0.6666666666666666,
              "#ed7953"
             ],
             [
              0.7777777777777778,
              "#fb9f3a"
             ],
             [
              0.8888888888888888,
              "#fdca26"
             ],
             [
              1,
              "#f0f921"
             ]
            ],
            "type": "heatmap"
           }
          ],
          "heatmapgl": [
           {
            "colorbar": {
             "outlinewidth": 0,
             "ticks": ""
            },
            "colorscale": [
             [
              0,
              "#0d0887"
             ],
             [
              0.1111111111111111,
              "#46039f"
             ],
             [
              0.2222222222222222,
              "#7201a8"
             ],
             [
              0.3333333333333333,
              "#9c179e"
             ],
             [
              0.4444444444444444,
              "#bd3786"
             ],
             [
              0.5555555555555556,
              "#d8576b"
             ],
             [
              0.6666666666666666,
              "#ed7953"
             ],
             [
              0.7777777777777778,
              "#fb9f3a"
             ],
             [
              0.8888888888888888,
              "#fdca26"
             ],
             [
              1,
              "#f0f921"
             ]
            ],
            "type": "heatmapgl"
           }
          ],
          "histogram": [
           {
            "marker": {
             "colorbar": {
              "outlinewidth": 0,
              "ticks": ""
             }
            },
            "type": "histogram"
           }
          ],
          "histogram2d": [
           {
            "colorbar": {
             "outlinewidth": 0,
             "ticks": ""
            },
            "colorscale": [
             [
              0,
              "#0d0887"
             ],
             [
              0.1111111111111111,
              "#46039f"
             ],
             [
              0.2222222222222222,
              "#7201a8"
             ],
             [
              0.3333333333333333,
              "#9c179e"
             ],
             [
              0.4444444444444444,
              "#bd3786"
             ],
             [
              0.5555555555555556,
              "#d8576b"
             ],
             [
              0.6666666666666666,
              "#ed7953"
             ],
             [
              0.7777777777777778,
              "#fb9f3a"
             ],
             [
              0.8888888888888888,
              "#fdca26"
             ],
             [
              1,
              "#f0f921"
             ]
            ],
            "type": "histogram2d"
           }
          ],
          "histogram2dcontour": [
           {
            "colorbar": {
             "outlinewidth": 0,
             "ticks": ""
            },
            "colorscale": [
             [
              0,
              "#0d0887"
             ],
             [
              0.1111111111111111,
              "#46039f"
             ],
             [
              0.2222222222222222,
              "#7201a8"
             ],
             [
              0.3333333333333333,
              "#9c179e"
             ],
             [
              0.4444444444444444,
              "#bd3786"
             ],
             [
              0.5555555555555556,
              "#d8576b"
             ],
             [
              0.6666666666666666,
              "#ed7953"
             ],
             [
              0.7777777777777778,
              "#fb9f3a"
             ],
             [
              0.8888888888888888,
              "#fdca26"
             ],
             [
              1,
              "#f0f921"
             ]
            ],
            "type": "histogram2dcontour"
           }
          ],
          "mesh3d": [
           {
            "colorbar": {
             "outlinewidth": 0,
             "ticks": ""
            },
            "type": "mesh3d"
           }
          ],
          "parcoords": [
           {
            "line": {
             "colorbar": {
              "outlinewidth": 0,
              "ticks": ""
             }
            },
            "type": "parcoords"
           }
          ],
          "pie": [
           {
            "automargin": true,
            "type": "pie"
           }
          ],
          "scatter": [
           {
            "marker": {
             "colorbar": {
              "outlinewidth": 0,
              "ticks": ""
             }
            },
            "type": "scatter"
           }
          ],
          "scatter3d": [
           {
            "line": {
             "colorbar": {
              "outlinewidth": 0,
              "ticks": ""
             }
            },
            "marker": {
             "colorbar": {
              "outlinewidth": 0,
              "ticks": ""
             }
            },
            "type": "scatter3d"
           }
          ],
          "scattercarpet": [
           {
            "marker": {
             "colorbar": {
              "outlinewidth": 0,
              "ticks": ""
             }
            },
            "type": "scattercarpet"
           }
          ],
          "scattergeo": [
           {
            "marker": {
             "colorbar": {
              "outlinewidth": 0,
              "ticks": ""
             }
            },
            "type": "scattergeo"
           }
          ],
          "scattergl": [
           {
            "marker": {
             "colorbar": {
              "outlinewidth": 0,
              "ticks": ""
             }
            },
            "type": "scattergl"
           }
          ],
          "scattermapbox": [
           {
            "marker": {
             "colorbar": {
              "outlinewidth": 0,
              "ticks": ""
             }
            },
            "type": "scattermapbox"
           }
          ],
          "scatterpolar": [
           {
            "marker": {
             "colorbar": {
              "outlinewidth": 0,
              "ticks": ""
             }
            },
            "type": "scatterpolar"
           }
          ],
          "scatterpolargl": [
           {
            "marker": {
             "colorbar": {
              "outlinewidth": 0,
              "ticks": ""
             }
            },
            "type": "scatterpolargl"
           }
          ],
          "scatterternary": [
           {
            "marker": {
             "colorbar": {
              "outlinewidth": 0,
              "ticks": ""
             }
            },
            "type": "scatterternary"
           }
          ],
          "surface": [
           {
            "colorbar": {
             "outlinewidth": 0,
             "ticks": ""
            },
            "colorscale": [
             [
              0,
              "#0d0887"
             ],
             [
              0.1111111111111111,
              "#46039f"
             ],
             [
              0.2222222222222222,
              "#7201a8"
             ],
             [
              0.3333333333333333,
              "#9c179e"
             ],
             [
              0.4444444444444444,
              "#bd3786"
             ],
             [
              0.5555555555555556,
              "#d8576b"
             ],
             [
              0.6666666666666666,
              "#ed7953"
             ],
             [
              0.7777777777777778,
              "#fb9f3a"
             ],
             [
              0.8888888888888888,
              "#fdca26"
             ],
             [
              1,
              "#f0f921"
             ]
            ],
            "type": "surface"
           }
          ],
          "table": [
           {
            "cells": {
             "fill": {
              "color": "#EBF0F8"
             },
             "line": {
              "color": "white"
             }
            },
            "header": {
             "fill": {
              "color": "#C8D4E3"
             },
             "line": {
              "color": "white"
             }
            },
            "type": "table"
           }
          ]
         },
         "layout": {
          "annotationdefaults": {
           "arrowcolor": "#2a3f5f",
           "arrowhead": 0,
           "arrowwidth": 1
          },
          "coloraxis": {
           "colorbar": {
            "outlinewidth": 0,
            "ticks": ""
           }
          },
          "colorscale": {
           "diverging": [
            [
             0,
             "#8e0152"
            ],
            [
             0.1,
             "#c51b7d"
            ],
            [
             0.2,
             "#de77ae"
            ],
            [
             0.3,
             "#f1b6da"
            ],
            [
             0.4,
             "#fde0ef"
            ],
            [
             0.5,
             "#f7f7f7"
            ],
            [
             0.6,
             "#e6f5d0"
            ],
            [
             0.7,
             "#b8e186"
            ],
            [
             0.8,
             "#7fbc41"
            ],
            [
             0.9,
             "#4d9221"
            ],
            [
             1,
             "#276419"
            ]
           ],
           "sequential": [
            [
             0,
             "#0d0887"
            ],
            [
             0.1111111111111111,
             "#46039f"
            ],
            [
             0.2222222222222222,
             "#7201a8"
            ],
            [
             0.3333333333333333,
             "#9c179e"
            ],
            [
             0.4444444444444444,
             "#bd3786"
            ],
            [
             0.5555555555555556,
             "#d8576b"
            ],
            [
             0.6666666666666666,
             "#ed7953"
            ],
            [
             0.7777777777777778,
             "#fb9f3a"
            ],
            [
             0.8888888888888888,
             "#fdca26"
            ],
            [
             1,
             "#f0f921"
            ]
           ],
           "sequentialminus": [
            [
             0,
             "#0d0887"
            ],
            [
             0.1111111111111111,
             "#46039f"
            ],
            [
             0.2222222222222222,
             "#7201a8"
            ],
            [
             0.3333333333333333,
             "#9c179e"
            ],
            [
             0.4444444444444444,
             "#bd3786"
            ],
            [
             0.5555555555555556,
             "#d8576b"
            ],
            [
             0.6666666666666666,
             "#ed7953"
            ],
            [
             0.7777777777777778,
             "#fb9f3a"
            ],
            [
             0.8888888888888888,
             "#fdca26"
            ],
            [
             1,
             "#f0f921"
            ]
           ]
          },
          "colorway": [
           "#636efa",
           "#EF553B",
           "#00cc96",
           "#ab63fa",
           "#FFA15A",
           "#19d3f3",
           "#FF6692",
           "#B6E880",
           "#FF97FF",
           "#FECB52"
          ],
          "font": {
           "color": "#2a3f5f"
          },
          "geo": {
           "bgcolor": "white",
           "lakecolor": "white",
           "landcolor": "#E5ECF6",
           "showlakes": true,
           "showland": true,
           "subunitcolor": "white"
          },
          "hoverlabel": {
           "align": "left"
          },
          "hovermode": "closest",
          "mapbox": {
           "style": "light"
          },
          "paper_bgcolor": "white",
          "plot_bgcolor": "#E5ECF6",
          "polar": {
           "angularaxis": {
            "gridcolor": "white",
            "linecolor": "white",
            "ticks": ""
           },
           "bgcolor": "#E5ECF6",
           "radialaxis": {
            "gridcolor": "white",
            "linecolor": "white",
            "ticks": ""
           }
          },
          "scene": {
           "xaxis": {
            "backgroundcolor": "#E5ECF6",
            "gridcolor": "white",
            "gridwidth": 2,
            "linecolor": "white",
            "showbackground": true,
            "ticks": "",
            "zerolinecolor": "white"
           },
           "yaxis": {
            "backgroundcolor": "#E5ECF6",
            "gridcolor": "white",
            "gridwidth": 2,
            "linecolor": "white",
            "showbackground": true,
            "ticks": "",
            "zerolinecolor": "white"
           },
           "zaxis": {
            "backgroundcolor": "#E5ECF6",
            "gridcolor": "white",
            "gridwidth": 2,
            "linecolor": "white",
            "showbackground": true,
            "ticks": "",
            "zerolinecolor": "white"
           }
          },
          "shapedefaults": {
           "line": {
            "color": "#2a3f5f"
           }
          },
          "ternary": {
           "aaxis": {
            "gridcolor": "white",
            "linecolor": "white",
            "ticks": ""
           },
           "baxis": {
            "gridcolor": "white",
            "linecolor": "white",
            "ticks": ""
           },
           "bgcolor": "#E5ECF6",
           "caxis": {
            "gridcolor": "white",
            "linecolor": "white",
            "ticks": ""
           }
          },
          "title": {
           "x": 0.05
          },
          "xaxis": {
           "automargin": true,
           "gridcolor": "white",
           "linecolor": "white",
           "ticks": "",
           "title": {
            "standoff": 15
           },
           "zerolinecolor": "white",
           "zerolinewidth": 2
          },
          "yaxis": {
           "automargin": true,
           "gridcolor": "white",
           "linecolor": "white",
           "ticks": "",
           "title": {
            "standoff": 15
           },
           "zerolinecolor": "white",
           "zerolinewidth": 2
          }
         }
        },
        "xaxis": {
         "anchor": "y",
         "domain": [
          0,
          1
         ],
         "title": {
          "text": "x"
         }
        },
        "yaxis": {
         "anchor": "x",
         "domain": [
          0,
          1
         ],
         "title": {
          "text": "y"
         }
        }
       }
      },
      "text/html": [
       "<div>\n",
       "        \n",
       "        \n",
       "            <div id=\"380a887f-4aa6-4c38-939f-fcebd86994d8\" class=\"plotly-graph-div\" style=\"height:525px; width:100%;\"></div>\n",
       "            <script type=\"text/javascript\">\n",
       "                require([\"plotly\"], function(Plotly) {\n",
       "                    window.PLOTLYENV=window.PLOTLYENV || {};\n",
       "                    \n",
       "                if (document.getElementById(\"380a887f-4aa6-4c38-939f-fcebd86994d8\")) {\n",
       "                    Plotly.newPlot(\n",
       "                        '380a887f-4aa6-4c38-939f-fcebd86994d8',\n",
       "                        [{\"alignmentgroup\": \"True\", \"hovertemplate\": \"color=city<br>x=%{x}<br>y=%{y}<extra></extra>\", \"legendgroup\": \"city\", \"marker\": {\"color\": \"#636efa\"}, \"name\": \"city\", \"offsetgroup\": \"city\", \"orientation\": \"v\", \"showlegend\": true, \"textposition\": \"auto\", \"type\": \"bar\", \"x\": [\"city\"], \"xaxis\": \"x\", \"y\": [26], \"yaxis\": \"y\"}, {\"alignmentgroup\": \"True\", \"hovertemplate\": \"color=corolla altis<br>x=%{x}<br>y=%{y}<extra></extra>\", \"legendgroup\": \"corolla altis\", \"marker\": {\"color\": \"#EF553B\"}, \"name\": \"corolla altis\", \"offsetgroup\": \"corolla altis\", \"orientation\": \"v\", \"showlegend\": true, \"textposition\": \"auto\", \"type\": \"bar\", \"x\": [\"corolla altis\"], \"xaxis\": \"x\", \"y\": [16], \"yaxis\": \"y\"}, {\"alignmentgroup\": \"True\", \"hovertemplate\": \"color=verna<br>x=%{x}<br>y=%{y}<extra></extra>\", \"legendgroup\": \"verna\", \"marker\": {\"color\": \"#00cc96\"}, \"name\": \"verna\", \"offsetgroup\": \"verna\", \"orientation\": \"v\", \"showlegend\": true, \"textposition\": \"auto\", \"type\": \"bar\", \"x\": [\"verna\"], \"xaxis\": \"x\", \"y\": [14], \"yaxis\": \"y\"}, {\"alignmentgroup\": \"True\", \"hovertemplate\": \"color=fortuner<br>x=%{x}<br>y=%{y}<extra></extra>\", \"legendgroup\": \"fortuner\", \"marker\": {\"color\": \"#ab63fa\"}, \"name\": \"fortuner\", \"offsetgroup\": \"fortuner\", \"orientation\": \"v\", \"showlegend\": true, \"textposition\": \"auto\", \"type\": \"bar\", \"x\": [\"fortuner\"], \"xaxis\": \"x\", \"y\": [11], \"yaxis\": \"y\"}, {\"alignmentgroup\": \"True\", \"hovertemplate\": \"color=brio<br>x=%{x}<br>y=%{y}<extra></extra>\", \"legendgroup\": \"brio\", \"marker\": {\"color\": \"#FFA15A\"}, \"name\": \"brio\", \"offsetgroup\": \"brio\", \"orientation\": \"v\", \"showlegend\": true, \"textposition\": \"auto\", \"type\": \"bar\", \"x\": [\"brio\"], \"xaxis\": \"x\", \"y\": [10], \"yaxis\": \"y\"}, {\"alignmentgroup\": \"True\", \"hovertemplate\": \"color=innova<br>x=%{x}<br>y=%{y}<extra></extra>\", \"legendgroup\": \"innova\", \"marker\": {\"color\": \"#19d3f3\"}, \"name\": \"innova\", \"offsetgroup\": \"innova\", \"orientation\": \"v\", \"showlegend\": true, \"textposition\": \"auto\", \"type\": \"bar\", \"x\": [\"innova\"], \"xaxis\": \"x\", \"y\": [9], \"yaxis\": \"y\"}, {\"alignmentgroup\": \"True\", \"hovertemplate\": \"color=ciaz<br>x=%{x}<br>y=%{y}<extra></extra>\", \"legendgroup\": \"ciaz\", \"marker\": {\"color\": \"#FF6692\"}, \"name\": \"ciaz\", \"offsetgroup\": \"ciaz\", \"orientation\": \"v\", \"showlegend\": true, \"textposition\": \"auto\", \"type\": \"bar\", \"x\": [\"ciaz\"], \"xaxis\": \"x\", \"y\": [9], \"yaxis\": \"y\"}, {\"alignmentgroup\": \"True\", \"hovertemplate\": \"color=i20<br>x=%{x}<br>y=%{y}<extra></extra>\", \"legendgroup\": \"i20\", \"marker\": {\"color\": \"#B6E880\"}, \"name\": \"i20\", \"offsetgroup\": \"i20\", \"orientation\": \"v\", \"showlegend\": true, \"textposition\": \"auto\", \"type\": \"bar\", \"x\": [\"i20\"], \"xaxis\": \"x\", \"y\": [9], \"yaxis\": \"y\"}, {\"alignmentgroup\": \"True\", \"hovertemplate\": \"color=grand i10<br>x=%{x}<br>y=%{y}<extra></extra>\", \"legendgroup\": \"grand i10\", \"marker\": {\"color\": \"#FF97FF\"}, \"name\": \"grand i10\", \"offsetgroup\": \"grand i10\", \"orientation\": \"v\", \"showlegend\": true, \"textposition\": \"auto\", \"type\": \"bar\", \"x\": [\"grand i10\"], \"xaxis\": \"x\", \"y\": [8], \"yaxis\": \"y\"}, {\"alignmentgroup\": \"True\", \"hovertemplate\": \"color=amaze<br>x=%{x}<br>y=%{y}<extra></extra>\", \"legendgroup\": \"amaze\", \"marker\": {\"color\": \"#FECB52\"}, \"name\": \"amaze\", \"offsetgroup\": \"amaze\", \"orientation\": \"v\", \"showlegend\": true, \"textposition\": \"auto\", \"type\": \"bar\", \"x\": [\"amaze\"], \"xaxis\": \"x\", \"y\": [7], \"yaxis\": \"y\"}, {\"alignmentgroup\": \"True\", \"hovertemplate\": \"color=jazz<br>x=%{x}<br>y=%{y}<extra></extra>\", \"legendgroup\": \"jazz\", \"marker\": {\"color\": \"#636efa\"}, \"name\": \"jazz\", \"offsetgroup\": \"jazz\", \"orientation\": \"v\", \"showlegend\": true, \"textposition\": \"auto\", \"type\": \"bar\", \"x\": [\"jazz\"], \"xaxis\": \"x\", \"y\": [7], \"yaxis\": \"y\"}, {\"alignmentgroup\": \"True\", \"hovertemplate\": \"color=Royal Enfield Classic 350<br>x=%{x}<br>y=%{y}<extra></extra>\", \"legendgroup\": \"Royal Enfield Classic 350\", \"marker\": {\"color\": \"#EF553B\"}, \"name\": \"Royal Enfield Classic 350\", \"offsetgroup\": \"Royal Enfield Classic 350\", \"orientation\": \"v\", \"showlegend\": true, \"textposition\": \"auto\", \"type\": \"bar\", \"x\": [\"Royal Enfield Classic 350\"], \"xaxis\": \"x\", \"y\": [7], \"yaxis\": \"y\"}, {\"alignmentgroup\": \"True\", \"hovertemplate\": \"color=sx4<br>x=%{x}<br>y=%{y}<extra></extra>\", \"legendgroup\": \"sx4\", \"marker\": {\"color\": \"#00cc96\"}, \"name\": \"sx4\", \"offsetgroup\": \"sx4\", \"orientation\": \"v\", \"showlegend\": true, \"textposition\": \"auto\", \"type\": \"bar\", \"x\": [\"sx4\"], \"xaxis\": \"x\", \"y\": [6], \"yaxis\": \"y\"}, {\"alignmentgroup\": \"True\", \"hovertemplate\": \"color=ertiga<br>x=%{x}<br>y=%{y}<extra></extra>\", \"legendgroup\": \"ertiga\", \"marker\": {\"color\": \"#ab63fa\"}, \"name\": \"ertiga\", \"offsetgroup\": \"ertiga\", \"orientation\": \"v\", \"showlegend\": true, \"textposition\": \"auto\", \"type\": \"bar\", \"x\": [\"ertiga\"], \"xaxis\": \"x\", \"y\": [6], \"yaxis\": \"y\"}, {\"alignmentgroup\": \"True\", \"hovertemplate\": \"color=eon<br>x=%{x}<br>y=%{y}<extra></extra>\", \"legendgroup\": \"eon\", \"marker\": {\"color\": \"#FFA15A\"}, \"name\": \"eon\", \"offsetgroup\": \"eon\", \"orientation\": \"v\", \"showlegend\": true, \"textposition\": \"auto\", \"type\": \"bar\", \"x\": [\"eon\"], \"xaxis\": \"x\", \"y\": [6], \"yaxis\": \"y\"}, {\"alignmentgroup\": \"True\", \"hovertemplate\": \"color=i10<br>x=%{x}<br>y=%{y}<extra></extra>\", \"legendgroup\": \"i10\", \"marker\": {\"color\": \"#19d3f3\"}, \"name\": \"i10\", \"offsetgroup\": \"i10\", \"orientation\": \"v\", \"showlegend\": true, \"textposition\": \"auto\", \"type\": \"bar\", \"x\": [\"i10\"], \"xaxis\": \"x\", \"y\": [5], \"yaxis\": \"y\"}, {\"alignmentgroup\": \"True\", \"hovertemplate\": \"color=alto k10<br>x=%{x}<br>y=%{y}<extra></extra>\", \"legendgroup\": \"alto k10\", \"marker\": {\"color\": \"#FF6692\"}, \"name\": \"alto k10\", \"offsetgroup\": \"alto k10\", \"orientation\": \"v\", \"showlegend\": true, \"textposition\": \"auto\", \"type\": \"bar\", \"x\": [\"alto k10\"], \"xaxis\": \"x\", \"y\": [5], \"yaxis\": \"y\"}, {\"alignmentgroup\": \"True\", \"hovertemplate\": \"color=swift<br>x=%{x}<br>y=%{y}<extra></extra>\", \"legendgroup\": \"swift\", \"marker\": {\"color\": \"#B6E880\"}, \"name\": \"swift\", \"offsetgroup\": \"swift\", \"orientation\": \"v\", \"showlegend\": true, \"textposition\": \"auto\", \"type\": \"bar\", \"x\": [\"swift\"], \"xaxis\": \"x\", \"y\": [5], \"yaxis\": \"y\"}, {\"alignmentgroup\": \"True\", \"hovertemplate\": \"color=ritz<br>x=%{x}<br>y=%{y}<extra></extra>\", \"legendgroup\": \"ritz\", \"marker\": {\"color\": \"#FF97FF\"}, \"name\": \"ritz\", \"offsetgroup\": \"ritz\", \"orientation\": \"v\", \"showlegend\": true, \"textposition\": \"auto\", \"type\": \"bar\", \"x\": [\"ritz\"], \"xaxis\": \"x\", \"y\": [4], \"yaxis\": \"y\"}, {\"alignmentgroup\": \"True\", \"hovertemplate\": \"color=wagon r<br>x=%{x}<br>y=%{y}<extra></extra>\", \"legendgroup\": \"wagon r\", \"marker\": {\"color\": \"#FECB52\"}, \"name\": \"wagon r\", \"offsetgroup\": \"wagon r\", \"orientation\": \"v\", \"showlegend\": true, \"textposition\": \"auto\", \"type\": \"bar\", \"x\": [\"wagon r\"], \"xaxis\": \"x\", \"y\": [4], \"yaxis\": \"y\"}, {\"alignmentgroup\": \"True\", \"hovertemplate\": \"color=dzire<br>x=%{x}<br>y=%{y}<extra></extra>\", \"legendgroup\": \"dzire\", \"marker\": {\"color\": \"#636efa\"}, \"name\": \"dzire\", \"offsetgroup\": \"dzire\", \"orientation\": \"v\", \"showlegend\": true, \"textposition\": \"auto\", \"type\": \"bar\", \"x\": [\"dzire\"], \"xaxis\": \"x\", \"y\": [4], \"yaxis\": \"y\"}, {\"alignmentgroup\": \"True\", \"hovertemplate\": \"color=Bajaj Pulsar 150<br>x=%{x}<br>y=%{y}<extra></extra>\", \"legendgroup\": \"Bajaj Pulsar 150\", \"marker\": {\"color\": \"#EF553B\"}, \"name\": \"Bajaj Pulsar 150\", \"offsetgroup\": \"Bajaj Pulsar 150\", \"orientation\": \"v\", \"showlegend\": true, \"textposition\": \"auto\", \"type\": \"bar\", \"x\": [\"Bajaj Pulsar 150\"], \"xaxis\": \"x\", \"y\": [4], \"yaxis\": \"y\"}, {\"alignmentgroup\": \"True\", \"hovertemplate\": \"color=etios liva<br>x=%{x}<br>y=%{y}<extra></extra>\", \"legendgroup\": \"etios liva\", \"marker\": {\"color\": \"#00cc96\"}, \"name\": \"etios liva\", \"offsetgroup\": \"etios liva\", \"orientation\": \"v\", \"showlegend\": true, \"textposition\": \"auto\", \"type\": \"bar\", \"x\": [\"etios liva\"], \"xaxis\": \"x\", \"y\": [4], \"yaxis\": \"y\"}, {\"alignmentgroup\": \"True\", \"hovertemplate\": \"color=Royal Enfield Thunder 350<br>x=%{x}<br>y=%{y}<extra></extra>\", \"legendgroup\": \"Royal Enfield Thunder 350\", \"marker\": {\"color\": \"#ab63fa\"}, \"name\": \"Royal Enfield Thunder 350\", \"offsetgroup\": \"Royal Enfield Thunder 350\", \"orientation\": \"v\", \"showlegend\": true, \"textposition\": \"auto\", \"type\": \"bar\", \"x\": [\"Royal Enfield Thunder 350\"], \"xaxis\": \"x\", \"y\": [4], \"yaxis\": \"y\"}, {\"alignmentgroup\": \"True\", \"hovertemplate\": \"color=Bajaj Avenger 220<br>x=%{x}<br>y=%{y}<extra></extra>\", \"legendgroup\": \"Bajaj Avenger 220\", \"marker\": {\"color\": \"#FFA15A\"}, \"name\": \"Bajaj Avenger 220\", \"offsetgroup\": \"Bajaj Avenger 220\", \"orientation\": \"v\", \"showlegend\": true, \"textposition\": \"auto\", \"type\": \"bar\", \"x\": [\"Bajaj Avenger 220\"], \"xaxis\": \"x\", \"y\": [3], \"yaxis\": \"y\"}, {\"alignmentgroup\": \"True\", \"hovertemplate\": \"color=Honda CB Hornet 160R<br>x=%{x}<br>y=%{y}<extra></extra>\", \"legendgroup\": \"Honda CB Hornet 160R\", \"marker\": {\"color\": \"#19d3f3\"}, \"name\": \"Honda CB Hornet 160R\", \"offsetgroup\": \"Honda CB Hornet 160R\", \"orientation\": \"v\", \"showlegend\": true, \"textposition\": \"auto\", \"type\": \"bar\", \"x\": [\"Honda CB Hornet 160R\"], \"xaxis\": \"x\", \"y\": [3], \"yaxis\": \"y\"}, {\"alignmentgroup\": \"True\", \"hovertemplate\": \"color=Bajaj Pulsar NS 200<br>x=%{x}<br>y=%{y}<extra></extra>\", \"legendgroup\": \"Bajaj Pulsar NS 200\", \"marker\": {\"color\": \"#FF6692\"}, \"name\": \"Bajaj Pulsar NS 200\", \"offsetgroup\": \"Bajaj Pulsar NS 200\", \"orientation\": \"v\", \"showlegend\": true, \"textposition\": \"auto\", \"type\": \"bar\", \"x\": [\"Bajaj Pulsar NS 200\"], \"xaxis\": \"x\", \"y\": [3], \"yaxis\": \"y\"}, {\"alignmentgroup\": \"True\", \"hovertemplate\": \"color=etios g<br>x=%{x}<br>y=%{y}<extra></extra>\", \"legendgroup\": \"etios g\", \"marker\": {\"color\": \"#B6E880\"}, \"name\": \"etios g\", \"offsetgroup\": \"etios g\", \"orientation\": \"v\", \"showlegend\": true, \"textposition\": \"auto\", \"type\": \"bar\", \"x\": [\"etios g\"], \"xaxis\": \"x\", \"y\": [3], \"yaxis\": \"y\"}, {\"alignmentgroup\": \"True\", \"hovertemplate\": \"color=creta<br>x=%{x}<br>y=%{y}<extra></extra>\", \"legendgroup\": \"creta\", \"marker\": {\"color\": \"#FF97FF\"}, \"name\": \"creta\", \"offsetgroup\": \"creta\", \"orientation\": \"v\", \"showlegend\": true, \"textposition\": \"auto\", \"type\": \"bar\", \"x\": [\"creta\"], \"xaxis\": \"x\", \"y\": [3], \"yaxis\": \"y\"}, {\"alignmentgroup\": \"True\", \"hovertemplate\": \"color=etios cross<br>x=%{x}<br>y=%{y}<extra></extra>\", \"legendgroup\": \"etios cross\", \"marker\": {\"color\": \"#FECB52\"}, \"name\": \"etios cross\", \"offsetgroup\": \"etios cross\", \"orientation\": \"v\", \"showlegend\": true, \"textposition\": \"auto\", \"type\": \"bar\", \"x\": [\"etios cross\"], \"xaxis\": \"x\", \"y\": [3], \"yaxis\": \"y\"}, {\"alignmentgroup\": \"True\", \"hovertemplate\": \"color=xcent<br>x=%{x}<br>y=%{y}<extra></extra>\", \"legendgroup\": \"xcent\", \"marker\": {\"color\": \"#636efa\"}, \"name\": \"xcent\", \"offsetgroup\": \"xcent\", \"orientation\": \"v\", \"showlegend\": true, \"textposition\": \"auto\", \"type\": \"bar\", \"x\": [\"xcent\"], \"xaxis\": \"x\", \"y\": [3], \"yaxis\": \"y\"}, {\"alignmentgroup\": \"True\", \"hovertemplate\": \"color=TVS Apache RTR 160<br>x=%{x}<br>y=%{y}<extra></extra>\", \"legendgroup\": \"TVS Apache RTR 160\", \"marker\": {\"color\": \"#EF553B\"}, \"name\": \"TVS Apache RTR 160\", \"offsetgroup\": \"TVS Apache RTR 160\", \"orientation\": \"v\", \"showlegend\": true, \"textposition\": \"auto\", \"type\": \"bar\", \"x\": [\"TVS Apache RTR 160\"], \"xaxis\": \"x\", \"y\": [3], \"yaxis\": \"y\"}, {\"alignmentgroup\": \"True\", \"hovertemplate\": \"color=Royal Enfield Thunder 500<br>x=%{x}<br>y=%{y}<extra></extra>\", \"legendgroup\": \"Royal Enfield Thunder 500\", \"marker\": {\"color\": \"#00cc96\"}, \"name\": \"Royal Enfield Thunder 500\", \"offsetgroup\": \"Royal Enfield Thunder 500\", \"orientation\": \"v\", \"showlegend\": true, \"textposition\": \"auto\", \"type\": \"bar\", \"x\": [\"Royal Enfield Thunder 500\"], \"xaxis\": \"x\", \"y\": [3], \"yaxis\": \"y\"}, {\"alignmentgroup\": \"True\", \"hovertemplate\": \"color=Yamaha FZ S V 2.0<br>x=%{x}<br>y=%{y}<extra></extra>\", \"legendgroup\": \"Yamaha FZ S V 2.0\", \"marker\": {\"color\": \"#ab63fa\"}, \"name\": \"Yamaha FZ S V 2.0\", \"offsetgroup\": \"Yamaha FZ S V 2.0\", \"orientation\": \"v\", \"showlegend\": true, \"textposition\": \"auto\", \"type\": \"bar\", \"x\": [\"Yamaha FZ S V 2.0\"], \"xaxis\": \"x\", \"y\": [3], \"yaxis\": \"y\"}, {\"alignmentgroup\": \"True\", \"hovertemplate\": \"color=Yamaha FZ  v 2.0<br>x=%{x}<br>y=%{y}<extra></extra>\", \"legendgroup\": \"Yamaha FZ  v 2.0\", \"marker\": {\"color\": \"#FFA15A\"}, \"name\": \"Yamaha FZ  v 2.0\", \"offsetgroup\": \"Yamaha FZ  v 2.0\", \"orientation\": \"v\", \"showlegend\": true, \"textposition\": \"auto\", \"type\": \"bar\", \"x\": [\"Yamaha FZ  v 2.0\"], \"xaxis\": \"x\", \"y\": [2], \"yaxis\": \"y\"}, {\"alignmentgroup\": \"True\", \"hovertemplate\": \"color=Bajaj Avenger 220 dtsi<br>x=%{x}<br>y=%{y}<extra></extra>\", \"legendgroup\": \"Bajaj Avenger 220 dtsi\", \"marker\": {\"color\": \"#19d3f3\"}, \"name\": \"Bajaj Avenger 220 dtsi\", \"offsetgroup\": \"Bajaj Avenger 220 dtsi\", \"orientation\": \"v\", \"showlegend\": true, \"textposition\": \"auto\", \"type\": \"bar\", \"x\": [\"Bajaj Avenger 220 dtsi\"], \"xaxis\": \"x\", \"y\": [2], \"yaxis\": \"y\"}, {\"alignmentgroup\": \"True\", \"hovertemplate\": \"color=TVS Apache RTR 180<br>x=%{x}<br>y=%{y}<extra></extra>\", \"legendgroup\": \"TVS Apache RTR 180\", \"marker\": {\"color\": \"#FF6692\"}, \"name\": \"TVS Apache RTR 180\", \"offsetgroup\": \"TVS Apache RTR 180\", \"orientation\": \"v\", \"showlegend\": true, \"textposition\": \"auto\", \"type\": \"bar\", \"x\": [\"TVS Apache RTR 180\"], \"xaxis\": \"x\", \"y\": [2], \"yaxis\": \"y\"}, {\"alignmentgroup\": \"True\", \"hovertemplate\": \"color=Honda CB twister<br>x=%{x}<br>y=%{y}<extra></extra>\", \"legendgroup\": \"Honda CB twister\", \"marker\": {\"color\": \"#B6E880\"}, \"name\": \"Honda CB twister\", \"offsetgroup\": \"Honda CB twister\", \"orientation\": \"v\", \"showlegend\": true, \"textposition\": \"auto\", \"type\": \"bar\", \"x\": [\"Honda CB twister\"], \"xaxis\": \"x\", \"y\": [2], \"yaxis\": \"y\"}, {\"alignmentgroup\": \"True\", \"hovertemplate\": \"color=Bajaj Discover 125<br>x=%{x}<br>y=%{y}<extra></extra>\", \"legendgroup\": \"Bajaj Discover 125\", \"marker\": {\"color\": \"#FF97FF\"}, \"name\": \"Bajaj Discover 125\", \"offsetgroup\": \"Bajaj Discover 125\", \"orientation\": \"v\", \"showlegend\": true, \"textposition\": \"auto\", \"type\": \"bar\", \"x\": [\"Bajaj Discover 125\"], \"xaxis\": \"x\", \"y\": [2], \"yaxis\": \"y\"}, {\"alignmentgroup\": \"True\", \"hovertemplate\": \"color=Hero Splender iSmart<br>x=%{x}<br>y=%{y}<extra></extra>\", \"legendgroup\": \"Hero Splender iSmart\", \"marker\": {\"color\": \"#FECB52\"}, \"name\": \"Hero Splender iSmart\", \"offsetgroup\": \"Hero Splender iSmart\", \"orientation\": \"v\", \"showlegend\": true, \"textposition\": \"auto\", \"type\": \"bar\", \"x\": [\"Hero Splender iSmart\"], \"xaxis\": \"x\", \"y\": [2], \"yaxis\": \"y\"}, {\"alignmentgroup\": \"True\", \"hovertemplate\": \"color=Honda Karizma<br>x=%{x}<br>y=%{y}<extra></extra>\", \"legendgroup\": \"Honda Karizma\", \"marker\": {\"color\": \"#636efa\"}, \"name\": \"Honda Karizma\", \"offsetgroup\": \"Honda Karizma\", \"orientation\": \"v\", \"showlegend\": true, \"textposition\": \"auto\", \"type\": \"bar\", \"x\": [\"Honda Karizma\"], \"xaxis\": \"x\", \"y\": [2], \"yaxis\": \"y\"}, {\"alignmentgroup\": \"True\", \"hovertemplate\": \"color=Honda CBR 150<br>x=%{x}<br>y=%{y}<extra></extra>\", \"legendgroup\": \"Honda CBR 150\", \"marker\": {\"color\": \"#EF553B\"}, \"name\": \"Honda CBR 150\", \"offsetgroup\": \"Honda CBR 150\", \"orientation\": \"v\", \"showlegend\": true, \"textposition\": \"auto\", \"type\": \"bar\", \"x\": [\"Honda CBR 150\"], \"xaxis\": \"x\", \"y\": [2], \"yaxis\": \"y\"}, {\"alignmentgroup\": \"True\", \"hovertemplate\": \"color=Honda CB Shine<br>x=%{x}<br>y=%{y}<extra></extra>\", \"legendgroup\": \"Honda CB Shine\", \"marker\": {\"color\": \"#00cc96\"}, \"name\": \"Honda CB Shine\", \"offsetgroup\": \"Honda CB Shine\", \"orientation\": \"v\", \"showlegend\": true, \"textposition\": \"auto\", \"type\": \"bar\", \"x\": [\"Honda CB Shine\"], \"xaxis\": \"x\", \"y\": [2], \"yaxis\": \"y\"}, {\"alignmentgroup\": \"True\", \"hovertemplate\": \"color=Hero Passion Pro<br>x=%{x}<br>y=%{y}<extra></extra>\", \"legendgroup\": \"Hero Passion Pro\", \"marker\": {\"color\": \"#ab63fa\"}, \"name\": \"Hero Passion Pro\", \"offsetgroup\": \"Hero Passion Pro\", \"orientation\": \"v\", \"showlegend\": true, \"textposition\": \"auto\", \"type\": \"bar\", \"x\": [\"Hero Passion Pro\"], \"xaxis\": \"x\", \"y\": [2], \"yaxis\": \"y\"}, {\"alignmentgroup\": \"True\", \"hovertemplate\": \"color=Hero Extreme<br>x=%{x}<br>y=%{y}<extra></extra>\", \"legendgroup\": \"Hero Extreme\", \"marker\": {\"color\": \"#FFA15A\"}, \"name\": \"Hero Extreme\", \"offsetgroup\": \"Hero Extreme\", \"orientation\": \"v\", \"showlegend\": true, \"textposition\": \"auto\", \"type\": \"bar\", \"x\": [\"Hero Extreme\"], \"xaxis\": \"x\", \"y\": [2], \"yaxis\": \"y\"}, {\"alignmentgroup\": \"True\", \"hovertemplate\": \"color=elantra<br>x=%{x}<br>y=%{y}<extra></extra>\", \"legendgroup\": \"elantra\", \"marker\": {\"color\": \"#19d3f3\"}, \"name\": \"elantra\", \"offsetgroup\": \"elantra\", \"orientation\": \"v\", \"showlegend\": true, \"textposition\": \"auto\", \"type\": \"bar\", \"x\": [\"elantra\"], \"xaxis\": \"x\", \"y\": [2], \"yaxis\": \"y\"}, {\"alignmentgroup\": \"True\", \"hovertemplate\": \"color=Honda Activa 4G<br>x=%{x}<br>y=%{y}<extra></extra>\", \"legendgroup\": \"Honda Activa 4G\", \"marker\": {\"color\": \"#FF6692\"}, \"name\": \"Honda Activa 4G\", \"offsetgroup\": \"Honda Activa 4G\", \"orientation\": \"v\", \"showlegend\": true, \"textposition\": \"auto\", \"type\": \"bar\", \"x\": [\"Honda Activa 4G\"], \"xaxis\": \"x\", \"y\": [2], \"yaxis\": \"y\"}, {\"alignmentgroup\": \"True\", \"hovertemplate\": \"color=Royal Enfield Classic 500<br>x=%{x}<br>y=%{y}<extra></extra>\", \"legendgroup\": \"Royal Enfield Classic 500\", \"marker\": {\"color\": \"#B6E880\"}, \"name\": \"Royal Enfield Classic 500\", \"offsetgroup\": \"Royal Enfield Classic 500\", \"orientation\": \"v\", \"showlegend\": true, \"textposition\": \"auto\", \"type\": \"bar\", \"x\": [\"Royal Enfield Classic 500\"], \"xaxis\": \"x\", \"y\": [2], \"yaxis\": \"y\"}, {\"alignmentgroup\": \"True\", \"hovertemplate\": \"color=Activa 3g<br>x=%{x}<br>y=%{y}<extra></extra>\", \"legendgroup\": \"Activa 3g\", \"marker\": {\"color\": \"#FF97FF\"}, \"name\": \"Activa 3g\", \"offsetgroup\": \"Activa 3g\", \"orientation\": \"v\", \"showlegend\": true, \"textposition\": \"auto\", \"type\": \"bar\", \"x\": [\"Activa 3g\"], \"xaxis\": \"x\", \"y\": [2], \"yaxis\": \"y\"}, {\"alignmentgroup\": \"True\", \"hovertemplate\": \"color=Bajaj Pulsar 220 F<br>x=%{x}<br>y=%{y}<extra></extra>\", \"legendgroup\": \"Bajaj Pulsar 220 F\", \"marker\": {\"color\": \"#FECB52\"}, \"name\": \"Bajaj Pulsar 220 F\", \"offsetgroup\": \"Bajaj Pulsar 220 F\", \"orientation\": \"v\", \"showlegend\": true, \"textposition\": \"auto\", \"type\": \"bar\", \"x\": [\"Bajaj Pulsar 220 F\"], \"xaxis\": \"x\", \"y\": [2], \"yaxis\": \"y\"}, {\"alignmentgroup\": \"True\", \"hovertemplate\": \"color=KTM RC200<br>x=%{x}<br>y=%{y}<extra></extra>\", \"legendgroup\": \"KTM RC200\", \"marker\": {\"color\": \"#636efa\"}, \"name\": \"KTM RC200\", \"offsetgroup\": \"KTM RC200\", \"orientation\": \"v\", \"showlegend\": true, \"textposition\": \"auto\", \"type\": \"bar\", \"x\": [\"KTM RC200\"], \"xaxis\": \"x\", \"y\": [2], \"yaxis\": \"y\"}, {\"alignmentgroup\": \"True\", \"hovertemplate\": \"color=Hero Super Splendor<br>x=%{x}<br>y=%{y}<extra></extra>\", \"legendgroup\": \"Hero Super Splendor\", \"marker\": {\"color\": \"#EF553B\"}, \"name\": \"Hero Super Splendor\", \"offsetgroup\": \"Hero Super Splendor\", \"orientation\": \"v\", \"showlegend\": true, \"textposition\": \"auto\", \"type\": \"bar\", \"x\": [\"Hero Super Splendor\"], \"xaxis\": \"x\", \"y\": [1], \"yaxis\": \"y\"}, {\"alignmentgroup\": \"True\", \"hovertemplate\": \"color=land cruiser<br>x=%{x}<br>y=%{y}<extra></extra>\", \"legendgroup\": \"land cruiser\", \"marker\": {\"color\": \"#00cc96\"}, \"name\": \"land cruiser\", \"offsetgroup\": \"land cruiser\", \"orientation\": \"v\", \"showlegend\": true, \"textposition\": \"auto\", \"type\": \"bar\", \"x\": [\"land cruiser\"], \"xaxis\": \"x\", \"y\": [1], \"yaxis\": \"y\"}, {\"alignmentgroup\": \"True\", \"hovertemplate\": \"color=Honda Dream Yuga <br>x=%{x}<br>y=%{y}<extra></extra>\", \"legendgroup\": \"Honda Dream Yuga \", \"marker\": {\"color\": \"#ab63fa\"}, \"name\": \"Honda Dream Yuga \", \"offsetgroup\": \"Honda Dream Yuga \", \"orientation\": \"v\", \"showlegend\": true, \"textposition\": \"auto\", \"type\": \"bar\", \"x\": [\"Honda Dream Yuga \"], \"xaxis\": \"x\", \"y\": [1], \"yaxis\": \"y\"}, {\"alignmentgroup\": \"True\", \"hovertemplate\": \"color=Bajaj Pulsar  NS 200<br>x=%{x}<br>y=%{y}<extra></extra>\", \"legendgroup\": \"Bajaj Pulsar  NS 200\", \"marker\": {\"color\": \"#FFA15A\"}, \"name\": \"Bajaj Pulsar  NS 200\", \"offsetgroup\": \"Bajaj Pulsar  NS 200\", \"orientation\": \"v\", \"showlegend\": true, \"textposition\": \"auto\", \"type\": \"bar\", \"x\": [\"Bajaj Pulsar  NS 200\"], \"xaxis\": \"x\", \"y\": [1], \"yaxis\": \"y\"}, {\"alignmentgroup\": \"True\", \"hovertemplate\": \"color=s cross<br>x=%{x}<br>y=%{y}<extra></extra>\", \"legendgroup\": \"s cross\", \"marker\": {\"color\": \"#19d3f3\"}, \"name\": \"s cross\", \"offsetgroup\": \"s cross\", \"orientation\": \"v\", \"showlegend\": true, \"textposition\": \"auto\", \"type\": \"bar\", \"x\": [\"s cross\"], \"xaxis\": \"x\", \"y\": [1], \"yaxis\": \"y\"}, {\"alignmentgroup\": \"True\", \"hovertemplate\": \"color=corolla<br>x=%{x}<br>y=%{y}<extra></extra>\", \"legendgroup\": \"corolla\", \"marker\": {\"color\": \"#FF6692\"}, \"name\": \"corolla\", \"offsetgroup\": \"corolla\", \"orientation\": \"v\", \"showlegend\": true, \"textposition\": \"auto\", \"type\": \"bar\", \"x\": [\"corolla\"], \"xaxis\": \"x\", \"y\": [1], \"yaxis\": \"y\"}, {\"alignmentgroup\": \"True\", \"hovertemplate\": \"color=Hero Glamour<br>x=%{x}<br>y=%{y}<extra></extra>\", \"legendgroup\": \"Hero Glamour\", \"marker\": {\"color\": \"#B6E880\"}, \"name\": \"Hero Glamour\", \"offsetgroup\": \"Hero Glamour\", \"orientation\": \"v\", \"showlegend\": true, \"textposition\": \"auto\", \"type\": \"bar\", \"x\": [\"Hero Glamour\"], \"xaxis\": \"x\", \"y\": [1], \"yaxis\": \"y\"}, {\"alignmentgroup\": \"True\", \"hovertemplate\": \"color=camry<br>x=%{x}<br>y=%{y}<extra></extra>\", \"legendgroup\": \"camry\", \"marker\": {\"color\": \"#FF97FF\"}, \"name\": \"camry\", \"offsetgroup\": \"camry\", \"orientation\": \"v\", \"showlegend\": true, \"textposition\": \"auto\", \"type\": \"bar\", \"x\": [\"camry\"], \"xaxis\": \"x\", \"y\": [1], \"yaxis\": \"y\"}, {\"alignmentgroup\": \"True\", \"hovertemplate\": \"color=Bajaj Pulsar RS200<br>x=%{x}<br>y=%{y}<extra></extra>\", \"legendgroup\": \"Bajaj Pulsar RS200\", \"marker\": {\"color\": \"#FECB52\"}, \"name\": \"Bajaj Pulsar RS200\", \"offsetgroup\": \"Bajaj Pulsar RS200\", \"orientation\": \"v\", \"showlegend\": true, \"textposition\": \"auto\", \"type\": \"bar\", \"x\": [\"Bajaj Pulsar RS200\"], \"xaxis\": \"x\", \"y\": [1], \"yaxis\": \"y\"}, {\"alignmentgroup\": \"True\", \"hovertemplate\": \"color=Yamaha FZ S <br>x=%{x}<br>y=%{y}<extra></extra>\", \"legendgroup\": \"Yamaha FZ S \", \"marker\": {\"color\": \"#636efa\"}, \"name\": \"Yamaha FZ S \", \"offsetgroup\": \"Yamaha FZ S \", \"orientation\": \"v\", \"showlegend\": true, \"textposition\": \"auto\", \"type\": \"bar\", \"x\": [\"Yamaha FZ S \"], \"xaxis\": \"x\", \"y\": [1], \"yaxis\": \"y\"}, {\"alignmentgroup\": \"True\", \"hovertemplate\": \"color=omni<br>x=%{x}<br>y=%{y}<extra></extra>\", \"legendgroup\": \"omni\", \"marker\": {\"color\": \"#EF553B\"}, \"name\": \"omni\", \"offsetgroup\": \"omni\", \"orientation\": \"v\", \"showlegend\": true, \"textposition\": \"auto\", \"type\": \"bar\", \"x\": [\"omni\"], \"xaxis\": \"x\", \"y\": [1], \"yaxis\": \"y\"}, {\"alignmentgroup\": \"True\", \"hovertemplate\": \"color=ignis<br>x=%{x}<br>y=%{y}<extra></extra>\", \"legendgroup\": \"ignis\", \"marker\": {\"color\": \"#00cc96\"}, \"name\": \"ignis\", \"offsetgroup\": \"ignis\", \"orientation\": \"v\", \"showlegend\": true, \"textposition\": \"auto\", \"type\": \"bar\", \"x\": [\"ignis\"], \"xaxis\": \"x\", \"y\": [1], \"yaxis\": \"y\"}, {\"alignmentgroup\": \"True\", \"hovertemplate\": \"color=KTM 390 Duke <br>x=%{x}<br>y=%{y}<extra></extra>\", \"legendgroup\": \"KTM 390 Duke \", \"marker\": {\"color\": \"#ab63fa\"}, \"name\": \"KTM 390 Duke \", \"offsetgroup\": \"KTM 390 Duke \", \"orientation\": \"v\", \"showlegend\": true, \"textposition\": \"auto\", \"type\": \"bar\", \"x\": [\"KTM 390 Duke \"], \"xaxis\": \"x\", \"y\": [1], \"yaxis\": \"y\"}, {\"alignmentgroup\": \"True\", \"hovertemplate\": \"color=Yamaha FZ 16<br>x=%{x}<br>y=%{y}<extra></extra>\", \"legendgroup\": \"Yamaha FZ 16\", \"marker\": {\"color\": \"#FFA15A\"}, \"name\": \"Yamaha FZ 16\", \"offsetgroup\": \"Yamaha FZ 16\", \"orientation\": \"v\", \"showlegend\": true, \"textposition\": \"auto\", \"type\": \"bar\", \"x\": [\"Yamaha FZ 16\"], \"xaxis\": \"x\", \"y\": [1], \"yaxis\": \"y\"}, {\"alignmentgroup\": \"True\", \"hovertemplate\": \"color=TVS Jupyter<br>x=%{x}<br>y=%{y}<extra></extra>\", \"legendgroup\": \"TVS Jupyter\", \"marker\": {\"color\": \"#19d3f3\"}, \"name\": \"TVS Jupyter\", \"offsetgroup\": \"TVS Jupyter\", \"orientation\": \"v\", \"showlegend\": true, \"textposition\": \"auto\", \"type\": \"bar\", \"x\": [\"TVS Jupyter\"], \"xaxis\": \"x\", \"y\": [1], \"yaxis\": \"y\"}, {\"alignmentgroup\": \"True\", \"hovertemplate\": \"color=Honda Activa 125<br>x=%{x}<br>y=%{y}<extra></extra>\", \"legendgroup\": \"Honda Activa 125\", \"marker\": {\"color\": \"#FF6692\"}, \"name\": \"Honda Activa 125\", \"offsetgroup\": \"Honda Activa 125\", \"orientation\": \"v\", \"showlegend\": true, \"textposition\": \"auto\", \"type\": \"bar\", \"x\": [\"Honda Activa 125\"], \"xaxis\": \"x\", \"y\": [1], \"yaxis\": \"y\"}, {\"alignmentgroup\": \"True\", \"hovertemplate\": \"color=Hero Honda CBZ extreme<br>x=%{x}<br>y=%{y}<extra></extra>\", \"legendgroup\": \"Hero Honda CBZ extreme\", \"marker\": {\"color\": \"#B6E880\"}, \"name\": \"Hero Honda CBZ extreme\", \"offsetgroup\": \"Hero Honda CBZ extreme\", \"orientation\": \"v\", \"showlegend\": true, \"textposition\": \"auto\", \"type\": \"bar\", \"x\": [\"Hero Honda CBZ extreme\"], \"xaxis\": \"x\", \"y\": [1], \"yaxis\": \"y\"}, {\"alignmentgroup\": \"True\", \"hovertemplate\": \"color=Bajaj Avenger Street 220<br>x=%{x}<br>y=%{y}<extra></extra>\", \"legendgroup\": \"Bajaj Avenger Street 220\", \"marker\": {\"color\": \"#FF97FF\"}, \"name\": \"Bajaj Avenger Street 220\", \"offsetgroup\": \"Bajaj Avenger Street 220\", \"orientation\": \"v\", \"showlegend\": true, \"textposition\": \"auto\", \"type\": \"bar\", \"x\": [\"Bajaj Avenger Street 220\"], \"xaxis\": \"x\", \"y\": [1], \"yaxis\": \"y\"}, {\"alignmentgroup\": \"True\", \"hovertemplate\": \"color=Bajaj Discover 100<br>x=%{x}<br>y=%{y}<extra></extra>\", \"legendgroup\": \"Bajaj Discover 100\", \"marker\": {\"color\": \"#FECB52\"}, \"name\": \"Bajaj Discover 100\", \"offsetgroup\": \"Bajaj Discover 100\", \"orientation\": \"v\", \"showlegend\": true, \"textposition\": \"auto\", \"type\": \"bar\", \"x\": [\"Bajaj Discover 100\"], \"xaxis\": \"x\", \"y\": [1], \"yaxis\": \"y\"}, {\"alignmentgroup\": \"True\", \"hovertemplate\": \"color=Hero  Ignitor Disc<br>x=%{x}<br>y=%{y}<extra></extra>\", \"legendgroup\": \"Hero  Ignitor Disc\", \"marker\": {\"color\": \"#636efa\"}, \"name\": \"Hero  Ignitor Disc\", \"offsetgroup\": \"Hero  Ignitor Disc\", \"orientation\": \"v\", \"showlegend\": true, \"textposition\": \"auto\", \"type\": \"bar\", \"x\": [\"Hero  Ignitor Disc\"], \"xaxis\": \"x\", \"y\": [1], \"yaxis\": \"y\"}, {\"alignmentgroup\": \"True\", \"hovertemplate\": \"color=Yamaha Fazer <br>x=%{x}<br>y=%{y}<extra></extra>\", \"legendgroup\": \"Yamaha Fazer \", \"marker\": {\"color\": \"#EF553B\"}, \"name\": \"Yamaha Fazer \", \"offsetgroup\": \"Yamaha Fazer \", \"orientation\": \"v\", \"showlegend\": true, \"textposition\": \"auto\", \"type\": \"bar\", \"x\": [\"Yamaha Fazer \"], \"xaxis\": \"x\", \"y\": [1], \"yaxis\": \"y\"}, {\"alignmentgroup\": \"True\", \"hovertemplate\": \"color=Bajaj Pulsar 135 LS<br>x=%{x}<br>y=%{y}<extra></extra>\", \"legendgroup\": \"Bajaj Pulsar 135 LS\", \"marker\": {\"color\": \"#00cc96\"}, \"name\": \"Bajaj Pulsar 135 LS\", \"offsetgroup\": \"Bajaj Pulsar 135 LS\", \"orientation\": \"v\", \"showlegend\": true, \"textposition\": \"auto\", \"type\": \"bar\", \"x\": [\"Bajaj Pulsar 135 LS\"], \"xaxis\": \"x\", \"y\": [1], \"yaxis\": \"y\"}, {\"alignmentgroup\": \"True\", \"hovertemplate\": \"color=Bajaj Avenger 150<br>x=%{x}<br>y=%{y}<extra></extra>\", \"legendgroup\": \"Bajaj Avenger 150\", \"marker\": {\"color\": \"#ab63fa\"}, \"name\": \"Bajaj Avenger 150\", \"offsetgroup\": \"Bajaj Avenger 150\", \"orientation\": \"v\", \"showlegend\": true, \"textposition\": \"auto\", \"type\": \"bar\", \"x\": [\"Bajaj Avenger 150\"], \"xaxis\": \"x\", \"y\": [1], \"yaxis\": \"y\"}, {\"alignmentgroup\": \"True\", \"hovertemplate\": \"color=800<br>x=%{x}<br>y=%{y}<extra></extra>\", \"legendgroup\": \"800\", \"marker\": {\"color\": \"#FFA15A\"}, \"name\": \"800\", \"offsetgroup\": \"800\", \"orientation\": \"v\", \"showlegend\": true, \"textposition\": \"auto\", \"type\": \"bar\", \"x\": [\"800\"], \"xaxis\": \"x\", \"y\": [1], \"yaxis\": \"y\"}, {\"alignmentgroup\": \"True\", \"hovertemplate\": \"color=baleno<br>x=%{x}<br>y=%{y}<extra></extra>\", \"legendgroup\": \"baleno\", \"marker\": {\"color\": \"#19d3f3\"}, \"name\": \"baleno\", \"offsetgroup\": \"baleno\", \"orientation\": \"v\", \"showlegend\": true, \"textposition\": \"auto\", \"type\": \"bar\", \"x\": [\"baleno\"], \"xaxis\": \"x\", \"y\": [1], \"yaxis\": \"y\"}, {\"alignmentgroup\": \"True\", \"hovertemplate\": \"color=Activa 4g<br>x=%{x}<br>y=%{y}<extra></extra>\", \"legendgroup\": \"Activa 4g\", \"marker\": {\"color\": \"#FF6692\"}, \"name\": \"Activa 4g\", \"offsetgroup\": \"Activa 4g\", \"orientation\": \"v\", \"showlegend\": true, \"textposition\": \"auto\", \"type\": \"bar\", \"x\": [\"Activa 4g\"], \"xaxis\": \"x\", \"y\": [1], \"yaxis\": \"y\"}, {\"alignmentgroup\": \"True\", \"hovertemplate\": \"color=KTM RC390<br>x=%{x}<br>y=%{y}<extra></extra>\", \"legendgroup\": \"KTM RC390\", \"marker\": {\"color\": \"#B6E880\"}, \"name\": \"KTM RC390\", \"offsetgroup\": \"KTM RC390\", \"orientation\": \"v\", \"showlegend\": true, \"textposition\": \"auto\", \"type\": \"bar\", \"x\": [\"KTM RC390\"], \"xaxis\": \"x\", \"y\": [1], \"yaxis\": \"y\"}, {\"alignmentgroup\": \"True\", \"hovertemplate\": \"color=Hero Splender Plus<br>x=%{x}<br>y=%{y}<extra></extra>\", \"legendgroup\": \"Hero Splender Plus\", \"marker\": {\"color\": \"#FF97FF\"}, \"name\": \"Hero Splender Plus\", \"offsetgroup\": \"Hero Splender Plus\", \"orientation\": \"v\", \"showlegend\": true, \"textposition\": \"auto\", \"type\": \"bar\", \"x\": [\"Hero Splender Plus\"], \"xaxis\": \"x\", \"y\": [1], \"yaxis\": \"y\"}, {\"alignmentgroup\": \"True\", \"hovertemplate\": \"color=Bajaj Dominar 400<br>x=%{x}<br>y=%{y}<extra></extra>\", \"legendgroup\": \"Bajaj Dominar 400\", \"marker\": {\"color\": \"#FECB52\"}, \"name\": \"Bajaj Dominar 400\", \"offsetgroup\": \"Bajaj Dominar 400\", \"orientation\": \"v\", \"showlegend\": true, \"textposition\": \"auto\", \"type\": \"bar\", \"x\": [\"Bajaj Dominar 400\"], \"xaxis\": \"x\", \"y\": [1], \"yaxis\": \"y\"}, {\"alignmentgroup\": \"True\", \"hovertemplate\": \"color=etios gd<br>x=%{x}<br>y=%{y}<extra></extra>\", \"legendgroup\": \"etios gd\", \"marker\": {\"color\": \"#636efa\"}, \"name\": \"etios gd\", \"offsetgroup\": \"etios gd\", \"orientation\": \"v\", \"showlegend\": true, \"textposition\": \"auto\", \"type\": \"bar\", \"x\": [\"etios gd\"], \"xaxis\": \"x\", \"y\": [1], \"yaxis\": \"y\"}, {\"alignmentgroup\": \"True\", \"hovertemplate\": \"color=Hero Hunk<br>x=%{x}<br>y=%{y}<extra></extra>\", \"legendgroup\": \"Hero Hunk\", \"marker\": {\"color\": \"#EF553B\"}, \"name\": \"Hero Hunk\", \"offsetgroup\": \"Hero Hunk\", \"orientation\": \"v\", \"showlegend\": true, \"textposition\": \"auto\", \"type\": \"bar\", \"x\": [\"Hero Hunk\"], \"xaxis\": \"x\", \"y\": [1], \"yaxis\": \"y\"}, {\"alignmentgroup\": \"True\", \"hovertemplate\": \"color=Hero Honda Passion Pro<br>x=%{x}<br>y=%{y}<extra></extra>\", \"legendgroup\": \"Hero Honda Passion Pro\", \"marker\": {\"color\": \"#00cc96\"}, \"name\": \"Hero Honda Passion Pro\", \"offsetgroup\": \"Hero Honda Passion Pro\", \"orientation\": \"v\", \"showlegend\": true, \"textposition\": \"auto\", \"type\": \"bar\", \"x\": [\"Hero Honda Passion Pro\"], \"xaxis\": \"x\", \"y\": [1], \"yaxis\": \"y\"}, {\"alignmentgroup\": \"True\", \"hovertemplate\": \"color=Hero  CBZ Xtreme<br>x=%{x}<br>y=%{y}<extra></extra>\", \"legendgroup\": \"Hero  CBZ Xtreme\", \"marker\": {\"color\": \"#ab63fa\"}, \"name\": \"Hero  CBZ Xtreme\", \"offsetgroup\": \"Hero  CBZ Xtreme\", \"orientation\": \"v\", \"showlegend\": true, \"textposition\": \"auto\", \"type\": \"bar\", \"x\": [\"Hero  CBZ Xtreme\"], \"xaxis\": \"x\", \"y\": [1], \"yaxis\": \"y\"}, {\"alignmentgroup\": \"True\", \"hovertemplate\": \"color=vitara brezza<br>x=%{x}<br>y=%{y}<extra></extra>\", \"legendgroup\": \"vitara brezza\", \"marker\": {\"color\": \"#FFA15A\"}, \"name\": \"vitara brezza\", \"offsetgroup\": \"vitara brezza\", \"orientation\": \"v\", \"showlegend\": true, \"textposition\": \"auto\", \"type\": \"bar\", \"x\": [\"vitara brezza\"], \"xaxis\": \"x\", \"y\": [1], \"yaxis\": \"y\"}, {\"alignmentgroup\": \"True\", \"hovertemplate\": \"color=TVS Sport <br>x=%{x}<br>y=%{y}<extra></extra>\", \"legendgroup\": \"TVS Sport \", \"marker\": {\"color\": \"#19d3f3\"}, \"name\": \"TVS Sport \", \"offsetgroup\": \"TVS Sport \", \"orientation\": \"v\", \"showlegend\": true, \"textposition\": \"auto\", \"type\": \"bar\", \"x\": [\"TVS Sport \"], \"xaxis\": \"x\", \"y\": [1], \"yaxis\": \"y\"}, {\"alignmentgroup\": \"True\", \"hovertemplate\": \"color=Bajaj Avenger 150 street<br>x=%{x}<br>y=%{y}<extra></extra>\", \"legendgroup\": \"Bajaj Avenger 150 street\", \"marker\": {\"color\": \"#FF6692\"}, \"name\": \"Bajaj Avenger 150 street\", \"offsetgroup\": \"Bajaj Avenger 150 street\", \"orientation\": \"v\", \"showlegend\": true, \"textposition\": \"auto\", \"type\": \"bar\", \"x\": [\"Bajaj Avenger 150 street\"], \"xaxis\": \"x\", \"y\": [1], \"yaxis\": \"y\"}, {\"alignmentgroup\": \"True\", \"hovertemplate\": \"color=Suzuki Access 125<br>x=%{x}<br>y=%{y}<extra></extra>\", \"legendgroup\": \"Suzuki Access 125\", \"marker\": {\"color\": \"#B6E880\"}, \"name\": \"Suzuki Access 125\", \"offsetgroup\": \"Suzuki Access 125\", \"orientation\": \"v\", \"showlegend\": true, \"textposition\": \"auto\", \"type\": \"bar\", \"x\": [\"Suzuki Access 125\"], \"xaxis\": \"x\", \"y\": [1], \"yaxis\": \"y\"}, {\"alignmentgroup\": \"True\", \"hovertemplate\": \"color=Mahindra Mojo XT300<br>x=%{x}<br>y=%{y}<extra></extra>\", \"legendgroup\": \"Mahindra Mojo XT300\", \"marker\": {\"color\": \"#FF97FF\"}, \"name\": \"Mahindra Mojo XT300\", \"offsetgroup\": \"Mahindra Mojo XT300\", \"orientation\": \"v\", \"showlegend\": true, \"textposition\": \"auto\", \"type\": \"bar\", \"x\": [\"Mahindra Mojo XT300\"], \"xaxis\": \"x\", \"y\": [1], \"yaxis\": \"y\"}, {\"alignmentgroup\": \"True\", \"hovertemplate\": \"color=Honda CB Trigger<br>x=%{x}<br>y=%{y}<extra></extra>\", \"legendgroup\": \"Honda CB Trigger\", \"marker\": {\"color\": \"#FECB52\"}, \"name\": \"Honda CB Trigger\", \"offsetgroup\": \"Honda CB Trigger\", \"orientation\": \"v\", \"showlegend\": true, \"textposition\": \"auto\", \"type\": \"bar\", \"x\": [\"Honda CB Trigger\"], \"xaxis\": \"x\", \"y\": [1], \"yaxis\": \"y\"}, {\"alignmentgroup\": \"True\", \"hovertemplate\": \"color=Royal Enfield Bullet 350<br>x=%{x}<br>y=%{y}<extra></extra>\", \"legendgroup\": \"Royal Enfield Bullet 350\", \"marker\": {\"color\": \"#636efa\"}, \"name\": \"Royal Enfield Bullet 350\", \"offsetgroup\": \"Royal Enfield Bullet 350\", \"orientation\": \"v\", \"showlegend\": true, \"textposition\": \"auto\", \"type\": \"bar\", \"x\": [\"Royal Enfield Bullet 350\"], \"xaxis\": \"x\", \"y\": [1], \"yaxis\": \"y\"}, {\"alignmentgroup\": \"True\", \"hovertemplate\": \"color=UM Renegade Mojave<br>x=%{x}<br>y=%{y}<extra></extra>\", \"legendgroup\": \"UM Renegade Mojave\", \"marker\": {\"color\": \"#EF553B\"}, \"name\": \"UM Renegade Mojave\", \"offsetgroup\": \"UM Renegade Mojave\", \"orientation\": \"v\", \"showlegend\": true, \"textposition\": \"auto\", \"type\": \"bar\", \"x\": [\"UM Renegade Mojave\"], \"xaxis\": \"x\", \"y\": [1], \"yaxis\": \"y\"}, {\"alignmentgroup\": \"True\", \"hovertemplate\": \"color=Honda CB Unicorn<br>x=%{x}<br>y=%{y}<extra></extra>\", \"legendgroup\": \"Honda CB Unicorn\", \"marker\": {\"color\": \"#00cc96\"}, \"name\": \"Honda CB Unicorn\", \"offsetgroup\": \"Honda CB Unicorn\", \"orientation\": \"v\", \"showlegend\": true, \"textposition\": \"auto\", \"type\": \"bar\", \"x\": [\"Honda CB Unicorn\"], \"xaxis\": \"x\", \"y\": [1], \"yaxis\": \"y\"}, {\"alignmentgroup\": \"True\", \"hovertemplate\": \"color=Hyosung GT250R<br>x=%{x}<br>y=%{y}<extra></extra>\", \"legendgroup\": \"Hyosung GT250R\", \"marker\": {\"color\": \"#ab63fa\"}, \"name\": \"Hyosung GT250R\", \"offsetgroup\": \"Hyosung GT250R\", \"orientation\": \"v\", \"showlegend\": true, \"textposition\": \"auto\", \"type\": \"bar\", \"x\": [\"Hyosung GT250R\"], \"xaxis\": \"x\", \"y\": [1], \"yaxis\": \"y\"}, {\"alignmentgroup\": \"True\", \"hovertemplate\": \"color=Bajaj  ct 100<br>x=%{x}<br>y=%{y}<extra></extra>\", \"legendgroup\": \"Bajaj  ct 100\", \"marker\": {\"color\": \"#FFA15A\"}, \"name\": \"Bajaj  ct 100\", \"offsetgroup\": \"Bajaj  ct 100\", \"orientation\": \"v\", \"showlegend\": true, \"textposition\": \"auto\", \"type\": \"bar\", \"x\": [\"Bajaj  ct 100\"], \"xaxis\": \"x\", \"y\": [1], \"yaxis\": \"y\"}, {\"alignmentgroup\": \"True\", \"hovertemplate\": \"color=Hero Passion X pro<br>x=%{x}<br>y=%{y}<extra></extra>\", \"legendgroup\": \"Hero Passion X pro\", \"marker\": {\"color\": \"#19d3f3\"}, \"name\": \"Hero Passion X pro\", \"offsetgroup\": \"Hero Passion X pro\", \"orientation\": \"v\", \"showlegend\": true, \"textposition\": \"auto\", \"type\": \"bar\", \"x\": [\"Hero Passion X pro\"], \"xaxis\": \"x\", \"y\": [1], \"yaxis\": \"y\"}, {\"alignmentgroup\": \"True\", \"hovertemplate\": \"color=alto 800<br>x=%{x}<br>y=%{y}<extra></extra>\", \"legendgroup\": \"alto 800\", \"marker\": {\"color\": \"#FF6692\"}, \"name\": \"alto 800\", \"offsetgroup\": \"alto 800\", \"orientation\": \"v\", \"showlegend\": true, \"textposition\": \"auto\", \"type\": \"bar\", \"x\": [\"alto 800\"], \"xaxis\": \"x\", \"y\": [1], \"yaxis\": \"y\"}, {\"alignmentgroup\": \"True\", \"hovertemplate\": \"color=TVS Wego<br>x=%{x}<br>y=%{y}<extra></extra>\", \"legendgroup\": \"TVS Wego\", \"marker\": {\"color\": \"#B6E880\"}, \"name\": \"TVS Wego\", \"offsetgroup\": \"TVS Wego\", \"orientation\": \"v\", \"showlegend\": true, \"textposition\": \"auto\", \"type\": \"bar\", \"x\": [\"TVS Wego\"], \"xaxis\": \"x\", \"y\": [1], \"yaxis\": \"y\"}],\n",
       "                        {\"barmode\": \"relative\", \"legend\": {\"title\": {\"text\": \"color\"}, \"tracegroupgap\": 0}, \"margin\": {\"t\": 60}, \"template\": {\"data\": {\"bar\": [{\"error_x\": {\"color\": \"#2a3f5f\"}, \"error_y\": {\"color\": \"#2a3f5f\"}, \"marker\": {\"line\": {\"color\": \"#E5ECF6\", \"width\": 0.5}}, \"type\": \"bar\"}], \"barpolar\": [{\"marker\": {\"line\": {\"color\": \"#E5ECF6\", \"width\": 0.5}}, \"type\": \"barpolar\"}], \"carpet\": [{\"aaxis\": {\"endlinecolor\": \"#2a3f5f\", \"gridcolor\": \"white\", \"linecolor\": \"white\", \"minorgridcolor\": \"white\", \"startlinecolor\": \"#2a3f5f\"}, \"baxis\": {\"endlinecolor\": \"#2a3f5f\", \"gridcolor\": \"white\", \"linecolor\": \"white\", \"minorgridcolor\": \"white\", \"startlinecolor\": \"#2a3f5f\"}, \"type\": \"carpet\"}], \"choropleth\": [{\"colorbar\": {\"outlinewidth\": 0, \"ticks\": \"\"}, \"type\": \"choropleth\"}], \"contour\": [{\"colorbar\": {\"outlinewidth\": 0, \"ticks\": \"\"}, \"colorscale\": [[0.0, \"#0d0887\"], [0.1111111111111111, \"#46039f\"], [0.2222222222222222, \"#7201a8\"], [0.3333333333333333, \"#9c179e\"], [0.4444444444444444, \"#bd3786\"], [0.5555555555555556, \"#d8576b\"], [0.6666666666666666, \"#ed7953\"], [0.7777777777777778, \"#fb9f3a\"], [0.8888888888888888, \"#fdca26\"], [1.0, \"#f0f921\"]], \"type\": \"contour\"}], \"contourcarpet\": [{\"colorbar\": {\"outlinewidth\": 0, \"ticks\": \"\"}, \"type\": \"contourcarpet\"}], \"heatmap\": [{\"colorbar\": {\"outlinewidth\": 0, \"ticks\": \"\"}, \"colorscale\": [[0.0, \"#0d0887\"], [0.1111111111111111, \"#46039f\"], [0.2222222222222222, \"#7201a8\"], [0.3333333333333333, \"#9c179e\"], [0.4444444444444444, \"#bd3786\"], [0.5555555555555556, \"#d8576b\"], [0.6666666666666666, \"#ed7953\"], [0.7777777777777778, \"#fb9f3a\"], [0.8888888888888888, \"#fdca26\"], [1.0, \"#f0f921\"]], \"type\": \"heatmap\"}], \"heatmapgl\": [{\"colorbar\": {\"outlinewidth\": 0, \"ticks\": \"\"}, \"colorscale\": [[0.0, \"#0d0887\"], [0.1111111111111111, \"#46039f\"], [0.2222222222222222, \"#7201a8\"], [0.3333333333333333, \"#9c179e\"], [0.4444444444444444, \"#bd3786\"], [0.5555555555555556, \"#d8576b\"], [0.6666666666666666, \"#ed7953\"], [0.7777777777777778, \"#fb9f3a\"], [0.8888888888888888, \"#fdca26\"], [1.0, \"#f0f921\"]], \"type\": \"heatmapgl\"}], \"histogram\": [{\"marker\": {\"colorbar\": {\"outlinewidth\": 0, \"ticks\": \"\"}}, \"type\": \"histogram\"}], \"histogram2d\": [{\"colorbar\": {\"outlinewidth\": 0, \"ticks\": \"\"}, \"colorscale\": [[0.0, \"#0d0887\"], [0.1111111111111111, \"#46039f\"], [0.2222222222222222, \"#7201a8\"], [0.3333333333333333, \"#9c179e\"], [0.4444444444444444, \"#bd3786\"], [0.5555555555555556, \"#d8576b\"], [0.6666666666666666, \"#ed7953\"], [0.7777777777777778, \"#fb9f3a\"], [0.8888888888888888, \"#fdca26\"], [1.0, \"#f0f921\"]], \"type\": \"histogram2d\"}], \"histogram2dcontour\": [{\"colorbar\": {\"outlinewidth\": 0, \"ticks\": \"\"}, \"colorscale\": [[0.0, \"#0d0887\"], [0.1111111111111111, \"#46039f\"], [0.2222222222222222, \"#7201a8\"], [0.3333333333333333, \"#9c179e\"], [0.4444444444444444, \"#bd3786\"], [0.5555555555555556, \"#d8576b\"], [0.6666666666666666, \"#ed7953\"], [0.7777777777777778, \"#fb9f3a\"], [0.8888888888888888, \"#fdca26\"], [1.0, \"#f0f921\"]], \"type\": \"histogram2dcontour\"}], \"mesh3d\": [{\"colorbar\": {\"outlinewidth\": 0, \"ticks\": \"\"}, \"type\": \"mesh3d\"}], \"parcoords\": [{\"line\": {\"colorbar\": {\"outlinewidth\": 0, \"ticks\": \"\"}}, \"type\": \"parcoords\"}], \"pie\": [{\"automargin\": true, \"type\": \"pie\"}], \"scatter\": [{\"marker\": {\"colorbar\": {\"outlinewidth\": 0, \"ticks\": \"\"}}, \"type\": \"scatter\"}], \"scatter3d\": [{\"line\": {\"colorbar\": {\"outlinewidth\": 0, \"ticks\": \"\"}}, \"marker\": {\"colorbar\": {\"outlinewidth\": 0, \"ticks\": \"\"}}, \"type\": \"scatter3d\"}], \"scattercarpet\": [{\"marker\": {\"colorbar\": {\"outlinewidth\": 0, \"ticks\": \"\"}}, \"type\": \"scattercarpet\"}], \"scattergeo\": [{\"marker\": {\"colorbar\": {\"outlinewidth\": 0, \"ticks\": \"\"}}, \"type\": \"scattergeo\"}], \"scattergl\": [{\"marker\": {\"colorbar\": {\"outlinewidth\": 0, \"ticks\": \"\"}}, \"type\": \"scattergl\"}], \"scattermapbox\": [{\"marker\": {\"colorbar\": {\"outlinewidth\": 0, \"ticks\": \"\"}}, \"type\": \"scattermapbox\"}], \"scatterpolar\": [{\"marker\": {\"colorbar\": {\"outlinewidth\": 0, \"ticks\": \"\"}}, \"type\": \"scatterpolar\"}], \"scatterpolargl\": [{\"marker\": {\"colorbar\": {\"outlinewidth\": 0, \"ticks\": \"\"}}, \"type\": \"scatterpolargl\"}], \"scatterternary\": [{\"marker\": {\"colorbar\": {\"outlinewidth\": 0, \"ticks\": \"\"}}, \"type\": \"scatterternary\"}], \"surface\": [{\"colorbar\": {\"outlinewidth\": 0, \"ticks\": \"\"}, \"colorscale\": [[0.0, \"#0d0887\"], [0.1111111111111111, \"#46039f\"], [0.2222222222222222, \"#7201a8\"], [0.3333333333333333, \"#9c179e\"], [0.4444444444444444, \"#bd3786\"], [0.5555555555555556, \"#d8576b\"], [0.6666666666666666, \"#ed7953\"], [0.7777777777777778, \"#fb9f3a\"], [0.8888888888888888, \"#fdca26\"], [1.0, \"#f0f921\"]], \"type\": \"surface\"}], \"table\": [{\"cells\": {\"fill\": {\"color\": \"#EBF0F8\"}, \"line\": {\"color\": \"white\"}}, \"header\": {\"fill\": {\"color\": \"#C8D4E3\"}, \"line\": {\"color\": \"white\"}}, \"type\": \"table\"}]}, \"layout\": {\"annotationdefaults\": {\"arrowcolor\": \"#2a3f5f\", \"arrowhead\": 0, \"arrowwidth\": 1}, \"coloraxis\": {\"colorbar\": {\"outlinewidth\": 0, \"ticks\": \"\"}}, \"colorscale\": {\"diverging\": [[0, \"#8e0152\"], [0.1, \"#c51b7d\"], [0.2, \"#de77ae\"], [0.3, \"#f1b6da\"], [0.4, \"#fde0ef\"], [0.5, \"#f7f7f7\"], [0.6, \"#e6f5d0\"], [0.7, \"#b8e186\"], [0.8, \"#7fbc41\"], [0.9, \"#4d9221\"], [1, \"#276419\"]], \"sequential\": [[0.0, \"#0d0887\"], [0.1111111111111111, \"#46039f\"], [0.2222222222222222, \"#7201a8\"], [0.3333333333333333, \"#9c179e\"], [0.4444444444444444, \"#bd3786\"], [0.5555555555555556, \"#d8576b\"], [0.6666666666666666, \"#ed7953\"], [0.7777777777777778, \"#fb9f3a\"], [0.8888888888888888, \"#fdca26\"], [1.0, \"#f0f921\"]], \"sequentialminus\": [[0.0, \"#0d0887\"], [0.1111111111111111, \"#46039f\"], [0.2222222222222222, \"#7201a8\"], [0.3333333333333333, \"#9c179e\"], [0.4444444444444444, \"#bd3786\"], [0.5555555555555556, \"#d8576b\"], [0.6666666666666666, \"#ed7953\"], [0.7777777777777778, \"#fb9f3a\"], [0.8888888888888888, \"#fdca26\"], [1.0, \"#f0f921\"]]}, \"colorway\": [\"#636efa\", \"#EF553B\", \"#00cc96\", \"#ab63fa\", \"#FFA15A\", \"#19d3f3\", \"#FF6692\", \"#B6E880\", \"#FF97FF\", \"#FECB52\"], \"font\": {\"color\": \"#2a3f5f\"}, \"geo\": {\"bgcolor\": \"white\", \"lakecolor\": \"white\", \"landcolor\": \"#E5ECF6\", \"showlakes\": true, \"showland\": true, \"subunitcolor\": \"white\"}, \"hoverlabel\": {\"align\": \"left\"}, \"hovermode\": \"closest\", \"mapbox\": {\"style\": \"light\"}, \"paper_bgcolor\": \"white\", \"plot_bgcolor\": \"#E5ECF6\", \"polar\": {\"angularaxis\": {\"gridcolor\": \"white\", \"linecolor\": \"white\", \"ticks\": \"\"}, \"bgcolor\": \"#E5ECF6\", \"radialaxis\": {\"gridcolor\": \"white\", \"linecolor\": \"white\", \"ticks\": \"\"}}, \"scene\": {\"xaxis\": {\"backgroundcolor\": \"#E5ECF6\", \"gridcolor\": \"white\", \"gridwidth\": 2, \"linecolor\": \"white\", \"showbackground\": true, \"ticks\": \"\", \"zerolinecolor\": \"white\"}, \"yaxis\": {\"backgroundcolor\": \"#E5ECF6\", \"gridcolor\": \"white\", \"gridwidth\": 2, \"linecolor\": \"white\", \"showbackground\": true, \"ticks\": \"\", \"zerolinecolor\": \"white\"}, \"zaxis\": {\"backgroundcolor\": \"#E5ECF6\", \"gridcolor\": \"white\", \"gridwidth\": 2, \"linecolor\": \"white\", \"showbackground\": true, \"ticks\": \"\", \"zerolinecolor\": \"white\"}}, \"shapedefaults\": {\"line\": {\"color\": \"#2a3f5f\"}}, \"ternary\": {\"aaxis\": {\"gridcolor\": \"white\", \"linecolor\": \"white\", \"ticks\": \"\"}, \"baxis\": {\"gridcolor\": \"white\", \"linecolor\": \"white\", \"ticks\": \"\"}, \"bgcolor\": \"#E5ECF6\", \"caxis\": {\"gridcolor\": \"white\", \"linecolor\": \"white\", \"ticks\": \"\"}}, \"title\": {\"x\": 0.05}, \"xaxis\": {\"automargin\": true, \"gridcolor\": \"white\", \"linecolor\": \"white\", \"ticks\": \"\", \"title\": {\"standoff\": 15}, \"zerolinecolor\": \"white\", \"zerolinewidth\": 2}, \"yaxis\": {\"automargin\": true, \"gridcolor\": \"white\", \"linecolor\": \"white\", \"ticks\": \"\", \"title\": {\"standoff\": 15}, \"zerolinecolor\": \"white\", \"zerolinewidth\": 2}}}, \"xaxis\": {\"anchor\": \"y\", \"domain\": [0.0, 1.0], \"title\": {\"text\": \"x\"}}, \"yaxis\": {\"anchor\": \"x\", \"domain\": [0.0, 1.0], \"title\": {\"text\": \"y\"}}},\n",
       "                        {\"responsive\": true}\n",
       "                    ).then(function(){\n",
       "                            \n",
       "var gd = document.getElementById('380a887f-4aa6-4c38-939f-fcebd86994d8');\n",
       "var x = new MutationObserver(function (mutations, observer) {{\n",
       "        var display = window.getComputedStyle(gd).display;\n",
       "        if (!display || display === 'none') {{\n",
       "            console.log([gd, 'removed!']);\n",
       "            Plotly.purge(gd);\n",
       "            observer.disconnect();\n",
       "        }}\n",
       "}});\n",
       "\n",
       "// Listen for the removal of the full notebook cells\n",
       "var notebookContainer = gd.closest('#notebook-container');\n",
       "if (notebookContainer) {{\n",
       "    x.observe(notebookContainer, {childList: true});\n",
       "}}\n",
       "\n",
       "// Listen for the clearing of the current output cell\n",
       "var outputEl = gd.closest('.output');\n",
       "if (outputEl) {{\n",
       "    x.observe(outputEl, {childList: true});\n",
       "}}\n",
       "\n",
       "                        })\n",
       "                };\n",
       "                });\n",
       "            </script>\n",
       "        </div>"
      ]
     },
     "metadata": {},
     "output_type": "display_data"
    }
   ],
   "source": [
    "## Visulizing data and EDA\n",
    "px.bar(cardata,x=cardata.Car_Name.value_counts().keys(),y=cardata.Car_Name.value_counts().tolist(),\n",
    "       color=cardata.Car_Name.value_counts().keys())"
   ]
  },
  {
   "cell_type": "markdown",
   "metadata": {},
   "source": [
    "**City is having maximum Sell**"
   ]
  },
  {
   "cell_type": "code",
   "execution_count": 60,
   "metadata": {
    "scrolled": false
   },
   "outputs": [
    {
     "data": {
      "application/vnd.plotly.v1+json": {
       "config": {
        "plotlyServerURL": "https://plot.ly"
       },
       "data": [
        {
         "alignmentgroup": "True",
         "hovertemplate": "color=Manual<br>x=%{x}<br>y=%{y}<extra></extra>",
         "legendgroup": "Manual",
         "marker": {
          "color": "#636efa"
         },
         "name": "Manual",
         "offsetgroup": "Manual",
         "orientation": "v",
         "showlegend": true,
         "textposition": "auto",
         "type": "bar",
         "x": [
          "Manual"
         ],
         "xaxis": "x",
         "y": [
          261
         ],
         "yaxis": "y"
        },
        {
         "alignmentgroup": "True",
         "hovertemplate": "color=Automatic<br>x=%{x}<br>y=%{y}<extra></extra>",
         "legendgroup": "Automatic",
         "marker": {
          "color": "#EF553B"
         },
         "name": "Automatic",
         "offsetgroup": "Automatic",
         "orientation": "v",
         "showlegend": true,
         "textposition": "auto",
         "type": "bar",
         "x": [
          "Automatic"
         ],
         "xaxis": "x",
         "y": [
          40
         ],
         "yaxis": "y"
        }
       ],
       "layout": {
        "barmode": "relative",
        "legend": {
         "title": {
          "text": "color"
         },
         "tracegroupgap": 0
        },
        "margin": {
         "t": 60
        },
        "template": {
         "data": {
          "bar": [
           {
            "error_x": {
             "color": "#2a3f5f"
            },
            "error_y": {
             "color": "#2a3f5f"
            },
            "marker": {
             "line": {
              "color": "#E5ECF6",
              "width": 0.5
             }
            },
            "type": "bar"
           }
          ],
          "barpolar": [
           {
            "marker": {
             "line": {
              "color": "#E5ECF6",
              "width": 0.5
             }
            },
            "type": "barpolar"
           }
          ],
          "carpet": [
           {
            "aaxis": {
             "endlinecolor": "#2a3f5f",
             "gridcolor": "white",
             "linecolor": "white",
             "minorgridcolor": "white",
             "startlinecolor": "#2a3f5f"
            },
            "baxis": {
             "endlinecolor": "#2a3f5f",
             "gridcolor": "white",
             "linecolor": "white",
             "minorgridcolor": "white",
             "startlinecolor": "#2a3f5f"
            },
            "type": "carpet"
           }
          ],
          "choropleth": [
           {
            "colorbar": {
             "outlinewidth": 0,
             "ticks": ""
            },
            "type": "choropleth"
           }
          ],
          "contour": [
           {
            "colorbar": {
             "outlinewidth": 0,
             "ticks": ""
            },
            "colorscale": [
             [
              0,
              "#0d0887"
             ],
             [
              0.1111111111111111,
              "#46039f"
             ],
             [
              0.2222222222222222,
              "#7201a8"
             ],
             [
              0.3333333333333333,
              "#9c179e"
             ],
             [
              0.4444444444444444,
              "#bd3786"
             ],
             [
              0.5555555555555556,
              "#d8576b"
             ],
             [
              0.6666666666666666,
              "#ed7953"
             ],
             [
              0.7777777777777778,
              "#fb9f3a"
             ],
             [
              0.8888888888888888,
              "#fdca26"
             ],
             [
              1,
              "#f0f921"
             ]
            ],
            "type": "contour"
           }
          ],
          "contourcarpet": [
           {
            "colorbar": {
             "outlinewidth": 0,
             "ticks": ""
            },
            "type": "contourcarpet"
           }
          ],
          "heatmap": [
           {
            "colorbar": {
             "outlinewidth": 0,
             "ticks": ""
            },
            "colorscale": [
             [
              0,
              "#0d0887"
             ],
             [
              0.1111111111111111,
              "#46039f"
             ],
             [
              0.2222222222222222,
              "#7201a8"
             ],
             [
              0.3333333333333333,
              "#9c179e"
             ],
             [
              0.4444444444444444,
              "#bd3786"
             ],
             [
              0.5555555555555556,
              "#d8576b"
             ],
             [
              0.6666666666666666,
              "#ed7953"
             ],
             [
              0.7777777777777778,
              "#fb9f3a"
             ],
             [
              0.8888888888888888,
              "#fdca26"
             ],
             [
              1,
              "#f0f921"
             ]
            ],
            "type": "heatmap"
           }
          ],
          "heatmapgl": [
           {
            "colorbar": {
             "outlinewidth": 0,
             "ticks": ""
            },
            "colorscale": [
             [
              0,
              "#0d0887"
             ],
             [
              0.1111111111111111,
              "#46039f"
             ],
             [
              0.2222222222222222,
              "#7201a8"
             ],
             [
              0.3333333333333333,
              "#9c179e"
             ],
             [
              0.4444444444444444,
              "#bd3786"
             ],
             [
              0.5555555555555556,
              "#d8576b"
             ],
             [
              0.6666666666666666,
              "#ed7953"
             ],
             [
              0.7777777777777778,
              "#fb9f3a"
             ],
             [
              0.8888888888888888,
              "#fdca26"
             ],
             [
              1,
              "#f0f921"
             ]
            ],
            "type": "heatmapgl"
           }
          ],
          "histogram": [
           {
            "marker": {
             "colorbar": {
              "outlinewidth": 0,
              "ticks": ""
             }
            },
            "type": "histogram"
           }
          ],
          "histogram2d": [
           {
            "colorbar": {
             "outlinewidth": 0,
             "ticks": ""
            },
            "colorscale": [
             [
              0,
              "#0d0887"
             ],
             [
              0.1111111111111111,
              "#46039f"
             ],
             [
              0.2222222222222222,
              "#7201a8"
             ],
             [
              0.3333333333333333,
              "#9c179e"
             ],
             [
              0.4444444444444444,
              "#bd3786"
             ],
             [
              0.5555555555555556,
              "#d8576b"
             ],
             [
              0.6666666666666666,
              "#ed7953"
             ],
             [
              0.7777777777777778,
              "#fb9f3a"
             ],
             [
              0.8888888888888888,
              "#fdca26"
             ],
             [
              1,
              "#f0f921"
             ]
            ],
            "type": "histogram2d"
           }
          ],
          "histogram2dcontour": [
           {
            "colorbar": {
             "outlinewidth": 0,
             "ticks": ""
            },
            "colorscale": [
             [
              0,
              "#0d0887"
             ],
             [
              0.1111111111111111,
              "#46039f"
             ],
             [
              0.2222222222222222,
              "#7201a8"
             ],
             [
              0.3333333333333333,
              "#9c179e"
             ],
             [
              0.4444444444444444,
              "#bd3786"
             ],
             [
              0.5555555555555556,
              "#d8576b"
             ],
             [
              0.6666666666666666,
              "#ed7953"
             ],
             [
              0.7777777777777778,
              "#fb9f3a"
             ],
             [
              0.8888888888888888,
              "#fdca26"
             ],
             [
              1,
              "#f0f921"
             ]
            ],
            "type": "histogram2dcontour"
           }
          ],
          "mesh3d": [
           {
            "colorbar": {
             "outlinewidth": 0,
             "ticks": ""
            },
            "type": "mesh3d"
           }
          ],
          "parcoords": [
           {
            "line": {
             "colorbar": {
              "outlinewidth": 0,
              "ticks": ""
             }
            },
            "type": "parcoords"
           }
          ],
          "pie": [
           {
            "automargin": true,
            "type": "pie"
           }
          ],
          "scatter": [
           {
            "marker": {
             "colorbar": {
              "outlinewidth": 0,
              "ticks": ""
             }
            },
            "type": "scatter"
           }
          ],
          "scatter3d": [
           {
            "line": {
             "colorbar": {
              "outlinewidth": 0,
              "ticks": ""
             }
            },
            "marker": {
             "colorbar": {
              "outlinewidth": 0,
              "ticks": ""
             }
            },
            "type": "scatter3d"
           }
          ],
          "scattercarpet": [
           {
            "marker": {
             "colorbar": {
              "outlinewidth": 0,
              "ticks": ""
             }
            },
            "type": "scattercarpet"
           }
          ],
          "scattergeo": [
           {
            "marker": {
             "colorbar": {
              "outlinewidth": 0,
              "ticks": ""
             }
            },
            "type": "scattergeo"
           }
          ],
          "scattergl": [
           {
            "marker": {
             "colorbar": {
              "outlinewidth": 0,
              "ticks": ""
             }
            },
            "type": "scattergl"
           }
          ],
          "scattermapbox": [
           {
            "marker": {
             "colorbar": {
              "outlinewidth": 0,
              "ticks": ""
             }
            },
            "type": "scattermapbox"
           }
          ],
          "scatterpolar": [
           {
            "marker": {
             "colorbar": {
              "outlinewidth": 0,
              "ticks": ""
             }
            },
            "type": "scatterpolar"
           }
          ],
          "scatterpolargl": [
           {
            "marker": {
             "colorbar": {
              "outlinewidth": 0,
              "ticks": ""
             }
            },
            "type": "scatterpolargl"
           }
          ],
          "scatterternary": [
           {
            "marker": {
             "colorbar": {
              "outlinewidth": 0,
              "ticks": ""
             }
            },
            "type": "scatterternary"
           }
          ],
          "surface": [
           {
            "colorbar": {
             "outlinewidth": 0,
             "ticks": ""
            },
            "colorscale": [
             [
              0,
              "#0d0887"
             ],
             [
              0.1111111111111111,
              "#46039f"
             ],
             [
              0.2222222222222222,
              "#7201a8"
             ],
             [
              0.3333333333333333,
              "#9c179e"
             ],
             [
              0.4444444444444444,
              "#bd3786"
             ],
             [
              0.5555555555555556,
              "#d8576b"
             ],
             [
              0.6666666666666666,
              "#ed7953"
             ],
             [
              0.7777777777777778,
              "#fb9f3a"
             ],
             [
              0.8888888888888888,
              "#fdca26"
             ],
             [
              1,
              "#f0f921"
             ]
            ],
            "type": "surface"
           }
          ],
          "table": [
           {
            "cells": {
             "fill": {
              "color": "#EBF0F8"
             },
             "line": {
              "color": "white"
             }
            },
            "header": {
             "fill": {
              "color": "#C8D4E3"
             },
             "line": {
              "color": "white"
             }
            },
            "type": "table"
           }
          ]
         },
         "layout": {
          "annotationdefaults": {
           "arrowcolor": "#2a3f5f",
           "arrowhead": 0,
           "arrowwidth": 1
          },
          "coloraxis": {
           "colorbar": {
            "outlinewidth": 0,
            "ticks": ""
           }
          },
          "colorscale": {
           "diverging": [
            [
             0,
             "#8e0152"
            ],
            [
             0.1,
             "#c51b7d"
            ],
            [
             0.2,
             "#de77ae"
            ],
            [
             0.3,
             "#f1b6da"
            ],
            [
             0.4,
             "#fde0ef"
            ],
            [
             0.5,
             "#f7f7f7"
            ],
            [
             0.6,
             "#e6f5d0"
            ],
            [
             0.7,
             "#b8e186"
            ],
            [
             0.8,
             "#7fbc41"
            ],
            [
             0.9,
             "#4d9221"
            ],
            [
             1,
             "#276419"
            ]
           ],
           "sequential": [
            [
             0,
             "#0d0887"
            ],
            [
             0.1111111111111111,
             "#46039f"
            ],
            [
             0.2222222222222222,
             "#7201a8"
            ],
            [
             0.3333333333333333,
             "#9c179e"
            ],
            [
             0.4444444444444444,
             "#bd3786"
            ],
            [
             0.5555555555555556,
             "#d8576b"
            ],
            [
             0.6666666666666666,
             "#ed7953"
            ],
            [
             0.7777777777777778,
             "#fb9f3a"
            ],
            [
             0.8888888888888888,
             "#fdca26"
            ],
            [
             1,
             "#f0f921"
            ]
           ],
           "sequentialminus": [
            [
             0,
             "#0d0887"
            ],
            [
             0.1111111111111111,
             "#46039f"
            ],
            [
             0.2222222222222222,
             "#7201a8"
            ],
            [
             0.3333333333333333,
             "#9c179e"
            ],
            [
             0.4444444444444444,
             "#bd3786"
            ],
            [
             0.5555555555555556,
             "#d8576b"
            ],
            [
             0.6666666666666666,
             "#ed7953"
            ],
            [
             0.7777777777777778,
             "#fb9f3a"
            ],
            [
             0.8888888888888888,
             "#fdca26"
            ],
            [
             1,
             "#f0f921"
            ]
           ]
          },
          "colorway": [
           "#636efa",
           "#EF553B",
           "#00cc96",
           "#ab63fa",
           "#FFA15A",
           "#19d3f3",
           "#FF6692",
           "#B6E880",
           "#FF97FF",
           "#FECB52"
          ],
          "font": {
           "color": "#2a3f5f"
          },
          "geo": {
           "bgcolor": "white",
           "lakecolor": "white",
           "landcolor": "#E5ECF6",
           "showlakes": true,
           "showland": true,
           "subunitcolor": "white"
          },
          "hoverlabel": {
           "align": "left"
          },
          "hovermode": "closest",
          "mapbox": {
           "style": "light"
          },
          "paper_bgcolor": "white",
          "plot_bgcolor": "#E5ECF6",
          "polar": {
           "angularaxis": {
            "gridcolor": "white",
            "linecolor": "white",
            "ticks": ""
           },
           "bgcolor": "#E5ECF6",
           "radialaxis": {
            "gridcolor": "white",
            "linecolor": "white",
            "ticks": ""
           }
          },
          "scene": {
           "xaxis": {
            "backgroundcolor": "#E5ECF6",
            "gridcolor": "white",
            "gridwidth": 2,
            "linecolor": "white",
            "showbackground": true,
            "ticks": "",
            "zerolinecolor": "white"
           },
           "yaxis": {
            "backgroundcolor": "#E5ECF6",
            "gridcolor": "white",
            "gridwidth": 2,
            "linecolor": "white",
            "showbackground": true,
            "ticks": "",
            "zerolinecolor": "white"
           },
           "zaxis": {
            "backgroundcolor": "#E5ECF6",
            "gridcolor": "white",
            "gridwidth": 2,
            "linecolor": "white",
            "showbackground": true,
            "ticks": "",
            "zerolinecolor": "white"
           }
          },
          "shapedefaults": {
           "line": {
            "color": "#2a3f5f"
           }
          },
          "ternary": {
           "aaxis": {
            "gridcolor": "white",
            "linecolor": "white",
            "ticks": ""
           },
           "baxis": {
            "gridcolor": "white",
            "linecolor": "white",
            "ticks": ""
           },
           "bgcolor": "#E5ECF6",
           "caxis": {
            "gridcolor": "white",
            "linecolor": "white",
            "ticks": ""
           }
          },
          "title": {
           "x": 0.05
          },
          "xaxis": {
           "automargin": true,
           "gridcolor": "white",
           "linecolor": "white",
           "ticks": "",
           "title": {
            "standoff": 15
           },
           "zerolinecolor": "white",
           "zerolinewidth": 2
          },
          "yaxis": {
           "automargin": true,
           "gridcolor": "white",
           "linecolor": "white",
           "ticks": "",
           "title": {
            "standoff": 15
           },
           "zerolinecolor": "white",
           "zerolinewidth": 2
          }
         }
        },
        "xaxis": {
         "anchor": "y",
         "domain": [
          0,
          1
         ],
         "title": {
          "text": "x"
         }
        },
        "yaxis": {
         "anchor": "x",
         "domain": [
          0,
          1
         ],
         "title": {
          "text": "y"
         }
        }
       }
      },
      "text/html": [
       "<div>\n",
       "        \n",
       "        \n",
       "            <div id=\"1094f21f-845e-4a2b-b99a-36411842f72a\" class=\"plotly-graph-div\" style=\"height:525px; width:100%;\"></div>\n",
       "            <script type=\"text/javascript\">\n",
       "                require([\"plotly\"], function(Plotly) {\n",
       "                    window.PLOTLYENV=window.PLOTLYENV || {};\n",
       "                    \n",
       "                if (document.getElementById(\"1094f21f-845e-4a2b-b99a-36411842f72a\")) {\n",
       "                    Plotly.newPlot(\n",
       "                        '1094f21f-845e-4a2b-b99a-36411842f72a',\n",
       "                        [{\"alignmentgroup\": \"True\", \"hovertemplate\": \"color=Manual<br>x=%{x}<br>y=%{y}<extra></extra>\", \"legendgroup\": \"Manual\", \"marker\": {\"color\": \"#636efa\"}, \"name\": \"Manual\", \"offsetgroup\": \"Manual\", \"orientation\": \"v\", \"showlegend\": true, \"textposition\": \"auto\", \"type\": \"bar\", \"x\": [\"Manual\"], \"xaxis\": \"x\", \"y\": [261], \"yaxis\": \"y\"}, {\"alignmentgroup\": \"True\", \"hovertemplate\": \"color=Automatic<br>x=%{x}<br>y=%{y}<extra></extra>\", \"legendgroup\": \"Automatic\", \"marker\": {\"color\": \"#EF553B\"}, \"name\": \"Automatic\", \"offsetgroup\": \"Automatic\", \"orientation\": \"v\", \"showlegend\": true, \"textposition\": \"auto\", \"type\": \"bar\", \"x\": [\"Automatic\"], \"xaxis\": \"x\", \"y\": [40], \"yaxis\": \"y\"}],\n",
       "                        {\"barmode\": \"relative\", \"legend\": {\"title\": {\"text\": \"color\"}, \"tracegroupgap\": 0}, \"margin\": {\"t\": 60}, \"template\": {\"data\": {\"bar\": [{\"error_x\": {\"color\": \"#2a3f5f\"}, \"error_y\": {\"color\": \"#2a3f5f\"}, \"marker\": {\"line\": {\"color\": \"#E5ECF6\", \"width\": 0.5}}, \"type\": \"bar\"}], \"barpolar\": [{\"marker\": {\"line\": {\"color\": \"#E5ECF6\", \"width\": 0.5}}, \"type\": \"barpolar\"}], \"carpet\": [{\"aaxis\": {\"endlinecolor\": \"#2a3f5f\", \"gridcolor\": \"white\", \"linecolor\": \"white\", \"minorgridcolor\": \"white\", \"startlinecolor\": \"#2a3f5f\"}, \"baxis\": {\"endlinecolor\": \"#2a3f5f\", \"gridcolor\": \"white\", \"linecolor\": \"white\", \"minorgridcolor\": \"white\", \"startlinecolor\": \"#2a3f5f\"}, \"type\": \"carpet\"}], \"choropleth\": [{\"colorbar\": {\"outlinewidth\": 0, \"ticks\": \"\"}, \"type\": \"choropleth\"}], \"contour\": [{\"colorbar\": {\"outlinewidth\": 0, \"ticks\": \"\"}, \"colorscale\": [[0.0, \"#0d0887\"], [0.1111111111111111, \"#46039f\"], [0.2222222222222222, \"#7201a8\"], [0.3333333333333333, \"#9c179e\"], [0.4444444444444444, \"#bd3786\"], [0.5555555555555556, \"#d8576b\"], [0.6666666666666666, \"#ed7953\"], [0.7777777777777778, \"#fb9f3a\"], [0.8888888888888888, \"#fdca26\"], [1.0, \"#f0f921\"]], \"type\": \"contour\"}], \"contourcarpet\": [{\"colorbar\": {\"outlinewidth\": 0, \"ticks\": \"\"}, \"type\": \"contourcarpet\"}], \"heatmap\": [{\"colorbar\": {\"outlinewidth\": 0, \"ticks\": \"\"}, \"colorscale\": [[0.0, \"#0d0887\"], [0.1111111111111111, \"#46039f\"], [0.2222222222222222, \"#7201a8\"], [0.3333333333333333, \"#9c179e\"], [0.4444444444444444, \"#bd3786\"], [0.5555555555555556, \"#d8576b\"], [0.6666666666666666, \"#ed7953\"], [0.7777777777777778, \"#fb9f3a\"], [0.8888888888888888, \"#fdca26\"], [1.0, \"#f0f921\"]], \"type\": \"heatmap\"}], \"heatmapgl\": [{\"colorbar\": {\"outlinewidth\": 0, \"ticks\": \"\"}, \"colorscale\": [[0.0, \"#0d0887\"], [0.1111111111111111, \"#46039f\"], [0.2222222222222222, \"#7201a8\"], [0.3333333333333333, \"#9c179e\"], [0.4444444444444444, \"#bd3786\"], [0.5555555555555556, \"#d8576b\"], [0.6666666666666666, \"#ed7953\"], [0.7777777777777778, \"#fb9f3a\"], [0.8888888888888888, \"#fdca26\"], [1.0, \"#f0f921\"]], \"type\": \"heatmapgl\"}], \"histogram\": [{\"marker\": {\"colorbar\": {\"outlinewidth\": 0, \"ticks\": \"\"}}, \"type\": \"histogram\"}], \"histogram2d\": [{\"colorbar\": {\"outlinewidth\": 0, \"ticks\": \"\"}, \"colorscale\": [[0.0, \"#0d0887\"], [0.1111111111111111, \"#46039f\"], [0.2222222222222222, \"#7201a8\"], [0.3333333333333333, \"#9c179e\"], [0.4444444444444444, \"#bd3786\"], [0.5555555555555556, \"#d8576b\"], [0.6666666666666666, \"#ed7953\"], [0.7777777777777778, \"#fb9f3a\"], [0.8888888888888888, \"#fdca26\"], [1.0, \"#f0f921\"]], \"type\": \"histogram2d\"}], \"histogram2dcontour\": [{\"colorbar\": {\"outlinewidth\": 0, \"ticks\": \"\"}, \"colorscale\": [[0.0, \"#0d0887\"], [0.1111111111111111, \"#46039f\"], [0.2222222222222222, \"#7201a8\"], [0.3333333333333333, \"#9c179e\"], [0.4444444444444444, \"#bd3786\"], [0.5555555555555556, \"#d8576b\"], [0.6666666666666666, \"#ed7953\"], [0.7777777777777778, \"#fb9f3a\"], [0.8888888888888888, \"#fdca26\"], [1.0, \"#f0f921\"]], \"type\": \"histogram2dcontour\"}], \"mesh3d\": [{\"colorbar\": {\"outlinewidth\": 0, \"ticks\": \"\"}, \"type\": \"mesh3d\"}], \"parcoords\": [{\"line\": {\"colorbar\": {\"outlinewidth\": 0, \"ticks\": \"\"}}, \"type\": \"parcoords\"}], \"pie\": [{\"automargin\": true, \"type\": \"pie\"}], \"scatter\": [{\"marker\": {\"colorbar\": {\"outlinewidth\": 0, \"ticks\": \"\"}}, \"type\": \"scatter\"}], \"scatter3d\": [{\"line\": {\"colorbar\": {\"outlinewidth\": 0, \"ticks\": \"\"}}, \"marker\": {\"colorbar\": {\"outlinewidth\": 0, \"ticks\": \"\"}}, \"type\": \"scatter3d\"}], \"scattercarpet\": [{\"marker\": {\"colorbar\": {\"outlinewidth\": 0, \"ticks\": \"\"}}, \"type\": \"scattercarpet\"}], \"scattergeo\": [{\"marker\": {\"colorbar\": {\"outlinewidth\": 0, \"ticks\": \"\"}}, \"type\": \"scattergeo\"}], \"scattergl\": [{\"marker\": {\"colorbar\": {\"outlinewidth\": 0, \"ticks\": \"\"}}, \"type\": \"scattergl\"}], \"scattermapbox\": [{\"marker\": {\"colorbar\": {\"outlinewidth\": 0, \"ticks\": \"\"}}, \"type\": \"scattermapbox\"}], \"scatterpolar\": [{\"marker\": {\"colorbar\": {\"outlinewidth\": 0, \"ticks\": \"\"}}, \"type\": \"scatterpolar\"}], \"scatterpolargl\": [{\"marker\": {\"colorbar\": {\"outlinewidth\": 0, \"ticks\": \"\"}}, \"type\": \"scatterpolargl\"}], \"scatterternary\": [{\"marker\": {\"colorbar\": {\"outlinewidth\": 0, \"ticks\": \"\"}}, \"type\": \"scatterternary\"}], \"surface\": [{\"colorbar\": {\"outlinewidth\": 0, \"ticks\": \"\"}, \"colorscale\": [[0.0, \"#0d0887\"], [0.1111111111111111, \"#46039f\"], [0.2222222222222222, \"#7201a8\"], [0.3333333333333333, \"#9c179e\"], [0.4444444444444444, \"#bd3786\"], [0.5555555555555556, \"#d8576b\"], [0.6666666666666666, \"#ed7953\"], [0.7777777777777778, \"#fb9f3a\"], [0.8888888888888888, \"#fdca26\"], [1.0, \"#f0f921\"]], \"type\": \"surface\"}], \"table\": [{\"cells\": {\"fill\": {\"color\": \"#EBF0F8\"}, \"line\": {\"color\": \"white\"}}, \"header\": {\"fill\": {\"color\": \"#C8D4E3\"}, \"line\": {\"color\": \"white\"}}, \"type\": \"table\"}]}, \"layout\": {\"annotationdefaults\": {\"arrowcolor\": \"#2a3f5f\", \"arrowhead\": 0, \"arrowwidth\": 1}, \"coloraxis\": {\"colorbar\": {\"outlinewidth\": 0, \"ticks\": \"\"}}, \"colorscale\": {\"diverging\": [[0, \"#8e0152\"], [0.1, \"#c51b7d\"], [0.2, \"#de77ae\"], [0.3, \"#f1b6da\"], [0.4, \"#fde0ef\"], [0.5, \"#f7f7f7\"], [0.6, \"#e6f5d0\"], [0.7, \"#b8e186\"], [0.8, \"#7fbc41\"], [0.9, \"#4d9221\"], [1, \"#276419\"]], \"sequential\": [[0.0, \"#0d0887\"], [0.1111111111111111, \"#46039f\"], [0.2222222222222222, \"#7201a8\"], [0.3333333333333333, \"#9c179e\"], [0.4444444444444444, \"#bd3786\"], [0.5555555555555556, \"#d8576b\"], [0.6666666666666666, \"#ed7953\"], [0.7777777777777778, \"#fb9f3a\"], [0.8888888888888888, \"#fdca26\"], [1.0, \"#f0f921\"]], \"sequentialminus\": [[0.0, \"#0d0887\"], [0.1111111111111111, \"#46039f\"], [0.2222222222222222, \"#7201a8\"], [0.3333333333333333, \"#9c179e\"], [0.4444444444444444, \"#bd3786\"], [0.5555555555555556, \"#d8576b\"], [0.6666666666666666, \"#ed7953\"], [0.7777777777777778, \"#fb9f3a\"], [0.8888888888888888, \"#fdca26\"], [1.0, \"#f0f921\"]]}, \"colorway\": [\"#636efa\", \"#EF553B\", \"#00cc96\", \"#ab63fa\", \"#FFA15A\", \"#19d3f3\", \"#FF6692\", \"#B6E880\", \"#FF97FF\", \"#FECB52\"], \"font\": {\"color\": \"#2a3f5f\"}, \"geo\": {\"bgcolor\": \"white\", \"lakecolor\": \"white\", \"landcolor\": \"#E5ECF6\", \"showlakes\": true, \"showland\": true, \"subunitcolor\": \"white\"}, \"hoverlabel\": {\"align\": \"left\"}, \"hovermode\": \"closest\", \"mapbox\": {\"style\": \"light\"}, \"paper_bgcolor\": \"white\", \"plot_bgcolor\": \"#E5ECF6\", \"polar\": {\"angularaxis\": {\"gridcolor\": \"white\", \"linecolor\": \"white\", \"ticks\": \"\"}, \"bgcolor\": \"#E5ECF6\", \"radialaxis\": {\"gridcolor\": \"white\", \"linecolor\": \"white\", \"ticks\": \"\"}}, \"scene\": {\"xaxis\": {\"backgroundcolor\": \"#E5ECF6\", \"gridcolor\": \"white\", \"gridwidth\": 2, \"linecolor\": \"white\", \"showbackground\": true, \"ticks\": \"\", \"zerolinecolor\": \"white\"}, \"yaxis\": {\"backgroundcolor\": \"#E5ECF6\", \"gridcolor\": \"white\", \"gridwidth\": 2, \"linecolor\": \"white\", \"showbackground\": true, \"ticks\": \"\", \"zerolinecolor\": \"white\"}, \"zaxis\": {\"backgroundcolor\": \"#E5ECF6\", \"gridcolor\": \"white\", \"gridwidth\": 2, \"linecolor\": \"white\", \"showbackground\": true, \"ticks\": \"\", \"zerolinecolor\": \"white\"}}, \"shapedefaults\": {\"line\": {\"color\": \"#2a3f5f\"}}, \"ternary\": {\"aaxis\": {\"gridcolor\": \"white\", \"linecolor\": \"white\", \"ticks\": \"\"}, \"baxis\": {\"gridcolor\": \"white\", \"linecolor\": \"white\", \"ticks\": \"\"}, \"bgcolor\": \"#E5ECF6\", \"caxis\": {\"gridcolor\": \"white\", \"linecolor\": \"white\", \"ticks\": \"\"}}, \"title\": {\"x\": 0.05}, \"xaxis\": {\"automargin\": true, \"gridcolor\": \"white\", \"linecolor\": \"white\", \"ticks\": \"\", \"title\": {\"standoff\": 15}, \"zerolinecolor\": \"white\", \"zerolinewidth\": 2}, \"yaxis\": {\"automargin\": true, \"gridcolor\": \"white\", \"linecolor\": \"white\", \"ticks\": \"\", \"title\": {\"standoff\": 15}, \"zerolinecolor\": \"white\", \"zerolinewidth\": 2}}}, \"xaxis\": {\"anchor\": \"y\", \"domain\": [0.0, 1.0], \"title\": {\"text\": \"x\"}}, \"yaxis\": {\"anchor\": \"x\", \"domain\": [0.0, 1.0], \"title\": {\"text\": \"y\"}}},\n",
       "                        {\"responsive\": true}\n",
       "                    ).then(function(){\n",
       "                            \n",
       "var gd = document.getElementById('1094f21f-845e-4a2b-b99a-36411842f72a');\n",
       "var x = new MutationObserver(function (mutations, observer) {{\n",
       "        var display = window.getComputedStyle(gd).display;\n",
       "        if (!display || display === 'none') {{\n",
       "            console.log([gd, 'removed!']);\n",
       "            Plotly.purge(gd);\n",
       "            observer.disconnect();\n",
       "        }}\n",
       "}});\n",
       "\n",
       "// Listen for the removal of the full notebook cells\n",
       "var notebookContainer = gd.closest('#notebook-container');\n",
       "if (notebookContainer) {{\n",
       "    x.observe(notebookContainer, {childList: true});\n",
       "}}\n",
       "\n",
       "// Listen for the clearing of the current output cell\n",
       "var outputEl = gd.closest('.output');\n",
       "if (outputEl) {{\n",
       "    x.observe(outputEl, {childList: true});\n",
       "}}\n",
       "\n",
       "                        })\n",
       "                };\n",
       "                });\n",
       "            </script>\n",
       "        </div>"
      ]
     },
     "metadata": {},
     "output_type": "display_data"
    }
   ],
   "source": [
    "px.bar(cardata,x=cardata.Transmission.value_counts().keys(),y=cardata.Transmission.value_counts().tolist(),\n",
    "       color=cardata.Transmission.value_counts().keys())"
   ]
  },
  {
   "cell_type": "code",
   "execution_count": 61,
   "metadata": {},
   "outputs": [
    {
     "data": {
      "application/vnd.plotly.v1+json": {
       "config": {
        "plotlyServerURL": "https://plot.ly"
       },
       "data": [
        {
         "alignmentgroup": "True",
         "hovertemplate": "Transmission=%{x}<br>Selling_Price=%{y}<extra></extra>",
         "legendgroup": "",
         "marker": {
          "color": "#636efa"
         },
         "name": "",
         "notched": false,
         "offsetgroup": "",
         "orientation": "v",
         "showlegend": false,
         "type": "box",
         "x": [
          "Manual",
          "Manual",
          "Manual",
          "Manual",
          "Manual",
          "Manual",
          "Manual",
          "Manual",
          "Manual",
          "Manual",
          "Manual",
          "Manual",
          "Automatic",
          "Manual",
          "Manual",
          "Manual",
          "Manual",
          "Manual",
          "Manual",
          "Manual",
          "Manual",
          "Manual",
          "Automatic",
          "Manual",
          "Manual",
          "Manual",
          "Manual",
          "Manual",
          "Manual",
          "Manual",
          "Manual",
          "Manual",
          "Manual",
          "Manual",
          "Manual",
          "Manual",
          "Manual",
          "Manual",
          "Manual",
          "Manual",
          "Automatic",
          "Manual",
          "Manual",
          "Manual",
          "Manual",
          "Automatic",
          "Manual",
          "Manual",
          "Manual",
          "Automatic",
          "Automatic",
          "Automatic",
          "Automatic",
          "Automatic",
          "Manual",
          "Automatic",
          "Manual",
          "Manual",
          "Manual",
          "Automatic",
          "Manual",
          "Manual",
          "Automatic",
          "Automatic",
          "Automatic",
          "Manual",
          "Automatic",
          "Manual",
          "Manual",
          "Manual",
          "Manual",
          "Manual",
          "Manual",
          "Manual",
          "Manual",
          "Manual",
          "Manual",
          "Automatic",
          "Automatic",
          "Automatic",
          "Manual",
          "Manual",
          "Automatic",
          "Manual",
          "Manual",
          "Automatic",
          "Manual",
          "Manual",
          "Manual",
          "Manual",
          "Manual",
          "Manual",
          "Manual",
          "Automatic",
          "Automatic",
          "Manual",
          "Automatic",
          "Manual",
          "Manual",
          "Manual",
          "Manual",
          "Manual",
          "Manual",
          "Manual",
          "Manual",
          "Manual",
          "Manual",
          "Manual",
          "Manual",
          "Manual",
          "Manual",
          "Manual",
          "Manual",
          "Manual",
          "Manual",
          "Manual",
          "Manual",
          "Manual",
          "Manual",
          "Manual",
          "Manual",
          "Manual",
          "Manual",
          "Manual",
          "Manual",
          "Manual",
          "Manual",
          "Manual",
          "Manual",
          "Manual",
          "Manual",
          "Manual",
          "Manual",
          "Manual",
          "Manual",
          "Manual",
          "Manual",
          "Manual",
          "Manual",
          "Manual",
          "Manual",
          "Manual",
          "Manual",
          "Manual",
          "Manual",
          "Manual",
          "Manual",
          "Manual",
          "Manual",
          "Manual",
          "Manual",
          "Manual",
          "Manual",
          "Manual",
          "Manual",
          "Automatic",
          "Manual",
          "Manual",
          "Manual",
          "Automatic",
          "Manual",
          "Manual",
          "Manual",
          "Manual",
          "Manual",
          "Automatic",
          "Manual",
          "Manual",
          "Manual",
          "Manual",
          "Manual",
          "Manual",
          "Manual",
          "Automatic",
          "Manual",
          "Manual",
          "Manual",
          "Automatic",
          "Automatic",
          "Manual",
          "Manual",
          "Manual",
          "Manual",
          "Manual",
          "Manual",
          "Automatic",
          "Automatic",
          "Manual",
          "Manual",
          "Manual",
          "Manual",
          "Manual",
          "Manual",
          "Manual",
          "Manual",
          "Manual",
          "Automatic",
          "Manual",
          "Manual",
          "Manual",
          "Manual",
          "Manual",
          "Manual",
          "Manual",
          "Manual",
          "Manual",
          "Manual",
          "Automatic",
          "Manual",
          "Manual",
          "Manual",
          "Manual",
          "Manual",
          "Manual",
          "Manual",
          "Manual",
          "Manual",
          "Manual",
          "Manual",
          "Manual",
          "Manual",
          "Automatic",
          "Manual",
          "Manual",
          "Automatic",
          "Manual",
          "Manual",
          "Manual",
          "Manual",
          "Manual",
          "Manual",
          "Manual",
          "Automatic",
          "Manual",
          "Manual",
          "Manual",
          "Manual",
          "Manual",
          "Manual",
          "Manual",
          "Manual",
          "Manual",
          "Manual",
          "Manual",
          "Manual",
          "Manual",
          "Manual",
          "Manual",
          "Manual",
          "Manual",
          "Manual",
          "Manual",
          "Automatic",
          "Manual",
          "Manual",
          "Manual",
          "Manual",
          "Manual",
          "Manual",
          "Manual",
          "Manual",
          "Manual",
          "Manual",
          "Manual",
          "Manual",
          "Manual",
          "Manual",
          "Manual",
          "Manual",
          "Manual",
          "Manual",
          "Manual",
          "Manual",
          "Manual",
          "Manual",
          "Automatic",
          "Manual",
          "Manual",
          "Manual",
          "Manual",
          "Manual",
          "Manual",
          "Manual",
          "Manual",
          "Manual",
          "Automatic",
          "Manual",
          "Automatic",
          "Manual",
          "Manual",
          "Manual",
          "Manual",
          "Manual",
          "Manual",
          "Manual",
          "Manual",
          "Manual",
          "Manual",
          "Manual",
          "Manual",
          "Manual"
         ],
         "x0": " ",
         "xaxis": "x",
         "y": [
          3.35,
          4.75,
          7.25,
          2.85,
          4.6,
          9.25,
          6.75,
          6.5,
          8.75,
          7.45,
          2.85,
          6.85,
          7.5,
          6.1,
          2.25,
          7.75,
          7.25,
          7.75,
          3.25,
          2.65,
          2.85,
          4.9,
          4.4,
          2.5,
          2.9,
          3,
          4.15,
          6,
          1.95,
          7.45,
          3.1,
          2.35,
          4.95,
          6,
          5.5,
          2.95,
          4.65,
          0.35,
          3,
          2.25,
          5.85,
          2.55,
          1.95,
          5.5,
          1.25,
          7.5,
          2.65,
          1.05,
          5.8,
          7.75,
          14.9,
          23,
          18,
          16,
          2.75,
          3.6,
          4.5,
          4.75,
          4.1,
          19.99,
          6.95,
          4.5,
          18.75,
          23.5,
          33,
          4.75,
          19.75,
          9.25,
          4.35,
          14.25,
          3.95,
          4.5,
          7.45,
          2.65,
          4.9,
          3.95,
          5.5,
          1.5,
          5.25,
          14.5,
          14.73,
          4.75,
          23,
          12.5,
          3.49,
          2.5,
          35,
          5.9,
          3.45,
          4.75,
          3.8,
          11.25,
          3.51,
          23,
          4,
          5.85,
          20.75,
          17,
          7.05,
          9.65,
          1.75,
          1.7,
          1.65,
          1.45,
          1.35,
          1.35,
          1.35,
          1.25,
          1.2,
          1.2,
          1.2,
          1.15,
          1.15,
          1.15,
          1.15,
          1.11,
          1.1,
          1.1,
          1.1,
          1.05,
          1.05,
          1.05,
          1.05,
          1,
          0.95,
          0.9,
          0.9,
          0.75,
          0.8,
          0.78,
          0.75,
          0.75,
          0.75,
          0.72,
          0.65,
          0.65,
          0.65,
          0.65,
          0.6,
          0.6,
          0.6,
          0.6,
          0.6,
          0.6,
          0.6,
          0.6,
          0.55,
          0.55,
          0.52,
          0.51,
          0.5,
          0.5,
          0.5,
          0.5,
          0.5,
          0.48,
          0.48,
          0.48,
          0.48,
          0.45,
          0.45,
          0.45,
          0.45,
          0.45,
          0.45,
          0.45,
          0.45,
          0.42,
          0.42,
          0.4,
          0.4,
          0.4,
          0.4,
          0.4,
          0.38,
          0.38,
          0.35,
          0.35,
          0.35,
          0.31,
          0.3,
          0.3,
          0.3,
          0.27,
          0.25,
          0.25,
          0.25,
          0.25,
          0.25,
          0.2,
          0.2,
          0.2,
          0.2,
          0.2,
          0.2,
          0.18,
          0.17,
          0.16,
          0.15,
          0.12,
          0.1,
          3.25,
          4.4,
          2.95,
          2.75,
          5.25,
          5.75,
          5.15,
          7.9,
          4.85,
          3.1,
          11.75,
          11.25,
          2.9,
          5.25,
          4.5,
          2.9,
          3.15,
          6.45,
          4.5,
          3.5,
          4.5,
          6,
          8.25,
          5.11,
          2.7,
          5.25,
          2.55,
          4.95,
          3.1,
          6.15,
          9.25,
          11.45,
          3.9,
          5.5,
          9.1,
          3.1,
          11.25,
          4.8,
          2,
          5.35,
          4.75,
          4.4,
          6.25,
          5.95,
          5.2,
          3.75,
          5.95,
          4,
          5.25,
          12.9,
          5,
          5.4,
          7.2,
          5.25,
          3,
          10.25,
          8.5,
          8.4,
          3.9,
          9.15,
          5.5,
          4,
          6.6,
          4,
          6.5,
          3.65,
          8.35,
          4.8,
          6.7,
          4.1,
          3,
          7.5,
          2.25,
          5.3,
          10.9,
          8.65,
          9.7,
          6,
          6.25,
          5.25,
          2.1,
          8.25,
          8.99,
          3.5,
          7.4,
          5.65,
          5.75,
          8.4,
          10.11,
          4.5,
          5.4,
          6.4,
          3.25,
          3.75,
          8.55,
          9.5,
          4,
          3.35,
          11.5,
          5.3
         ],
         "y0": " ",
         "yaxis": "y"
        }
       ],
       "layout": {
        "boxmode": "group",
        "legend": {
         "tracegroupgap": 0
        },
        "margin": {
         "t": 60
        },
        "template": {
         "data": {
          "bar": [
           {
            "error_x": {
             "color": "#2a3f5f"
            },
            "error_y": {
             "color": "#2a3f5f"
            },
            "marker": {
             "line": {
              "color": "#E5ECF6",
              "width": 0.5
             }
            },
            "type": "bar"
           }
          ],
          "barpolar": [
           {
            "marker": {
             "line": {
              "color": "#E5ECF6",
              "width": 0.5
             }
            },
            "type": "barpolar"
           }
          ],
          "carpet": [
           {
            "aaxis": {
             "endlinecolor": "#2a3f5f",
             "gridcolor": "white",
             "linecolor": "white",
             "minorgridcolor": "white",
             "startlinecolor": "#2a3f5f"
            },
            "baxis": {
             "endlinecolor": "#2a3f5f",
             "gridcolor": "white",
             "linecolor": "white",
             "minorgridcolor": "white",
             "startlinecolor": "#2a3f5f"
            },
            "type": "carpet"
           }
          ],
          "choropleth": [
           {
            "colorbar": {
             "outlinewidth": 0,
             "ticks": ""
            },
            "type": "choropleth"
           }
          ],
          "contour": [
           {
            "colorbar": {
             "outlinewidth": 0,
             "ticks": ""
            },
            "colorscale": [
             [
              0,
              "#0d0887"
             ],
             [
              0.1111111111111111,
              "#46039f"
             ],
             [
              0.2222222222222222,
              "#7201a8"
             ],
             [
              0.3333333333333333,
              "#9c179e"
             ],
             [
              0.4444444444444444,
              "#bd3786"
             ],
             [
              0.5555555555555556,
              "#d8576b"
             ],
             [
              0.6666666666666666,
              "#ed7953"
             ],
             [
              0.7777777777777778,
              "#fb9f3a"
             ],
             [
              0.8888888888888888,
              "#fdca26"
             ],
             [
              1,
              "#f0f921"
             ]
            ],
            "type": "contour"
           }
          ],
          "contourcarpet": [
           {
            "colorbar": {
             "outlinewidth": 0,
             "ticks": ""
            },
            "type": "contourcarpet"
           }
          ],
          "heatmap": [
           {
            "colorbar": {
             "outlinewidth": 0,
             "ticks": ""
            },
            "colorscale": [
             [
              0,
              "#0d0887"
             ],
             [
              0.1111111111111111,
              "#46039f"
             ],
             [
              0.2222222222222222,
              "#7201a8"
             ],
             [
              0.3333333333333333,
              "#9c179e"
             ],
             [
              0.4444444444444444,
              "#bd3786"
             ],
             [
              0.5555555555555556,
              "#d8576b"
             ],
             [
              0.6666666666666666,
              "#ed7953"
             ],
             [
              0.7777777777777778,
              "#fb9f3a"
             ],
             [
              0.8888888888888888,
              "#fdca26"
             ],
             [
              1,
              "#f0f921"
             ]
            ],
            "type": "heatmap"
           }
          ],
          "heatmapgl": [
           {
            "colorbar": {
             "outlinewidth": 0,
             "ticks": ""
            },
            "colorscale": [
             [
              0,
              "#0d0887"
             ],
             [
              0.1111111111111111,
              "#46039f"
             ],
             [
              0.2222222222222222,
              "#7201a8"
             ],
             [
              0.3333333333333333,
              "#9c179e"
             ],
             [
              0.4444444444444444,
              "#bd3786"
             ],
             [
              0.5555555555555556,
              "#d8576b"
             ],
             [
              0.6666666666666666,
              "#ed7953"
             ],
             [
              0.7777777777777778,
              "#fb9f3a"
             ],
             [
              0.8888888888888888,
              "#fdca26"
             ],
             [
              1,
              "#f0f921"
             ]
            ],
            "type": "heatmapgl"
           }
          ],
          "histogram": [
           {
            "marker": {
             "colorbar": {
              "outlinewidth": 0,
              "ticks": ""
             }
            },
            "type": "histogram"
           }
          ],
          "histogram2d": [
           {
            "colorbar": {
             "outlinewidth": 0,
             "ticks": ""
            },
            "colorscale": [
             [
              0,
              "#0d0887"
             ],
             [
              0.1111111111111111,
              "#46039f"
             ],
             [
              0.2222222222222222,
              "#7201a8"
             ],
             [
              0.3333333333333333,
              "#9c179e"
             ],
             [
              0.4444444444444444,
              "#bd3786"
             ],
             [
              0.5555555555555556,
              "#d8576b"
             ],
             [
              0.6666666666666666,
              "#ed7953"
             ],
             [
              0.7777777777777778,
              "#fb9f3a"
             ],
             [
              0.8888888888888888,
              "#fdca26"
             ],
             [
              1,
              "#f0f921"
             ]
            ],
            "type": "histogram2d"
           }
          ],
          "histogram2dcontour": [
           {
            "colorbar": {
             "outlinewidth": 0,
             "ticks": ""
            },
            "colorscale": [
             [
              0,
              "#0d0887"
             ],
             [
              0.1111111111111111,
              "#46039f"
             ],
             [
              0.2222222222222222,
              "#7201a8"
             ],
             [
              0.3333333333333333,
              "#9c179e"
             ],
             [
              0.4444444444444444,
              "#bd3786"
             ],
             [
              0.5555555555555556,
              "#d8576b"
             ],
             [
              0.6666666666666666,
              "#ed7953"
             ],
             [
              0.7777777777777778,
              "#fb9f3a"
             ],
             [
              0.8888888888888888,
              "#fdca26"
             ],
             [
              1,
              "#f0f921"
             ]
            ],
            "type": "histogram2dcontour"
           }
          ],
          "mesh3d": [
           {
            "colorbar": {
             "outlinewidth": 0,
             "ticks": ""
            },
            "type": "mesh3d"
           }
          ],
          "parcoords": [
           {
            "line": {
             "colorbar": {
              "outlinewidth": 0,
              "ticks": ""
             }
            },
            "type": "parcoords"
           }
          ],
          "pie": [
           {
            "automargin": true,
            "type": "pie"
           }
          ],
          "scatter": [
           {
            "marker": {
             "colorbar": {
              "outlinewidth": 0,
              "ticks": ""
             }
            },
            "type": "scatter"
           }
          ],
          "scatter3d": [
           {
            "line": {
             "colorbar": {
              "outlinewidth": 0,
              "ticks": ""
             }
            },
            "marker": {
             "colorbar": {
              "outlinewidth": 0,
              "ticks": ""
             }
            },
            "type": "scatter3d"
           }
          ],
          "scattercarpet": [
           {
            "marker": {
             "colorbar": {
              "outlinewidth": 0,
              "ticks": ""
             }
            },
            "type": "scattercarpet"
           }
          ],
          "scattergeo": [
           {
            "marker": {
             "colorbar": {
              "outlinewidth": 0,
              "ticks": ""
             }
            },
            "type": "scattergeo"
           }
          ],
          "scattergl": [
           {
            "marker": {
             "colorbar": {
              "outlinewidth": 0,
              "ticks": ""
             }
            },
            "type": "scattergl"
           }
          ],
          "scattermapbox": [
           {
            "marker": {
             "colorbar": {
              "outlinewidth": 0,
              "ticks": ""
             }
            },
            "type": "scattermapbox"
           }
          ],
          "scatterpolar": [
           {
            "marker": {
             "colorbar": {
              "outlinewidth": 0,
              "ticks": ""
             }
            },
            "type": "scatterpolar"
           }
          ],
          "scatterpolargl": [
           {
            "marker": {
             "colorbar": {
              "outlinewidth": 0,
              "ticks": ""
             }
            },
            "type": "scatterpolargl"
           }
          ],
          "scatterternary": [
           {
            "marker": {
             "colorbar": {
              "outlinewidth": 0,
              "ticks": ""
             }
            },
            "type": "scatterternary"
           }
          ],
          "surface": [
           {
            "colorbar": {
             "outlinewidth": 0,
             "ticks": ""
            },
            "colorscale": [
             [
              0,
              "#0d0887"
             ],
             [
              0.1111111111111111,
              "#46039f"
             ],
             [
              0.2222222222222222,
              "#7201a8"
             ],
             [
              0.3333333333333333,
              "#9c179e"
             ],
             [
              0.4444444444444444,
              "#bd3786"
             ],
             [
              0.5555555555555556,
              "#d8576b"
             ],
             [
              0.6666666666666666,
              "#ed7953"
             ],
             [
              0.7777777777777778,
              "#fb9f3a"
             ],
             [
              0.8888888888888888,
              "#fdca26"
             ],
             [
              1,
              "#f0f921"
             ]
            ],
            "type": "surface"
           }
          ],
          "table": [
           {
            "cells": {
             "fill": {
              "color": "#EBF0F8"
             },
             "line": {
              "color": "white"
             }
            },
            "header": {
             "fill": {
              "color": "#C8D4E3"
             },
             "line": {
              "color": "white"
             }
            },
            "type": "table"
           }
          ]
         },
         "layout": {
          "annotationdefaults": {
           "arrowcolor": "#2a3f5f",
           "arrowhead": 0,
           "arrowwidth": 1
          },
          "coloraxis": {
           "colorbar": {
            "outlinewidth": 0,
            "ticks": ""
           }
          },
          "colorscale": {
           "diverging": [
            [
             0,
             "#8e0152"
            ],
            [
             0.1,
             "#c51b7d"
            ],
            [
             0.2,
             "#de77ae"
            ],
            [
             0.3,
             "#f1b6da"
            ],
            [
             0.4,
             "#fde0ef"
            ],
            [
             0.5,
             "#f7f7f7"
            ],
            [
             0.6,
             "#e6f5d0"
            ],
            [
             0.7,
             "#b8e186"
            ],
            [
             0.8,
             "#7fbc41"
            ],
            [
             0.9,
             "#4d9221"
            ],
            [
             1,
             "#276419"
            ]
           ],
           "sequential": [
            [
             0,
             "#0d0887"
            ],
            [
             0.1111111111111111,
             "#46039f"
            ],
            [
             0.2222222222222222,
             "#7201a8"
            ],
            [
             0.3333333333333333,
             "#9c179e"
            ],
            [
             0.4444444444444444,
             "#bd3786"
            ],
            [
             0.5555555555555556,
             "#d8576b"
            ],
            [
             0.6666666666666666,
             "#ed7953"
            ],
            [
             0.7777777777777778,
             "#fb9f3a"
            ],
            [
             0.8888888888888888,
             "#fdca26"
            ],
            [
             1,
             "#f0f921"
            ]
           ],
           "sequentialminus": [
            [
             0,
             "#0d0887"
            ],
            [
             0.1111111111111111,
             "#46039f"
            ],
            [
             0.2222222222222222,
             "#7201a8"
            ],
            [
             0.3333333333333333,
             "#9c179e"
            ],
            [
             0.4444444444444444,
             "#bd3786"
            ],
            [
             0.5555555555555556,
             "#d8576b"
            ],
            [
             0.6666666666666666,
             "#ed7953"
            ],
            [
             0.7777777777777778,
             "#fb9f3a"
            ],
            [
             0.8888888888888888,
             "#fdca26"
            ],
            [
             1,
             "#f0f921"
            ]
           ]
          },
          "colorway": [
           "#636efa",
           "#EF553B",
           "#00cc96",
           "#ab63fa",
           "#FFA15A",
           "#19d3f3",
           "#FF6692",
           "#B6E880",
           "#FF97FF",
           "#FECB52"
          ],
          "font": {
           "color": "#2a3f5f"
          },
          "geo": {
           "bgcolor": "white",
           "lakecolor": "white",
           "landcolor": "#E5ECF6",
           "showlakes": true,
           "showland": true,
           "subunitcolor": "white"
          },
          "hoverlabel": {
           "align": "left"
          },
          "hovermode": "closest",
          "mapbox": {
           "style": "light"
          },
          "paper_bgcolor": "white",
          "plot_bgcolor": "#E5ECF6",
          "polar": {
           "angularaxis": {
            "gridcolor": "white",
            "linecolor": "white",
            "ticks": ""
           },
           "bgcolor": "#E5ECF6",
           "radialaxis": {
            "gridcolor": "white",
            "linecolor": "white",
            "ticks": ""
           }
          },
          "scene": {
           "xaxis": {
            "backgroundcolor": "#E5ECF6",
            "gridcolor": "white",
            "gridwidth": 2,
            "linecolor": "white",
            "showbackground": true,
            "ticks": "",
            "zerolinecolor": "white"
           },
           "yaxis": {
            "backgroundcolor": "#E5ECF6",
            "gridcolor": "white",
            "gridwidth": 2,
            "linecolor": "white",
            "showbackground": true,
            "ticks": "",
            "zerolinecolor": "white"
           },
           "zaxis": {
            "backgroundcolor": "#E5ECF6",
            "gridcolor": "white",
            "gridwidth": 2,
            "linecolor": "white",
            "showbackground": true,
            "ticks": "",
            "zerolinecolor": "white"
           }
          },
          "shapedefaults": {
           "line": {
            "color": "#2a3f5f"
           }
          },
          "ternary": {
           "aaxis": {
            "gridcolor": "white",
            "linecolor": "white",
            "ticks": ""
           },
           "baxis": {
            "gridcolor": "white",
            "linecolor": "white",
            "ticks": ""
           },
           "bgcolor": "#E5ECF6",
           "caxis": {
            "gridcolor": "white",
            "linecolor": "white",
            "ticks": ""
           }
          },
          "title": {
           "x": 0.05
          },
          "xaxis": {
           "automargin": true,
           "gridcolor": "white",
           "linecolor": "white",
           "ticks": "",
           "title": {
            "standoff": 15
           },
           "zerolinecolor": "white",
           "zerolinewidth": 2
          },
          "yaxis": {
           "automargin": true,
           "gridcolor": "white",
           "linecolor": "white",
           "ticks": "",
           "title": {
            "standoff": 15
           },
           "zerolinecolor": "white",
           "zerolinewidth": 2
          }
         }
        },
        "xaxis": {
         "anchor": "y",
         "domain": [
          0,
          1
         ],
         "title": {
          "text": "Transmission"
         }
        },
        "yaxis": {
         "anchor": "x",
         "domain": [
          0,
          1
         ],
         "title": {
          "text": "Selling_Price"
         }
        }
       }
      },
      "text/html": [
       "<div>\n",
       "        \n",
       "        \n",
       "            <div id=\"c0d41226-e00f-4cb5-bcae-fb36396f5361\" class=\"plotly-graph-div\" style=\"height:525px; width:100%;\"></div>\n",
       "            <script type=\"text/javascript\">\n",
       "                require([\"plotly\"], function(Plotly) {\n",
       "                    window.PLOTLYENV=window.PLOTLYENV || {};\n",
       "                    \n",
       "                if (document.getElementById(\"c0d41226-e00f-4cb5-bcae-fb36396f5361\")) {\n",
       "                    Plotly.newPlot(\n",
       "                        'c0d41226-e00f-4cb5-bcae-fb36396f5361',\n",
       "                        [{\"alignmentgroup\": \"True\", \"hovertemplate\": \"Transmission=%{x}<br>Selling_Price=%{y}<extra></extra>\", \"legendgroup\": \"\", \"marker\": {\"color\": \"#636efa\"}, \"name\": \"\", \"notched\": false, \"offsetgroup\": \"\", \"orientation\": \"v\", \"showlegend\": false, \"type\": \"box\", \"x\": [\"Manual\", \"Manual\", \"Manual\", \"Manual\", \"Manual\", \"Manual\", \"Manual\", \"Manual\", \"Manual\", \"Manual\", \"Manual\", \"Manual\", \"Automatic\", \"Manual\", \"Manual\", \"Manual\", \"Manual\", \"Manual\", \"Manual\", \"Manual\", \"Manual\", \"Manual\", \"Automatic\", \"Manual\", \"Manual\", \"Manual\", \"Manual\", \"Manual\", \"Manual\", \"Manual\", \"Manual\", \"Manual\", \"Manual\", \"Manual\", \"Manual\", \"Manual\", \"Manual\", \"Manual\", \"Manual\", \"Manual\", \"Automatic\", \"Manual\", \"Manual\", \"Manual\", \"Manual\", \"Automatic\", \"Manual\", \"Manual\", \"Manual\", \"Automatic\", \"Automatic\", \"Automatic\", \"Automatic\", \"Automatic\", \"Manual\", \"Automatic\", \"Manual\", \"Manual\", \"Manual\", \"Automatic\", \"Manual\", \"Manual\", \"Automatic\", \"Automatic\", \"Automatic\", \"Manual\", \"Automatic\", \"Manual\", \"Manual\", \"Manual\", \"Manual\", \"Manual\", \"Manual\", \"Manual\", \"Manual\", \"Manual\", \"Manual\", \"Automatic\", \"Automatic\", \"Automatic\", \"Manual\", \"Manual\", \"Automatic\", \"Manual\", \"Manual\", \"Automatic\", \"Manual\", \"Manual\", \"Manual\", \"Manual\", \"Manual\", \"Manual\", \"Manual\", \"Automatic\", \"Automatic\", \"Manual\", \"Automatic\", \"Manual\", \"Manual\", \"Manual\", \"Manual\", \"Manual\", \"Manual\", \"Manual\", \"Manual\", \"Manual\", \"Manual\", \"Manual\", \"Manual\", \"Manual\", \"Manual\", \"Manual\", \"Manual\", \"Manual\", \"Manual\", \"Manual\", \"Manual\", \"Manual\", \"Manual\", \"Manual\", \"Manual\", \"Manual\", \"Manual\", \"Manual\", \"Manual\", \"Manual\", \"Manual\", \"Manual\", \"Manual\", \"Manual\", \"Manual\", \"Manual\", \"Manual\", \"Manual\", \"Manual\", \"Manual\", \"Manual\", \"Manual\", \"Manual\", \"Manual\", \"Manual\", \"Manual\", \"Manual\", \"Manual\", \"Manual\", \"Manual\", \"Manual\", \"Manual\", \"Manual\", \"Manual\", \"Manual\", \"Manual\", \"Manual\", \"Manual\", \"Manual\", \"Automatic\", \"Manual\", \"Manual\", \"Manual\", \"Automatic\", \"Manual\", \"Manual\", \"Manual\", \"Manual\", \"Manual\", \"Automatic\", \"Manual\", \"Manual\", \"Manual\", \"Manual\", \"Manual\", \"Manual\", \"Manual\", \"Automatic\", \"Manual\", \"Manual\", \"Manual\", \"Automatic\", \"Automatic\", \"Manual\", \"Manual\", \"Manual\", \"Manual\", \"Manual\", \"Manual\", \"Automatic\", \"Automatic\", \"Manual\", \"Manual\", \"Manual\", \"Manual\", \"Manual\", \"Manual\", \"Manual\", \"Manual\", \"Manual\", \"Automatic\", \"Manual\", \"Manual\", \"Manual\", \"Manual\", \"Manual\", \"Manual\", \"Manual\", \"Manual\", \"Manual\", \"Manual\", \"Automatic\", \"Manual\", \"Manual\", \"Manual\", \"Manual\", \"Manual\", \"Manual\", \"Manual\", \"Manual\", \"Manual\", \"Manual\", \"Manual\", \"Manual\", \"Manual\", \"Automatic\", \"Manual\", \"Manual\", \"Automatic\", \"Manual\", \"Manual\", \"Manual\", \"Manual\", \"Manual\", \"Manual\", \"Manual\", \"Automatic\", \"Manual\", \"Manual\", \"Manual\", \"Manual\", \"Manual\", \"Manual\", \"Manual\", \"Manual\", \"Manual\", \"Manual\", \"Manual\", \"Manual\", \"Manual\", \"Manual\", \"Manual\", \"Manual\", \"Manual\", \"Manual\", \"Manual\", \"Automatic\", \"Manual\", \"Manual\", \"Manual\", \"Manual\", \"Manual\", \"Manual\", \"Manual\", \"Manual\", \"Manual\", \"Manual\", \"Manual\", \"Manual\", \"Manual\", \"Manual\", \"Manual\", \"Manual\", \"Manual\", \"Manual\", \"Manual\", \"Manual\", \"Manual\", \"Manual\", \"Automatic\", \"Manual\", \"Manual\", \"Manual\", \"Manual\", \"Manual\", \"Manual\", \"Manual\", \"Manual\", \"Manual\", \"Automatic\", \"Manual\", \"Automatic\", \"Manual\", \"Manual\", \"Manual\", \"Manual\", \"Manual\", \"Manual\", \"Manual\", \"Manual\", \"Manual\", \"Manual\", \"Manual\", \"Manual\", \"Manual\"], \"x0\": \" \", \"xaxis\": \"x\", \"y\": [3.35, 4.75, 7.25, 2.85, 4.6, 9.25, 6.75, 6.5, 8.75, 7.45, 2.85, 6.85, 7.5, 6.1, 2.25, 7.75, 7.25, 7.75, 3.25, 2.65, 2.85, 4.9, 4.4, 2.5, 2.9, 3.0, 4.15, 6.0, 1.95, 7.45, 3.1, 2.35, 4.95, 6.0, 5.5, 2.95, 4.65, 0.35, 3.0, 2.25, 5.85, 2.55, 1.95, 5.5, 1.25, 7.5, 2.65, 1.05, 5.8, 7.75, 14.9, 23.0, 18.0, 16.0, 2.75, 3.6, 4.5, 4.75, 4.1, 19.99, 6.95, 4.5, 18.75, 23.5, 33.0, 4.75, 19.75, 9.25, 4.35, 14.25, 3.95, 4.5, 7.45, 2.65, 4.9, 3.95, 5.5, 1.5, 5.25, 14.5, 14.73, 4.75, 23.0, 12.5, 3.49, 2.5, 35.0, 5.9, 3.45, 4.75, 3.8, 11.25, 3.51, 23.0, 4.0, 5.85, 20.75, 17.0, 7.05, 9.65, 1.75, 1.7, 1.65, 1.45, 1.35, 1.35, 1.35, 1.25, 1.2, 1.2, 1.2, 1.15, 1.15, 1.15, 1.15, 1.11, 1.1, 1.1, 1.1, 1.05, 1.05, 1.05, 1.05, 1.0, 0.95, 0.9, 0.9, 0.75, 0.8, 0.78, 0.75, 0.75, 0.75, 0.72, 0.65, 0.65, 0.65, 0.65, 0.6, 0.6, 0.6, 0.6, 0.6, 0.6, 0.6, 0.6, 0.55, 0.55, 0.52, 0.51, 0.5, 0.5, 0.5, 0.5, 0.5, 0.48, 0.48, 0.48, 0.48, 0.45, 0.45, 0.45, 0.45, 0.45, 0.45, 0.45, 0.45, 0.42, 0.42, 0.4, 0.4, 0.4, 0.4, 0.4, 0.38, 0.38, 0.35, 0.35, 0.35, 0.31, 0.3, 0.3, 0.3, 0.27, 0.25, 0.25, 0.25, 0.25, 0.25, 0.2, 0.2, 0.2, 0.2, 0.2, 0.2, 0.18, 0.17, 0.16, 0.15, 0.12, 0.1, 3.25, 4.4, 2.95, 2.75, 5.25, 5.75, 5.15, 7.9, 4.85, 3.1, 11.75, 11.25, 2.9, 5.25, 4.5, 2.9, 3.15, 6.45, 4.5, 3.5, 4.5, 6.0, 8.25, 5.11, 2.7, 5.25, 2.55, 4.95, 3.1, 6.15, 9.25, 11.45, 3.9, 5.5, 9.1, 3.1, 11.25, 4.8, 2.0, 5.35, 4.75, 4.4, 6.25, 5.95, 5.2, 3.75, 5.95, 4.0, 5.25, 12.9, 5.0, 5.4, 7.2, 5.25, 3.0, 10.25, 8.5, 8.4, 3.9, 9.15, 5.5, 4.0, 6.6, 4.0, 6.5, 3.65, 8.35, 4.8, 6.7, 4.1, 3.0, 7.5, 2.25, 5.3, 10.9, 8.65, 9.7, 6.0, 6.25, 5.25, 2.1, 8.25, 8.99, 3.5, 7.4, 5.65, 5.75, 8.4, 10.11, 4.5, 5.4, 6.4, 3.25, 3.75, 8.55, 9.5, 4.0, 3.35, 11.5, 5.3], \"y0\": \" \", \"yaxis\": \"y\"}],\n",
       "                        {\"boxmode\": \"group\", \"legend\": {\"tracegroupgap\": 0}, \"margin\": {\"t\": 60}, \"template\": {\"data\": {\"bar\": [{\"error_x\": {\"color\": \"#2a3f5f\"}, \"error_y\": {\"color\": \"#2a3f5f\"}, \"marker\": {\"line\": {\"color\": \"#E5ECF6\", \"width\": 0.5}}, \"type\": \"bar\"}], \"barpolar\": [{\"marker\": {\"line\": {\"color\": \"#E5ECF6\", \"width\": 0.5}}, \"type\": \"barpolar\"}], \"carpet\": [{\"aaxis\": {\"endlinecolor\": \"#2a3f5f\", \"gridcolor\": \"white\", \"linecolor\": \"white\", \"minorgridcolor\": \"white\", \"startlinecolor\": \"#2a3f5f\"}, \"baxis\": {\"endlinecolor\": \"#2a3f5f\", \"gridcolor\": \"white\", \"linecolor\": \"white\", \"minorgridcolor\": \"white\", \"startlinecolor\": \"#2a3f5f\"}, \"type\": \"carpet\"}], \"choropleth\": [{\"colorbar\": {\"outlinewidth\": 0, \"ticks\": \"\"}, \"type\": \"choropleth\"}], \"contour\": [{\"colorbar\": {\"outlinewidth\": 0, \"ticks\": \"\"}, \"colorscale\": [[0.0, \"#0d0887\"], [0.1111111111111111, \"#46039f\"], [0.2222222222222222, \"#7201a8\"], [0.3333333333333333, \"#9c179e\"], [0.4444444444444444, \"#bd3786\"], [0.5555555555555556, \"#d8576b\"], [0.6666666666666666, \"#ed7953\"], [0.7777777777777778, \"#fb9f3a\"], [0.8888888888888888, \"#fdca26\"], [1.0, \"#f0f921\"]], \"type\": \"contour\"}], \"contourcarpet\": [{\"colorbar\": {\"outlinewidth\": 0, \"ticks\": \"\"}, \"type\": \"contourcarpet\"}], \"heatmap\": [{\"colorbar\": {\"outlinewidth\": 0, \"ticks\": \"\"}, \"colorscale\": [[0.0, \"#0d0887\"], [0.1111111111111111, \"#46039f\"], [0.2222222222222222, \"#7201a8\"], [0.3333333333333333, \"#9c179e\"], [0.4444444444444444, \"#bd3786\"], [0.5555555555555556, \"#d8576b\"], [0.6666666666666666, \"#ed7953\"], [0.7777777777777778, \"#fb9f3a\"], [0.8888888888888888, \"#fdca26\"], [1.0, \"#f0f921\"]], \"type\": \"heatmap\"}], \"heatmapgl\": [{\"colorbar\": {\"outlinewidth\": 0, \"ticks\": \"\"}, \"colorscale\": [[0.0, \"#0d0887\"], [0.1111111111111111, \"#46039f\"], [0.2222222222222222, \"#7201a8\"], [0.3333333333333333, \"#9c179e\"], [0.4444444444444444, \"#bd3786\"], [0.5555555555555556, \"#d8576b\"], [0.6666666666666666, \"#ed7953\"], [0.7777777777777778, \"#fb9f3a\"], [0.8888888888888888, \"#fdca26\"], [1.0, \"#f0f921\"]], \"type\": \"heatmapgl\"}], \"histogram\": [{\"marker\": {\"colorbar\": {\"outlinewidth\": 0, \"ticks\": \"\"}}, \"type\": \"histogram\"}], \"histogram2d\": [{\"colorbar\": {\"outlinewidth\": 0, \"ticks\": \"\"}, \"colorscale\": [[0.0, \"#0d0887\"], [0.1111111111111111, \"#46039f\"], [0.2222222222222222, \"#7201a8\"], [0.3333333333333333, \"#9c179e\"], [0.4444444444444444, \"#bd3786\"], [0.5555555555555556, \"#d8576b\"], [0.6666666666666666, \"#ed7953\"], [0.7777777777777778, \"#fb9f3a\"], [0.8888888888888888, \"#fdca26\"], [1.0, \"#f0f921\"]], \"type\": \"histogram2d\"}], \"histogram2dcontour\": [{\"colorbar\": {\"outlinewidth\": 0, \"ticks\": \"\"}, \"colorscale\": [[0.0, \"#0d0887\"], [0.1111111111111111, \"#46039f\"], [0.2222222222222222, \"#7201a8\"], [0.3333333333333333, \"#9c179e\"], [0.4444444444444444, \"#bd3786\"], [0.5555555555555556, \"#d8576b\"], [0.6666666666666666, \"#ed7953\"], [0.7777777777777778, \"#fb9f3a\"], [0.8888888888888888, \"#fdca26\"], [1.0, \"#f0f921\"]], \"type\": \"histogram2dcontour\"}], \"mesh3d\": [{\"colorbar\": {\"outlinewidth\": 0, \"ticks\": \"\"}, \"type\": \"mesh3d\"}], \"parcoords\": [{\"line\": {\"colorbar\": {\"outlinewidth\": 0, \"ticks\": \"\"}}, \"type\": \"parcoords\"}], \"pie\": [{\"automargin\": true, \"type\": \"pie\"}], \"scatter\": [{\"marker\": {\"colorbar\": {\"outlinewidth\": 0, \"ticks\": \"\"}}, \"type\": \"scatter\"}], \"scatter3d\": [{\"line\": {\"colorbar\": {\"outlinewidth\": 0, \"ticks\": \"\"}}, \"marker\": {\"colorbar\": {\"outlinewidth\": 0, \"ticks\": \"\"}}, \"type\": \"scatter3d\"}], \"scattercarpet\": [{\"marker\": {\"colorbar\": {\"outlinewidth\": 0, \"ticks\": \"\"}}, \"type\": \"scattercarpet\"}], \"scattergeo\": [{\"marker\": {\"colorbar\": {\"outlinewidth\": 0, \"ticks\": \"\"}}, \"type\": \"scattergeo\"}], \"scattergl\": [{\"marker\": {\"colorbar\": {\"outlinewidth\": 0, \"ticks\": \"\"}}, \"type\": \"scattergl\"}], \"scattermapbox\": [{\"marker\": {\"colorbar\": {\"outlinewidth\": 0, \"ticks\": \"\"}}, \"type\": \"scattermapbox\"}], \"scatterpolar\": [{\"marker\": {\"colorbar\": {\"outlinewidth\": 0, \"ticks\": \"\"}}, \"type\": \"scatterpolar\"}], \"scatterpolargl\": [{\"marker\": {\"colorbar\": {\"outlinewidth\": 0, \"ticks\": \"\"}}, \"type\": \"scatterpolargl\"}], \"scatterternary\": [{\"marker\": {\"colorbar\": {\"outlinewidth\": 0, \"ticks\": \"\"}}, \"type\": \"scatterternary\"}], \"surface\": [{\"colorbar\": {\"outlinewidth\": 0, \"ticks\": \"\"}, \"colorscale\": [[0.0, \"#0d0887\"], [0.1111111111111111, \"#46039f\"], [0.2222222222222222, \"#7201a8\"], [0.3333333333333333, \"#9c179e\"], [0.4444444444444444, \"#bd3786\"], [0.5555555555555556, \"#d8576b\"], [0.6666666666666666, \"#ed7953\"], [0.7777777777777778, \"#fb9f3a\"], [0.8888888888888888, \"#fdca26\"], [1.0, \"#f0f921\"]], \"type\": \"surface\"}], \"table\": [{\"cells\": {\"fill\": {\"color\": \"#EBF0F8\"}, \"line\": {\"color\": \"white\"}}, \"header\": {\"fill\": {\"color\": \"#C8D4E3\"}, \"line\": {\"color\": \"white\"}}, \"type\": \"table\"}]}, \"layout\": {\"annotationdefaults\": {\"arrowcolor\": \"#2a3f5f\", \"arrowhead\": 0, \"arrowwidth\": 1}, \"coloraxis\": {\"colorbar\": {\"outlinewidth\": 0, \"ticks\": \"\"}}, \"colorscale\": {\"diverging\": [[0, \"#8e0152\"], [0.1, \"#c51b7d\"], [0.2, \"#de77ae\"], [0.3, \"#f1b6da\"], [0.4, \"#fde0ef\"], [0.5, \"#f7f7f7\"], [0.6, \"#e6f5d0\"], [0.7, \"#b8e186\"], [0.8, \"#7fbc41\"], [0.9, \"#4d9221\"], [1, \"#276419\"]], \"sequential\": [[0.0, \"#0d0887\"], [0.1111111111111111, \"#46039f\"], [0.2222222222222222, \"#7201a8\"], [0.3333333333333333, \"#9c179e\"], [0.4444444444444444, \"#bd3786\"], [0.5555555555555556, \"#d8576b\"], [0.6666666666666666, \"#ed7953\"], [0.7777777777777778, \"#fb9f3a\"], [0.8888888888888888, \"#fdca26\"], [1.0, \"#f0f921\"]], \"sequentialminus\": [[0.0, \"#0d0887\"], [0.1111111111111111, \"#46039f\"], [0.2222222222222222, \"#7201a8\"], [0.3333333333333333, \"#9c179e\"], [0.4444444444444444, \"#bd3786\"], [0.5555555555555556, \"#d8576b\"], [0.6666666666666666, \"#ed7953\"], [0.7777777777777778, \"#fb9f3a\"], [0.8888888888888888, \"#fdca26\"], [1.0, \"#f0f921\"]]}, \"colorway\": [\"#636efa\", \"#EF553B\", \"#00cc96\", \"#ab63fa\", \"#FFA15A\", \"#19d3f3\", \"#FF6692\", \"#B6E880\", \"#FF97FF\", \"#FECB52\"], \"font\": {\"color\": \"#2a3f5f\"}, \"geo\": {\"bgcolor\": \"white\", \"lakecolor\": \"white\", \"landcolor\": \"#E5ECF6\", \"showlakes\": true, \"showland\": true, \"subunitcolor\": \"white\"}, \"hoverlabel\": {\"align\": \"left\"}, \"hovermode\": \"closest\", \"mapbox\": {\"style\": \"light\"}, \"paper_bgcolor\": \"white\", \"plot_bgcolor\": \"#E5ECF6\", \"polar\": {\"angularaxis\": {\"gridcolor\": \"white\", \"linecolor\": \"white\", \"ticks\": \"\"}, \"bgcolor\": \"#E5ECF6\", \"radialaxis\": {\"gridcolor\": \"white\", \"linecolor\": \"white\", \"ticks\": \"\"}}, \"scene\": {\"xaxis\": {\"backgroundcolor\": \"#E5ECF6\", \"gridcolor\": \"white\", \"gridwidth\": 2, \"linecolor\": \"white\", \"showbackground\": true, \"ticks\": \"\", \"zerolinecolor\": \"white\"}, \"yaxis\": {\"backgroundcolor\": \"#E5ECF6\", \"gridcolor\": \"white\", \"gridwidth\": 2, \"linecolor\": \"white\", \"showbackground\": true, \"ticks\": \"\", \"zerolinecolor\": \"white\"}, \"zaxis\": {\"backgroundcolor\": \"#E5ECF6\", \"gridcolor\": \"white\", \"gridwidth\": 2, \"linecolor\": \"white\", \"showbackground\": true, \"ticks\": \"\", \"zerolinecolor\": \"white\"}}, \"shapedefaults\": {\"line\": {\"color\": \"#2a3f5f\"}}, \"ternary\": {\"aaxis\": {\"gridcolor\": \"white\", \"linecolor\": \"white\", \"ticks\": \"\"}, \"baxis\": {\"gridcolor\": \"white\", \"linecolor\": \"white\", \"ticks\": \"\"}, \"bgcolor\": \"#E5ECF6\", \"caxis\": {\"gridcolor\": \"white\", \"linecolor\": \"white\", \"ticks\": \"\"}}, \"title\": {\"x\": 0.05}, \"xaxis\": {\"automargin\": true, \"gridcolor\": \"white\", \"linecolor\": \"white\", \"ticks\": \"\", \"title\": {\"standoff\": 15}, \"zerolinecolor\": \"white\", \"zerolinewidth\": 2}, \"yaxis\": {\"automargin\": true, \"gridcolor\": \"white\", \"linecolor\": \"white\", \"ticks\": \"\", \"title\": {\"standoff\": 15}, \"zerolinecolor\": \"white\", \"zerolinewidth\": 2}}}, \"xaxis\": {\"anchor\": \"y\", \"domain\": [0.0, 1.0], \"title\": {\"text\": \"Transmission\"}}, \"yaxis\": {\"anchor\": \"x\", \"domain\": [0.0, 1.0], \"title\": {\"text\": \"Selling_Price\"}}},\n",
       "                        {\"responsive\": true}\n",
       "                    ).then(function(){\n",
       "                            \n",
       "var gd = document.getElementById('c0d41226-e00f-4cb5-bcae-fb36396f5361');\n",
       "var x = new MutationObserver(function (mutations, observer) {{\n",
       "        var display = window.getComputedStyle(gd).display;\n",
       "        if (!display || display === 'none') {{\n",
       "            console.log([gd, 'removed!']);\n",
       "            Plotly.purge(gd);\n",
       "            observer.disconnect();\n",
       "        }}\n",
       "}});\n",
       "\n",
       "// Listen for the removal of the full notebook cells\n",
       "var notebookContainer = gd.closest('#notebook-container');\n",
       "if (notebookContainer) {{\n",
       "    x.observe(notebookContainer, {childList: true});\n",
       "}}\n",
       "\n",
       "// Listen for the clearing of the current output cell\n",
       "var outputEl = gd.closest('.output');\n",
       "if (outputEl) {{\n",
       "    x.observe(outputEl, {childList: true});\n",
       "}}\n",
       "\n",
       "                        })\n",
       "                };\n",
       "                });\n",
       "            </script>\n",
       "        </div>"
      ]
     },
     "metadata": {},
     "output_type": "display_data"
    }
   ],
   "source": [
    "px.box(cardata,y=cardata.Selling_Price,x=cardata.Transmission)"
   ]
  },
  {
   "cell_type": "markdown",
   "metadata": {},
   "source": [
    "## Automatic Cars are having High Selling Price"
   ]
  },
  {
   "cell_type": "code",
   "execution_count": 62,
   "metadata": {
    "scrolled": false
   },
   "outputs": [
    {
     "data": {
      "application/vnd.plotly.v1+json": {
       "config": {
        "plotlyServerURL": "https://plot.ly"
       },
       "data": [
        {
         "alignmentgroup": "True",
         "hovertemplate": "Fuel_Type=%{x}<br>Selling_Price=%{y}<extra></extra>",
         "legendgroup": "Petrol",
         "marker": {
          "color": "#636efa"
         },
         "name": "Petrol",
         "notched": false,
         "offsetgroup": "Petrol",
         "orientation": "v",
         "showlegend": true,
         "type": "box",
         "x": [
          "Petrol",
          "Petrol",
          "Petrol",
          "Petrol",
          "Petrol",
          "Petrol",
          "Petrol",
          "Petrol",
          "Petrol",
          "Petrol",
          "Petrol",
          "Petrol",
          "Petrol",
          "Petrol",
          "Petrol",
          "Petrol",
          "Petrol",
          "Petrol",
          "Petrol",
          "Petrol",
          "Petrol",
          "Petrol",
          "Petrol",
          "Petrol",
          "Petrol",
          "Petrol",
          "Petrol",
          "Petrol",
          "Petrol",
          "Petrol",
          "Petrol",
          "Petrol",
          "Petrol",
          "Petrol",
          "Petrol",
          "Petrol",
          "Petrol",
          "Petrol",
          "Petrol",
          "Petrol",
          "Petrol",
          "Petrol",
          "Petrol",
          "Petrol",
          "Petrol",
          "Petrol",
          "Petrol",
          "Petrol",
          "Petrol",
          "Petrol",
          "Petrol",
          "Petrol",
          "Petrol",
          "Petrol",
          "Petrol",
          "Petrol",
          "Petrol",
          "Petrol",
          "Petrol",
          "Petrol",
          "Petrol",
          "Petrol",
          "Petrol",
          "Petrol",
          "Petrol",
          "Petrol",
          "Petrol",
          "Petrol",
          "Petrol",
          "Petrol",
          "Petrol",
          "Petrol",
          "Petrol",
          "Petrol",
          "Petrol",
          "Petrol",
          "Petrol",
          "Petrol",
          "Petrol",
          "Petrol",
          "Petrol",
          "Petrol",
          "Petrol",
          "Petrol",
          "Petrol",
          "Petrol",
          "Petrol",
          "Petrol",
          "Petrol",
          "Petrol",
          "Petrol",
          "Petrol",
          "Petrol",
          "Petrol",
          "Petrol",
          "Petrol",
          "Petrol",
          "Petrol",
          "Petrol",
          "Petrol",
          "Petrol",
          "Petrol",
          "Petrol",
          "Petrol",
          "Petrol",
          "Petrol",
          "Petrol",
          "Petrol",
          "Petrol",
          "Petrol",
          "Petrol",
          "Petrol",
          "Petrol",
          "Petrol",
          "Petrol",
          "Petrol",
          "Petrol",
          "Petrol",
          "Petrol",
          "Petrol",
          "Petrol",
          "Petrol",
          "Petrol",
          "Petrol",
          "Petrol",
          "Petrol",
          "Petrol",
          "Petrol",
          "Petrol",
          "Petrol",
          "Petrol",
          "Petrol",
          "Petrol",
          "Petrol",
          "Petrol",
          "Petrol",
          "Petrol",
          "Petrol",
          "Petrol",
          "Petrol",
          "Petrol",
          "Petrol",
          "Petrol",
          "Petrol",
          "Petrol",
          "Petrol",
          "Petrol",
          "Petrol",
          "Petrol",
          "Petrol",
          "Petrol",
          "Petrol",
          "Petrol",
          "Petrol",
          "Petrol",
          "Petrol",
          "Petrol",
          "Petrol",
          "Petrol",
          "Petrol",
          "Petrol",
          "Petrol",
          "Petrol",
          "Petrol",
          "Petrol",
          "Petrol",
          "Petrol",
          "Petrol",
          "Petrol",
          "Petrol",
          "Petrol",
          "Petrol",
          "Petrol",
          "Petrol",
          "Petrol",
          "Petrol",
          "Petrol",
          "Petrol",
          "Petrol",
          "Petrol",
          "Petrol",
          "Petrol",
          "Petrol",
          "Petrol",
          "Petrol",
          "Petrol",
          "Petrol",
          "Petrol",
          "Petrol",
          "Petrol",
          "Petrol",
          "Petrol",
          "Petrol",
          "Petrol",
          "Petrol",
          "Petrol",
          "Petrol",
          "Petrol",
          "Petrol",
          "Petrol",
          "Petrol",
          "Petrol",
          "Petrol",
          "Petrol",
          "Petrol",
          "Petrol",
          "Petrol",
          "Petrol",
          "Petrol",
          "Petrol",
          "Petrol",
          "Petrol",
          "Petrol",
          "Petrol",
          "Petrol",
          "Petrol",
          "Petrol",
          "Petrol",
          "Petrol",
          "Petrol",
          "Petrol",
          "Petrol",
          "Petrol",
          "Petrol",
          "Petrol",
          "Petrol",
          "Petrol",
          "Petrol",
          "Petrol",
          "Petrol",
          "Petrol",
          "Petrol",
          "Petrol",
          "Petrol",
          "Petrol",
          "Petrol",
          "Petrol",
          "Petrol",
          "Petrol"
         ],
         "x0": " ",
         "xaxis": "x",
         "y": [
          3.35,
          7.25,
          2.85,
          6.75,
          2.85,
          7.5,
          6.1,
          2.25,
          2.65,
          2.85,
          4.9,
          4.4,
          2.5,
          2.9,
          3,
          4.15,
          6,
          1.95,
          2.35,
          4.65,
          0.35,
          3,
          2.25,
          5.85,
          2.55,
          1.95,
          1.25,
          7.5,
          2.65,
          1.05,
          5.8,
          7.75,
          2.75,
          3.6,
          4.5,
          4.75,
          4.1,
          6.95,
          4.5,
          19.75,
          4.35,
          14.25,
          7.45,
          2.65,
          3.95,
          5.5,
          1.5,
          5.25,
          2.5,
          5.9,
          3.45,
          4.75,
          3.8,
          3.51,
          4,
          5.85,
          17,
          7.05,
          1.75,
          1.7,
          1.65,
          1.45,
          1.35,
          1.35,
          1.35,
          1.25,
          1.2,
          1.2,
          1.2,
          1.15,
          1.15,
          1.15,
          1.15,
          1.11,
          1.1,
          1.1,
          1.1,
          1.05,
          1.05,
          1.05,
          1.05,
          1,
          0.95,
          0.9,
          0.9,
          0.75,
          0.8,
          0.78,
          0.75,
          0.75,
          0.75,
          0.72,
          0.65,
          0.65,
          0.65,
          0.65,
          0.6,
          0.6,
          0.6,
          0.6,
          0.6,
          0.6,
          0.6,
          0.6,
          0.55,
          0.55,
          0.52,
          0.51,
          0.5,
          0.5,
          0.5,
          0.5,
          0.5,
          0.48,
          0.48,
          0.48,
          0.48,
          0.45,
          0.45,
          0.45,
          0.45,
          0.45,
          0.45,
          0.45,
          0.45,
          0.42,
          0.42,
          0.4,
          0.4,
          0.4,
          0.4,
          0.4,
          0.38,
          0.38,
          0.35,
          0.35,
          0.35,
          0.31,
          0.3,
          0.3,
          0.3,
          0.27,
          0.25,
          0.25,
          0.25,
          0.25,
          0.25,
          0.2,
          0.2,
          0.2,
          0.2,
          0.2,
          0.2,
          0.18,
          0.17,
          0.16,
          0.15,
          0.12,
          0.1,
          4.4,
          2.95,
          2.75,
          5.25,
          5.75,
          5.15,
          7.9,
          3.1,
          11.25,
          2.9,
          5.25,
          4.5,
          2.9,
          3.15,
          6.45,
          4.5,
          3.5,
          4.5,
          5.11,
          2.7,
          5.25,
          2.55,
          9.25,
          11.45,
          5.5,
          9.1,
          3.1,
          4.8,
          2,
          4.75,
          4.4,
          6.25,
          3.75,
          5.95,
          4,
          5.25,
          5,
          5.4,
          5.25,
          3,
          10.25,
          8.5,
          8.4,
          3.9,
          9.15,
          5.5,
          4,
          6.6,
          4,
          6.5,
          3.65,
          4.8,
          6.7,
          4.1,
          3,
          7.5,
          2.25,
          5.3,
          10.9,
          8.65,
          9.7,
          6,
          6.25,
          5.25,
          2.1,
          8.99,
          3.5,
          7.4,
          5.65,
          5.75,
          8.4,
          10.11,
          4.5,
          5.4,
          6.4,
          3.25,
          3.75,
          4,
          3.35,
          5.3
         ],
         "y0": " ",
         "yaxis": "y"
        },
        {
         "alignmentgroup": "True",
         "hovertemplate": "Fuel_Type=%{x}<br>Selling_Price=%{y}<extra></extra>",
         "legendgroup": "Diesel",
         "marker": {
          "color": "#EF553B"
         },
         "name": "Diesel",
         "notched": false,
         "offsetgroup": "Diesel",
         "orientation": "v",
         "showlegend": true,
         "type": "box",
         "x": [
          "Diesel",
          "Diesel",
          "Diesel",
          "Diesel",
          "Diesel",
          "Diesel",
          "Diesel",
          "Diesel",
          "Diesel",
          "Diesel",
          "Diesel",
          "Diesel",
          "Diesel",
          "Diesel",
          "Diesel",
          "Diesel",
          "Diesel",
          "Diesel",
          "Diesel",
          "Diesel",
          "Diesel",
          "Diesel",
          "Diesel",
          "Diesel",
          "Diesel",
          "Diesel",
          "Diesel",
          "Diesel",
          "Diesel",
          "Diesel",
          "Diesel",
          "Diesel",
          "Diesel",
          "Diesel",
          "Diesel",
          "Diesel",
          "Diesel",
          "Diesel",
          "Diesel",
          "Diesel",
          "Diesel",
          "Diesel",
          "Diesel",
          "Diesel",
          "Diesel",
          "Diesel",
          "Diesel",
          "Diesel",
          "Diesel",
          "Diesel",
          "Diesel",
          "Diesel",
          "Diesel",
          "Diesel",
          "Diesel",
          "Diesel",
          "Diesel",
          "Diesel",
          "Diesel",
          "Diesel"
         ],
         "x0": " ",
         "xaxis": "x",
         "y": [
          4.75,
          4.6,
          9.25,
          6.5,
          8.75,
          7.45,
          6.85,
          7.75,
          7.25,
          7.75,
          7.45,
          3.1,
          4.95,
          6,
          5.5,
          5.5,
          14.9,
          23,
          18,
          16,
          19.99,
          18.75,
          23.5,
          33,
          4.75,
          9.25,
          3.95,
          4.5,
          4.9,
          14.5,
          14.73,
          4.75,
          23,
          12.5,
          3.49,
          35,
          11.25,
          23,
          20.75,
          9.65,
          3.25,
          4.85,
          11.75,
          6,
          8.25,
          4.95,
          3.1,
          6.15,
          3.9,
          11.25,
          5.35,
          5.95,
          5.2,
          12.9,
          7.2,
          8.35,
          8.25,
          8.55,
          9.5,
          11.5
         ],
         "y0": " ",
         "yaxis": "y"
        },
        {
         "alignmentgroup": "True",
         "hovertemplate": "Fuel_Type=%{x}<br>Selling_Price=%{y}<extra></extra>",
         "legendgroup": "CNG",
         "marker": {
          "color": "#00cc96"
         },
         "name": "CNG",
         "notched": false,
         "offsetgroup": "CNG",
         "orientation": "v",
         "showlegend": true,
         "type": "box",
         "x": [
          "CNG",
          "CNG"
         ],
         "x0": " ",
         "xaxis": "x",
         "y": [
          3.25,
          2.95
         ],
         "y0": " ",
         "yaxis": "y"
        }
       ],
       "layout": {
        "boxmode": "group",
        "legend": {
         "title": {
          "text": "Fuel_Type"
         },
         "tracegroupgap": 0
        },
        "margin": {
         "t": 60
        },
        "template": {
         "data": {
          "bar": [
           {
            "error_x": {
             "color": "#2a3f5f"
            },
            "error_y": {
             "color": "#2a3f5f"
            },
            "marker": {
             "line": {
              "color": "#E5ECF6",
              "width": 0.5
             }
            },
            "type": "bar"
           }
          ],
          "barpolar": [
           {
            "marker": {
             "line": {
              "color": "#E5ECF6",
              "width": 0.5
             }
            },
            "type": "barpolar"
           }
          ],
          "carpet": [
           {
            "aaxis": {
             "endlinecolor": "#2a3f5f",
             "gridcolor": "white",
             "linecolor": "white",
             "minorgridcolor": "white",
             "startlinecolor": "#2a3f5f"
            },
            "baxis": {
             "endlinecolor": "#2a3f5f",
             "gridcolor": "white",
             "linecolor": "white",
             "minorgridcolor": "white",
             "startlinecolor": "#2a3f5f"
            },
            "type": "carpet"
           }
          ],
          "choropleth": [
           {
            "colorbar": {
             "outlinewidth": 0,
             "ticks": ""
            },
            "type": "choropleth"
           }
          ],
          "contour": [
           {
            "colorbar": {
             "outlinewidth": 0,
             "ticks": ""
            },
            "colorscale": [
             [
              0,
              "#0d0887"
             ],
             [
              0.1111111111111111,
              "#46039f"
             ],
             [
              0.2222222222222222,
              "#7201a8"
             ],
             [
              0.3333333333333333,
              "#9c179e"
             ],
             [
              0.4444444444444444,
              "#bd3786"
             ],
             [
              0.5555555555555556,
              "#d8576b"
             ],
             [
              0.6666666666666666,
              "#ed7953"
             ],
             [
              0.7777777777777778,
              "#fb9f3a"
             ],
             [
              0.8888888888888888,
              "#fdca26"
             ],
             [
              1,
              "#f0f921"
             ]
            ],
            "type": "contour"
           }
          ],
          "contourcarpet": [
           {
            "colorbar": {
             "outlinewidth": 0,
             "ticks": ""
            },
            "type": "contourcarpet"
           }
          ],
          "heatmap": [
           {
            "colorbar": {
             "outlinewidth": 0,
             "ticks": ""
            },
            "colorscale": [
             [
              0,
              "#0d0887"
             ],
             [
              0.1111111111111111,
              "#46039f"
             ],
             [
              0.2222222222222222,
              "#7201a8"
             ],
             [
              0.3333333333333333,
              "#9c179e"
             ],
             [
              0.4444444444444444,
              "#bd3786"
             ],
             [
              0.5555555555555556,
              "#d8576b"
             ],
             [
              0.6666666666666666,
              "#ed7953"
             ],
             [
              0.7777777777777778,
              "#fb9f3a"
             ],
             [
              0.8888888888888888,
              "#fdca26"
             ],
             [
              1,
              "#f0f921"
             ]
            ],
            "type": "heatmap"
           }
          ],
          "heatmapgl": [
           {
            "colorbar": {
             "outlinewidth": 0,
             "ticks": ""
            },
            "colorscale": [
             [
              0,
              "#0d0887"
             ],
             [
              0.1111111111111111,
              "#46039f"
             ],
             [
              0.2222222222222222,
              "#7201a8"
             ],
             [
              0.3333333333333333,
              "#9c179e"
             ],
             [
              0.4444444444444444,
              "#bd3786"
             ],
             [
              0.5555555555555556,
              "#d8576b"
             ],
             [
              0.6666666666666666,
              "#ed7953"
             ],
             [
              0.7777777777777778,
              "#fb9f3a"
             ],
             [
              0.8888888888888888,
              "#fdca26"
             ],
             [
              1,
              "#f0f921"
             ]
            ],
            "type": "heatmapgl"
           }
          ],
          "histogram": [
           {
            "marker": {
             "colorbar": {
              "outlinewidth": 0,
              "ticks": ""
             }
            },
            "type": "histogram"
           }
          ],
          "histogram2d": [
           {
            "colorbar": {
             "outlinewidth": 0,
             "ticks": ""
            },
            "colorscale": [
             [
              0,
              "#0d0887"
             ],
             [
              0.1111111111111111,
              "#46039f"
             ],
             [
              0.2222222222222222,
              "#7201a8"
             ],
             [
              0.3333333333333333,
              "#9c179e"
             ],
             [
              0.4444444444444444,
              "#bd3786"
             ],
             [
              0.5555555555555556,
              "#d8576b"
             ],
             [
              0.6666666666666666,
              "#ed7953"
             ],
             [
              0.7777777777777778,
              "#fb9f3a"
             ],
             [
              0.8888888888888888,
              "#fdca26"
             ],
             [
              1,
              "#f0f921"
             ]
            ],
            "type": "histogram2d"
           }
          ],
          "histogram2dcontour": [
           {
            "colorbar": {
             "outlinewidth": 0,
             "ticks": ""
            },
            "colorscale": [
             [
              0,
              "#0d0887"
             ],
             [
              0.1111111111111111,
              "#46039f"
             ],
             [
              0.2222222222222222,
              "#7201a8"
             ],
             [
              0.3333333333333333,
              "#9c179e"
             ],
             [
              0.4444444444444444,
              "#bd3786"
             ],
             [
              0.5555555555555556,
              "#d8576b"
             ],
             [
              0.6666666666666666,
              "#ed7953"
             ],
             [
              0.7777777777777778,
              "#fb9f3a"
             ],
             [
              0.8888888888888888,
              "#fdca26"
             ],
             [
              1,
              "#f0f921"
             ]
            ],
            "type": "histogram2dcontour"
           }
          ],
          "mesh3d": [
           {
            "colorbar": {
             "outlinewidth": 0,
             "ticks": ""
            },
            "type": "mesh3d"
           }
          ],
          "parcoords": [
           {
            "line": {
             "colorbar": {
              "outlinewidth": 0,
              "ticks": ""
             }
            },
            "type": "parcoords"
           }
          ],
          "pie": [
           {
            "automargin": true,
            "type": "pie"
           }
          ],
          "scatter": [
           {
            "marker": {
             "colorbar": {
              "outlinewidth": 0,
              "ticks": ""
             }
            },
            "type": "scatter"
           }
          ],
          "scatter3d": [
           {
            "line": {
             "colorbar": {
              "outlinewidth": 0,
              "ticks": ""
             }
            },
            "marker": {
             "colorbar": {
              "outlinewidth": 0,
              "ticks": ""
             }
            },
            "type": "scatter3d"
           }
          ],
          "scattercarpet": [
           {
            "marker": {
             "colorbar": {
              "outlinewidth": 0,
              "ticks": ""
             }
            },
            "type": "scattercarpet"
           }
          ],
          "scattergeo": [
           {
            "marker": {
             "colorbar": {
              "outlinewidth": 0,
              "ticks": ""
             }
            },
            "type": "scattergeo"
           }
          ],
          "scattergl": [
           {
            "marker": {
             "colorbar": {
              "outlinewidth": 0,
              "ticks": ""
             }
            },
            "type": "scattergl"
           }
          ],
          "scattermapbox": [
           {
            "marker": {
             "colorbar": {
              "outlinewidth": 0,
              "ticks": ""
             }
            },
            "type": "scattermapbox"
           }
          ],
          "scatterpolar": [
           {
            "marker": {
             "colorbar": {
              "outlinewidth": 0,
              "ticks": ""
             }
            },
            "type": "scatterpolar"
           }
          ],
          "scatterpolargl": [
           {
            "marker": {
             "colorbar": {
              "outlinewidth": 0,
              "ticks": ""
             }
            },
            "type": "scatterpolargl"
           }
          ],
          "scatterternary": [
           {
            "marker": {
             "colorbar": {
              "outlinewidth": 0,
              "ticks": ""
             }
            },
            "type": "scatterternary"
           }
          ],
          "surface": [
           {
            "colorbar": {
             "outlinewidth": 0,
             "ticks": ""
            },
            "colorscale": [
             [
              0,
              "#0d0887"
             ],
             [
              0.1111111111111111,
              "#46039f"
             ],
             [
              0.2222222222222222,
              "#7201a8"
             ],
             [
              0.3333333333333333,
              "#9c179e"
             ],
             [
              0.4444444444444444,
              "#bd3786"
             ],
             [
              0.5555555555555556,
              "#d8576b"
             ],
             [
              0.6666666666666666,
              "#ed7953"
             ],
             [
              0.7777777777777778,
              "#fb9f3a"
             ],
             [
              0.8888888888888888,
              "#fdca26"
             ],
             [
              1,
              "#f0f921"
             ]
            ],
            "type": "surface"
           }
          ],
          "table": [
           {
            "cells": {
             "fill": {
              "color": "#EBF0F8"
             },
             "line": {
              "color": "white"
             }
            },
            "header": {
             "fill": {
              "color": "#C8D4E3"
             },
             "line": {
              "color": "white"
             }
            },
            "type": "table"
           }
          ]
         },
         "layout": {
          "annotationdefaults": {
           "arrowcolor": "#2a3f5f",
           "arrowhead": 0,
           "arrowwidth": 1
          },
          "coloraxis": {
           "colorbar": {
            "outlinewidth": 0,
            "ticks": ""
           }
          },
          "colorscale": {
           "diverging": [
            [
             0,
             "#8e0152"
            ],
            [
             0.1,
             "#c51b7d"
            ],
            [
             0.2,
             "#de77ae"
            ],
            [
             0.3,
             "#f1b6da"
            ],
            [
             0.4,
             "#fde0ef"
            ],
            [
             0.5,
             "#f7f7f7"
            ],
            [
             0.6,
             "#e6f5d0"
            ],
            [
             0.7,
             "#b8e186"
            ],
            [
             0.8,
             "#7fbc41"
            ],
            [
             0.9,
             "#4d9221"
            ],
            [
             1,
             "#276419"
            ]
           ],
           "sequential": [
            [
             0,
             "#0d0887"
            ],
            [
             0.1111111111111111,
             "#46039f"
            ],
            [
             0.2222222222222222,
             "#7201a8"
            ],
            [
             0.3333333333333333,
             "#9c179e"
            ],
            [
             0.4444444444444444,
             "#bd3786"
            ],
            [
             0.5555555555555556,
             "#d8576b"
            ],
            [
             0.6666666666666666,
             "#ed7953"
            ],
            [
             0.7777777777777778,
             "#fb9f3a"
            ],
            [
             0.8888888888888888,
             "#fdca26"
            ],
            [
             1,
             "#f0f921"
            ]
           ],
           "sequentialminus": [
            [
             0,
             "#0d0887"
            ],
            [
             0.1111111111111111,
             "#46039f"
            ],
            [
             0.2222222222222222,
             "#7201a8"
            ],
            [
             0.3333333333333333,
             "#9c179e"
            ],
            [
             0.4444444444444444,
             "#bd3786"
            ],
            [
             0.5555555555555556,
             "#d8576b"
            ],
            [
             0.6666666666666666,
             "#ed7953"
            ],
            [
             0.7777777777777778,
             "#fb9f3a"
            ],
            [
             0.8888888888888888,
             "#fdca26"
            ],
            [
             1,
             "#f0f921"
            ]
           ]
          },
          "colorway": [
           "#636efa",
           "#EF553B",
           "#00cc96",
           "#ab63fa",
           "#FFA15A",
           "#19d3f3",
           "#FF6692",
           "#B6E880",
           "#FF97FF",
           "#FECB52"
          ],
          "font": {
           "color": "#2a3f5f"
          },
          "geo": {
           "bgcolor": "white",
           "lakecolor": "white",
           "landcolor": "#E5ECF6",
           "showlakes": true,
           "showland": true,
           "subunitcolor": "white"
          },
          "hoverlabel": {
           "align": "left"
          },
          "hovermode": "closest",
          "mapbox": {
           "style": "light"
          },
          "paper_bgcolor": "white",
          "plot_bgcolor": "#E5ECF6",
          "polar": {
           "angularaxis": {
            "gridcolor": "white",
            "linecolor": "white",
            "ticks": ""
           },
           "bgcolor": "#E5ECF6",
           "radialaxis": {
            "gridcolor": "white",
            "linecolor": "white",
            "ticks": ""
           }
          },
          "scene": {
           "xaxis": {
            "backgroundcolor": "#E5ECF6",
            "gridcolor": "white",
            "gridwidth": 2,
            "linecolor": "white",
            "showbackground": true,
            "ticks": "",
            "zerolinecolor": "white"
           },
           "yaxis": {
            "backgroundcolor": "#E5ECF6",
            "gridcolor": "white",
            "gridwidth": 2,
            "linecolor": "white",
            "showbackground": true,
            "ticks": "",
            "zerolinecolor": "white"
           },
           "zaxis": {
            "backgroundcolor": "#E5ECF6",
            "gridcolor": "white",
            "gridwidth": 2,
            "linecolor": "white",
            "showbackground": true,
            "ticks": "",
            "zerolinecolor": "white"
           }
          },
          "shapedefaults": {
           "line": {
            "color": "#2a3f5f"
           }
          },
          "ternary": {
           "aaxis": {
            "gridcolor": "white",
            "linecolor": "white",
            "ticks": ""
           },
           "baxis": {
            "gridcolor": "white",
            "linecolor": "white",
            "ticks": ""
           },
           "bgcolor": "#E5ECF6",
           "caxis": {
            "gridcolor": "white",
            "linecolor": "white",
            "ticks": ""
           }
          },
          "title": {
           "x": 0.05
          },
          "xaxis": {
           "automargin": true,
           "gridcolor": "white",
           "linecolor": "white",
           "ticks": "",
           "title": {
            "standoff": 15
           },
           "zerolinecolor": "white",
           "zerolinewidth": 2
          },
          "yaxis": {
           "automargin": true,
           "gridcolor": "white",
           "linecolor": "white",
           "ticks": "",
           "title": {
            "standoff": 15
           },
           "zerolinecolor": "white",
           "zerolinewidth": 2
          }
         }
        },
        "xaxis": {
         "anchor": "y",
         "categoryarray": [
          "Petrol",
          "Diesel",
          "CNG"
         ],
         "categoryorder": "array",
         "domain": [
          0,
          1
         ],
         "title": {
          "text": "Fuel_Type"
         }
        },
        "yaxis": {
         "anchor": "x",
         "domain": [
          0,
          1
         ],
         "title": {
          "text": "Selling_Price"
         }
        }
       }
      },
      "text/html": [
       "<div>\n",
       "        \n",
       "        \n",
       "            <div id=\"86e2314f-3464-4fe6-9bbe-a461dba3a962\" class=\"plotly-graph-div\" style=\"height:525px; width:100%;\"></div>\n",
       "            <script type=\"text/javascript\">\n",
       "                require([\"plotly\"], function(Plotly) {\n",
       "                    window.PLOTLYENV=window.PLOTLYENV || {};\n",
       "                    \n",
       "                if (document.getElementById(\"86e2314f-3464-4fe6-9bbe-a461dba3a962\")) {\n",
       "                    Plotly.newPlot(\n",
       "                        '86e2314f-3464-4fe6-9bbe-a461dba3a962',\n",
       "                        [{\"alignmentgroup\": \"True\", \"hovertemplate\": \"Fuel_Type=%{x}<br>Selling_Price=%{y}<extra></extra>\", \"legendgroup\": \"Petrol\", \"marker\": {\"color\": \"#636efa\"}, \"name\": \"Petrol\", \"notched\": false, \"offsetgroup\": \"Petrol\", \"orientation\": \"v\", \"showlegend\": true, \"type\": \"box\", \"x\": [\"Petrol\", \"Petrol\", \"Petrol\", \"Petrol\", \"Petrol\", \"Petrol\", \"Petrol\", \"Petrol\", \"Petrol\", \"Petrol\", \"Petrol\", \"Petrol\", \"Petrol\", \"Petrol\", \"Petrol\", \"Petrol\", \"Petrol\", \"Petrol\", \"Petrol\", \"Petrol\", \"Petrol\", \"Petrol\", \"Petrol\", \"Petrol\", \"Petrol\", \"Petrol\", \"Petrol\", \"Petrol\", \"Petrol\", \"Petrol\", \"Petrol\", \"Petrol\", \"Petrol\", \"Petrol\", \"Petrol\", \"Petrol\", \"Petrol\", \"Petrol\", \"Petrol\", \"Petrol\", \"Petrol\", \"Petrol\", \"Petrol\", \"Petrol\", \"Petrol\", \"Petrol\", \"Petrol\", \"Petrol\", \"Petrol\", \"Petrol\", \"Petrol\", \"Petrol\", \"Petrol\", \"Petrol\", \"Petrol\", \"Petrol\", \"Petrol\", \"Petrol\", \"Petrol\", \"Petrol\", \"Petrol\", \"Petrol\", \"Petrol\", \"Petrol\", \"Petrol\", \"Petrol\", \"Petrol\", \"Petrol\", \"Petrol\", \"Petrol\", \"Petrol\", \"Petrol\", \"Petrol\", \"Petrol\", \"Petrol\", \"Petrol\", \"Petrol\", \"Petrol\", \"Petrol\", \"Petrol\", \"Petrol\", \"Petrol\", \"Petrol\", \"Petrol\", \"Petrol\", \"Petrol\", \"Petrol\", \"Petrol\", \"Petrol\", \"Petrol\", \"Petrol\", \"Petrol\", \"Petrol\", \"Petrol\", \"Petrol\", \"Petrol\", \"Petrol\", \"Petrol\", \"Petrol\", \"Petrol\", \"Petrol\", \"Petrol\", \"Petrol\", \"Petrol\", \"Petrol\", \"Petrol\", \"Petrol\", \"Petrol\", \"Petrol\", \"Petrol\", \"Petrol\", \"Petrol\", \"Petrol\", \"Petrol\", \"Petrol\", \"Petrol\", \"Petrol\", \"Petrol\", \"Petrol\", \"Petrol\", \"Petrol\", \"Petrol\", \"Petrol\", \"Petrol\", \"Petrol\", \"Petrol\", \"Petrol\", \"Petrol\", \"Petrol\", \"Petrol\", \"Petrol\", \"Petrol\", \"Petrol\", \"Petrol\", \"Petrol\", \"Petrol\", \"Petrol\", \"Petrol\", \"Petrol\", \"Petrol\", \"Petrol\", \"Petrol\", \"Petrol\", \"Petrol\", \"Petrol\", \"Petrol\", \"Petrol\", \"Petrol\", \"Petrol\", \"Petrol\", \"Petrol\", \"Petrol\", \"Petrol\", \"Petrol\", \"Petrol\", \"Petrol\", \"Petrol\", \"Petrol\", \"Petrol\", \"Petrol\", \"Petrol\", \"Petrol\", \"Petrol\", \"Petrol\", \"Petrol\", \"Petrol\", \"Petrol\", \"Petrol\", \"Petrol\", \"Petrol\", \"Petrol\", \"Petrol\", \"Petrol\", \"Petrol\", \"Petrol\", \"Petrol\", \"Petrol\", \"Petrol\", \"Petrol\", \"Petrol\", \"Petrol\", \"Petrol\", \"Petrol\", \"Petrol\", \"Petrol\", \"Petrol\", \"Petrol\", \"Petrol\", \"Petrol\", \"Petrol\", \"Petrol\", \"Petrol\", \"Petrol\", \"Petrol\", \"Petrol\", \"Petrol\", \"Petrol\", \"Petrol\", \"Petrol\", \"Petrol\", \"Petrol\", \"Petrol\", \"Petrol\", \"Petrol\", \"Petrol\", \"Petrol\", \"Petrol\", \"Petrol\", \"Petrol\", \"Petrol\", \"Petrol\", \"Petrol\", \"Petrol\", \"Petrol\", \"Petrol\", \"Petrol\", \"Petrol\", \"Petrol\", \"Petrol\", \"Petrol\", \"Petrol\", \"Petrol\", \"Petrol\", \"Petrol\", \"Petrol\", \"Petrol\", \"Petrol\", \"Petrol\", \"Petrol\", \"Petrol\", \"Petrol\", \"Petrol\", \"Petrol\", \"Petrol\", \"Petrol\", \"Petrol\", \"Petrol\", \"Petrol\", \"Petrol\"], \"x0\": \" \", \"xaxis\": \"x\", \"y\": [3.35, 7.25, 2.85, 6.75, 2.85, 7.5, 6.1, 2.25, 2.65, 2.85, 4.9, 4.4, 2.5, 2.9, 3.0, 4.15, 6.0, 1.95, 2.35, 4.65, 0.35, 3.0, 2.25, 5.85, 2.55, 1.95, 1.25, 7.5, 2.65, 1.05, 5.8, 7.75, 2.75, 3.6, 4.5, 4.75, 4.1, 6.95, 4.5, 19.75, 4.35, 14.25, 7.45, 2.65, 3.95, 5.5, 1.5, 5.25, 2.5, 5.9, 3.45, 4.75, 3.8, 3.51, 4.0, 5.85, 17.0, 7.05, 1.75, 1.7, 1.65, 1.45, 1.35, 1.35, 1.35, 1.25, 1.2, 1.2, 1.2, 1.15, 1.15, 1.15, 1.15, 1.11, 1.1, 1.1, 1.1, 1.05, 1.05, 1.05, 1.05, 1.0, 0.95, 0.9, 0.9, 0.75, 0.8, 0.78, 0.75, 0.75, 0.75, 0.72, 0.65, 0.65, 0.65, 0.65, 0.6, 0.6, 0.6, 0.6, 0.6, 0.6, 0.6, 0.6, 0.55, 0.55, 0.52, 0.51, 0.5, 0.5, 0.5, 0.5, 0.5, 0.48, 0.48, 0.48, 0.48, 0.45, 0.45, 0.45, 0.45, 0.45, 0.45, 0.45, 0.45, 0.42, 0.42, 0.4, 0.4, 0.4, 0.4, 0.4, 0.38, 0.38, 0.35, 0.35, 0.35, 0.31, 0.3, 0.3, 0.3, 0.27, 0.25, 0.25, 0.25, 0.25, 0.25, 0.2, 0.2, 0.2, 0.2, 0.2, 0.2, 0.18, 0.17, 0.16, 0.15, 0.12, 0.1, 4.4, 2.95, 2.75, 5.25, 5.75, 5.15, 7.9, 3.1, 11.25, 2.9, 5.25, 4.5, 2.9, 3.15, 6.45, 4.5, 3.5, 4.5, 5.11, 2.7, 5.25, 2.55, 9.25, 11.45, 5.5, 9.1, 3.1, 4.8, 2.0, 4.75, 4.4, 6.25, 3.75, 5.95, 4.0, 5.25, 5.0, 5.4, 5.25, 3.0, 10.25, 8.5, 8.4, 3.9, 9.15, 5.5, 4.0, 6.6, 4.0, 6.5, 3.65, 4.8, 6.7, 4.1, 3.0, 7.5, 2.25, 5.3, 10.9, 8.65, 9.7, 6.0, 6.25, 5.25, 2.1, 8.99, 3.5, 7.4, 5.65, 5.75, 8.4, 10.11, 4.5, 5.4, 6.4, 3.25, 3.75, 4.0, 3.35, 5.3], \"y0\": \" \", \"yaxis\": \"y\"}, {\"alignmentgroup\": \"True\", \"hovertemplate\": \"Fuel_Type=%{x}<br>Selling_Price=%{y}<extra></extra>\", \"legendgroup\": \"Diesel\", \"marker\": {\"color\": \"#EF553B\"}, \"name\": \"Diesel\", \"notched\": false, \"offsetgroup\": \"Diesel\", \"orientation\": \"v\", \"showlegend\": true, \"type\": \"box\", \"x\": [\"Diesel\", \"Diesel\", \"Diesel\", \"Diesel\", \"Diesel\", \"Diesel\", \"Diesel\", \"Diesel\", \"Diesel\", \"Diesel\", \"Diesel\", \"Diesel\", \"Diesel\", \"Diesel\", \"Diesel\", \"Diesel\", \"Diesel\", \"Diesel\", \"Diesel\", \"Diesel\", \"Diesel\", \"Diesel\", \"Diesel\", \"Diesel\", \"Diesel\", \"Diesel\", \"Diesel\", \"Diesel\", \"Diesel\", \"Diesel\", \"Diesel\", \"Diesel\", \"Diesel\", \"Diesel\", \"Diesel\", \"Diesel\", \"Diesel\", \"Diesel\", \"Diesel\", \"Diesel\", \"Diesel\", \"Diesel\", \"Diesel\", \"Diesel\", \"Diesel\", \"Diesel\", \"Diesel\", \"Diesel\", \"Diesel\", \"Diesel\", \"Diesel\", \"Diesel\", \"Diesel\", \"Diesel\", \"Diesel\", \"Diesel\", \"Diesel\", \"Diesel\", \"Diesel\", \"Diesel\"], \"x0\": \" \", \"xaxis\": \"x\", \"y\": [4.75, 4.6, 9.25, 6.5, 8.75, 7.45, 6.85, 7.75, 7.25, 7.75, 7.45, 3.1, 4.95, 6.0, 5.5, 5.5, 14.9, 23.0, 18.0, 16.0, 19.99, 18.75, 23.5, 33.0, 4.75, 9.25, 3.95, 4.5, 4.9, 14.5, 14.73, 4.75, 23.0, 12.5, 3.49, 35.0, 11.25, 23.0, 20.75, 9.65, 3.25, 4.85, 11.75, 6.0, 8.25, 4.95, 3.1, 6.15, 3.9, 11.25, 5.35, 5.95, 5.2, 12.9, 7.2, 8.35, 8.25, 8.55, 9.5, 11.5], \"y0\": \" \", \"yaxis\": \"y\"}, {\"alignmentgroup\": \"True\", \"hovertemplate\": \"Fuel_Type=%{x}<br>Selling_Price=%{y}<extra></extra>\", \"legendgroup\": \"CNG\", \"marker\": {\"color\": \"#00cc96\"}, \"name\": \"CNG\", \"notched\": false, \"offsetgroup\": \"CNG\", \"orientation\": \"v\", \"showlegend\": true, \"type\": \"box\", \"x\": [\"CNG\", \"CNG\"], \"x0\": \" \", \"xaxis\": \"x\", \"y\": [3.25, 2.95], \"y0\": \" \", \"yaxis\": \"y\"}],\n",
       "                        {\"boxmode\": \"group\", \"legend\": {\"title\": {\"text\": \"Fuel_Type\"}, \"tracegroupgap\": 0}, \"margin\": {\"t\": 60}, \"template\": {\"data\": {\"bar\": [{\"error_x\": {\"color\": \"#2a3f5f\"}, \"error_y\": {\"color\": \"#2a3f5f\"}, \"marker\": {\"line\": {\"color\": \"#E5ECF6\", \"width\": 0.5}}, \"type\": \"bar\"}], \"barpolar\": [{\"marker\": {\"line\": {\"color\": \"#E5ECF6\", \"width\": 0.5}}, \"type\": \"barpolar\"}], \"carpet\": [{\"aaxis\": {\"endlinecolor\": \"#2a3f5f\", \"gridcolor\": \"white\", \"linecolor\": \"white\", \"minorgridcolor\": \"white\", \"startlinecolor\": \"#2a3f5f\"}, \"baxis\": {\"endlinecolor\": \"#2a3f5f\", \"gridcolor\": \"white\", \"linecolor\": \"white\", \"minorgridcolor\": \"white\", \"startlinecolor\": \"#2a3f5f\"}, \"type\": \"carpet\"}], \"choropleth\": [{\"colorbar\": {\"outlinewidth\": 0, \"ticks\": \"\"}, \"type\": \"choropleth\"}], \"contour\": [{\"colorbar\": {\"outlinewidth\": 0, \"ticks\": \"\"}, \"colorscale\": [[0.0, \"#0d0887\"], [0.1111111111111111, \"#46039f\"], [0.2222222222222222, \"#7201a8\"], [0.3333333333333333, \"#9c179e\"], [0.4444444444444444, \"#bd3786\"], [0.5555555555555556, \"#d8576b\"], [0.6666666666666666, \"#ed7953\"], [0.7777777777777778, \"#fb9f3a\"], [0.8888888888888888, \"#fdca26\"], [1.0, \"#f0f921\"]], \"type\": \"contour\"}], \"contourcarpet\": [{\"colorbar\": {\"outlinewidth\": 0, \"ticks\": \"\"}, \"type\": \"contourcarpet\"}], \"heatmap\": [{\"colorbar\": {\"outlinewidth\": 0, \"ticks\": \"\"}, \"colorscale\": [[0.0, \"#0d0887\"], [0.1111111111111111, \"#46039f\"], [0.2222222222222222, \"#7201a8\"], [0.3333333333333333, \"#9c179e\"], [0.4444444444444444, \"#bd3786\"], [0.5555555555555556, \"#d8576b\"], [0.6666666666666666, \"#ed7953\"], [0.7777777777777778, \"#fb9f3a\"], [0.8888888888888888, \"#fdca26\"], [1.0, \"#f0f921\"]], \"type\": \"heatmap\"}], \"heatmapgl\": [{\"colorbar\": {\"outlinewidth\": 0, \"ticks\": \"\"}, \"colorscale\": [[0.0, \"#0d0887\"], [0.1111111111111111, \"#46039f\"], [0.2222222222222222, \"#7201a8\"], [0.3333333333333333, \"#9c179e\"], [0.4444444444444444, \"#bd3786\"], [0.5555555555555556, \"#d8576b\"], [0.6666666666666666, \"#ed7953\"], [0.7777777777777778, \"#fb9f3a\"], [0.8888888888888888, \"#fdca26\"], [1.0, \"#f0f921\"]], \"type\": \"heatmapgl\"}], \"histogram\": [{\"marker\": {\"colorbar\": {\"outlinewidth\": 0, \"ticks\": \"\"}}, \"type\": \"histogram\"}], \"histogram2d\": [{\"colorbar\": {\"outlinewidth\": 0, \"ticks\": \"\"}, \"colorscale\": [[0.0, \"#0d0887\"], [0.1111111111111111, \"#46039f\"], [0.2222222222222222, \"#7201a8\"], [0.3333333333333333, \"#9c179e\"], [0.4444444444444444, \"#bd3786\"], [0.5555555555555556, \"#d8576b\"], [0.6666666666666666, \"#ed7953\"], [0.7777777777777778, \"#fb9f3a\"], [0.8888888888888888, \"#fdca26\"], [1.0, \"#f0f921\"]], \"type\": \"histogram2d\"}], \"histogram2dcontour\": [{\"colorbar\": {\"outlinewidth\": 0, \"ticks\": \"\"}, \"colorscale\": [[0.0, \"#0d0887\"], [0.1111111111111111, \"#46039f\"], [0.2222222222222222, \"#7201a8\"], [0.3333333333333333, \"#9c179e\"], [0.4444444444444444, \"#bd3786\"], [0.5555555555555556, \"#d8576b\"], [0.6666666666666666, \"#ed7953\"], [0.7777777777777778, \"#fb9f3a\"], [0.8888888888888888, \"#fdca26\"], [1.0, \"#f0f921\"]], \"type\": \"histogram2dcontour\"}], \"mesh3d\": [{\"colorbar\": {\"outlinewidth\": 0, \"ticks\": \"\"}, \"type\": \"mesh3d\"}], \"parcoords\": [{\"line\": {\"colorbar\": {\"outlinewidth\": 0, \"ticks\": \"\"}}, \"type\": \"parcoords\"}], \"pie\": [{\"automargin\": true, \"type\": \"pie\"}], \"scatter\": [{\"marker\": {\"colorbar\": {\"outlinewidth\": 0, \"ticks\": \"\"}}, \"type\": \"scatter\"}], \"scatter3d\": [{\"line\": {\"colorbar\": {\"outlinewidth\": 0, \"ticks\": \"\"}}, \"marker\": {\"colorbar\": {\"outlinewidth\": 0, \"ticks\": \"\"}}, \"type\": \"scatter3d\"}], \"scattercarpet\": [{\"marker\": {\"colorbar\": {\"outlinewidth\": 0, \"ticks\": \"\"}}, \"type\": \"scattercarpet\"}], \"scattergeo\": [{\"marker\": {\"colorbar\": {\"outlinewidth\": 0, \"ticks\": \"\"}}, \"type\": \"scattergeo\"}], \"scattergl\": [{\"marker\": {\"colorbar\": {\"outlinewidth\": 0, \"ticks\": \"\"}}, \"type\": \"scattergl\"}], \"scattermapbox\": [{\"marker\": {\"colorbar\": {\"outlinewidth\": 0, \"ticks\": \"\"}}, \"type\": \"scattermapbox\"}], \"scatterpolar\": [{\"marker\": {\"colorbar\": {\"outlinewidth\": 0, \"ticks\": \"\"}}, \"type\": \"scatterpolar\"}], \"scatterpolargl\": [{\"marker\": {\"colorbar\": {\"outlinewidth\": 0, \"ticks\": \"\"}}, \"type\": \"scatterpolargl\"}], \"scatterternary\": [{\"marker\": {\"colorbar\": {\"outlinewidth\": 0, \"ticks\": \"\"}}, \"type\": \"scatterternary\"}], \"surface\": [{\"colorbar\": {\"outlinewidth\": 0, \"ticks\": \"\"}, \"colorscale\": [[0.0, \"#0d0887\"], [0.1111111111111111, \"#46039f\"], [0.2222222222222222, \"#7201a8\"], [0.3333333333333333, \"#9c179e\"], [0.4444444444444444, \"#bd3786\"], [0.5555555555555556, \"#d8576b\"], [0.6666666666666666, \"#ed7953\"], [0.7777777777777778, \"#fb9f3a\"], [0.8888888888888888, \"#fdca26\"], [1.0, \"#f0f921\"]], \"type\": \"surface\"}], \"table\": [{\"cells\": {\"fill\": {\"color\": \"#EBF0F8\"}, \"line\": {\"color\": \"white\"}}, \"header\": {\"fill\": {\"color\": \"#C8D4E3\"}, \"line\": {\"color\": \"white\"}}, \"type\": \"table\"}]}, \"layout\": {\"annotationdefaults\": {\"arrowcolor\": \"#2a3f5f\", \"arrowhead\": 0, \"arrowwidth\": 1}, \"coloraxis\": {\"colorbar\": {\"outlinewidth\": 0, \"ticks\": \"\"}}, \"colorscale\": {\"diverging\": [[0, \"#8e0152\"], [0.1, \"#c51b7d\"], [0.2, \"#de77ae\"], [0.3, \"#f1b6da\"], [0.4, \"#fde0ef\"], [0.5, \"#f7f7f7\"], [0.6, \"#e6f5d0\"], [0.7, \"#b8e186\"], [0.8, \"#7fbc41\"], [0.9, \"#4d9221\"], [1, \"#276419\"]], \"sequential\": [[0.0, \"#0d0887\"], [0.1111111111111111, \"#46039f\"], [0.2222222222222222, \"#7201a8\"], [0.3333333333333333, \"#9c179e\"], [0.4444444444444444, \"#bd3786\"], [0.5555555555555556, \"#d8576b\"], [0.6666666666666666, \"#ed7953\"], [0.7777777777777778, \"#fb9f3a\"], [0.8888888888888888, \"#fdca26\"], [1.0, \"#f0f921\"]], \"sequentialminus\": [[0.0, \"#0d0887\"], [0.1111111111111111, \"#46039f\"], [0.2222222222222222, \"#7201a8\"], [0.3333333333333333, \"#9c179e\"], [0.4444444444444444, \"#bd3786\"], [0.5555555555555556, \"#d8576b\"], [0.6666666666666666, \"#ed7953\"], [0.7777777777777778, \"#fb9f3a\"], [0.8888888888888888, \"#fdca26\"], [1.0, \"#f0f921\"]]}, \"colorway\": [\"#636efa\", \"#EF553B\", \"#00cc96\", \"#ab63fa\", \"#FFA15A\", \"#19d3f3\", \"#FF6692\", \"#B6E880\", \"#FF97FF\", \"#FECB52\"], \"font\": {\"color\": \"#2a3f5f\"}, \"geo\": {\"bgcolor\": \"white\", \"lakecolor\": \"white\", \"landcolor\": \"#E5ECF6\", \"showlakes\": true, \"showland\": true, \"subunitcolor\": \"white\"}, \"hoverlabel\": {\"align\": \"left\"}, \"hovermode\": \"closest\", \"mapbox\": {\"style\": \"light\"}, \"paper_bgcolor\": \"white\", \"plot_bgcolor\": \"#E5ECF6\", \"polar\": {\"angularaxis\": {\"gridcolor\": \"white\", \"linecolor\": \"white\", \"ticks\": \"\"}, \"bgcolor\": \"#E5ECF6\", \"radialaxis\": {\"gridcolor\": \"white\", \"linecolor\": \"white\", \"ticks\": \"\"}}, \"scene\": {\"xaxis\": {\"backgroundcolor\": \"#E5ECF6\", \"gridcolor\": \"white\", \"gridwidth\": 2, \"linecolor\": \"white\", \"showbackground\": true, \"ticks\": \"\", \"zerolinecolor\": \"white\"}, \"yaxis\": {\"backgroundcolor\": \"#E5ECF6\", \"gridcolor\": \"white\", \"gridwidth\": 2, \"linecolor\": \"white\", \"showbackground\": true, \"ticks\": \"\", \"zerolinecolor\": \"white\"}, \"zaxis\": {\"backgroundcolor\": \"#E5ECF6\", \"gridcolor\": \"white\", \"gridwidth\": 2, \"linecolor\": \"white\", \"showbackground\": true, \"ticks\": \"\", \"zerolinecolor\": \"white\"}}, \"shapedefaults\": {\"line\": {\"color\": \"#2a3f5f\"}}, \"ternary\": {\"aaxis\": {\"gridcolor\": \"white\", \"linecolor\": \"white\", \"ticks\": \"\"}, \"baxis\": {\"gridcolor\": \"white\", \"linecolor\": \"white\", \"ticks\": \"\"}, \"bgcolor\": \"#E5ECF6\", \"caxis\": {\"gridcolor\": \"white\", \"linecolor\": \"white\", \"ticks\": \"\"}}, \"title\": {\"x\": 0.05}, \"xaxis\": {\"automargin\": true, \"gridcolor\": \"white\", \"linecolor\": \"white\", \"ticks\": \"\", \"title\": {\"standoff\": 15}, \"zerolinecolor\": \"white\", \"zerolinewidth\": 2}, \"yaxis\": {\"automargin\": true, \"gridcolor\": \"white\", \"linecolor\": \"white\", \"ticks\": \"\", \"title\": {\"standoff\": 15}, \"zerolinecolor\": \"white\", \"zerolinewidth\": 2}}}, \"xaxis\": {\"anchor\": \"y\", \"categoryarray\": [\"Petrol\", \"Diesel\", \"CNG\"], \"categoryorder\": \"array\", \"domain\": [0.0, 1.0], \"title\": {\"text\": \"Fuel_Type\"}}, \"yaxis\": {\"anchor\": \"x\", \"domain\": [0.0, 1.0], \"title\": {\"text\": \"Selling_Price\"}}},\n",
       "                        {\"responsive\": true}\n",
       "                    ).then(function(){\n",
       "                            \n",
       "var gd = document.getElementById('86e2314f-3464-4fe6-9bbe-a461dba3a962');\n",
       "var x = new MutationObserver(function (mutations, observer) {{\n",
       "        var display = window.getComputedStyle(gd).display;\n",
       "        if (!display || display === 'none') {{\n",
       "            console.log([gd, 'removed!']);\n",
       "            Plotly.purge(gd);\n",
       "            observer.disconnect();\n",
       "        }}\n",
       "}});\n",
       "\n",
       "// Listen for the removal of the full notebook cells\n",
       "var notebookContainer = gd.closest('#notebook-container');\n",
       "if (notebookContainer) {{\n",
       "    x.observe(notebookContainer, {childList: true});\n",
       "}}\n",
       "\n",
       "// Listen for the clearing of the current output cell\n",
       "var outputEl = gd.closest('.output');\n",
       "if (outputEl) {{\n",
       "    x.observe(outputEl, {childList: true});\n",
       "}}\n",
       "\n",
       "                        })\n",
       "                };\n",
       "                });\n",
       "            </script>\n",
       "        </div>"
      ]
     },
     "metadata": {},
     "output_type": "display_data"
    }
   ],
   "source": [
    "px.box(cardata,y=cardata.Selling_Price,x=cardata.Fuel_Type,color=cardata.Fuel_Type)"
   ]
  },
  {
   "cell_type": "markdown",
   "metadata": {},
   "source": [
    "## Diesel Cars are having High Selling Price"
   ]
  },
  {
   "cell_type": "code",
   "execution_count": 63,
   "metadata": {},
   "outputs": [
    {
     "data": {
      "application/vnd.plotly.v1+json": {
       "config": {
        "plotlyServerURL": "https://plot.ly"
       },
       "data": [
        {
         "alignmentgroup": "True",
         "hovertemplate": "Seller_Type=%{x}<br>Selling_Price=%{y}<extra></extra>",
         "legendgroup": "",
         "marker": {
          "color": "#636efa"
         },
         "name": "",
         "notched": false,
         "offsetgroup": "",
         "orientation": "v",
         "showlegend": false,
         "type": "box",
         "x": [
          "Dealer",
          "Dealer",
          "Dealer",
          "Dealer",
          "Dealer",
          "Dealer",
          "Dealer",
          "Dealer",
          "Dealer",
          "Dealer",
          "Dealer",
          "Dealer",
          "Dealer",
          "Dealer",
          "Dealer",
          "Dealer",
          "Dealer",
          "Dealer",
          "Dealer",
          "Dealer",
          "Dealer",
          "Dealer",
          "Dealer",
          "Dealer",
          "Dealer",
          "Dealer",
          "Dealer",
          "Individual",
          "Dealer",
          "Dealer",
          "Dealer",
          "Dealer",
          "Dealer",
          "Dealer",
          "Dealer",
          "Dealer",
          "Dealer",
          "Individual",
          "Dealer",
          "Dealer",
          "Dealer",
          "Dealer",
          "Dealer",
          "Dealer",
          "Dealer",
          "Dealer",
          "Dealer",
          "Dealer",
          "Dealer",
          "Dealer",
          "Dealer",
          "Dealer",
          "Dealer",
          "Individual",
          "Individual",
          "Dealer",
          "Dealer",
          "Dealer",
          "Dealer",
          "Dealer",
          "Dealer",
          "Dealer",
          "Dealer",
          "Dealer",
          "Dealer",
          "Dealer",
          "Dealer",
          "Dealer",
          "Dealer",
          "Dealer",
          "Dealer",
          "Dealer",
          "Dealer",
          "Dealer",
          "Dealer",
          "Dealer",
          "Dealer",
          "Dealer",
          "Dealer",
          "Dealer",
          "Dealer",
          "Dealer",
          "Dealer",
          "Dealer",
          "Dealer",
          "Individual",
          "Dealer",
          "Dealer",
          "Dealer",
          "Dealer",
          "Dealer",
          "Dealer",
          "Dealer",
          "Dealer",
          "Dealer",
          "Dealer",
          "Dealer",
          "Dealer",
          "Dealer",
          "Dealer",
          "Individual",
          "Individual",
          "Individual",
          "Individual",
          "Individual",
          "Individual",
          "Individual",
          "Individual",
          "Individual",
          "Individual",
          "Individual",
          "Individual",
          "Individual",
          "Individual",
          "Individual",
          "Individual",
          "Individual",
          "Individual",
          "Individual",
          "Individual",
          "Individual",
          "Individual",
          "Individual",
          "Individual",
          "Individual",
          "Individual",
          "Individual",
          "Individual",
          "Individual",
          "Individual",
          "Individual",
          "Individual",
          "Individual",
          "Individual",
          "Individual",
          "Individual",
          "Individual",
          "Individual",
          "Individual",
          "Individual",
          "Individual",
          "Individual",
          "Individual",
          "Individual",
          "Individual",
          "Individual",
          "Individual",
          "Individual",
          "Individual",
          "Individual",
          "Individual",
          "Individual",
          "Individual",
          "Individual",
          "Individual",
          "Individual",
          "Individual",
          "Individual",
          "Individual",
          "Individual",
          "Individual",
          "Individual",
          "Individual",
          "Individual",
          "Individual",
          "Individual",
          "Individual",
          "Individual",
          "Individual",
          "Individual",
          "Individual",
          "Individual",
          "Individual",
          "Individual",
          "Individual",
          "Individual",
          "Individual",
          "Individual",
          "Individual",
          "Individual",
          "Individual",
          "Individual",
          "Individual",
          "Individual",
          "Individual",
          "Individual",
          "Individual",
          "Individual",
          "Individual",
          "Individual",
          "Individual",
          "Individual",
          "Individual",
          "Individual",
          "Individual",
          "Individual",
          "Individual",
          "Individual",
          "Individual",
          "Individual",
          "Individual",
          "Dealer",
          "Dealer",
          "Dealer",
          "Dealer",
          "Dealer",
          "Dealer",
          "Dealer",
          "Dealer",
          "Dealer",
          "Dealer",
          "Dealer",
          "Dealer",
          "Dealer",
          "Dealer",
          "Dealer",
          "Dealer",
          "Dealer",
          "Dealer",
          "Dealer",
          "Dealer",
          "Dealer",
          "Dealer",
          "Dealer",
          "Dealer",
          "Dealer",
          "Dealer",
          "Dealer",
          "Dealer",
          "Dealer",
          "Dealer",
          "Dealer",
          "Dealer",
          "Dealer",
          "Dealer",
          "Dealer",
          "Dealer",
          "Dealer",
          "Dealer",
          "Dealer",
          "Dealer",
          "Dealer",
          "Dealer",
          "Dealer",
          "Dealer",
          "Dealer",
          "Dealer",
          "Dealer",
          "Dealer",
          "Dealer",
          "Dealer",
          "Dealer",
          "Dealer",
          "Dealer",
          "Dealer",
          "Dealer",
          "Dealer",
          "Dealer",
          "Dealer",
          "Dealer",
          "Dealer",
          "Dealer",
          "Dealer",
          "Dealer",
          "Dealer",
          "Dealer",
          "Dealer",
          "Dealer",
          "Dealer",
          "Dealer",
          "Dealer",
          "Dealer",
          "Dealer",
          "Dealer",
          "Dealer",
          "Dealer",
          "Dealer",
          "Dealer",
          "Dealer",
          "Dealer",
          "Dealer",
          "Dealer",
          "Dealer",
          "Dealer",
          "Dealer",
          "Dealer",
          "Dealer",
          "Dealer",
          "Dealer",
          "Dealer",
          "Dealer",
          "Dealer",
          "Dealer",
          "Dealer",
          "Dealer",
          "Dealer",
          "Dealer",
          "Dealer",
          "Dealer",
          "Dealer",
          "Dealer"
         ],
         "x0": " ",
         "xaxis": "x",
         "y": [
          3.35,
          4.75,
          7.25,
          2.85,
          4.6,
          9.25,
          6.75,
          6.5,
          8.75,
          7.45,
          2.85,
          6.85,
          7.5,
          6.1,
          2.25,
          7.75,
          7.25,
          7.75,
          3.25,
          2.65,
          2.85,
          4.9,
          4.4,
          2.5,
          2.9,
          3,
          4.15,
          6,
          1.95,
          7.45,
          3.1,
          2.35,
          4.95,
          6,
          5.5,
          2.95,
          4.65,
          0.35,
          3,
          2.25,
          5.85,
          2.55,
          1.95,
          5.5,
          1.25,
          7.5,
          2.65,
          1.05,
          5.8,
          7.75,
          14.9,
          23,
          18,
          16,
          2.75,
          3.6,
          4.5,
          4.75,
          4.1,
          19.99,
          6.95,
          4.5,
          18.75,
          23.5,
          33,
          4.75,
          19.75,
          9.25,
          4.35,
          14.25,
          3.95,
          4.5,
          7.45,
          2.65,
          4.9,
          3.95,
          5.5,
          1.5,
          5.25,
          14.5,
          14.73,
          4.75,
          23,
          12.5,
          3.49,
          2.5,
          35,
          5.9,
          3.45,
          4.75,
          3.8,
          11.25,
          3.51,
          23,
          4,
          5.85,
          20.75,
          17,
          7.05,
          9.65,
          1.75,
          1.7,
          1.65,
          1.45,
          1.35,
          1.35,
          1.35,
          1.25,
          1.2,
          1.2,
          1.2,
          1.15,
          1.15,
          1.15,
          1.15,
          1.11,
          1.1,
          1.1,
          1.1,
          1.05,
          1.05,
          1.05,
          1.05,
          1,
          0.95,
          0.9,
          0.9,
          0.75,
          0.8,
          0.78,
          0.75,
          0.75,
          0.75,
          0.72,
          0.65,
          0.65,
          0.65,
          0.65,
          0.6,
          0.6,
          0.6,
          0.6,
          0.6,
          0.6,
          0.6,
          0.6,
          0.55,
          0.55,
          0.52,
          0.51,
          0.5,
          0.5,
          0.5,
          0.5,
          0.5,
          0.48,
          0.48,
          0.48,
          0.48,
          0.45,
          0.45,
          0.45,
          0.45,
          0.45,
          0.45,
          0.45,
          0.45,
          0.42,
          0.42,
          0.4,
          0.4,
          0.4,
          0.4,
          0.4,
          0.38,
          0.38,
          0.35,
          0.35,
          0.35,
          0.31,
          0.3,
          0.3,
          0.3,
          0.27,
          0.25,
          0.25,
          0.25,
          0.25,
          0.25,
          0.2,
          0.2,
          0.2,
          0.2,
          0.2,
          0.2,
          0.18,
          0.17,
          0.16,
          0.15,
          0.12,
          0.1,
          3.25,
          4.4,
          2.95,
          2.75,
          5.25,
          5.75,
          5.15,
          7.9,
          4.85,
          3.1,
          11.75,
          11.25,
          2.9,
          5.25,
          4.5,
          2.9,
          3.15,
          6.45,
          4.5,
          3.5,
          4.5,
          6,
          8.25,
          5.11,
          2.7,
          5.25,
          2.55,
          4.95,
          3.1,
          6.15,
          9.25,
          11.45,
          3.9,
          5.5,
          9.1,
          3.1,
          11.25,
          4.8,
          2,
          5.35,
          4.75,
          4.4,
          6.25,
          5.95,
          5.2,
          3.75,
          5.95,
          4,
          5.25,
          12.9,
          5,
          5.4,
          7.2,
          5.25,
          3,
          10.25,
          8.5,
          8.4,
          3.9,
          9.15,
          5.5,
          4,
          6.6,
          4,
          6.5,
          3.65,
          8.35,
          4.8,
          6.7,
          4.1,
          3,
          7.5,
          2.25,
          5.3,
          10.9,
          8.65,
          9.7,
          6,
          6.25,
          5.25,
          2.1,
          8.25,
          8.99,
          3.5,
          7.4,
          5.65,
          5.75,
          8.4,
          10.11,
          4.5,
          5.4,
          6.4,
          3.25,
          3.75,
          8.55,
          9.5,
          4,
          3.35,
          11.5,
          5.3
         ],
         "y0": " ",
         "yaxis": "y"
        }
       ],
       "layout": {
        "boxmode": "group",
        "legend": {
         "tracegroupgap": 0
        },
        "margin": {
         "t": 60
        },
        "template": {
         "data": {
          "bar": [
           {
            "error_x": {
             "color": "#2a3f5f"
            },
            "error_y": {
             "color": "#2a3f5f"
            },
            "marker": {
             "line": {
              "color": "#E5ECF6",
              "width": 0.5
             }
            },
            "type": "bar"
           }
          ],
          "barpolar": [
           {
            "marker": {
             "line": {
              "color": "#E5ECF6",
              "width": 0.5
             }
            },
            "type": "barpolar"
           }
          ],
          "carpet": [
           {
            "aaxis": {
             "endlinecolor": "#2a3f5f",
             "gridcolor": "white",
             "linecolor": "white",
             "minorgridcolor": "white",
             "startlinecolor": "#2a3f5f"
            },
            "baxis": {
             "endlinecolor": "#2a3f5f",
             "gridcolor": "white",
             "linecolor": "white",
             "minorgridcolor": "white",
             "startlinecolor": "#2a3f5f"
            },
            "type": "carpet"
           }
          ],
          "choropleth": [
           {
            "colorbar": {
             "outlinewidth": 0,
             "ticks": ""
            },
            "type": "choropleth"
           }
          ],
          "contour": [
           {
            "colorbar": {
             "outlinewidth": 0,
             "ticks": ""
            },
            "colorscale": [
             [
              0,
              "#0d0887"
             ],
             [
              0.1111111111111111,
              "#46039f"
             ],
             [
              0.2222222222222222,
              "#7201a8"
             ],
             [
              0.3333333333333333,
              "#9c179e"
             ],
             [
              0.4444444444444444,
              "#bd3786"
             ],
             [
              0.5555555555555556,
              "#d8576b"
             ],
             [
              0.6666666666666666,
              "#ed7953"
             ],
             [
              0.7777777777777778,
              "#fb9f3a"
             ],
             [
              0.8888888888888888,
              "#fdca26"
             ],
             [
              1,
              "#f0f921"
             ]
            ],
            "type": "contour"
           }
          ],
          "contourcarpet": [
           {
            "colorbar": {
             "outlinewidth": 0,
             "ticks": ""
            },
            "type": "contourcarpet"
           }
          ],
          "heatmap": [
           {
            "colorbar": {
             "outlinewidth": 0,
             "ticks": ""
            },
            "colorscale": [
             [
              0,
              "#0d0887"
             ],
             [
              0.1111111111111111,
              "#46039f"
             ],
             [
              0.2222222222222222,
              "#7201a8"
             ],
             [
              0.3333333333333333,
              "#9c179e"
             ],
             [
              0.4444444444444444,
              "#bd3786"
             ],
             [
              0.5555555555555556,
              "#d8576b"
             ],
             [
              0.6666666666666666,
              "#ed7953"
             ],
             [
              0.7777777777777778,
              "#fb9f3a"
             ],
             [
              0.8888888888888888,
              "#fdca26"
             ],
             [
              1,
              "#f0f921"
             ]
            ],
            "type": "heatmap"
           }
          ],
          "heatmapgl": [
           {
            "colorbar": {
             "outlinewidth": 0,
             "ticks": ""
            },
            "colorscale": [
             [
              0,
              "#0d0887"
             ],
             [
              0.1111111111111111,
              "#46039f"
             ],
             [
              0.2222222222222222,
              "#7201a8"
             ],
             [
              0.3333333333333333,
              "#9c179e"
             ],
             [
              0.4444444444444444,
              "#bd3786"
             ],
             [
              0.5555555555555556,
              "#d8576b"
             ],
             [
              0.6666666666666666,
              "#ed7953"
             ],
             [
              0.7777777777777778,
              "#fb9f3a"
             ],
             [
              0.8888888888888888,
              "#fdca26"
             ],
             [
              1,
              "#f0f921"
             ]
            ],
            "type": "heatmapgl"
           }
          ],
          "histogram": [
           {
            "marker": {
             "colorbar": {
              "outlinewidth": 0,
              "ticks": ""
             }
            },
            "type": "histogram"
           }
          ],
          "histogram2d": [
           {
            "colorbar": {
             "outlinewidth": 0,
             "ticks": ""
            },
            "colorscale": [
             [
              0,
              "#0d0887"
             ],
             [
              0.1111111111111111,
              "#46039f"
             ],
             [
              0.2222222222222222,
              "#7201a8"
             ],
             [
              0.3333333333333333,
              "#9c179e"
             ],
             [
              0.4444444444444444,
              "#bd3786"
             ],
             [
              0.5555555555555556,
              "#d8576b"
             ],
             [
              0.6666666666666666,
              "#ed7953"
             ],
             [
              0.7777777777777778,
              "#fb9f3a"
             ],
             [
              0.8888888888888888,
              "#fdca26"
             ],
             [
              1,
              "#f0f921"
             ]
            ],
            "type": "histogram2d"
           }
          ],
          "histogram2dcontour": [
           {
            "colorbar": {
             "outlinewidth": 0,
             "ticks": ""
            },
            "colorscale": [
             [
              0,
              "#0d0887"
             ],
             [
              0.1111111111111111,
              "#46039f"
             ],
             [
              0.2222222222222222,
              "#7201a8"
             ],
             [
              0.3333333333333333,
              "#9c179e"
             ],
             [
              0.4444444444444444,
              "#bd3786"
             ],
             [
              0.5555555555555556,
              "#d8576b"
             ],
             [
              0.6666666666666666,
              "#ed7953"
             ],
             [
              0.7777777777777778,
              "#fb9f3a"
             ],
             [
              0.8888888888888888,
              "#fdca26"
             ],
             [
              1,
              "#f0f921"
             ]
            ],
            "type": "histogram2dcontour"
           }
          ],
          "mesh3d": [
           {
            "colorbar": {
             "outlinewidth": 0,
             "ticks": ""
            },
            "type": "mesh3d"
           }
          ],
          "parcoords": [
           {
            "line": {
             "colorbar": {
              "outlinewidth": 0,
              "ticks": ""
             }
            },
            "type": "parcoords"
           }
          ],
          "pie": [
           {
            "automargin": true,
            "type": "pie"
           }
          ],
          "scatter": [
           {
            "marker": {
             "colorbar": {
              "outlinewidth": 0,
              "ticks": ""
             }
            },
            "type": "scatter"
           }
          ],
          "scatter3d": [
           {
            "line": {
             "colorbar": {
              "outlinewidth": 0,
              "ticks": ""
             }
            },
            "marker": {
             "colorbar": {
              "outlinewidth": 0,
              "ticks": ""
             }
            },
            "type": "scatter3d"
           }
          ],
          "scattercarpet": [
           {
            "marker": {
             "colorbar": {
              "outlinewidth": 0,
              "ticks": ""
             }
            },
            "type": "scattercarpet"
           }
          ],
          "scattergeo": [
           {
            "marker": {
             "colorbar": {
              "outlinewidth": 0,
              "ticks": ""
             }
            },
            "type": "scattergeo"
           }
          ],
          "scattergl": [
           {
            "marker": {
             "colorbar": {
              "outlinewidth": 0,
              "ticks": ""
             }
            },
            "type": "scattergl"
           }
          ],
          "scattermapbox": [
           {
            "marker": {
             "colorbar": {
              "outlinewidth": 0,
              "ticks": ""
             }
            },
            "type": "scattermapbox"
           }
          ],
          "scatterpolar": [
           {
            "marker": {
             "colorbar": {
              "outlinewidth": 0,
              "ticks": ""
             }
            },
            "type": "scatterpolar"
           }
          ],
          "scatterpolargl": [
           {
            "marker": {
             "colorbar": {
              "outlinewidth": 0,
              "ticks": ""
             }
            },
            "type": "scatterpolargl"
           }
          ],
          "scatterternary": [
           {
            "marker": {
             "colorbar": {
              "outlinewidth": 0,
              "ticks": ""
             }
            },
            "type": "scatterternary"
           }
          ],
          "surface": [
           {
            "colorbar": {
             "outlinewidth": 0,
             "ticks": ""
            },
            "colorscale": [
             [
              0,
              "#0d0887"
             ],
             [
              0.1111111111111111,
              "#46039f"
             ],
             [
              0.2222222222222222,
              "#7201a8"
             ],
             [
              0.3333333333333333,
              "#9c179e"
             ],
             [
              0.4444444444444444,
              "#bd3786"
             ],
             [
              0.5555555555555556,
              "#d8576b"
             ],
             [
              0.6666666666666666,
              "#ed7953"
             ],
             [
              0.7777777777777778,
              "#fb9f3a"
             ],
             [
              0.8888888888888888,
              "#fdca26"
             ],
             [
              1,
              "#f0f921"
             ]
            ],
            "type": "surface"
           }
          ],
          "table": [
           {
            "cells": {
             "fill": {
              "color": "#EBF0F8"
             },
             "line": {
              "color": "white"
             }
            },
            "header": {
             "fill": {
              "color": "#C8D4E3"
             },
             "line": {
              "color": "white"
             }
            },
            "type": "table"
           }
          ]
         },
         "layout": {
          "annotationdefaults": {
           "arrowcolor": "#2a3f5f",
           "arrowhead": 0,
           "arrowwidth": 1
          },
          "coloraxis": {
           "colorbar": {
            "outlinewidth": 0,
            "ticks": ""
           }
          },
          "colorscale": {
           "diverging": [
            [
             0,
             "#8e0152"
            ],
            [
             0.1,
             "#c51b7d"
            ],
            [
             0.2,
             "#de77ae"
            ],
            [
             0.3,
             "#f1b6da"
            ],
            [
             0.4,
             "#fde0ef"
            ],
            [
             0.5,
             "#f7f7f7"
            ],
            [
             0.6,
             "#e6f5d0"
            ],
            [
             0.7,
             "#b8e186"
            ],
            [
             0.8,
             "#7fbc41"
            ],
            [
             0.9,
             "#4d9221"
            ],
            [
             1,
             "#276419"
            ]
           ],
           "sequential": [
            [
             0,
             "#0d0887"
            ],
            [
             0.1111111111111111,
             "#46039f"
            ],
            [
             0.2222222222222222,
             "#7201a8"
            ],
            [
             0.3333333333333333,
             "#9c179e"
            ],
            [
             0.4444444444444444,
             "#bd3786"
            ],
            [
             0.5555555555555556,
             "#d8576b"
            ],
            [
             0.6666666666666666,
             "#ed7953"
            ],
            [
             0.7777777777777778,
             "#fb9f3a"
            ],
            [
             0.8888888888888888,
             "#fdca26"
            ],
            [
             1,
             "#f0f921"
            ]
           ],
           "sequentialminus": [
            [
             0,
             "#0d0887"
            ],
            [
             0.1111111111111111,
             "#46039f"
            ],
            [
             0.2222222222222222,
             "#7201a8"
            ],
            [
             0.3333333333333333,
             "#9c179e"
            ],
            [
             0.4444444444444444,
             "#bd3786"
            ],
            [
             0.5555555555555556,
             "#d8576b"
            ],
            [
             0.6666666666666666,
             "#ed7953"
            ],
            [
             0.7777777777777778,
             "#fb9f3a"
            ],
            [
             0.8888888888888888,
             "#fdca26"
            ],
            [
             1,
             "#f0f921"
            ]
           ]
          },
          "colorway": [
           "#636efa",
           "#EF553B",
           "#00cc96",
           "#ab63fa",
           "#FFA15A",
           "#19d3f3",
           "#FF6692",
           "#B6E880",
           "#FF97FF",
           "#FECB52"
          ],
          "font": {
           "color": "#2a3f5f"
          },
          "geo": {
           "bgcolor": "white",
           "lakecolor": "white",
           "landcolor": "#E5ECF6",
           "showlakes": true,
           "showland": true,
           "subunitcolor": "white"
          },
          "hoverlabel": {
           "align": "left"
          },
          "hovermode": "closest",
          "mapbox": {
           "style": "light"
          },
          "paper_bgcolor": "white",
          "plot_bgcolor": "#E5ECF6",
          "polar": {
           "angularaxis": {
            "gridcolor": "white",
            "linecolor": "white",
            "ticks": ""
           },
           "bgcolor": "#E5ECF6",
           "radialaxis": {
            "gridcolor": "white",
            "linecolor": "white",
            "ticks": ""
           }
          },
          "scene": {
           "xaxis": {
            "backgroundcolor": "#E5ECF6",
            "gridcolor": "white",
            "gridwidth": 2,
            "linecolor": "white",
            "showbackground": true,
            "ticks": "",
            "zerolinecolor": "white"
           },
           "yaxis": {
            "backgroundcolor": "#E5ECF6",
            "gridcolor": "white",
            "gridwidth": 2,
            "linecolor": "white",
            "showbackground": true,
            "ticks": "",
            "zerolinecolor": "white"
           },
           "zaxis": {
            "backgroundcolor": "#E5ECF6",
            "gridcolor": "white",
            "gridwidth": 2,
            "linecolor": "white",
            "showbackground": true,
            "ticks": "",
            "zerolinecolor": "white"
           }
          },
          "shapedefaults": {
           "line": {
            "color": "#2a3f5f"
           }
          },
          "ternary": {
           "aaxis": {
            "gridcolor": "white",
            "linecolor": "white",
            "ticks": ""
           },
           "baxis": {
            "gridcolor": "white",
            "linecolor": "white",
            "ticks": ""
           },
           "bgcolor": "#E5ECF6",
           "caxis": {
            "gridcolor": "white",
            "linecolor": "white",
            "ticks": ""
           }
          },
          "title": {
           "x": 0.05
          },
          "xaxis": {
           "automargin": true,
           "gridcolor": "white",
           "linecolor": "white",
           "ticks": "",
           "title": {
            "standoff": 15
           },
           "zerolinecolor": "white",
           "zerolinewidth": 2
          },
          "yaxis": {
           "automargin": true,
           "gridcolor": "white",
           "linecolor": "white",
           "ticks": "",
           "title": {
            "standoff": 15
           },
           "zerolinecolor": "white",
           "zerolinewidth": 2
          }
         }
        },
        "xaxis": {
         "anchor": "y",
         "domain": [
          0,
          1
         ],
         "title": {
          "text": "Seller_Type"
         }
        },
        "yaxis": {
         "anchor": "x",
         "domain": [
          0,
          1
         ],
         "title": {
          "text": "Selling_Price"
         }
        }
       }
      },
      "text/html": [
       "<div>\n",
       "        \n",
       "        \n",
       "            <div id=\"897cfb2d-4ece-4910-bf82-476fbf99692a\" class=\"plotly-graph-div\" style=\"height:525px; width:100%;\"></div>\n",
       "            <script type=\"text/javascript\">\n",
       "                require([\"plotly\"], function(Plotly) {\n",
       "                    window.PLOTLYENV=window.PLOTLYENV || {};\n",
       "                    \n",
       "                if (document.getElementById(\"897cfb2d-4ece-4910-bf82-476fbf99692a\")) {\n",
       "                    Plotly.newPlot(\n",
       "                        '897cfb2d-4ece-4910-bf82-476fbf99692a',\n",
       "                        [{\"alignmentgroup\": \"True\", \"hovertemplate\": \"Seller_Type=%{x}<br>Selling_Price=%{y}<extra></extra>\", \"legendgroup\": \"\", \"marker\": {\"color\": \"#636efa\"}, \"name\": \"\", \"notched\": false, \"offsetgroup\": \"\", \"orientation\": \"v\", \"showlegend\": false, \"type\": \"box\", \"x\": [\"Dealer\", \"Dealer\", \"Dealer\", \"Dealer\", \"Dealer\", \"Dealer\", \"Dealer\", \"Dealer\", \"Dealer\", \"Dealer\", \"Dealer\", \"Dealer\", \"Dealer\", \"Dealer\", \"Dealer\", \"Dealer\", \"Dealer\", \"Dealer\", \"Dealer\", \"Dealer\", \"Dealer\", \"Dealer\", \"Dealer\", \"Dealer\", \"Dealer\", \"Dealer\", \"Dealer\", \"Individual\", \"Dealer\", \"Dealer\", \"Dealer\", \"Dealer\", \"Dealer\", \"Dealer\", \"Dealer\", \"Dealer\", \"Dealer\", \"Individual\", \"Dealer\", \"Dealer\", \"Dealer\", \"Dealer\", \"Dealer\", \"Dealer\", \"Dealer\", \"Dealer\", \"Dealer\", \"Dealer\", \"Dealer\", \"Dealer\", \"Dealer\", \"Dealer\", \"Dealer\", \"Individual\", \"Individual\", \"Dealer\", \"Dealer\", \"Dealer\", \"Dealer\", \"Dealer\", \"Dealer\", \"Dealer\", \"Dealer\", \"Dealer\", \"Dealer\", \"Dealer\", \"Dealer\", \"Dealer\", \"Dealer\", \"Dealer\", \"Dealer\", \"Dealer\", \"Dealer\", \"Dealer\", \"Dealer\", \"Dealer\", \"Dealer\", \"Dealer\", \"Dealer\", \"Dealer\", \"Dealer\", \"Dealer\", \"Dealer\", \"Dealer\", \"Dealer\", \"Individual\", \"Dealer\", \"Dealer\", \"Dealer\", \"Dealer\", \"Dealer\", \"Dealer\", \"Dealer\", \"Dealer\", \"Dealer\", \"Dealer\", \"Dealer\", \"Dealer\", \"Dealer\", \"Dealer\", \"Individual\", \"Individual\", \"Individual\", \"Individual\", \"Individual\", \"Individual\", \"Individual\", \"Individual\", \"Individual\", \"Individual\", \"Individual\", \"Individual\", \"Individual\", \"Individual\", \"Individual\", \"Individual\", \"Individual\", \"Individual\", \"Individual\", \"Individual\", \"Individual\", \"Individual\", \"Individual\", \"Individual\", \"Individual\", \"Individual\", \"Individual\", \"Individual\", \"Individual\", \"Individual\", \"Individual\", \"Individual\", \"Individual\", \"Individual\", \"Individual\", \"Individual\", \"Individual\", \"Individual\", \"Individual\", \"Individual\", \"Individual\", \"Individual\", \"Individual\", \"Individual\", \"Individual\", \"Individual\", \"Individual\", \"Individual\", \"Individual\", \"Individual\", \"Individual\", \"Individual\", \"Individual\", \"Individual\", \"Individual\", \"Individual\", \"Individual\", \"Individual\", \"Individual\", \"Individual\", \"Individual\", \"Individual\", \"Individual\", \"Individual\", \"Individual\", \"Individual\", \"Individual\", \"Individual\", \"Individual\", \"Individual\", \"Individual\", \"Individual\", \"Individual\", \"Individual\", \"Individual\", \"Individual\", \"Individual\", \"Individual\", \"Individual\", \"Individual\", \"Individual\", \"Individual\", \"Individual\", \"Individual\", \"Individual\", \"Individual\", \"Individual\", \"Individual\", \"Individual\", \"Individual\", \"Individual\", \"Individual\", \"Individual\", \"Individual\", \"Individual\", \"Individual\", \"Individual\", \"Individual\", \"Individual\", \"Individual\", \"Individual\", \"Dealer\", \"Dealer\", \"Dealer\", \"Dealer\", \"Dealer\", \"Dealer\", \"Dealer\", \"Dealer\", \"Dealer\", \"Dealer\", \"Dealer\", \"Dealer\", \"Dealer\", \"Dealer\", \"Dealer\", \"Dealer\", \"Dealer\", \"Dealer\", \"Dealer\", \"Dealer\", \"Dealer\", \"Dealer\", \"Dealer\", \"Dealer\", \"Dealer\", \"Dealer\", \"Dealer\", \"Dealer\", \"Dealer\", \"Dealer\", \"Dealer\", \"Dealer\", \"Dealer\", \"Dealer\", \"Dealer\", \"Dealer\", \"Dealer\", \"Dealer\", \"Dealer\", \"Dealer\", \"Dealer\", \"Dealer\", \"Dealer\", \"Dealer\", \"Dealer\", \"Dealer\", \"Dealer\", \"Dealer\", \"Dealer\", \"Dealer\", \"Dealer\", \"Dealer\", \"Dealer\", \"Dealer\", \"Dealer\", \"Dealer\", \"Dealer\", \"Dealer\", \"Dealer\", \"Dealer\", \"Dealer\", \"Dealer\", \"Dealer\", \"Dealer\", \"Dealer\", \"Dealer\", \"Dealer\", \"Dealer\", \"Dealer\", \"Dealer\", \"Dealer\", \"Dealer\", \"Dealer\", \"Dealer\", \"Dealer\", \"Dealer\", \"Dealer\", \"Dealer\", \"Dealer\", \"Dealer\", \"Dealer\", \"Dealer\", \"Dealer\", \"Dealer\", \"Dealer\", \"Dealer\", \"Dealer\", \"Dealer\", \"Dealer\", \"Dealer\", \"Dealer\", \"Dealer\", \"Dealer\", \"Dealer\", \"Dealer\", \"Dealer\", \"Dealer\", \"Dealer\", \"Dealer\", \"Dealer\"], \"x0\": \" \", \"xaxis\": \"x\", \"y\": [3.35, 4.75, 7.25, 2.85, 4.6, 9.25, 6.75, 6.5, 8.75, 7.45, 2.85, 6.85, 7.5, 6.1, 2.25, 7.75, 7.25, 7.75, 3.25, 2.65, 2.85, 4.9, 4.4, 2.5, 2.9, 3.0, 4.15, 6.0, 1.95, 7.45, 3.1, 2.35, 4.95, 6.0, 5.5, 2.95, 4.65, 0.35, 3.0, 2.25, 5.85, 2.55, 1.95, 5.5, 1.25, 7.5, 2.65, 1.05, 5.8, 7.75, 14.9, 23.0, 18.0, 16.0, 2.75, 3.6, 4.5, 4.75, 4.1, 19.99, 6.95, 4.5, 18.75, 23.5, 33.0, 4.75, 19.75, 9.25, 4.35, 14.25, 3.95, 4.5, 7.45, 2.65, 4.9, 3.95, 5.5, 1.5, 5.25, 14.5, 14.73, 4.75, 23.0, 12.5, 3.49, 2.5, 35.0, 5.9, 3.45, 4.75, 3.8, 11.25, 3.51, 23.0, 4.0, 5.85, 20.75, 17.0, 7.05, 9.65, 1.75, 1.7, 1.65, 1.45, 1.35, 1.35, 1.35, 1.25, 1.2, 1.2, 1.2, 1.15, 1.15, 1.15, 1.15, 1.11, 1.1, 1.1, 1.1, 1.05, 1.05, 1.05, 1.05, 1.0, 0.95, 0.9, 0.9, 0.75, 0.8, 0.78, 0.75, 0.75, 0.75, 0.72, 0.65, 0.65, 0.65, 0.65, 0.6, 0.6, 0.6, 0.6, 0.6, 0.6, 0.6, 0.6, 0.55, 0.55, 0.52, 0.51, 0.5, 0.5, 0.5, 0.5, 0.5, 0.48, 0.48, 0.48, 0.48, 0.45, 0.45, 0.45, 0.45, 0.45, 0.45, 0.45, 0.45, 0.42, 0.42, 0.4, 0.4, 0.4, 0.4, 0.4, 0.38, 0.38, 0.35, 0.35, 0.35, 0.31, 0.3, 0.3, 0.3, 0.27, 0.25, 0.25, 0.25, 0.25, 0.25, 0.2, 0.2, 0.2, 0.2, 0.2, 0.2, 0.18, 0.17, 0.16, 0.15, 0.12, 0.1, 3.25, 4.4, 2.95, 2.75, 5.25, 5.75, 5.15, 7.9, 4.85, 3.1, 11.75, 11.25, 2.9, 5.25, 4.5, 2.9, 3.15, 6.45, 4.5, 3.5, 4.5, 6.0, 8.25, 5.11, 2.7, 5.25, 2.55, 4.95, 3.1, 6.15, 9.25, 11.45, 3.9, 5.5, 9.1, 3.1, 11.25, 4.8, 2.0, 5.35, 4.75, 4.4, 6.25, 5.95, 5.2, 3.75, 5.95, 4.0, 5.25, 12.9, 5.0, 5.4, 7.2, 5.25, 3.0, 10.25, 8.5, 8.4, 3.9, 9.15, 5.5, 4.0, 6.6, 4.0, 6.5, 3.65, 8.35, 4.8, 6.7, 4.1, 3.0, 7.5, 2.25, 5.3, 10.9, 8.65, 9.7, 6.0, 6.25, 5.25, 2.1, 8.25, 8.99, 3.5, 7.4, 5.65, 5.75, 8.4, 10.11, 4.5, 5.4, 6.4, 3.25, 3.75, 8.55, 9.5, 4.0, 3.35, 11.5, 5.3], \"y0\": \" \", \"yaxis\": \"y\"}],\n",
       "                        {\"boxmode\": \"group\", \"legend\": {\"tracegroupgap\": 0}, \"margin\": {\"t\": 60}, \"template\": {\"data\": {\"bar\": [{\"error_x\": {\"color\": \"#2a3f5f\"}, \"error_y\": {\"color\": \"#2a3f5f\"}, \"marker\": {\"line\": {\"color\": \"#E5ECF6\", \"width\": 0.5}}, \"type\": \"bar\"}], \"barpolar\": [{\"marker\": {\"line\": {\"color\": \"#E5ECF6\", \"width\": 0.5}}, \"type\": \"barpolar\"}], \"carpet\": [{\"aaxis\": {\"endlinecolor\": \"#2a3f5f\", \"gridcolor\": \"white\", \"linecolor\": \"white\", \"minorgridcolor\": \"white\", \"startlinecolor\": \"#2a3f5f\"}, \"baxis\": {\"endlinecolor\": \"#2a3f5f\", \"gridcolor\": \"white\", \"linecolor\": \"white\", \"minorgridcolor\": \"white\", \"startlinecolor\": \"#2a3f5f\"}, \"type\": \"carpet\"}], \"choropleth\": [{\"colorbar\": {\"outlinewidth\": 0, \"ticks\": \"\"}, \"type\": \"choropleth\"}], \"contour\": [{\"colorbar\": {\"outlinewidth\": 0, \"ticks\": \"\"}, \"colorscale\": [[0.0, \"#0d0887\"], [0.1111111111111111, \"#46039f\"], [0.2222222222222222, \"#7201a8\"], [0.3333333333333333, \"#9c179e\"], [0.4444444444444444, \"#bd3786\"], [0.5555555555555556, \"#d8576b\"], [0.6666666666666666, \"#ed7953\"], [0.7777777777777778, \"#fb9f3a\"], [0.8888888888888888, \"#fdca26\"], [1.0, \"#f0f921\"]], \"type\": \"contour\"}], \"contourcarpet\": [{\"colorbar\": {\"outlinewidth\": 0, \"ticks\": \"\"}, \"type\": \"contourcarpet\"}], \"heatmap\": [{\"colorbar\": {\"outlinewidth\": 0, \"ticks\": \"\"}, \"colorscale\": [[0.0, \"#0d0887\"], [0.1111111111111111, \"#46039f\"], [0.2222222222222222, \"#7201a8\"], [0.3333333333333333, \"#9c179e\"], [0.4444444444444444, \"#bd3786\"], [0.5555555555555556, \"#d8576b\"], [0.6666666666666666, \"#ed7953\"], [0.7777777777777778, \"#fb9f3a\"], [0.8888888888888888, \"#fdca26\"], [1.0, \"#f0f921\"]], \"type\": \"heatmap\"}], \"heatmapgl\": [{\"colorbar\": {\"outlinewidth\": 0, \"ticks\": \"\"}, \"colorscale\": [[0.0, \"#0d0887\"], [0.1111111111111111, \"#46039f\"], [0.2222222222222222, \"#7201a8\"], [0.3333333333333333, \"#9c179e\"], [0.4444444444444444, \"#bd3786\"], [0.5555555555555556, \"#d8576b\"], [0.6666666666666666, \"#ed7953\"], [0.7777777777777778, \"#fb9f3a\"], [0.8888888888888888, \"#fdca26\"], [1.0, \"#f0f921\"]], \"type\": \"heatmapgl\"}], \"histogram\": [{\"marker\": {\"colorbar\": {\"outlinewidth\": 0, \"ticks\": \"\"}}, \"type\": \"histogram\"}], \"histogram2d\": [{\"colorbar\": {\"outlinewidth\": 0, \"ticks\": \"\"}, \"colorscale\": [[0.0, \"#0d0887\"], [0.1111111111111111, \"#46039f\"], [0.2222222222222222, \"#7201a8\"], [0.3333333333333333, \"#9c179e\"], [0.4444444444444444, \"#bd3786\"], [0.5555555555555556, \"#d8576b\"], [0.6666666666666666, \"#ed7953\"], [0.7777777777777778, \"#fb9f3a\"], [0.8888888888888888, \"#fdca26\"], [1.0, \"#f0f921\"]], \"type\": \"histogram2d\"}], \"histogram2dcontour\": [{\"colorbar\": {\"outlinewidth\": 0, \"ticks\": \"\"}, \"colorscale\": [[0.0, \"#0d0887\"], [0.1111111111111111, \"#46039f\"], [0.2222222222222222, \"#7201a8\"], [0.3333333333333333, \"#9c179e\"], [0.4444444444444444, \"#bd3786\"], [0.5555555555555556, \"#d8576b\"], [0.6666666666666666, \"#ed7953\"], [0.7777777777777778, \"#fb9f3a\"], [0.8888888888888888, \"#fdca26\"], [1.0, \"#f0f921\"]], \"type\": \"histogram2dcontour\"}], \"mesh3d\": [{\"colorbar\": {\"outlinewidth\": 0, \"ticks\": \"\"}, \"type\": \"mesh3d\"}], \"parcoords\": [{\"line\": {\"colorbar\": {\"outlinewidth\": 0, \"ticks\": \"\"}}, \"type\": \"parcoords\"}], \"pie\": [{\"automargin\": true, \"type\": \"pie\"}], \"scatter\": [{\"marker\": {\"colorbar\": {\"outlinewidth\": 0, \"ticks\": \"\"}}, \"type\": \"scatter\"}], \"scatter3d\": [{\"line\": {\"colorbar\": {\"outlinewidth\": 0, \"ticks\": \"\"}}, \"marker\": {\"colorbar\": {\"outlinewidth\": 0, \"ticks\": \"\"}}, \"type\": \"scatter3d\"}], \"scattercarpet\": [{\"marker\": {\"colorbar\": {\"outlinewidth\": 0, \"ticks\": \"\"}}, \"type\": \"scattercarpet\"}], \"scattergeo\": [{\"marker\": {\"colorbar\": {\"outlinewidth\": 0, \"ticks\": \"\"}}, \"type\": \"scattergeo\"}], \"scattergl\": [{\"marker\": {\"colorbar\": {\"outlinewidth\": 0, \"ticks\": \"\"}}, \"type\": \"scattergl\"}], \"scattermapbox\": [{\"marker\": {\"colorbar\": {\"outlinewidth\": 0, \"ticks\": \"\"}}, \"type\": \"scattermapbox\"}], \"scatterpolar\": [{\"marker\": {\"colorbar\": {\"outlinewidth\": 0, \"ticks\": \"\"}}, \"type\": \"scatterpolar\"}], \"scatterpolargl\": [{\"marker\": {\"colorbar\": {\"outlinewidth\": 0, \"ticks\": \"\"}}, \"type\": \"scatterpolargl\"}], \"scatterternary\": [{\"marker\": {\"colorbar\": {\"outlinewidth\": 0, \"ticks\": \"\"}}, \"type\": \"scatterternary\"}], \"surface\": [{\"colorbar\": {\"outlinewidth\": 0, \"ticks\": \"\"}, \"colorscale\": [[0.0, \"#0d0887\"], [0.1111111111111111, \"#46039f\"], [0.2222222222222222, \"#7201a8\"], [0.3333333333333333, \"#9c179e\"], [0.4444444444444444, \"#bd3786\"], [0.5555555555555556, \"#d8576b\"], [0.6666666666666666, \"#ed7953\"], [0.7777777777777778, \"#fb9f3a\"], [0.8888888888888888, \"#fdca26\"], [1.0, \"#f0f921\"]], \"type\": \"surface\"}], \"table\": [{\"cells\": {\"fill\": {\"color\": \"#EBF0F8\"}, \"line\": {\"color\": \"white\"}}, \"header\": {\"fill\": {\"color\": \"#C8D4E3\"}, \"line\": {\"color\": \"white\"}}, \"type\": \"table\"}]}, \"layout\": {\"annotationdefaults\": {\"arrowcolor\": \"#2a3f5f\", \"arrowhead\": 0, \"arrowwidth\": 1}, \"coloraxis\": {\"colorbar\": {\"outlinewidth\": 0, \"ticks\": \"\"}}, \"colorscale\": {\"diverging\": [[0, \"#8e0152\"], [0.1, \"#c51b7d\"], [0.2, \"#de77ae\"], [0.3, \"#f1b6da\"], [0.4, \"#fde0ef\"], [0.5, \"#f7f7f7\"], [0.6, \"#e6f5d0\"], [0.7, \"#b8e186\"], [0.8, \"#7fbc41\"], [0.9, \"#4d9221\"], [1, \"#276419\"]], \"sequential\": [[0.0, \"#0d0887\"], [0.1111111111111111, \"#46039f\"], [0.2222222222222222, \"#7201a8\"], [0.3333333333333333, \"#9c179e\"], [0.4444444444444444, \"#bd3786\"], [0.5555555555555556, \"#d8576b\"], [0.6666666666666666, \"#ed7953\"], [0.7777777777777778, \"#fb9f3a\"], [0.8888888888888888, \"#fdca26\"], [1.0, \"#f0f921\"]], \"sequentialminus\": [[0.0, \"#0d0887\"], [0.1111111111111111, \"#46039f\"], [0.2222222222222222, \"#7201a8\"], [0.3333333333333333, \"#9c179e\"], [0.4444444444444444, \"#bd3786\"], [0.5555555555555556, \"#d8576b\"], [0.6666666666666666, \"#ed7953\"], [0.7777777777777778, \"#fb9f3a\"], [0.8888888888888888, \"#fdca26\"], [1.0, \"#f0f921\"]]}, \"colorway\": [\"#636efa\", \"#EF553B\", \"#00cc96\", \"#ab63fa\", \"#FFA15A\", \"#19d3f3\", \"#FF6692\", \"#B6E880\", \"#FF97FF\", \"#FECB52\"], \"font\": {\"color\": \"#2a3f5f\"}, \"geo\": {\"bgcolor\": \"white\", \"lakecolor\": \"white\", \"landcolor\": \"#E5ECF6\", \"showlakes\": true, \"showland\": true, \"subunitcolor\": \"white\"}, \"hoverlabel\": {\"align\": \"left\"}, \"hovermode\": \"closest\", \"mapbox\": {\"style\": \"light\"}, \"paper_bgcolor\": \"white\", \"plot_bgcolor\": \"#E5ECF6\", \"polar\": {\"angularaxis\": {\"gridcolor\": \"white\", \"linecolor\": \"white\", \"ticks\": \"\"}, \"bgcolor\": \"#E5ECF6\", \"radialaxis\": {\"gridcolor\": \"white\", \"linecolor\": \"white\", \"ticks\": \"\"}}, \"scene\": {\"xaxis\": {\"backgroundcolor\": \"#E5ECF6\", \"gridcolor\": \"white\", \"gridwidth\": 2, \"linecolor\": \"white\", \"showbackground\": true, \"ticks\": \"\", \"zerolinecolor\": \"white\"}, \"yaxis\": {\"backgroundcolor\": \"#E5ECF6\", \"gridcolor\": \"white\", \"gridwidth\": 2, \"linecolor\": \"white\", \"showbackground\": true, \"ticks\": \"\", \"zerolinecolor\": \"white\"}, \"zaxis\": {\"backgroundcolor\": \"#E5ECF6\", \"gridcolor\": \"white\", \"gridwidth\": 2, \"linecolor\": \"white\", \"showbackground\": true, \"ticks\": \"\", \"zerolinecolor\": \"white\"}}, \"shapedefaults\": {\"line\": {\"color\": \"#2a3f5f\"}}, \"ternary\": {\"aaxis\": {\"gridcolor\": \"white\", \"linecolor\": \"white\", \"ticks\": \"\"}, \"baxis\": {\"gridcolor\": \"white\", \"linecolor\": \"white\", \"ticks\": \"\"}, \"bgcolor\": \"#E5ECF6\", \"caxis\": {\"gridcolor\": \"white\", \"linecolor\": \"white\", \"ticks\": \"\"}}, \"title\": {\"x\": 0.05}, \"xaxis\": {\"automargin\": true, \"gridcolor\": \"white\", \"linecolor\": \"white\", \"ticks\": \"\", \"title\": {\"standoff\": 15}, \"zerolinecolor\": \"white\", \"zerolinewidth\": 2}, \"yaxis\": {\"automargin\": true, \"gridcolor\": \"white\", \"linecolor\": \"white\", \"ticks\": \"\", \"title\": {\"standoff\": 15}, \"zerolinecolor\": \"white\", \"zerolinewidth\": 2}}}, \"xaxis\": {\"anchor\": \"y\", \"domain\": [0.0, 1.0], \"title\": {\"text\": \"Seller_Type\"}}, \"yaxis\": {\"anchor\": \"x\", \"domain\": [0.0, 1.0], \"title\": {\"text\": \"Selling_Price\"}}},\n",
       "                        {\"responsive\": true}\n",
       "                    ).then(function(){\n",
       "                            \n",
       "var gd = document.getElementById('897cfb2d-4ece-4910-bf82-476fbf99692a');\n",
       "var x = new MutationObserver(function (mutations, observer) {{\n",
       "        var display = window.getComputedStyle(gd).display;\n",
       "        if (!display || display === 'none') {{\n",
       "            console.log([gd, 'removed!']);\n",
       "            Plotly.purge(gd);\n",
       "            observer.disconnect();\n",
       "        }}\n",
       "}});\n",
       "\n",
       "// Listen for the removal of the full notebook cells\n",
       "var notebookContainer = gd.closest('#notebook-container');\n",
       "if (notebookContainer) {{\n",
       "    x.observe(notebookContainer, {childList: true});\n",
       "}}\n",
       "\n",
       "// Listen for the clearing of the current output cell\n",
       "var outputEl = gd.closest('.output');\n",
       "if (outputEl) {{\n",
       "    x.observe(outputEl, {childList: true});\n",
       "}}\n",
       "\n",
       "                        })\n",
       "                };\n",
       "                });\n",
       "            </script>\n",
       "        </div>"
      ]
     },
     "metadata": {},
     "output_type": "display_data"
    }
   ],
   "source": [
    "px.box(cardata,y=cardata.Selling_Price,x=cardata.Seller_Type)"
   ]
  },
  {
   "cell_type": "markdown",
   "metadata": {},
   "source": [
    "## Delers cars are having more Price"
   ]
  },
  {
   "cell_type": "code",
   "execution_count": 64,
   "metadata": {},
   "outputs": [
    {
     "data": {
      "application/vnd.plotly.v1+json": {
       "config": {
        "plotlyServerURL": "https://plot.ly"
       },
       "data": [
        {
         "hovertemplate": "Fuel_Type=Petrol<br>Year=%{x}<br>Selling_Price=%{y}<br>Kms_Driven=%{z}<extra></extra>",
         "legendgroup": "Petrol",
         "marker": {
          "color": "#F8766D",
          "symbol": "circle"
         },
         "mode": "markers",
         "name": "Petrol",
         "scene": "scene",
         "showlegend": true,
         "type": "scatter3d",
         "x": [
          2014,
          2017,
          2011,
          2015,
          2017,
          2015,
          2015,
          2009,
          2010,
          2016,
          2017,
          2011,
          2014,
          2013,
          2011,
          2013,
          2017,
          2010,
          2011,
          2015,
          2003,
          2016,
          2003,
          2016,
          2014,
          2008,
          2012,
          2014,
          2013,
          2006,
          2015,
          2017,
          2005,
          2009,
          2015,
          2010,
          2014,
          2013,
          2015,
          2017,
          2011,
          2016,
          2013,
          2011,
          2015,
          2013,
          2004,
          2010,
          2006,
          2012,
          2013,
          2014,
          2009,
          2005,
          2008,
          2012,
          2017,
          2013,
          2016,
          2017,
          2017,
          2017,
          2017,
          2015,
          2014,
          2013,
          2016,
          2017,
          2016,
          2016,
          2014,
          2016,
          2015,
          2015,
          2013,
          2015,
          2015,
          2013,
          2016,
          2011,
          2016,
          2013,
          2012,
          2009,
          2017,
          2016,
          2017,
          2017,
          2017,
          2015,
          2017,
          2016,
          2017,
          2015,
          2014,
          2013,
          2016,
          2015,
          2013,
          2016,
          2015,
          2016,
          2014,
          2012,
          2014,
          2015,
          2010,
          2016,
          2011,
          2016,
          2012,
          2013,
          2014,
          2017,
          2017,
          2015,
          2017,
          2017,
          2011,
          2014,
          2012,
          2010,
          2016,
          2016,
          2016,
          2014,
          2013,
          2015,
          2012,
          2015,
          2014,
          2017,
          2015,
          2011,
          2011,
          2016,
          2014,
          2010,
          2012,
          2016,
          2013,
          2013,
          2008,
          2008,
          2010,
          2013,
          2013,
          2005,
          2008,
          2012,
          2007,
          2013,
          2008,
          2015,
          2008,
          2010,
          2011,
          2007,
          2006,
          2015,
          2011,
          2015,
          2016,
          2017,
          2015,
          2017,
          2012,
          2016,
          2011,
          2017,
          2012,
          2016,
          2016,
          2014,
          2012,
          2017,
          2013,
          2013,
          2011,
          2015,
          2011,
          2017,
          2015,
          2015,
          2017,
          2016,
          2013,
          2012,
          2015,
          2014,
          2016,
          2012,
          2015,
          2013,
          2016,
          2013,
          2015,
          2013,
          2012,
          2016,
          2015,
          2015,
          2014,
          2016,
          2016,
          2015,
          2016,
          2015,
          2017,
          2014,
          2017,
          2015,
          2011,
          2009,
          2015,
          2010,
          2014,
          2016,
          2015,
          2015,
          2016,
          2014,
          2015,
          2006,
          2016,
          2013,
          2016,
          2016,
          2015,
          2015,
          2016,
          2014,
          2015,
          2016,
          2010,
          2014,
          2015,
          2009,
          2016
         ],
         "y": [
          3.35,
          7.25,
          2.85,
          6.75,
          2.85,
          7.5,
          6.1,
          2.25,
          2.65,
          2.85,
          4.9,
          4.4,
          2.5,
          2.9,
          3,
          4.15,
          6,
          1.95,
          2.35,
          4.65,
          0.35,
          3,
          2.25,
          5.85,
          2.55,
          1.95,
          1.25,
          7.5,
          2.65,
          1.05,
          5.8,
          7.75,
          2.75,
          3.6,
          4.5,
          4.75,
          4.1,
          6.95,
          4.5,
          19.75,
          4.35,
          14.25,
          7.45,
          2.65,
          3.95,
          5.5,
          1.5,
          5.25,
          2.5,
          5.9,
          3.45,
          4.75,
          3.8,
          3.51,
          4,
          5.85,
          17,
          7.05,
          1.75,
          1.7,
          1.65,
          1.45,
          1.35,
          1.35,
          1.35,
          1.25,
          1.2,
          1.2,
          1.2,
          1.15,
          1.15,
          1.15,
          1.15,
          1.11,
          1.1,
          1.1,
          1.1,
          1.05,
          1.05,
          1.05,
          1.05,
          1,
          0.95,
          0.9,
          0.9,
          0.75,
          0.8,
          0.78,
          0.75,
          0.75,
          0.75,
          0.72,
          0.65,
          0.65,
          0.65,
          0.65,
          0.6,
          0.6,
          0.6,
          0.6,
          0.6,
          0.6,
          0.6,
          0.6,
          0.55,
          0.55,
          0.52,
          0.51,
          0.5,
          0.5,
          0.5,
          0.5,
          0.5,
          0.48,
          0.48,
          0.48,
          0.48,
          0.45,
          0.45,
          0.45,
          0.45,
          0.45,
          0.45,
          0.45,
          0.45,
          0.42,
          0.42,
          0.4,
          0.4,
          0.4,
          0.4,
          0.4,
          0.38,
          0.38,
          0.35,
          0.35,
          0.35,
          0.31,
          0.3,
          0.3,
          0.3,
          0.27,
          0.25,
          0.25,
          0.25,
          0.25,
          0.25,
          0.2,
          0.2,
          0.2,
          0.2,
          0.2,
          0.2,
          0.18,
          0.17,
          0.16,
          0.15,
          0.12,
          0.1,
          4.4,
          2.95,
          2.75,
          5.25,
          5.75,
          5.15,
          7.9,
          3.1,
          11.25,
          2.9,
          5.25,
          4.5,
          2.9,
          3.15,
          6.45,
          4.5,
          3.5,
          4.5,
          5.11,
          2.7,
          5.25,
          2.55,
          9.25,
          11.45,
          5.5,
          9.1,
          3.1,
          4.8,
          2,
          4.75,
          4.4,
          6.25,
          3.75,
          5.95,
          4,
          5.25,
          5,
          5.4,
          5.25,
          3,
          10.25,
          8.5,
          8.4,
          3.9,
          9.15,
          5.5,
          4,
          6.6,
          4,
          6.5,
          3.65,
          4.8,
          6.7,
          4.1,
          3,
          7.5,
          2.25,
          5.3,
          10.9,
          8.65,
          9.7,
          6,
          6.25,
          5.25,
          2.1,
          8.99,
          3.5,
          7.4,
          5.65,
          5.75,
          8.4,
          10.11,
          4.5,
          5.4,
          6.4,
          3.25,
          3.75,
          4,
          3.35,
          5.3
         ],
         "z": [
          27000,
          6900,
          5200,
          18796,
          2135,
          15000,
          26000,
          77427,
          41442,
          25000,
          2400,
          50000,
          45280,
          56879,
          20000,
          55138,
          16200,
          44542,
          54200,
          48767,
          127000,
          10079,
          62000,
          24524,
          46706,
          58000,
          50000,
          15000,
          64532,
          65000,
          25870,
          37000,
          90000,
          70000,
          40534,
          50000,
          39485,
          40001,
          40588,
          11000,
          88000,
          12000,
          56001,
          43000,
          36000,
          72000,
          135154,
          80000,
          142000,
          56000,
          47000,
          40000,
          62000,
          75000,
          89000,
          72000,
          8700,
          45000,
          3000,
          1400,
          4000,
          1200,
          4100,
          21700,
          16500,
          15000,
          18000,
          11000,
          6000,
          8700,
          7000,
          35000,
          17000,
          17500,
          33000,
          14000,
          26000,
          5400,
          5700,
          6900,
          6000,
          46500,
          11500,
          40000,
          1300,
          7000,
          3000,
          5000,
          11000,
          18000,
          3500,
          500,
          11800,
          5000,
          23500,
          16000,
          15000,
          16600,
          32000,
          20000,
          29000,
          25000,
          25000,
          19000,
          15000,
          58000,
          45000,
          24000,
          6000,
          31000,
          13000,
          45000,
          8000,
          4300,
          15000,
          23000,
          8600,
          4000,
          24000,
          23000,
          14500,
          27000,
          14000,
          500,
          1000,
          42000,
          12000,
          14000,
          5500,
          6700,
          13700,
          1300,
          38600,
          75000,
          30000,
          24000,
          19000,
          213000,
          60000,
          50000,
          30000,
          21000,
          26000,
          1900,
          22000,
          32000,
          18000,
          55000,
          60000,
          25000,
          49000,
          24000,
          50000,
          35000,
          500000,
          33000,
          35000,
          53000,
          92233,
          28200,
          53460,
          28282,
          3493,
          12479,
          34797,
          3435,
          35775,
          22671,
          31604,
          20114,
          36100,
          12500,
          15000,
          45078,
          36000,
          38488,
          32000,
          36198,
          22517,
          24678,
          57000,
          15001,
          12900,
          4492,
          15141,
          11849,
          60241,
          23709,
          35866,
          34000,
          7000,
          35000,
          36000,
          30000,
          17000,
          56701,
          31427,
          54242,
          53675,
          49562,
          40324,
          25000,
          36054,
          29223,
          5600,
          40023,
          16002,
          40026,
          21200,
          35000,
          19000,
          18828,
          69341,
          69562,
          27600,
          61203,
          16500,
          30753,
          24800,
          21780,
          4000,
          40126,
          14465,
          50456,
          9010,
          9800,
          15059,
          28569,
          44000,
          34000,
          10980,
          19000,
          31427,
          12000,
          38000,
          33019,
          60000,
          87934,
          5464
         ]
        },
        {
         "hovertemplate": "Fuel_Type=Diesel<br>Year=%{x}<br>Selling_Price=%{y}<br>Kms_Driven=%{z}<extra></extra>",
         "legendgroup": "Diesel",
         "marker": {
          "color": "#A3A500",
          "symbol": "circle"
         },
         "mode": "markers",
         "name": "Diesel",
         "scene": "scene",
         "showlegend": true,
         "type": "scatter3d",
         "x": [
          2013,
          2014,
          2018,
          2015,
          2016,
          2015,
          2015,
          2016,
          2015,
          2016,
          2015,
          2012,
          2014,
          2014,
          2014,
          2014,
          2012,
          2015,
          2017,
          2013,
          2014,
          2014,
          2015,
          2017,
          2014,
          2010,
          2014,
          2011,
          2014,
          2012,
          2016,
          2015,
          2017,
          2015,
          2005,
          2010,
          2014,
          2015,
          2016,
          2010,
          2010,
          2015,
          2015,
          2014,
          2015,
          2012,
          2012,
          2013,
          2013,
          2015,
          2012,
          2013,
          2012,
          2016,
          2014,
          2016,
          2014,
          2015,
          2016,
          2017
         ],
         "y": [
          4.75,
          4.6,
          9.25,
          6.5,
          8.75,
          7.45,
          6.85,
          7.75,
          7.25,
          7.75,
          7.45,
          3.1,
          4.95,
          6,
          5.5,
          5.5,
          14.9,
          23,
          18,
          16,
          19.99,
          18.75,
          23.5,
          33,
          4.75,
          9.25,
          3.95,
          4.5,
          4.9,
          14.5,
          14.73,
          4.75,
          23,
          12.5,
          3.49,
          35,
          11.25,
          23,
          20.75,
          9.65,
          3.25,
          4.85,
          11.75,
          6,
          8.25,
          4.95,
          3.1,
          6.15,
          3.9,
          11.25,
          5.35,
          5.95,
          5.2,
          12.9,
          7.2,
          8.35,
          8.25,
          8.55,
          9.5,
          11.5
         ],
         "z": [
          43000,
          42450,
          2071,
          33429,
          20273,
          42367,
          51000,
          43000,
          41678,
          43000,
          45000,
          51439,
          39000,
          45000,
          45000,
          45780,
          104707,
          40000,
          15000,
          135000,
          41000,
          78000,
          47000,
          6000,
          45000,
          59000,
          71000,
          45000,
          83000,
          89000,
          23000,
          40000,
          15000,
          38000,
          197176,
          78000,
          58242,
          40000,
          29000,
          50024,
          58000,
          21125,
          43535,
          77632,
          61381,
          60000,
          52132,
          45000,
          53000,
          68000,
          32322,
          49000,
          71000,
          35934,
          48000,
          19434,
          63000,
          60076,
          33988,
          9000
         ]
        },
        {
         "hovertemplate": "Fuel_Type=CNG<br>Year=%{x}<br>Selling_Price=%{y}<br>Kms_Driven=%{z}<extra></extra>",
         "legendgroup": "CNG",
         "marker": {
          "color": "#00BF7D",
          "symbol": "circle"
         },
         "mode": "markers",
         "name": "CNG",
         "scene": "scene",
         "showlegend": true,
         "type": "scatter3d",
         "x": [
          2015,
          2011
         ],
         "y": [
          3.25,
          2.95
         ],
         "z": [
          35500,
          49998
         ]
        }
       ],
       "layout": {
        "legend": {
         "title": {
          "text": "Fuel_Type"
         },
         "tracegroupgap": 0
        },
        "margin": {
         "t": 60
        },
        "scene": {
         "domain": {
          "x": [
           0,
           1
          ],
          "y": [
           0,
           1
          ]
         },
         "xaxis": {
          "title": {
           "text": "Year"
          }
         },
         "yaxis": {
          "title": {
           "text": "Selling_Price"
          }
         },
         "zaxis": {
          "title": {
           "text": "Kms_Driven"
          }
         }
        },
        "template": {
         "data": {
          "bar": [
           {
            "error_x": {
             "color": "rgb(51,51,51)"
            },
            "error_y": {
             "color": "rgb(51,51,51)"
            },
            "marker": {
             "line": {
              "color": "rgb(237,237,237)",
              "width": 0.5
             }
            },
            "type": "bar"
           }
          ],
          "barpolar": [
           {
            "marker": {
             "line": {
              "color": "rgb(237,237,237)",
              "width": 0.5
             }
            },
            "type": "barpolar"
           }
          ],
          "carpet": [
           {
            "aaxis": {
             "endlinecolor": "rgb(51,51,51)",
             "gridcolor": "white",
             "linecolor": "white",
             "minorgridcolor": "white",
             "startlinecolor": "rgb(51,51,51)"
            },
            "baxis": {
             "endlinecolor": "rgb(51,51,51)",
             "gridcolor": "white",
             "linecolor": "white",
             "minorgridcolor": "white",
             "startlinecolor": "rgb(51,51,51)"
            },
            "type": "carpet"
           }
          ],
          "choropleth": [
           {
            "colorbar": {
             "outlinewidth": 0,
             "tickcolor": "rgb(237,237,237)",
             "ticklen": 6,
             "ticks": "inside"
            },
            "type": "choropleth"
           }
          ],
          "contour": [
           {
            "colorbar": {
             "outlinewidth": 0,
             "tickcolor": "rgb(237,237,237)",
             "ticklen": 6,
             "ticks": "inside"
            },
            "colorscale": [
             [
              0,
              "rgb(20,44,66)"
             ],
             [
              1,
              "rgb(90,179,244)"
             ]
            ],
            "type": "contour"
           }
          ],
          "contourcarpet": [
           {
            "colorbar": {
             "outlinewidth": 0,
             "tickcolor": "rgb(237,237,237)",
             "ticklen": 6,
             "ticks": "inside"
            },
            "type": "contourcarpet"
           }
          ],
          "heatmap": [
           {
            "colorbar": {
             "outlinewidth": 0,
             "tickcolor": "rgb(237,237,237)",
             "ticklen": 6,
             "ticks": "inside"
            },
            "colorscale": [
             [
              0,
              "rgb(20,44,66)"
             ],
             [
              1,
              "rgb(90,179,244)"
             ]
            ],
            "type": "heatmap"
           }
          ],
          "heatmapgl": [
           {
            "colorbar": {
             "outlinewidth": 0,
             "tickcolor": "rgb(237,237,237)",
             "ticklen": 6,
             "ticks": "inside"
            },
            "colorscale": [
             [
              0,
              "rgb(20,44,66)"
             ],
             [
              1,
              "rgb(90,179,244)"
             ]
            ],
            "type": "heatmapgl"
           }
          ],
          "histogram": [
           {
            "marker": {
             "colorbar": {
              "outlinewidth": 0,
              "tickcolor": "rgb(237,237,237)",
              "ticklen": 6,
              "ticks": "inside"
             }
            },
            "type": "histogram"
           }
          ],
          "histogram2d": [
           {
            "colorbar": {
             "outlinewidth": 0,
             "tickcolor": "rgb(237,237,237)",
             "ticklen": 6,
             "ticks": "inside"
            },
            "colorscale": [
             [
              0,
              "rgb(20,44,66)"
             ],
             [
              1,
              "rgb(90,179,244)"
             ]
            ],
            "type": "histogram2d"
           }
          ],
          "histogram2dcontour": [
           {
            "colorbar": {
             "outlinewidth": 0,
             "tickcolor": "rgb(237,237,237)",
             "ticklen": 6,
             "ticks": "inside"
            },
            "colorscale": [
             [
              0,
              "rgb(20,44,66)"
             ],
             [
              1,
              "rgb(90,179,244)"
             ]
            ],
            "type": "histogram2dcontour"
           }
          ],
          "mesh3d": [
           {
            "colorbar": {
             "outlinewidth": 0,
             "tickcolor": "rgb(237,237,237)",
             "ticklen": 6,
             "ticks": "inside"
            },
            "type": "mesh3d"
           }
          ],
          "parcoords": [
           {
            "line": {
             "colorbar": {
              "outlinewidth": 0,
              "tickcolor": "rgb(237,237,237)",
              "ticklen": 6,
              "ticks": "inside"
             }
            },
            "type": "parcoords"
           }
          ],
          "pie": [
           {
            "automargin": true,
            "type": "pie"
           }
          ],
          "scatter": [
           {
            "marker": {
             "colorbar": {
              "outlinewidth": 0,
              "tickcolor": "rgb(237,237,237)",
              "ticklen": 6,
              "ticks": "inside"
             }
            },
            "type": "scatter"
           }
          ],
          "scatter3d": [
           {
            "line": {
             "colorbar": {
              "outlinewidth": 0,
              "tickcolor": "rgb(237,237,237)",
              "ticklen": 6,
              "ticks": "inside"
             }
            },
            "marker": {
             "colorbar": {
              "outlinewidth": 0,
              "tickcolor": "rgb(237,237,237)",
              "ticklen": 6,
              "ticks": "inside"
             }
            },
            "type": "scatter3d"
           }
          ],
          "scattercarpet": [
           {
            "marker": {
             "colorbar": {
              "outlinewidth": 0,
              "tickcolor": "rgb(237,237,237)",
              "ticklen": 6,
              "ticks": "inside"
             }
            },
            "type": "scattercarpet"
           }
          ],
          "scattergeo": [
           {
            "marker": {
             "colorbar": {
              "outlinewidth": 0,
              "tickcolor": "rgb(237,237,237)",
              "ticklen": 6,
              "ticks": "inside"
             }
            },
            "type": "scattergeo"
           }
          ],
          "scattergl": [
           {
            "marker": {
             "colorbar": {
              "outlinewidth": 0,
              "tickcolor": "rgb(237,237,237)",
              "ticklen": 6,
              "ticks": "inside"
             }
            },
            "type": "scattergl"
           }
          ],
          "scattermapbox": [
           {
            "marker": {
             "colorbar": {
              "outlinewidth": 0,
              "tickcolor": "rgb(237,237,237)",
              "ticklen": 6,
              "ticks": "inside"
             }
            },
            "type": "scattermapbox"
           }
          ],
          "scatterpolar": [
           {
            "marker": {
             "colorbar": {
              "outlinewidth": 0,
              "tickcolor": "rgb(237,237,237)",
              "ticklen": 6,
              "ticks": "inside"
             }
            },
            "type": "scatterpolar"
           }
          ],
          "scatterpolargl": [
           {
            "marker": {
             "colorbar": {
              "outlinewidth": 0,
              "tickcolor": "rgb(237,237,237)",
              "ticklen": 6,
              "ticks": "inside"
             }
            },
            "type": "scatterpolargl"
           }
          ],
          "scatterternary": [
           {
            "marker": {
             "colorbar": {
              "outlinewidth": 0,
              "tickcolor": "rgb(237,237,237)",
              "ticklen": 6,
              "ticks": "inside"
             }
            },
            "type": "scatterternary"
           }
          ],
          "surface": [
           {
            "colorbar": {
             "outlinewidth": 0,
             "tickcolor": "rgb(237,237,237)",
             "ticklen": 6,
             "ticks": "inside"
            },
            "colorscale": [
             [
              0,
              "rgb(20,44,66)"
             ],
             [
              1,
              "rgb(90,179,244)"
             ]
            ],
            "type": "surface"
           }
          ],
          "table": [
           {
            "cells": {
             "fill": {
              "color": "rgb(237,237,237)"
             },
             "line": {
              "color": "white"
             }
            },
            "header": {
             "fill": {
              "color": "rgb(217,217,217)"
             },
             "line": {
              "color": "white"
             }
            },
            "type": "table"
           }
          ]
         },
         "layout": {
          "annotationdefaults": {
           "arrowhead": 0,
           "arrowwidth": 1
          },
          "coloraxis": {
           "colorbar": {
            "outlinewidth": 0,
            "tickcolor": "rgb(237,237,237)",
            "ticklen": 6,
            "ticks": "inside"
           }
          },
          "colorscale": {
           "sequential": [
            [
             0,
             "rgb(20,44,66)"
            ],
            [
             1,
             "rgb(90,179,244)"
            ]
           ],
           "sequentialminus": [
            [
             0,
             "rgb(20,44,66)"
            ],
            [
             1,
             "rgb(90,179,244)"
            ]
           ]
          },
          "colorway": [
           "#F8766D",
           "#A3A500",
           "#00BF7D",
           "#00B0F6",
           "#E76BF3"
          ],
          "font": {
           "color": "rgb(51,51,51)"
          },
          "geo": {
           "bgcolor": "white",
           "lakecolor": "white",
           "landcolor": "rgb(237,237,237)",
           "showlakes": true,
           "showland": true,
           "subunitcolor": "white"
          },
          "hoverlabel": {
           "align": "left"
          },
          "hovermode": "closest",
          "paper_bgcolor": "white",
          "plot_bgcolor": "rgb(237,237,237)",
          "polar": {
           "angularaxis": {
            "gridcolor": "white",
            "linecolor": "white",
            "showgrid": true,
            "tickcolor": "rgb(51,51,51)",
            "ticks": "outside"
           },
           "bgcolor": "rgb(237,237,237)",
           "radialaxis": {
            "gridcolor": "white",
            "linecolor": "white",
            "showgrid": true,
            "tickcolor": "rgb(51,51,51)",
            "ticks": "outside"
           }
          },
          "scene": {
           "xaxis": {
            "backgroundcolor": "rgb(237,237,237)",
            "gridcolor": "white",
            "gridwidth": 2,
            "linecolor": "white",
            "showbackground": true,
            "showgrid": true,
            "tickcolor": "rgb(51,51,51)",
            "ticks": "outside",
            "zerolinecolor": "white"
           },
           "yaxis": {
            "backgroundcolor": "rgb(237,237,237)",
            "gridcolor": "white",
            "gridwidth": 2,
            "linecolor": "white",
            "showbackground": true,
            "showgrid": true,
            "tickcolor": "rgb(51,51,51)",
            "ticks": "outside",
            "zerolinecolor": "white"
           },
           "zaxis": {
            "backgroundcolor": "rgb(237,237,237)",
            "gridcolor": "white",
            "gridwidth": 2,
            "linecolor": "white",
            "showbackground": true,
            "showgrid": true,
            "tickcolor": "rgb(51,51,51)",
            "ticks": "outside",
            "zerolinecolor": "white"
           }
          },
          "shapedefaults": {
           "fillcolor": "black",
           "line": {
            "width": 0
           },
           "opacity": 0.3
          },
          "ternary": {
           "aaxis": {
            "gridcolor": "white",
            "linecolor": "white",
            "showgrid": true,
            "tickcolor": "rgb(51,51,51)",
            "ticks": "outside"
           },
           "baxis": {
            "gridcolor": "white",
            "linecolor": "white",
            "showgrid": true,
            "tickcolor": "rgb(51,51,51)",
            "ticks": "outside"
           },
           "bgcolor": "rgb(237,237,237)",
           "caxis": {
            "gridcolor": "white",
            "linecolor": "white",
            "showgrid": true,
            "tickcolor": "rgb(51,51,51)",
            "ticks": "outside"
           }
          },
          "xaxis": {
           "automargin": true,
           "gridcolor": "white",
           "linecolor": "white",
           "showgrid": true,
           "tickcolor": "rgb(51,51,51)",
           "ticks": "outside",
           "title": {
            "standoff": 15
           },
           "zerolinecolor": "white"
          },
          "yaxis": {
           "automargin": true,
           "gridcolor": "white",
           "linecolor": "white",
           "showgrid": true,
           "tickcolor": "rgb(51,51,51)",
           "ticks": "outside",
           "title": {
            "standoff": 15
           },
           "zerolinecolor": "white"
          }
         }
        }
       }
      },
      "text/html": [
       "<div>\n",
       "        \n",
       "        \n",
       "            <div id=\"add53753-8f6c-475e-bf59-cf4c41eaf8c9\" class=\"plotly-graph-div\" style=\"height:525px; width:100%;\"></div>\n",
       "            <script type=\"text/javascript\">\n",
       "                require([\"plotly\"], function(Plotly) {\n",
       "                    window.PLOTLYENV=window.PLOTLYENV || {};\n",
       "                    \n",
       "                if (document.getElementById(\"add53753-8f6c-475e-bf59-cf4c41eaf8c9\")) {\n",
       "                    Plotly.newPlot(\n",
       "                        'add53753-8f6c-475e-bf59-cf4c41eaf8c9',\n",
       "                        [{\"hovertemplate\": \"Fuel_Type=Petrol<br>Year=%{x}<br>Selling_Price=%{y}<br>Kms_Driven=%{z}<extra></extra>\", \"legendgroup\": \"Petrol\", \"marker\": {\"color\": \"#F8766D\", \"symbol\": \"circle\"}, \"mode\": \"markers\", \"name\": \"Petrol\", \"scene\": \"scene\", \"showlegend\": true, \"type\": \"scatter3d\", \"x\": [2014, 2017, 2011, 2015, 2017, 2015, 2015, 2009, 2010, 2016, 2017, 2011, 2014, 2013, 2011, 2013, 2017, 2010, 2011, 2015, 2003, 2016, 2003, 2016, 2014, 2008, 2012, 2014, 2013, 2006, 2015, 2017, 2005, 2009, 2015, 2010, 2014, 2013, 2015, 2017, 2011, 2016, 2013, 2011, 2015, 2013, 2004, 2010, 2006, 2012, 2013, 2014, 2009, 2005, 2008, 2012, 2017, 2013, 2016, 2017, 2017, 2017, 2017, 2015, 2014, 2013, 2016, 2017, 2016, 2016, 2014, 2016, 2015, 2015, 2013, 2015, 2015, 2013, 2016, 2011, 2016, 2013, 2012, 2009, 2017, 2016, 2017, 2017, 2017, 2015, 2017, 2016, 2017, 2015, 2014, 2013, 2016, 2015, 2013, 2016, 2015, 2016, 2014, 2012, 2014, 2015, 2010, 2016, 2011, 2016, 2012, 2013, 2014, 2017, 2017, 2015, 2017, 2017, 2011, 2014, 2012, 2010, 2016, 2016, 2016, 2014, 2013, 2015, 2012, 2015, 2014, 2017, 2015, 2011, 2011, 2016, 2014, 2010, 2012, 2016, 2013, 2013, 2008, 2008, 2010, 2013, 2013, 2005, 2008, 2012, 2007, 2013, 2008, 2015, 2008, 2010, 2011, 2007, 2006, 2015, 2011, 2015, 2016, 2017, 2015, 2017, 2012, 2016, 2011, 2017, 2012, 2016, 2016, 2014, 2012, 2017, 2013, 2013, 2011, 2015, 2011, 2017, 2015, 2015, 2017, 2016, 2013, 2012, 2015, 2014, 2016, 2012, 2015, 2013, 2016, 2013, 2015, 2013, 2012, 2016, 2015, 2015, 2014, 2016, 2016, 2015, 2016, 2015, 2017, 2014, 2017, 2015, 2011, 2009, 2015, 2010, 2014, 2016, 2015, 2015, 2016, 2014, 2015, 2006, 2016, 2013, 2016, 2016, 2015, 2015, 2016, 2014, 2015, 2016, 2010, 2014, 2015, 2009, 2016], \"y\": [3.35, 7.25, 2.85, 6.75, 2.85, 7.5, 6.1, 2.25, 2.65, 2.85, 4.9, 4.4, 2.5, 2.9, 3.0, 4.15, 6.0, 1.95, 2.35, 4.65, 0.35, 3.0, 2.25, 5.85, 2.55, 1.95, 1.25, 7.5, 2.65, 1.05, 5.8, 7.75, 2.75, 3.6, 4.5, 4.75, 4.1, 6.95, 4.5, 19.75, 4.35, 14.25, 7.45, 2.65, 3.95, 5.5, 1.5, 5.25, 2.5, 5.9, 3.45, 4.75, 3.8, 3.51, 4.0, 5.85, 17.0, 7.05, 1.75, 1.7, 1.65, 1.45, 1.35, 1.35, 1.35, 1.25, 1.2, 1.2, 1.2, 1.15, 1.15, 1.15, 1.15, 1.11, 1.1, 1.1, 1.1, 1.05, 1.05, 1.05, 1.05, 1.0, 0.95, 0.9, 0.9, 0.75, 0.8, 0.78, 0.75, 0.75, 0.75, 0.72, 0.65, 0.65, 0.65, 0.65, 0.6, 0.6, 0.6, 0.6, 0.6, 0.6, 0.6, 0.6, 0.55, 0.55, 0.52, 0.51, 0.5, 0.5, 0.5, 0.5, 0.5, 0.48, 0.48, 0.48, 0.48, 0.45, 0.45, 0.45, 0.45, 0.45, 0.45, 0.45, 0.45, 0.42, 0.42, 0.4, 0.4, 0.4, 0.4, 0.4, 0.38, 0.38, 0.35, 0.35, 0.35, 0.31, 0.3, 0.3, 0.3, 0.27, 0.25, 0.25, 0.25, 0.25, 0.25, 0.2, 0.2, 0.2, 0.2, 0.2, 0.2, 0.18, 0.17, 0.16, 0.15, 0.12, 0.1, 4.4, 2.95, 2.75, 5.25, 5.75, 5.15, 7.9, 3.1, 11.25, 2.9, 5.25, 4.5, 2.9, 3.15, 6.45, 4.5, 3.5, 4.5, 5.11, 2.7, 5.25, 2.55, 9.25, 11.45, 5.5, 9.1, 3.1, 4.8, 2.0, 4.75, 4.4, 6.25, 3.75, 5.95, 4.0, 5.25, 5.0, 5.4, 5.25, 3.0, 10.25, 8.5, 8.4, 3.9, 9.15, 5.5, 4.0, 6.6, 4.0, 6.5, 3.65, 4.8, 6.7, 4.1, 3.0, 7.5, 2.25, 5.3, 10.9, 8.65, 9.7, 6.0, 6.25, 5.25, 2.1, 8.99, 3.5, 7.4, 5.65, 5.75, 8.4, 10.11, 4.5, 5.4, 6.4, 3.25, 3.75, 4.0, 3.35, 5.3], \"z\": [27000, 6900, 5200, 18796, 2135, 15000, 26000, 77427, 41442, 25000, 2400, 50000, 45280, 56879, 20000, 55138, 16200, 44542, 54200, 48767, 127000, 10079, 62000, 24524, 46706, 58000, 50000, 15000, 64532, 65000, 25870, 37000, 90000, 70000, 40534, 50000, 39485, 40001, 40588, 11000, 88000, 12000, 56001, 43000, 36000, 72000, 135154, 80000, 142000, 56000, 47000, 40000, 62000, 75000, 89000, 72000, 8700, 45000, 3000, 1400, 4000, 1200, 4100, 21700, 16500, 15000, 18000, 11000, 6000, 8700, 7000, 35000, 17000, 17500, 33000, 14000, 26000, 5400, 5700, 6900, 6000, 46500, 11500, 40000, 1300, 7000, 3000, 5000, 11000, 18000, 3500, 500, 11800, 5000, 23500, 16000, 15000, 16600, 32000, 20000, 29000, 25000, 25000, 19000, 15000, 58000, 45000, 24000, 6000, 31000, 13000, 45000, 8000, 4300, 15000, 23000, 8600, 4000, 24000, 23000, 14500, 27000, 14000, 500, 1000, 42000, 12000, 14000, 5500, 6700, 13700, 1300, 38600, 75000, 30000, 24000, 19000, 213000, 60000, 50000, 30000, 21000, 26000, 1900, 22000, 32000, 18000, 55000, 60000, 25000, 49000, 24000, 50000, 35000, 500000, 33000, 35000, 53000, 92233, 28200, 53460, 28282, 3493, 12479, 34797, 3435, 35775, 22671, 31604, 20114, 36100, 12500, 15000, 45078, 36000, 38488, 32000, 36198, 22517, 24678, 57000, 15001, 12900, 4492, 15141, 11849, 60241, 23709, 35866, 34000, 7000, 35000, 36000, 30000, 17000, 56701, 31427, 54242, 53675, 49562, 40324, 25000, 36054, 29223, 5600, 40023, 16002, 40026, 21200, 35000, 19000, 18828, 69341, 69562, 27600, 61203, 16500, 30753, 24800, 21780, 4000, 40126, 14465, 50456, 9010, 9800, 15059, 28569, 44000, 34000, 10980, 19000, 31427, 12000, 38000, 33019, 60000, 87934, 5464]}, {\"hovertemplate\": \"Fuel_Type=Diesel<br>Year=%{x}<br>Selling_Price=%{y}<br>Kms_Driven=%{z}<extra></extra>\", \"legendgroup\": \"Diesel\", \"marker\": {\"color\": \"#A3A500\", \"symbol\": \"circle\"}, \"mode\": \"markers\", \"name\": \"Diesel\", \"scene\": \"scene\", \"showlegend\": true, \"type\": \"scatter3d\", \"x\": [2013, 2014, 2018, 2015, 2016, 2015, 2015, 2016, 2015, 2016, 2015, 2012, 2014, 2014, 2014, 2014, 2012, 2015, 2017, 2013, 2014, 2014, 2015, 2017, 2014, 2010, 2014, 2011, 2014, 2012, 2016, 2015, 2017, 2015, 2005, 2010, 2014, 2015, 2016, 2010, 2010, 2015, 2015, 2014, 2015, 2012, 2012, 2013, 2013, 2015, 2012, 2013, 2012, 2016, 2014, 2016, 2014, 2015, 2016, 2017], \"y\": [4.75, 4.6, 9.25, 6.5, 8.75, 7.45, 6.85, 7.75, 7.25, 7.75, 7.45, 3.1, 4.95, 6.0, 5.5, 5.5, 14.9, 23.0, 18.0, 16.0, 19.99, 18.75, 23.5, 33.0, 4.75, 9.25, 3.95, 4.5, 4.9, 14.5, 14.73, 4.75, 23.0, 12.5, 3.49, 35.0, 11.25, 23.0, 20.75, 9.65, 3.25, 4.85, 11.75, 6.0, 8.25, 4.95, 3.1, 6.15, 3.9, 11.25, 5.35, 5.95, 5.2, 12.9, 7.2, 8.35, 8.25, 8.55, 9.5, 11.5], \"z\": [43000, 42450, 2071, 33429, 20273, 42367, 51000, 43000, 41678, 43000, 45000, 51439, 39000, 45000, 45000, 45780, 104707, 40000, 15000, 135000, 41000, 78000, 47000, 6000, 45000, 59000, 71000, 45000, 83000, 89000, 23000, 40000, 15000, 38000, 197176, 78000, 58242, 40000, 29000, 50024, 58000, 21125, 43535, 77632, 61381, 60000, 52132, 45000, 53000, 68000, 32322, 49000, 71000, 35934, 48000, 19434, 63000, 60076, 33988, 9000]}, {\"hovertemplate\": \"Fuel_Type=CNG<br>Year=%{x}<br>Selling_Price=%{y}<br>Kms_Driven=%{z}<extra></extra>\", \"legendgroup\": \"CNG\", \"marker\": {\"color\": \"#00BF7D\", \"symbol\": \"circle\"}, \"mode\": \"markers\", \"name\": \"CNG\", \"scene\": \"scene\", \"showlegend\": true, \"type\": \"scatter3d\", \"x\": [2015, 2011], \"y\": [3.25, 2.95], \"z\": [35500, 49998]}],\n",
       "                        {\"legend\": {\"title\": {\"text\": \"Fuel_Type\"}, \"tracegroupgap\": 0}, \"margin\": {\"t\": 60}, \"scene\": {\"domain\": {\"x\": [0.0, 1.0], \"y\": [0.0, 1.0]}, \"xaxis\": {\"title\": {\"text\": \"Year\"}}, \"yaxis\": {\"title\": {\"text\": \"Selling_Price\"}}, \"zaxis\": {\"title\": {\"text\": \"Kms_Driven\"}}}, \"template\": {\"data\": {\"bar\": [{\"error_x\": {\"color\": \"rgb(51,51,51)\"}, \"error_y\": {\"color\": \"rgb(51,51,51)\"}, \"marker\": {\"line\": {\"color\": \"rgb(237,237,237)\", \"width\": 0.5}}, \"type\": \"bar\"}], \"barpolar\": [{\"marker\": {\"line\": {\"color\": \"rgb(237,237,237)\", \"width\": 0.5}}, \"type\": \"barpolar\"}], \"carpet\": [{\"aaxis\": {\"endlinecolor\": \"rgb(51,51,51)\", \"gridcolor\": \"white\", \"linecolor\": \"white\", \"minorgridcolor\": \"white\", \"startlinecolor\": \"rgb(51,51,51)\"}, \"baxis\": {\"endlinecolor\": \"rgb(51,51,51)\", \"gridcolor\": \"white\", \"linecolor\": \"white\", \"minorgridcolor\": \"white\", \"startlinecolor\": \"rgb(51,51,51)\"}, \"type\": \"carpet\"}], \"choropleth\": [{\"colorbar\": {\"outlinewidth\": 0, \"tickcolor\": \"rgb(237,237,237)\", \"ticklen\": 6, \"ticks\": \"inside\"}, \"type\": \"choropleth\"}], \"contour\": [{\"colorbar\": {\"outlinewidth\": 0, \"tickcolor\": \"rgb(237,237,237)\", \"ticklen\": 6, \"ticks\": \"inside\"}, \"colorscale\": [[0, \"rgb(20,44,66)\"], [1, \"rgb(90,179,244)\"]], \"type\": \"contour\"}], \"contourcarpet\": [{\"colorbar\": {\"outlinewidth\": 0, \"tickcolor\": \"rgb(237,237,237)\", \"ticklen\": 6, \"ticks\": \"inside\"}, \"type\": \"contourcarpet\"}], \"heatmap\": [{\"colorbar\": {\"outlinewidth\": 0, \"tickcolor\": \"rgb(237,237,237)\", \"ticklen\": 6, \"ticks\": \"inside\"}, \"colorscale\": [[0, \"rgb(20,44,66)\"], [1, \"rgb(90,179,244)\"]], \"type\": \"heatmap\"}], \"heatmapgl\": [{\"colorbar\": {\"outlinewidth\": 0, \"tickcolor\": \"rgb(237,237,237)\", \"ticklen\": 6, \"ticks\": \"inside\"}, \"colorscale\": [[0, \"rgb(20,44,66)\"], [1, \"rgb(90,179,244)\"]], \"type\": \"heatmapgl\"}], \"histogram\": [{\"marker\": {\"colorbar\": {\"outlinewidth\": 0, \"tickcolor\": \"rgb(237,237,237)\", \"ticklen\": 6, \"ticks\": \"inside\"}}, \"type\": \"histogram\"}], \"histogram2d\": [{\"colorbar\": {\"outlinewidth\": 0, \"tickcolor\": \"rgb(237,237,237)\", \"ticklen\": 6, \"ticks\": \"inside\"}, \"colorscale\": [[0, \"rgb(20,44,66)\"], [1, \"rgb(90,179,244)\"]], \"type\": \"histogram2d\"}], \"histogram2dcontour\": [{\"colorbar\": {\"outlinewidth\": 0, \"tickcolor\": \"rgb(237,237,237)\", \"ticklen\": 6, \"ticks\": \"inside\"}, \"colorscale\": [[0, \"rgb(20,44,66)\"], [1, \"rgb(90,179,244)\"]], \"type\": \"histogram2dcontour\"}], \"mesh3d\": [{\"colorbar\": {\"outlinewidth\": 0, \"tickcolor\": \"rgb(237,237,237)\", \"ticklen\": 6, \"ticks\": \"inside\"}, \"type\": \"mesh3d\"}], \"parcoords\": [{\"line\": {\"colorbar\": {\"outlinewidth\": 0, \"tickcolor\": \"rgb(237,237,237)\", \"ticklen\": 6, \"ticks\": \"inside\"}}, \"type\": \"parcoords\"}], \"pie\": [{\"automargin\": true, \"type\": \"pie\"}], \"scatter\": [{\"marker\": {\"colorbar\": {\"outlinewidth\": 0, \"tickcolor\": \"rgb(237,237,237)\", \"ticklen\": 6, \"ticks\": \"inside\"}}, \"type\": \"scatter\"}], \"scatter3d\": [{\"line\": {\"colorbar\": {\"outlinewidth\": 0, \"tickcolor\": \"rgb(237,237,237)\", \"ticklen\": 6, \"ticks\": \"inside\"}}, \"marker\": {\"colorbar\": {\"outlinewidth\": 0, \"tickcolor\": \"rgb(237,237,237)\", \"ticklen\": 6, \"ticks\": \"inside\"}}, \"type\": \"scatter3d\"}], \"scattercarpet\": [{\"marker\": {\"colorbar\": {\"outlinewidth\": 0, \"tickcolor\": \"rgb(237,237,237)\", \"ticklen\": 6, \"ticks\": \"inside\"}}, \"type\": \"scattercarpet\"}], \"scattergeo\": [{\"marker\": {\"colorbar\": {\"outlinewidth\": 0, \"tickcolor\": \"rgb(237,237,237)\", \"ticklen\": 6, \"ticks\": \"inside\"}}, \"type\": \"scattergeo\"}], \"scattergl\": [{\"marker\": {\"colorbar\": {\"outlinewidth\": 0, \"tickcolor\": \"rgb(237,237,237)\", \"ticklen\": 6, \"ticks\": \"inside\"}}, \"type\": \"scattergl\"}], \"scattermapbox\": [{\"marker\": {\"colorbar\": {\"outlinewidth\": 0, \"tickcolor\": \"rgb(237,237,237)\", \"ticklen\": 6, \"ticks\": \"inside\"}}, \"type\": \"scattermapbox\"}], \"scatterpolar\": [{\"marker\": {\"colorbar\": {\"outlinewidth\": 0, \"tickcolor\": \"rgb(237,237,237)\", \"ticklen\": 6, \"ticks\": \"inside\"}}, \"type\": \"scatterpolar\"}], \"scatterpolargl\": [{\"marker\": {\"colorbar\": {\"outlinewidth\": 0, \"tickcolor\": \"rgb(237,237,237)\", \"ticklen\": 6, \"ticks\": \"inside\"}}, \"type\": \"scatterpolargl\"}], \"scatterternary\": [{\"marker\": {\"colorbar\": {\"outlinewidth\": 0, \"tickcolor\": \"rgb(237,237,237)\", \"ticklen\": 6, \"ticks\": \"inside\"}}, \"type\": \"scatterternary\"}], \"surface\": [{\"colorbar\": {\"outlinewidth\": 0, \"tickcolor\": \"rgb(237,237,237)\", \"ticklen\": 6, \"ticks\": \"inside\"}, \"colorscale\": [[0, \"rgb(20,44,66)\"], [1, \"rgb(90,179,244)\"]], \"type\": \"surface\"}], \"table\": [{\"cells\": {\"fill\": {\"color\": \"rgb(237,237,237)\"}, \"line\": {\"color\": \"white\"}}, \"header\": {\"fill\": {\"color\": \"rgb(217,217,217)\"}, \"line\": {\"color\": \"white\"}}, \"type\": \"table\"}]}, \"layout\": {\"annotationdefaults\": {\"arrowhead\": 0, \"arrowwidth\": 1}, \"coloraxis\": {\"colorbar\": {\"outlinewidth\": 0, \"tickcolor\": \"rgb(237,237,237)\", \"ticklen\": 6, \"ticks\": \"inside\"}}, \"colorscale\": {\"sequential\": [[0, \"rgb(20,44,66)\"], [1, \"rgb(90,179,244)\"]], \"sequentialminus\": [[0, \"rgb(20,44,66)\"], [1, \"rgb(90,179,244)\"]]}, \"colorway\": [\"#F8766D\", \"#A3A500\", \"#00BF7D\", \"#00B0F6\", \"#E76BF3\"], \"font\": {\"color\": \"rgb(51,51,51)\"}, \"geo\": {\"bgcolor\": \"white\", \"lakecolor\": \"white\", \"landcolor\": \"rgb(237,237,237)\", \"showlakes\": true, \"showland\": true, \"subunitcolor\": \"white\"}, \"hoverlabel\": {\"align\": \"left\"}, \"hovermode\": \"closest\", \"paper_bgcolor\": \"white\", \"plot_bgcolor\": \"rgb(237,237,237)\", \"polar\": {\"angularaxis\": {\"gridcolor\": \"white\", \"linecolor\": \"white\", \"showgrid\": true, \"tickcolor\": \"rgb(51,51,51)\", \"ticks\": \"outside\"}, \"bgcolor\": \"rgb(237,237,237)\", \"radialaxis\": {\"gridcolor\": \"white\", \"linecolor\": \"white\", \"showgrid\": true, \"tickcolor\": \"rgb(51,51,51)\", \"ticks\": \"outside\"}}, \"scene\": {\"xaxis\": {\"backgroundcolor\": \"rgb(237,237,237)\", \"gridcolor\": \"white\", \"gridwidth\": 2, \"linecolor\": \"white\", \"showbackground\": true, \"showgrid\": true, \"tickcolor\": \"rgb(51,51,51)\", \"ticks\": \"outside\", \"zerolinecolor\": \"white\"}, \"yaxis\": {\"backgroundcolor\": \"rgb(237,237,237)\", \"gridcolor\": \"white\", \"gridwidth\": 2, \"linecolor\": \"white\", \"showbackground\": true, \"showgrid\": true, \"tickcolor\": \"rgb(51,51,51)\", \"ticks\": \"outside\", \"zerolinecolor\": \"white\"}, \"zaxis\": {\"backgroundcolor\": \"rgb(237,237,237)\", \"gridcolor\": \"white\", \"gridwidth\": 2, \"linecolor\": \"white\", \"showbackground\": true, \"showgrid\": true, \"tickcolor\": \"rgb(51,51,51)\", \"ticks\": \"outside\", \"zerolinecolor\": \"white\"}}, \"shapedefaults\": {\"fillcolor\": \"black\", \"line\": {\"width\": 0}, \"opacity\": 0.3}, \"ternary\": {\"aaxis\": {\"gridcolor\": \"white\", \"linecolor\": \"white\", \"showgrid\": true, \"tickcolor\": \"rgb(51,51,51)\", \"ticks\": \"outside\"}, \"baxis\": {\"gridcolor\": \"white\", \"linecolor\": \"white\", \"showgrid\": true, \"tickcolor\": \"rgb(51,51,51)\", \"ticks\": \"outside\"}, \"bgcolor\": \"rgb(237,237,237)\", \"caxis\": {\"gridcolor\": \"white\", \"linecolor\": \"white\", \"showgrid\": true, \"tickcolor\": \"rgb(51,51,51)\", \"ticks\": \"outside\"}}, \"xaxis\": {\"automargin\": true, \"gridcolor\": \"white\", \"linecolor\": \"white\", \"showgrid\": true, \"tickcolor\": \"rgb(51,51,51)\", \"ticks\": \"outside\", \"title\": {\"standoff\": 15}, \"zerolinecolor\": \"white\"}, \"yaxis\": {\"automargin\": true, \"gridcolor\": \"white\", \"linecolor\": \"white\", \"showgrid\": true, \"tickcolor\": \"rgb(51,51,51)\", \"ticks\": \"outside\", \"title\": {\"standoff\": 15}, \"zerolinecolor\": \"white\"}}}},\n",
       "                        {\"responsive\": true}\n",
       "                    ).then(function(){\n",
       "                            \n",
       "var gd = document.getElementById('add53753-8f6c-475e-bf59-cf4c41eaf8c9');\n",
       "var x = new MutationObserver(function (mutations, observer) {{\n",
       "        var display = window.getComputedStyle(gd).display;\n",
       "        if (!display || display === 'none') {{\n",
       "            console.log([gd, 'removed!']);\n",
       "            Plotly.purge(gd);\n",
       "            observer.disconnect();\n",
       "        }}\n",
       "}});\n",
       "\n",
       "// Listen for the removal of the full notebook cells\n",
       "var notebookContainer = gd.closest('#notebook-container');\n",
       "if (notebookContainer) {{\n",
       "    x.observe(notebookContainer, {childList: true});\n",
       "}}\n",
       "\n",
       "// Listen for the clearing of the current output cell\n",
       "var outputEl = gd.closest('.output');\n",
       "if (outputEl) {{\n",
       "    x.observe(outputEl, {childList: true});\n",
       "}}\n",
       "\n",
       "                        })\n",
       "                };\n",
       "                });\n",
       "            </script>\n",
       "        </div>"
      ]
     },
     "metadata": {},
     "output_type": "display_data"
    }
   ],
   "source": [
    "px.scatter_3d(cardata,x=\"Year\",y=\"Selling_Price\",z=\"Kms_Driven\",color=\"Fuel_Type\",template=\"ggplot2\")"
   ]
  },
  {
   "cell_type": "code",
   "execution_count": 65,
   "metadata": {},
   "outputs": [
    {
     "name": "stdout",
     "output_type": "stream",
     "text": [
      "<class 'pandas.core.frame.DataFrame'>\n",
      "RangeIndex: 301 entries, 0 to 300\n",
      "Data columns (total 9 columns):\n",
      "Car_Name         301 non-null object\n",
      "Year             301 non-null int64\n",
      "Selling_Price    301 non-null float64\n",
      "Present_Price    301 non-null float64\n",
      "Kms_Driven       301 non-null int64\n",
      "Fuel_Type        301 non-null object\n",
      "Seller_Type      301 non-null object\n",
      "Transmission     301 non-null object\n",
      "Owner            301 non-null int64\n",
      "dtypes: float64(2), int64(3), object(4)\n",
      "memory usage: 21.3+ KB\n"
     ]
    }
   ],
   "source": [
    "#cardata.Year.astype(object)\n",
    "cardata.Owner.astype(int)\n",
    "cardata.Year.astype(object)\n",
    "cardata.info()"
   ]
  },
  {
   "cell_type": "code",
   "execution_count": 66,
   "metadata": {},
   "outputs": [
    {
     "data": {
      "text/plain": [
       "0    290\n",
       "1     10\n",
       "3      1\n",
       "Name: Owner, dtype: int64"
      ]
     },
     "execution_count": 66,
     "metadata": {},
     "output_type": "execute_result"
    }
   ],
   "source": [
    "cardata.Owner.value_counts()"
   ]
  },
  {
   "cell_type": "code",
   "execution_count": 67,
   "metadata": {},
   "outputs": [],
   "source": [
    "#Preparing Dummy Variable for year\n",
    "#yeardummy=pd.get_dummies(cardata['Year'],prefix='year',drop_first = True)\n",
    "fueldummy=pd.get_dummies(cardata['Fuel_Type'],prefix='Fuel_Type',drop_first = True)\n",
    "sellerdummy=pd.get_dummies(cardata['Seller_Type'],prefix='Seller_Type',drop_first = True)\n",
    "transdummy=pd.get_dummies(cardata['Transmission'],prefix='Transmission',drop_first = True)"
   ]
  },
  {
   "cell_type": "code",
   "execution_count": 68,
   "metadata": {},
   "outputs": [],
   "source": [
    "cardf = pd.concat([cardata,fueldummy,sellerdummy,transdummy], axis = 1)"
   ]
  },
  {
   "cell_type": "code",
   "execution_count": 69,
   "metadata": {
    "scrolled": true
   },
   "outputs": [
    {
     "data": {
      "text/html": [
       "<div>\n",
       "<style scoped>\n",
       "    .dataframe tbody tr th:only-of-type {\n",
       "        vertical-align: middle;\n",
       "    }\n",
       "\n",
       "    .dataframe tbody tr th {\n",
       "        vertical-align: top;\n",
       "    }\n",
       "\n",
       "    .dataframe thead th {\n",
       "        text-align: right;\n",
       "    }\n",
       "</style>\n",
       "<table border=\"1\" class=\"dataframe\">\n",
       "  <thead>\n",
       "    <tr style=\"text-align: right;\">\n",
       "      <th></th>\n",
       "      <th>Car_Name</th>\n",
       "      <th>Year</th>\n",
       "      <th>Selling_Price</th>\n",
       "      <th>Present_Price</th>\n",
       "      <th>Kms_Driven</th>\n",
       "      <th>Owner</th>\n",
       "      <th>Fuel_Type_Diesel</th>\n",
       "      <th>Fuel_Type_Petrol</th>\n",
       "      <th>Seller_Type_Individual</th>\n",
       "      <th>Transmission_Manual</th>\n",
       "    </tr>\n",
       "  </thead>\n",
       "  <tbody>\n",
       "    <tr>\n",
       "      <td>0</td>\n",
       "      <td>ritz</td>\n",
       "      <td>2014</td>\n",
       "      <td>3.35</td>\n",
       "      <td>5.59</td>\n",
       "      <td>27000</td>\n",
       "      <td>0</td>\n",
       "      <td>0</td>\n",
       "      <td>1</td>\n",
       "      <td>0</td>\n",
       "      <td>1</td>\n",
       "    </tr>\n",
       "    <tr>\n",
       "      <td>1</td>\n",
       "      <td>sx4</td>\n",
       "      <td>2013</td>\n",
       "      <td>4.75</td>\n",
       "      <td>9.54</td>\n",
       "      <td>43000</td>\n",
       "      <td>0</td>\n",
       "      <td>1</td>\n",
       "      <td>0</td>\n",
       "      <td>0</td>\n",
       "      <td>1</td>\n",
       "    </tr>\n",
       "    <tr>\n",
       "      <td>2</td>\n",
       "      <td>ciaz</td>\n",
       "      <td>2017</td>\n",
       "      <td>7.25</td>\n",
       "      <td>9.85</td>\n",
       "      <td>6900</td>\n",
       "      <td>0</td>\n",
       "      <td>0</td>\n",
       "      <td>1</td>\n",
       "      <td>0</td>\n",
       "      <td>1</td>\n",
       "    </tr>\n",
       "    <tr>\n",
       "      <td>3</td>\n",
       "      <td>wagon r</td>\n",
       "      <td>2011</td>\n",
       "      <td>2.85</td>\n",
       "      <td>4.15</td>\n",
       "      <td>5200</td>\n",
       "      <td>0</td>\n",
       "      <td>0</td>\n",
       "      <td>1</td>\n",
       "      <td>0</td>\n",
       "      <td>1</td>\n",
       "    </tr>\n",
       "    <tr>\n",
       "      <td>4</td>\n",
       "      <td>swift</td>\n",
       "      <td>2014</td>\n",
       "      <td>4.60</td>\n",
       "      <td>6.87</td>\n",
       "      <td>42450</td>\n",
       "      <td>0</td>\n",
       "      <td>1</td>\n",
       "      <td>0</td>\n",
       "      <td>0</td>\n",
       "      <td>1</td>\n",
       "    </tr>\n",
       "  </tbody>\n",
       "</table>\n",
       "</div>"
      ],
      "text/plain": [
       "  Car_Name  Year  Selling_Price  Present_Price  Kms_Driven  Owner  \\\n",
       "0     ritz  2014           3.35           5.59       27000      0   \n",
       "1      sx4  2013           4.75           9.54       43000      0   \n",
       "2     ciaz  2017           7.25           9.85        6900      0   \n",
       "3  wagon r  2011           2.85           4.15        5200      0   \n",
       "4    swift  2014           4.60           6.87       42450      0   \n",
       "\n",
       "   Fuel_Type_Diesel  Fuel_Type_Petrol  Seller_Type_Individual  \\\n",
       "0                 0                 1                       0   \n",
       "1                 1                 0                       0   \n",
       "2                 0                 1                       0   \n",
       "3                 0                 1                       0   \n",
       "4                 1                 0                       0   \n",
       "\n",
       "   Transmission_Manual  \n",
       "0                    1  \n",
       "1                    1  \n",
       "2                    1  \n",
       "3                    1  \n",
       "4                    1  "
      ]
     },
     "execution_count": 69,
     "metadata": {},
     "output_type": "execute_result"
    }
   ],
   "source": [
    "cardf.drop([\"Fuel_Type\",\"Seller_Type\",\"Transmission\"],axis=1,inplace=True)\n",
    "cardf.head()"
   ]
  },
  {
   "cell_type": "code",
   "execution_count": 70,
   "metadata": {},
   "outputs": [],
   "source": [
    "cardf.drop([\"Car_Name\"],axis=1,inplace=True)"
   ]
  },
  {
   "cell_type": "code",
   "execution_count": 71,
   "metadata": {
    "scrolled": false
   },
   "outputs": [
    {
     "data": {
      "text/html": [
       "<div>\n",
       "<style scoped>\n",
       "    .dataframe tbody tr th:only-of-type {\n",
       "        vertical-align: middle;\n",
       "    }\n",
       "\n",
       "    .dataframe tbody tr th {\n",
       "        vertical-align: top;\n",
       "    }\n",
       "\n",
       "    .dataframe thead th {\n",
       "        text-align: right;\n",
       "    }\n",
       "</style>\n",
       "<table border=\"1\" class=\"dataframe\">\n",
       "  <thead>\n",
       "    <tr style=\"text-align: right;\">\n",
       "      <th></th>\n",
       "      <th>Year</th>\n",
       "      <th>Selling_Price</th>\n",
       "      <th>Present_Price</th>\n",
       "      <th>Kms_Driven</th>\n",
       "      <th>Owner</th>\n",
       "      <th>Fuel_Type_Diesel</th>\n",
       "      <th>Fuel_Type_Petrol</th>\n",
       "      <th>Seller_Type_Individual</th>\n",
       "      <th>Transmission_Manual</th>\n",
       "    </tr>\n",
       "  </thead>\n",
       "  <tbody>\n",
       "    <tr>\n",
       "      <td>0</td>\n",
       "      <td>2014</td>\n",
       "      <td>3.35</td>\n",
       "      <td>5.59</td>\n",
       "      <td>27000</td>\n",
       "      <td>0</td>\n",
       "      <td>0</td>\n",
       "      <td>1</td>\n",
       "      <td>0</td>\n",
       "      <td>1</td>\n",
       "    </tr>\n",
       "    <tr>\n",
       "      <td>1</td>\n",
       "      <td>2013</td>\n",
       "      <td>4.75</td>\n",
       "      <td>9.54</td>\n",
       "      <td>43000</td>\n",
       "      <td>0</td>\n",
       "      <td>1</td>\n",
       "      <td>0</td>\n",
       "      <td>0</td>\n",
       "      <td>1</td>\n",
       "    </tr>\n",
       "    <tr>\n",
       "      <td>2</td>\n",
       "      <td>2017</td>\n",
       "      <td>7.25</td>\n",
       "      <td>9.85</td>\n",
       "      <td>6900</td>\n",
       "      <td>0</td>\n",
       "      <td>0</td>\n",
       "      <td>1</td>\n",
       "      <td>0</td>\n",
       "      <td>1</td>\n",
       "    </tr>\n",
       "    <tr>\n",
       "      <td>3</td>\n",
       "      <td>2011</td>\n",
       "      <td>2.85</td>\n",
       "      <td>4.15</td>\n",
       "      <td>5200</td>\n",
       "      <td>0</td>\n",
       "      <td>0</td>\n",
       "      <td>1</td>\n",
       "      <td>0</td>\n",
       "      <td>1</td>\n",
       "    </tr>\n",
       "    <tr>\n",
       "      <td>4</td>\n",
       "      <td>2014</td>\n",
       "      <td>4.60</td>\n",
       "      <td>6.87</td>\n",
       "      <td>42450</td>\n",
       "      <td>0</td>\n",
       "      <td>1</td>\n",
       "      <td>0</td>\n",
       "      <td>0</td>\n",
       "      <td>1</td>\n",
       "    </tr>\n",
       "  </tbody>\n",
       "</table>\n",
       "</div>"
      ],
      "text/plain": [
       "   Year  Selling_Price  Present_Price  Kms_Driven  Owner  Fuel_Type_Diesel  \\\n",
       "0  2014           3.35           5.59       27000      0                 0   \n",
       "1  2013           4.75           9.54       43000      0                 1   \n",
       "2  2017           7.25           9.85        6900      0                 0   \n",
       "3  2011           2.85           4.15        5200      0                 0   \n",
       "4  2014           4.60           6.87       42450      0                 1   \n",
       "\n",
       "   Fuel_Type_Petrol  Seller_Type_Individual  Transmission_Manual  \n",
       "0                 1                       0                    1  \n",
       "1                 0                       0                    1  \n",
       "2                 1                       0                    1  \n",
       "3                 1                       0                    1  \n",
       "4                 0                       0                    1  "
      ]
     },
     "execution_count": 71,
     "metadata": {},
     "output_type": "execute_result"
    }
   ],
   "source": [
    "cardf.head()"
   ]
  },
  {
   "cell_type": "code",
   "execution_count": null,
   "metadata": {},
   "outputs": [],
   "source": []
  },
  {
   "cell_type": "markdown",
   "metadata": {},
   "source": [
    "## Data Spliting"
   ]
  },
  {
   "cell_type": "code",
   "execution_count": 61,
   "metadata": {},
   "outputs": [],
   "source": [
    "df_train, df_test = train_test_split(cardf, train_size = 0.7, test_size = 0.3, random_state = 100)"
   ]
  },
  {
   "cell_type": "code",
   "execution_count": 62,
   "metadata": {},
   "outputs": [],
   "source": [
    "## Scaling the data using min-max scaler\n",
    "scaler = MinMaxScaler()\n",
    "# applying scaling to all numerical variables\n",
    "num_vars = ['Year','Selling_Price', 'Present_Price', 'Kms_Driven']\n",
    "\n",
    "df_train[num_vars] = scaler.fit_transform(df_train[num_vars])\n",
    "df_test[num_vars] = scaler.transform(df_test[num_vars])"
   ]
  },
  {
   "cell_type": "code",
   "execution_count": 63,
   "metadata": {},
   "outputs": [],
   "source": [
    "y_train= df_train.pop('Selling_Price')\n",
    "X_train= df_train\n",
    "\n",
    "y_test= df_test.pop('Selling_Price')\n",
    "X_test= df_test"
   ]
  },
  {
   "cell_type": "code",
   "execution_count": 64,
   "metadata": {},
   "outputs": [
    {
     "name": "stdout",
     "output_type": "stream",
     "text": [
      "(210,) \n",
      "\n",
      "(210, 8) \n",
      "\n",
      "(91,) \n",
      "\n",
      "(91, 8) \n",
      "\n"
     ]
    }
   ],
   "source": [
    "print(y_train.shape,\"\\n\")\n",
    "print(X_train.shape,\"\\n\")\n",
    "print(y_test.shape,\"\\n\")\n",
    "print(X_test.shape,\"\\n\")"
   ]
  },
  {
   "cell_type": "code",
   "execution_count": 65,
   "metadata": {},
   "outputs": [],
   "source": [
    "# Recursice Feature Elimination -  This the automatic technic. for Selecting Feture\n",
    "lm = LinearRegression()\n",
    "lm.fit(X_train, y_train)\n",
    "rfe = RFE(lm, 10)             # running RFE\n",
    "rfe = rfe.fit(X_train, y_train)"
   ]
  },
  {
   "cell_type": "code",
   "execution_count": 66,
   "metadata": {},
   "outputs": [],
   "source": [
    "#all the columns\n",
    "# list(zip(X_train.columns,rfe.support_,rfe.ranking_))\n",
    "# Columns rejected by RFE\n",
    "#X_train.columns[~rfe.support_]"
   ]
  },
  {
   "cell_type": "code",
   "execution_count": 67,
   "metadata": {},
   "outputs": [],
   "source": [
    "# Columns selected by RFE\n",
    "## Storing Column list which are Accepeted by RFE\n",
    "col = X_train.columns[rfe.support_]\n",
    "## Selecting Colums which are selected by RFE\n",
    "X_train = X_train[col]"
   ]
  },
  {
   "cell_type": "code",
   "execution_count": 68,
   "metadata": {},
   "outputs": [],
   "source": [
    "## Creating Dummy column for Intercept\n",
    "X_train = sm.add_constant(X_train)"
   ]
  },
  {
   "cell_type": "code",
   "execution_count": 69,
   "metadata": {
    "scrolled": true
   },
   "outputs": [
    {
     "name": "stdout",
     "output_type": "stream",
     "text": [
      "                            OLS Regression Results                            \n",
      "==============================================================================\n",
      "Dep. Variable:          Selling_Price   R-squared:                       0.896\n",
      "Model:                            OLS   Adj. R-squared:                  0.891\n",
      "Method:                 Least Squares   F-statistic:                     215.4\n",
      "Date:                Mon, 11 May 2020   Prob (F-statistic):           3.22e-94\n",
      "Time:                        23:52:05   Log-Likelihood:                 344.43\n",
      "No. Observations:                 210   AIC:                            -670.9\n",
      "Df Residuals:                     201   BIC:                            -640.7\n",
      "Df Model:                           8                                         \n",
      "Covariance Type:            nonrobust                                         \n",
      "==========================================================================================\n",
      "                             coef    std err          t      P>|t|      [0.025      0.975]\n",
      "------------------------------------------------------------------------------------------\n",
      "const                     -0.0419      0.052     -0.813      0.417      -0.144       0.060\n",
      "Year                       0.1654      0.020      8.399      0.000       0.127       0.204\n",
      "Present_Price              1.0695      0.044     24.304      0.000       0.983       1.156\n",
      "Kms_Driven                -0.0684      0.046     -1.497      0.136      -0.159       0.022\n",
      "Owner                      0.0170      0.019      0.914      0.362      -0.020       0.054\n",
      "Fuel_Type_Diesel           0.0707      0.049      1.446      0.150      -0.026       0.167\n",
      "Fuel_Type_Petrol           0.0119      0.048      0.245      0.806      -0.083       0.107\n",
      "Seller_Type_Individual    -0.0322      0.008     -3.952      0.000      -0.048      -0.016\n",
      "Transmission_Manual       -0.0454      0.010     -4.501      0.000      -0.065      -0.026\n",
      "==============================================================================\n",
      "Omnibus:                       32.880   Durbin-Watson:                   1.884\n",
      "Prob(Omnibus):                  0.000   Jarque-Bera (JB):               98.563\n",
      "Skew:                           0.614   Prob(JB):                     3.96e-22\n",
      "Kurtosis:                       6.123   Cond. No.                         44.6\n",
      "==============================================================================\n",
      "\n",
      "Warnings:\n",
      "[1] Standard Errors assume that the covariance matrix of the errors is correctly specified.\n"
     ]
    }
   ],
   "source": [
    "lm = sm.OLS(y_train,X_train).fit()   # Running the linear model\n",
    "print(lm.summary())"
   ]
  },
  {
   "cell_type": "markdown",
   "metadata": {},
   "source": [
    "## From above Summary we can check that 'const','Fuel_Type_Petrol','Owner','Kms_Driven'\n",
    "## These variable shall be dropped One by one final model can be derived"
   ]
  },
  {
   "cell_type": "code",
   "execution_count": 70,
   "metadata": {
    "scrolled": true
   },
   "outputs": [
    {
     "name": "stdout",
     "output_type": "stream",
     "text": [
      "Year                      6.239072\n",
      "Present_Price             2.228955\n",
      "Fuel_Type_Diesel          1.693861\n",
      "Seller_Type_Individual    1.839481\n",
      "Transmission_Manual       4.943489\n",
      "dtype: float64\n"
     ]
    }
   ],
   "source": [
    "## Now we will Check VIF value\n",
    "X_train_vif = X_train.drop(['const','Fuel_Type_Petrol',\"Owner\",\"Kms_Driven\"], axis=1)\n",
    "# Calculate the VIFs for the new model\n",
    "VIF=pd.Series([variance_inflation_factor(X_train_vif.values, i) \n",
    "               for i in range(X_train_vif.shape[1])], \n",
    "              index=X_train_vif.columns)\n",
    "\n",
    "print(VIF)"
   ]
  },
  {
   "cell_type": "code",
   "execution_count": 71,
   "metadata": {},
   "outputs": [
    {
     "name": "stdout",
     "output_type": "stream",
     "text": [
      "                            OLS Regression Results                            \n",
      "==============================================================================\n",
      "Dep. Variable:          Selling_Price   R-squared:                       0.894\n",
      "Model:                            OLS   Adj. R-squared:                  0.891\n",
      "Method:                 Least Squares   F-statistic:                     343.5\n",
      "Date:                Mon, 11 May 2020   Prob (F-statistic):           2.98e-97\n",
      "Time:                        23:52:33   Log-Likelihood:                 342.71\n",
      "No. Observations:                 210   AIC:                            -673.4\n",
      "Df Residuals:                     204   BIC:                            -653.3\n",
      "Df Model:                           5                                         \n",
      "Covariance Type:            nonrobust                                         \n",
      "==========================================================================================\n",
      "                             coef    std err          t      P>|t|      [0.025      0.975]\n",
      "------------------------------------------------------------------------------------------\n",
      "const                     -0.0470      0.017     -2.783      0.006      -0.080      -0.014\n",
      "Year                       0.1800      0.017     10.711      0.000       0.147       0.213\n",
      "Present_Price              1.0675      0.044     24.248      0.000       0.981       1.154\n",
      "Fuel_Type_Diesel           0.0561      0.010      5.800      0.000       0.037       0.075\n",
      "Seller_Type_Individual    -0.0317      0.008     -3.900      0.000      -0.048      -0.016\n",
      "Transmission_Manual       -0.0424      0.010     -4.268      0.000      -0.062      -0.023\n",
      "==============================================================================\n",
      "Omnibus:                       35.022   Durbin-Watson:                   1.907\n",
      "Prob(Omnibus):                  0.000   Jarque-Bera (JB):              104.618\n",
      "Skew:                           0.663   Prob(JB):                     1.92e-23\n",
      "Kurtosis:                       6.194   Cond. No.                         21.4\n",
      "==============================================================================\n",
      "\n",
      "Warnings:\n",
      "[1] Standard Errors assume that the covariance matrix of the errors is correctly specified.\n"
     ]
    }
   ],
   "source": [
    "X_train1=X_train.drop([\"Fuel_Type_Petrol\",\"Owner\",\"Kms_Driven\"],axis=1)\n",
    "lm1 = sm.OLS(y_train,X_train1).fit()   # Running the linear model\n",
    "print(lm1.summary())"
   ]
  },
  {
   "cell_type": "markdown",
   "metadata": {},
   "source": [
    "const\n",
    "Present_Price\n",
    "Kms_Driven\n",
    "year_2009\n",
    "year_2010\n",
    "year_2015\n",
    "year_2017\n",
    "Fuel_Type_Diesel"
   ]
  },
  {
   "cell_type": "markdown",
   "metadata": {},
   "source": [
    "## lm1 : Sellin_price= (-0.0470) + (0.18) Year + (1.06) Present_price + (0.056) Fuel_Type_Diesel + (-0.0317) Seller_Type_Individual + (-0.0424) Transmission_Manual"
   ]
  },
  {
   "cell_type": "markdown",
   "metadata": {},
   "source": [
    "## Residual Analysis on Training Data"
   ]
  },
  {
   "cell_type": "code",
   "execution_count": 72,
   "metadata": {},
   "outputs": [
    {
     "data": {
      "text/plain": [
       "Text(0.5, 0, 'Errors')"
      ]
     },
     "execution_count": 72,
     "metadata": {},
     "output_type": "execute_result"
    },
    {
     "data": {
      "image/png": "[encoded data removed]",
      "text/plain": [
       "<Figure size 432x288 with 1 Axes>"
      ]
     },
     "metadata": {
      "needs_background": "light"
     },
     "output_type": "display_data"
    }
   ],
   "source": [
    "# Predicting on trining set \n",
    "y_train_pred = lm1.predict(X_train1)\n",
    "# Plot the histogram of the error terms\n",
    "fig = plt.figure()\n",
    "res=(y_train - y_train_pred)\n",
    "sns.distplot(res, bins = 20)\n",
    "fig.suptitle('Error Terms', fontsize = 20)                  # Plot heading \n",
    "plt.xlabel('Errors', fontsize = 18)                         # X-label"
   ]
  },
  {
   "cell_type": "code",
   "execution_count": 73,
   "metadata": {},
   "outputs": [
    {
     "name": "stdout",
     "output_type": "stream",
     "text": [
      "0.8938373795682264\n"
     ]
    }
   ],
   "source": [
    "from sklearn.metrics import r2_score\n",
    "y_train_pred = lm1.predict(X_train1)\n",
    "print (r2_score(y_train, y_train_pred))"
   ]
  },
  {
   "cell_type": "markdown",
   "metadata": {},
   "source": [
    "## From Graph We can say that all Errors are distrubuted Normally\n",
    "## We can say that mean error is 0"
   ]
  },
  {
   "cell_type": "markdown",
   "metadata": {},
   "source": [
    "## Model Evaluation"
   ]
  },
  {
   "cell_type": "code",
   "execution_count": 74,
   "metadata": {},
   "outputs": [],
   "source": [
    "# Creating X_test_new dataframe by dropping variables from X_test\n",
    "# Adding a constant variable \n",
    "X_test = sm.add_constant(X_test)"
   ]
  },
  {
   "cell_type": "code",
   "execution_count": 75,
   "metadata": {},
   "outputs": [],
   "source": [
    "# Creating X_test_new dataframe by dropping variables from X_test\n",
    "X_test = X_test[X_train1.columns]"
   ]
  },
  {
   "cell_type": "code",
   "execution_count": 76,
   "metadata": {},
   "outputs": [],
   "source": [
    "# Making predictions\n",
    "y_test_pred = lm1.predict(X_test)"
   ]
  },
  {
   "cell_type": "code",
   "execution_count": 77,
   "metadata": {},
   "outputs": [
    {
     "data": {
      "text/plain": [
       "Text(0, 0.5, 'y_pred')"
      ]
     },
     "execution_count": 77,
     "metadata": {},
     "output_type": "execute_result"
    },
    {
     "data": {
      "image/png": "[encoded data removed]",
      "text/plain": [
       "<Figure size 432x288 with 1 Axes>"
      ]
     },
     "metadata": {
      "needs_background": "light"
     },
     "output_type": "display_data"
    }
   ],
   "source": [
    "# Plotting y_test and y_pred to understand the spread.\n",
    "fig = plt.figure()\n",
    "plt.scatter(y_test,y_test_pred)\n",
    "fig.suptitle('y_test vs y_pred', fontsize=20)              # Plot heading \n",
    "plt.xlabel('y_test', fontsize=18)                          # X-label\n",
    "plt.ylabel('y_pred', fontsize=16)                       # Y-label"
   ]
  },
  {
   "cell_type": "code",
   "execution_count": 78,
   "metadata": {
    "scrolled": true
   },
   "outputs": [
    {
     "name": "stdout",
     "output_type": "stream",
     "text": [
      "0.8386929052867962\n"
     ]
    }
   ],
   "source": [
    "from sklearn.metrics import r2_score\n",
    "print (r2_score(y_test, y_test_pred))"
   ]
  },
  {
   "cell_type": "code",
   "execution_count": null,
   "metadata": {},
   "outputs": [],
   "source": []
  },
  {
   "cell_type": "code",
   "execution_count": null,
   "metadata": {},
   "outputs": [],
   "source": []
  },
  {
   "cell_type": "code",
   "execution_count": null,
   "metadata": {},
   "outputs": [],
   "source": []
  },
  {
   "cell_type": "code",
   "execution_count": null,
   "metadata": {},
   "outputs": [],
   "source": []
  },
  {
   "cell_type": "markdown",
   "metadata": {},
   "source": [
    "## Using PCA"
   ]
  },
  {
   "cell_type": "markdown",
   "metadata": {},
   "source": [
    "### First we need to SCALE cariable"
   ]
  },
  {
   "cell_type": "code",
   "execution_count": 301,
   "metadata": {
    "scrolled": false
   },
   "outputs": [],
   "source": [
    "cardfpca=cardf"
   ]
  },
  {
   "cell_type": "code",
   "execution_count": 302,
   "metadata": {},
   "outputs": [],
   "source": [
    "df_trainpca, df_testpca = train_test_split(cardfpca, train_size = 0.7, test_size = 0.3, random_state = 100)"
   ]
  },
  {
   "cell_type": "code",
   "execution_count": 307,
   "metadata": {},
   "outputs": [],
   "source": [
    "## Scaling the data using min-max scaler\n",
    "scalerpca = StandardScaler()\n",
    "# applying scaling to all numerical variables\n",
    "num_varspca = ['Year','Selling_Price', 'Present_Price', 'Kms_Driven']\n",
    "\n",
    "df_trainpca[num_varspca] = scalerpca.fit_transform(df_trainpca[num_varspca])\n",
    "df_testpca[num_varspca] = scalerpca.transform(df_testpca[num_varspca])"
   ]
  },
  {
   "cell_type": "code",
   "execution_count": 311,
   "metadata": {},
   "outputs": [
    {
     "name": "stdout",
     "output_type": "stream",
     "text": [
      "means= [-1.08442356e-14  0.00000000e+00 -6.76707367e-17 -4.22942105e-17] \n",
      "\n",
      "varns= [1. 1. 1. 1.] \n",
      "\n"
     ]
    }
   ],
   "source": [
    "## we can retrive original using below code or scaler.inverse_transform\n",
    "## means = scalerpca.mean_ \n",
    "## varns = scalerpca.var_\n",
    "## print(\"means=\",means,\"\\n\")\n",
    "## print(\"varns=\",varns,\"\\n\")\n",
    "\n",
    "#def scale_data(array,means=means,stds=vars **0.5):\n",
    "#    return (array-means)/stds\n",
    "#scale_new_data = scale_data(new_data)"
   ]
  },
  {
   "cell_type": "code",
   "execution_count": 245,
   "metadata": {},
   "outputs": [],
   "source": [
    "trnY=df_trainpca.pop(\"Selling_Price\")\n",
    "trnX=df_trainpca\n",
    "\n",
    "tstY=df_testpca.pop(\"Selling_Price\")\n",
    "tstX=df_testpca"
   ]
  },
  {
   "cell_type": "code",
   "execution_count": 246,
   "metadata": {},
   "outputs": [],
   "source": [
    "from sklearn.decomposition import PCA"
   ]
  },
  {
   "cell_type": "code",
   "execution_count": 247,
   "metadata": {},
   "outputs": [],
   "source": [
    "pca=PCA(n_components=3)"
   ]
  },
  {
   "cell_type": "code",
   "execution_count": 248,
   "metadata": {},
   "outputs": [],
   "source": [
    "trnX=pca.fit_transform(trnX)\n",
    "tstX=pca.transform(tstX)"
   ]
  },
  {
   "cell_type": "code",
   "execution_count": 249,
   "metadata": {},
   "outputs": [
    {
     "name": "stdout",
     "output_type": "stream",
     "text": [
      "(210, 3)\n",
      "(91, 3)\n"
     ]
    }
   ],
   "source": [
    "print(trnX.shape)\n",
    "print(tstX.shape)"
   ]
  },
  {
   "cell_type": "code",
   "execution_count": 250,
   "metadata": {},
   "outputs": [],
   "source": [
    "trnX = sm.add_constant(trnX)\n",
    "tstX = sm.add_constant(tstX)"
   ]
  },
  {
   "cell_type": "code",
   "execution_count": 251,
   "metadata": {},
   "outputs": [
    {
     "name": "stdout",
     "output_type": "stream",
     "text": [
      "                            OLS Regression Results                            \n",
      "==============================================================================\n",
      "Dep. Variable:          Selling_Price   R-squared:                       0.889\n",
      "Model:                            OLS   Adj. R-squared:                  0.887\n",
      "Method:                 Least Squares   F-statistic:                     549.7\n",
      "Date:                Tue, 12 May 2020   Prob (F-statistic):           5.28e-98\n",
      "Time:                        23:19:15   Log-Likelihood:                -67.209\n",
      "No. Observations:                 210   AIC:                             142.4\n",
      "Df Residuals:                     206   BIC:                             155.8\n",
      "Df Model:                           3                                         \n",
      "Covariance Type:            nonrobust                                         \n",
      "==============================================================================\n",
      "                 coef    std err          t      P>|t|      [0.025      0.975]\n",
      "------------------------------------------------------------------------------\n",
      "const               0      0.023          0      1.000      -0.046       0.046\n",
      "x1             0.1973      0.018     10.699      0.000       0.161       0.234\n",
      "x2             0.8596      0.022     39.169      0.000       0.816       0.903\n",
      "x3            -0.0209      0.033     -0.630      0.529      -0.086       0.044\n",
      "==============================================================================\n",
      "Omnibus:                       53.725   Durbin-Watson:                   1.876\n",
      "Prob(Omnibus):                  0.000   Jarque-Bera (JB):              177.365\n",
      "Skew:                           1.016   Prob(JB):                     3.06e-39\n",
      "Kurtosis:                       7.018   Cond. No.                         1.80\n",
      "==============================================================================\n",
      "\n",
      "Warnings:\n",
      "[1] Standard Errors assume that the covariance matrix of the errors is correctly specified.\n"
     ]
    }
   ],
   "source": [
    "lmpca = sm.OLS(trnY,trnX).fit()   # Running the linear model\n",
    "print(lmpca.summary())"
   ]
  },
  {
   "cell_type": "code",
   "execution_count": 252,
   "metadata": {
    "scrolled": false
   },
   "outputs": [
    {
     "data": {
      "text/plain": [
       "Text(0.5, 0, 'Errors')"
      ]
     },
     "execution_count": 252,
     "metadata": {},
     "output_type": "execute_result"
    },
    {
     "data": {
      "image/png": "[encoded data removed]",
      "text/plain": [
       "<Figure size 432x288 with 1 Axes>"
      ]
     },
     "metadata": {},
     "output_type": "display_data"
    }
   ],
   "source": [
    "# Predicting on trining set \n",
    "y_trainpca_pred = lmpca.predict(trnX)\n",
    "# Plot the histogram of the error terms\n",
    "fig = plt.figure()\n",
    "res=(trnY - y_trainpca_pred)\n",
    "sns.distplot(res, bins = 20)\n",
    "fig.suptitle('Error Terms', fontsize = 20)                  # Plot heading \n",
    "plt.xlabel('Errors', fontsize = 18)   "
   ]
  },
  {
   "cell_type": "code",
   "execution_count": 253,
   "metadata": {},
   "outputs": [
    {
     "name": "stdout",
     "output_type": "stream",
     "text": [
      "0.8889516851088558\n"
     ]
    }
   ],
   "source": [
    "from sklearn.metrics import r2_score\n",
    "print (r2_score(trnY, y_trainpca_pred))"
   ]
  },
  {
   "cell_type": "code",
   "execution_count": 254,
   "metadata": {},
   "outputs": [
    {
     "name": "stdout",
     "output_type": "stream",
     "text": [
      "0.8398423365465238\n"
     ]
    }
   ],
   "source": [
    "from sklearn.metrics import r2_score\n",
    "y_testpca_pred = lmpca.predict(tstX)\n",
    "print (r2_score(tstY, y_testpca_pred))"
   ]
  },
  {
   "cell_type": "code",
   "execution_count": null,
   "metadata": {},
   "outputs": [],
   "source": []
  },
  {
   "cell_type": "code",
   "execution_count": null,
   "metadata": {},
   "outputs": [],
   "source": []
  }
 ],
 "metadata": {
  "kernelspec": {
   "display_name": "Python 3",
   "language": "python",
   "name": "python3"
  },
  "language_info": {
   "codemirror_mode": {
    "name": "ipython",
    "version": 3
   },
   "file_extension": ".py",
   "mimetype": "text/x-python",
   "name": "python",
   "nbconvert_exporter": "python",
   "pygments_lexer": "ipython3",
   "version": "3.7.4"
  }
 },
 "nbformat": 4,
 "nbformat_minor": 2
}
